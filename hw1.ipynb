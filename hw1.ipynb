{
 "cells": [
  {
   "cell_type": "markdown",
   "metadata": {
    "deletable": false,
    "editable": false,
    "nbgrader": {
     "cell_type": "markdown",
     "checksum": "1bba455de8bc2825ca70469169bbadaa",
     "grade": false,
     "grade_id": "cell-c9cd9e550239e812",
     "locked": true,
     "schema_version": 3,
     "solution": false,
     "task": false
    }
   },
   "source": [
    "# Homework 1 (Total Points: 250) <a class=\"anchor\" id=\"top\"></a>\n",
    "\n",
    "\n",
    "**Submission instructions**:\n",
    "- The cells with the `# YOUR CODE HERE` denote that these sections are graded and you need to add your implementation.\n",
    "- For Part 1: You can use the `nltk`, `NumPy`, and `matplotlib` libraries here. Other libraries, e.g., `gensim` or `scikit-learn`, may not be used. For Part 2: `gensim` is allowed in addition to the imported libraries in the next code cell\n",
    "- Please use Python 3.6.5 and `pip install -r requirements.txt` to avoid version issues.\n",
    "- The notebook you submit has to have the student ids, separated by underscores (E.g., `12341234_12341234_12341234_hw1.ipynb`).\n",
    "- This will be parsed by a regexp, **so please double check your filename**.\n",
    "- Only one member of each group has to submit the file (**please do not compress the .ipynb file when you will submit it**) to canvas.\n",
    "- **Make sure to check that your notebook runs before submission**. A quick way to do this is to restart the kernel and run all the cells.  \n",
    "- Do not change the number of arugments in the given functions.\n",
    "- **Please do not delete/add new cells**. Removing cells **will** lead to grade deduction. \n",
    "- Note, that you are not allowed to use Google Colab.\n",
    "\n",
    "\n",
    "**Learning Goals**:\n",
    "- [Part 1, Term-based matching](#part1) (165 points):\n",
    "    - Learn how to load a dataset and process it.\n",
    "    - Learn how to implement several standard IR methods (TF-IDF, BM25, QL) and understand their weaknesses & strengths.\n",
    "    - Learn how to evaluate IR methods.\n",
    "- [Part 2, Semantic-based matching](#part2) (85 points):\n",
    "    - Learn how to implement vector-space retrieval methods (LSI, LDA).\n",
    "    - Learn how to use LSI and LDA for re-ranking.\n",
    "\n",
    "    \n",
    "**Resources**: \n",
    "- **Part 1**: Sections 2.3, 4.1, 4.2, 4.3, 5.3, 5.6, 5.7, 6.2, 7, 8 of [Search Engines: Information Retrieval in Practice](https://ciir.cs.umass.edu/downloads/SEIRiP.pdf)\n",
    "- **Part 2**: [LSI - Chapter 18](https://nlp.stanford.edu/IR-book/pdf/18lsi.pdf) from [Introduction to Information Retrieval](https://nlp.stanford.edu/IR-book/) book and the [original LDA paper](https://jmlr.org/papers/volume3/blei03a/blei03a.pdf)"
   ]
  },
  {
   "cell_type": "code",
   "execution_count": 1,
   "metadata": {
    "deletable": false,
    "editable": false,
    "nbgrader": {
     "cell_type": "code",
     "checksum": "c55bfe94ff1f564dd595547e516c4c6e",
     "grade": false,
     "grade_id": "cell-f5357fabdb9660e3",
     "locked": true,
     "schema_version": 3,
     "solution": false,
     "task": false
    }
   },
   "outputs": [],
   "source": [
    "# imports \n",
    "# TODO: Ensure that no additional library is imported in the notebook. \n",
    "# TODO: Only the standard library and the following libraries are allowed:\n",
    "# TODO: You can also use unlisted classes from these libraries or standard libraries (such as defaultdict, Counter, ...).\n",
    "\n",
    "import os\n",
    "import zipfile\n",
    "from functools import partial\n",
    "\n",
    "import nltk\n",
    "import requests\n",
    "import numpy as np\n",
    "from tqdm import tqdm\n",
    "\n",
    "import matplotlib.pyplot as plt\n",
    "from matplotlib.pyplot import cm\n",
    "\n",
    "from ipywidgets import widgets\n",
    "from IPython.display import display, HTML\n",
    "#from IPython.html import widgets\n",
    "from collections import namedtuple\n",
    "\n",
    "%matplotlib inline"
   ]
  },
  {
   "cell_type": "markdown",
   "metadata": {
    "deletable": false,
    "editable": false,
    "nbgrader": {
     "cell_type": "markdown",
     "checksum": "c8328f758ca5b69f76eee03dbbdd4715",
     "grade": false,
     "grade_id": "cell-7428e12ed184408b",
     "locked": true,
     "schema_version": 3,
     "solution": false,
     "task": false
    }
   },
   "source": [
    "\n",
    "# Part 1: Term-based Matching (165 points) <a class=\"anchor\" id=\"part1\"></a>\n",
    "\n",
    "[Back to top](#top)\n",
    "\n",
    "In the first part, we will learn the basics of IR from loading and preprocessing the material, to implementing some well known search algorithms, to evaluating the ranking performance of the implemented algorithms. We will be using the CACM dataset throughout the assignment. The CACM dataset is a collection of titles and abstracts from the journal CACM (Communication of the ACM).\n",
    "\n",
    "Table of contents:\n",
    "- [Section 1: Text Processing](#text_processing) (5 points)\n",
    "- [Section 2: Indexing](#indexing) (10 points)\n",
    "- [Section 3: Ranking](#ranking) (80 points)\n",
    "- [Section 4: Evaluation](#evaluation) (40 points)\n",
    "- [Section 5: Analysis](#analysis) (30 points)\n"
   ]
  },
  {
   "cell_type": "markdown",
   "metadata": {
    "deletable": false,
    "editable": false,
    "nbgrader": {
     "cell_type": "markdown",
     "checksum": "4e3f938065183dc743aa8254b96b4f5e",
     "grade": false,
     "grade_id": "cell-4b24825cf4ae55ec",
     "locked": true,
     "schema_version": 3,
     "solution": false,
     "task": false
    }
   },
   "source": [
    "---\n",
    "## Section 1: Text Processing (5 points)<a class=\"anchor\" id=\"text_processing\"></a>\n",
    "\n",
    "[Back to Part 1](#part1)\n",
    "\n",
    "In this section, we will load the dataset and learn how to clean up the data to make it usable for an IR system. \n",
    "First, go through the implementation of the following functions:\n",
    "- `read_cacm_docs`: Reads in the CACM documents.\n",
    "- `read_queries`: Reads in the CACM queries.\n",
    "- `load_stopwords`: Loads the stopwords.\n",
    "\n",
    "The points of this section are earned for the following implementations:\n",
    "- `tokenize` (3 points): Tokenizes the input text.\n",
    "- `stem_token` (2 points): Stems the given token. \n",
    "\n",
    "We are using the [CACM dataset](http://ir.dcs.gla.ac.uk/resources/test_collections/cacm/), which is a small, classic IR dataset, composed of a collection of titles and abstracts from the journal CACM. It comes with relevance judgements for queries, so we can evaluate our IR system. \n"
   ]
  },
  {
   "cell_type": "markdown",
   "metadata": {
    "deletable": false,
    "editable": false,
    "nbgrader": {
     "cell_type": "markdown",
     "checksum": "0155d897c7016389d73d160921947a6f",
     "grade": false,
     "grade_id": "cell-45651364e7af6d5a",
     "locked": true,
     "schema_version": 3,
     "solution": false,
     "task": false
    }
   },
   "source": [
    "---\n",
    "### 1.1 Read the CACM documents\n",
    "\n",
    "\n",
    "The following cell downloads the dataset and unzips it to a local directory."
   ]
  },
  {
   "cell_type": "code",
   "execution_count": 2,
   "metadata": {
    "deletable": false,
    "editable": false,
    "nbgrader": {
     "cell_type": "code",
     "checksum": "4d43c9ad6e77cc01ce4cef0c34824930",
     "grade": false,
     "grade_id": "cell-bbc3030bb3fe7e02",
     "locked": true,
     "schema_version": 3,
     "solution": false,
     "task": false
    }
   },
   "outputs": [],
   "source": [
    "def download_dataset():\n",
    "    folder_path = os.environ.get(\"IR1_DATA_PATH\")\n",
    "    if not folder_path:\n",
    "        folder_path = \"./datasets/\"\n",
    "    os.makedirs(folder_path, exist_ok=True)\n",
    "    \n",
    "    file_location = os.path.join(folder_path, \"cacm.zip\")\n",
    "    \n",
    "    # download file if it doesn't exist\n",
    "    if not os.path.exists(file_location):\n",
    "        \n",
    "        url = \"https://surfdrive.surf.nl/files/index.php/s/M0FGJpX2p8wDwxR/download\"\n",
    "\n",
    "        with open(file_location, \"wb\") as handle:\n",
    "            print(f\"Downloading file from {url} to {file_location}\")\n",
    "            response = requests.get(url, stream=True)\n",
    "            for data in tqdm(response.iter_content()):\n",
    "                handle.write(data)\n",
    "            print(\"Finished downloading file\")\n",
    "    \n",
    "    if not os.path.exists(os.path.join(folder_path, \"train.txt\")):\n",
    "        \n",
    "        # unzip file\n",
    "        with zipfile.ZipFile(file_location, 'r') as zip_ref:\n",
    "            zip_ref.extractall(folder_path)\n",
    "        \n",
    "download_dataset()"
   ]
  },
  {
   "cell_type": "markdown",
   "metadata": {
    "deletable": false,
    "editable": false,
    "nbgrader": {
     "cell_type": "markdown",
     "checksum": "31609b0d61d0c74cbd69bc43e47c23be",
     "grade": false,
     "grade_id": "cell-a7dd9a9bf98ede05",
     "locked": true,
     "schema_version": 3,
     "solution": false,
     "task": false
    }
   },
   "source": [
    "---\n",
    "\n",
    "You can see a brief description of each file in the dataset by looking at the README file:"
   ]
  },
  {
   "cell_type": "code",
   "execution_count": 3,
   "metadata": {
    "deletable": false,
    "editable": false,
    "nbgrader": {
     "cell_type": "code",
     "checksum": "cb3c9a2b8b2bf4fd5b7446b0c4c00f43",
     "grade": false,
     "grade_id": "cell-9b6ff1a17124711f",
     "locked": true,
     "schema_version": 3,
     "solution": false,
     "task": false
    }
   },
   "outputs": [
    {
     "name": "stdout",
     "output_type": "stream",
     "text": [
      "Files in this directory with sizes:\n",
      "          0 Jun 19 21:01 README\n",
      "\n",
      "    2187734 Jun 19 20:55 cacm.all              text of documents\n",
      "        626 Jun 19 20:58 cite.info             key to citation info\n",
      "                                                (the X sections in cacm.all)\n",
      "       2668 Jun 19 20:55 common_words           stop words used by smart\n",
      "       2194 Jun 19 20:55 make_coll*             shell script to make collection\n",
      "       1557 Jun 19 20:55 make_coll_term*        ditto (both useless without\n",
      "                                                smart system)\n",
      "       9948 Jun 19 20:55 qrels.text             relation giving\n",
      "                                                    qid did 0 0\n",
      "                                                to indicate dument did is\n",
      "                                                relevant to query qid\n",
      "      13689 Jun 19 20:55 query.text             Original text of the query\n",
      "\n"
     ]
    }
   ],
   "source": [
    "##### Read the README file \n",
    "with open (\"./datasets/README\",\"r\") as file:\n",
    "    readme = file.read()\n",
    "    print(readme)\n",
    "#####"
   ]
  },
  {
   "cell_type": "markdown",
   "metadata": {
    "deletable": false,
    "editable": false,
    "nbgrader": {
     "cell_type": "markdown",
     "checksum": "6e2712c4c4632bf7486a532f7f18074d",
     "grade": false,
     "grade_id": "cell-73351431869fda76",
     "locked": true,
     "schema_version": 3,
     "solution": false,
     "task": false
    }
   },
   "source": [
    "---\n",
    "We are interested in 4 files:\n",
    "- `cacm.all` : Contains the text for all documents. Note that some documents do not have abstracts available\n",
    "- `query.text` : The text of all queries\n",
    "- `qrels.text` : The relevance judgements\n",
    "- `common_words` : A list of common words. This may be used as a collection of stopwords"
   ]
  },
  {
   "cell_type": "code",
   "execution_count": 4,
   "metadata": {
    "deletable": false,
    "editable": false,
    "nbgrader": {
     "cell_type": "code",
     "checksum": "f1162c15177eb4ffe466531d03cff4a2",
     "grade": false,
     "grade_id": "cell-b44dd14079f278ca",
     "locked": true,
     "schema_version": 3,
     "solution": false,
     "task": false
    }
   },
   "outputs": [
    {
     "name": "stdout",
     "output_type": "stream",
     "text": [
      ".I 1\n",
      ".T\n",
      "Preliminary Report-International Algebraic Language\n",
      ".B\n",
      "CACM December, 1958\n",
      ".A\n",
      "Perlis, A. J.\n",
      "Samelson,K.\n",
      ".N\n",
      "CA581203 JB March 22, 1978  8:28 PM\n",
      ".X\n",
      "100\t5\t1\n",
      "123\t5\t1\n",
      "164\t5\t1\n",
      "1\t5\t1\n",
      "1\t5\t1\n",
      "1\t5\t1\n",
      "205\t5\t1\n",
      "210\t5\t1\n",
      "214\t5\t1\n",
      "1982\t5\t1\n",
      "398\t5\t1\n",
      "642\t5\t1\n",
      "669\t5\t1\n",
      "1\t6\t1\n",
      "1\t6\t1\n",
      "1\t6\t1\n",
      "1\t6\t1\n",
      "1\t6\t1\n",
      "1\t6\t1\n",
      "1\t6\t1\n",
      "1\t6\t1\n",
      "1\t6\t1\n",
      "1\t6\t1\n",
      "165\t6\t1\n",
      "196\t6\t1\n",
      "196\t6\t1\n",
      "1273\t6\t1\n",
      "1883\t6\t1\n",
      "324\t6\t1\n",
      "43\t6\t1\n",
      "53\t6\t1\n",
      "91\t6\t1\n",
      "410\t6\t1\n",
      "3184\t6\t1\n",
      "\n"
     ]
    }
   ],
   "source": [
    "##### The first 45 lines of the CACM dataset forms the first record\n",
    "# We are interested only in 3 fields. \n",
    "# 1. the '.I' field, which is the document id\n",
    "# 2. the '.T' field (the title) and\n",
    "# 3. the '.W' field (the abstract, which may be absent)\n",
    "with open (\"./datasets/cacm.all\",\"r\") as file:\n",
    "    cacm_all = \"\".join(file.readlines()[:45])\n",
    "    print(cacm_all)\n",
    "#####"
   ]
  },
  {
   "cell_type": "markdown",
   "metadata": {
    "deletable": false,
    "editable": false,
    "nbgrader": {
     "cell_type": "markdown",
     "checksum": "250b413baccd8efb186bb46a34ae0060",
     "grade": false,
     "grade_id": "cell-c4bf2e263ec553d8",
     "locked": true,
     "schema_version": 3,
     "solution": false,
     "task": false
    }
   },
   "source": [
    "---\n",
    "\n",
    "The following function reads the `cacm.all` file. Note that each document has a variable number of lines. The `.I` field denotes a new document:"
   ]
  },
  {
   "cell_type": "code",
   "execution_count": 5,
   "metadata": {
    "deletable": false,
    "editable": false,
    "nbgrader": {
     "cell_type": "code",
     "checksum": "57d757e6a7a6938740dc899022b4f291",
     "grade": false,
     "grade_id": "cell-b736116eb419c624",
     "locked": true,
     "schema_version": 3,
     "solution": false,
     "task": false
    }
   },
   "outputs": [],
   "source": [
    "def read_cacm_docs(root_folder = \"./datasets/\"):\n",
    "    \"\"\"\n",
    "        Reads in the CACM documents. The dataset is assumed to be in the folder \"./datasets/\" by default\n",
    "        Returns: A list of 2-tuples: (doc_id, document), where 'document' is a single string created by \n",
    "            appending the title and abstract (separated by a \"\\n\"). \n",
    "            In case the record doesn't have an abstract, the document is composed only by the title\n",
    "    \"\"\"\n",
    "    with open(os.path.join(root_folder, \"cacm.all\")) as reader:\n",
    "        lines = reader.readlines()\n",
    "    \n",
    "    doc_id, title, abstract = None, None, None\n",
    "    \n",
    "    docs = []\n",
    "    line_idx = 0\n",
    "    while line_idx < len(lines):\n",
    "        line = lines[line_idx]\n",
    "        if line.startswith(\".I\"):\n",
    "            if doc_id is not None:\n",
    "                docs.append((doc_id, title, abstract))\n",
    "                doc_id, title, abstract = None, None, None\n",
    "            \n",
    "            doc_id = line.split()[-1]\n",
    "            line_idx += 1\n",
    "        elif line.startswith(\".T\"):\n",
    "            # start at next line\n",
    "            line_idx += 1\n",
    "            temp_lines = []\n",
    "            # read till next '.'\n",
    "            while not lines[line_idx].startswith(\".\"):\n",
    "                temp_lines.append(lines[line_idx].strip(\"\\n\"))\n",
    "                line_idx += 1\n",
    "            title = \"\\n\".join(temp_lines).strip(\"\\n\")\n",
    "        elif line.startswith(\".W\"):\n",
    "            # start at next line\n",
    "            line_idx += 1\n",
    "            temp_lines = []\n",
    "            # read till next '.'\n",
    "            while not lines[line_idx].startswith(\".\"):\n",
    "                temp_lines.append(lines[line_idx].strip(\"\\n\"))\n",
    "                line_idx += 1\n",
    "            abstract = \"\\n\".join(temp_lines).strip(\"\\n\")\n",
    "        else:\n",
    "            line_idx += 1\n",
    "    \n",
    "    docs.append((doc_id, title, abstract))\n",
    "    \n",
    "    p_docs = []\n",
    "    for (did, t, a) in docs:\n",
    "        if a is None:\n",
    "            a = \"\"\n",
    "        p_docs.append((did, t + \"\\n\" + a))\n",
    "    return p_docs\n"
   ]
  },
  {
   "cell_type": "code",
   "execution_count": 6,
   "metadata": {
    "deletable": false,
    "editable": false,
    "nbgrader": {
     "cell_type": "code",
     "checksum": "2f81930fcd89670b6e20e2255e1f2369",
     "grade": false,
     "grade_id": "cell-a1c43818e0d3fd79",
     "locked": true,
     "schema_version": 3,
     "solution": false,
     "task": false
    }
   },
   "outputs": [],
   "source": [
    "##### Function check\n",
    "docs = read_cacm_docs()\n",
    "\n",
    "assert isinstance(docs, list)\n",
    "assert len(docs) == 3204, \"There should be exactly 3204 documents\"\n",
    "\n",
    "unzipped_docs = list(zip(*docs))\n",
    "assert np.sum(np.array(list(map(int,unzipped_docs[0])))) == 5134410\n",
    "\n",
    "##### "
   ]
  },
  {
   "cell_type": "markdown",
   "metadata": {
    "deletable": false,
    "editable": false,
    "nbgrader": {
     "cell_type": "markdown",
     "checksum": "25fd3cfaf2137c56002b850699b3c9d3",
     "grade": false,
     "grade_id": "cell-5ed2ddc91f73c60e",
     "locked": true,
     "schema_version": 3,
     "solution": false,
     "task": false
    }
   },
   "source": [
    "---\n",
    "### 1.2 Read the CACM queries\n",
    "\n",
    "Next, let us read the queries. They are formatted similarly:"
   ]
  },
  {
   "cell_type": "code",
   "execution_count": 7,
   "metadata": {
    "deletable": false,
    "editable": false,
    "nbgrader": {
     "cell_type": "code",
     "checksum": "5d26c0908e758acb9968b84056b1060a",
     "grade": false,
     "grade_id": "cell-5c7e8e7c4fc2757f",
     "locked": true,
     "schema_version": 3,
     "solution": false,
     "task": false
    }
   },
   "outputs": [
    {
     "name": "stderr",
     "output_type": "stream",
     "text": [
      "'head' is not recognized as an internal or external command,\n",
      "operable program or batch file.\n"
     ]
    }
   ],
   "source": [
    "##### The first 15 lines of 'query.text' has 2 queries\n",
    "# We are interested only in 2 fields. \n",
    "# 1. the '.I' - the query id\n",
    "# 2. the '.W' - the query\n",
    "!head -15 ./datasets/query.text\n",
    "#####"
   ]
  },
  {
   "cell_type": "markdown",
   "metadata": {
    "deletable": false,
    "editable": false,
    "nbgrader": {
     "cell_type": "markdown",
     "checksum": "8f19f311a660f30e3f86cb0f7037d54a",
     "grade": false,
     "grade_id": "cell-88e293507d2dcef6",
     "locked": true,
     "schema_version": 3,
     "solution": false,
     "task": false
    }
   },
   "source": [
    "---\n",
    "\n",
    "The following function reads the `query.text` file:"
   ]
  },
  {
   "cell_type": "code",
   "execution_count": 8,
   "metadata": {
    "deletable": false,
    "editable": false,
    "nbgrader": {
     "cell_type": "code",
     "checksum": "e3fbb193211007672849487f5cff1664",
     "grade": false,
     "grade_id": "cell-433e3ad5d0e2572a",
     "locked": true,
     "schema_version": 3,
     "solution": false,
     "task": false
    }
   },
   "outputs": [],
   "source": [
    "def read_queries(root_folder = \"./datasets/\"):\n",
    "    \"\"\"\n",
    "        Reads in the CACM queries. The dataset is assumed to be in the folder \"./datasets/\" by default\n",
    "        Returns: A list of 2-tuples: (query_id, query)\n",
    "    \"\"\"\n",
    "    with open(os.path.join(root_folder, \"query.text\")) as reader:\n",
    "        lines = reader.readlines()\n",
    "    \n",
    "    query_id, query = None, None\n",
    "    \n",
    "    queries = []\n",
    "    line_idx = 0\n",
    "    while line_idx < len(lines):\n",
    "        line = lines[line_idx]\n",
    "        if line.startswith(\".I\"):\n",
    "            if query_id is not None:\n",
    "                queries.append((query_id, query))\n",
    "                query_id, query = None, None\n",
    "    \n",
    "            query_id = line.split()[-1]\n",
    "            line_idx += 1\n",
    "        elif line.startswith(\".W\"):\n",
    "            # start at next line\n",
    "            line_idx += 1\n",
    "            temp_lines = []\n",
    "            # read till next '.'\n",
    "            while not lines[line_idx].startswith(\".\"):\n",
    "                temp_lines.append(lines[line_idx].strip(\"\\n\"))\n",
    "                line_idx += 1\n",
    "            query = \"\\n\".join(temp_lines).strip(\"\\n\")\n",
    "        else:\n",
    "            line_idx += 1\n",
    "    \n",
    "    queries.append((query_id, query))\n",
    "    return queries\n"
   ]
  },
  {
   "cell_type": "code",
   "execution_count": 9,
   "metadata": {
    "deletable": false,
    "editable": false,
    "nbgrader": {
     "cell_type": "code",
     "checksum": "a897b9771b54f447be3418d7246fc4a0",
     "grade": false,
     "grade_id": "cell-6ec540abce66c598",
     "locked": true,
     "schema_version": 3,
     "solution": false,
     "task": false
    }
   },
   "outputs": [],
   "source": [
    "##### Function check\n",
    "queries = read_queries()\n",
    "\n",
    "assert isinstance(queries, list)\n",
    "assert len(queries) == 64 and all([q[1] is not None for q in queries]), \"There should be exactly 64 queries\"\n",
    "\n",
    "unzipped_queries = list(zip(*queries))\n",
    "assert np.sum(np.array(list(map(int,unzipped_queries[0])))) == 2080\n",
    "\n",
    "##### "
   ]
  },
  {
   "cell_type": "markdown",
   "metadata": {
    "deletable": false,
    "editable": false,
    "nbgrader": {
     "cell_type": "markdown",
     "checksum": "a300c41912ac63b239070b4c15c9f5c5",
     "grade": false,
     "grade_id": "cell-1c31569491d7b782",
     "locked": true,
     "schema_version": 3,
     "solution": false,
     "task": false
    }
   },
   "source": [
    "---\n",
    "### 1.3 Read the stop words\n",
    "\n",
    "We use the common words stored in `common_words`:"
   ]
  },
  {
   "cell_type": "code",
   "execution_count": 10,
   "metadata": {
    "deletable": false,
    "editable": false,
    "nbgrader": {
     "cell_type": "code",
     "checksum": "1ad6f5bae6a792504c1c8513ae5751ad",
     "grade": false,
     "grade_id": "cell-34bdb63461418a96",
     "locked": true,
     "schema_version": 3,
     "solution": false,
     "task": false
    }
   },
   "outputs": [
    {
     "name": "stderr",
     "output_type": "stream",
     "text": [
      "'head' is not recognized as an internal or external command,\n",
      "operable program or batch file.\n"
     ]
    }
   ],
   "source": [
    "##### Read the stop words file \n",
    "!head ./datasets/common_words\n",
    "##### Read the README file "
   ]
  },
  {
   "cell_type": "markdown",
   "metadata": {
    "deletable": false,
    "editable": false,
    "nbgrader": {
     "cell_type": "markdown",
     "checksum": "6d0fe612e770213b6397c2179b07a966",
     "grade": false,
     "grade_id": "cell-4744bde0338895d8",
     "locked": true,
     "schema_version": 3,
     "solution": false,
     "task": false
    }
   },
   "source": [
    "---\n",
    "\n",
    "The following function reads the `common_words` file (For better coverage, we try to keep them in lowercase):"
   ]
  },
  {
   "cell_type": "code",
   "execution_count": 11,
   "metadata": {
    "deletable": false,
    "editable": false,
    "nbgrader": {
     "cell_type": "code",
     "checksum": "9409713fd26eb0c33587e190638997c4",
     "grade": false,
     "grade_id": "cell-7357aa40f64e5bcb",
     "locked": true,
     "schema_version": 3,
     "solution": false,
     "task": false
    }
   },
   "outputs": [],
   "source": [
    "def load_stopwords(root_folder = \"./datasets/\"):\n",
    "    \"\"\"\n",
    "        Loads the stopwords. The dataset is assumed to be in the folder \"./datasets/\" by default\n",
    "        Output: A set of stopwords\n",
    "    \"\"\"\n",
    "    with open(os.path.join(root_folder, \"common_words\")) as reader:\n",
    "        lines = reader.readlines()\n",
    "    stopwords = set([l.strip().lower() for l in lines])\n",
    "    return stopwords\n"
   ]
  },
  {
   "cell_type": "code",
   "execution_count": 12,
   "metadata": {
    "deletable": false,
    "editable": false,
    "nbgrader": {
     "cell_type": "code",
     "checksum": "f1c8153c3c38133bc2db6e7b076ad470",
     "grade": false,
     "grade_id": "cell-2ca3ac162004de97",
     "locked": true,
     "schema_version": 3,
     "solution": false,
     "task": false
    }
   },
   "outputs": [],
   "source": [
    "##### Function check\n",
    "stopwords = load_stopwords()\n",
    "\n",
    "assert isinstance(stopwords, set)\n",
    "assert len(stopwords) == 428, \"There should be exactly 428 stop words\"\n",
    "\n",
    "assert np.sum(np.array(list(map(len,stopwords)))) == 2234\n",
    "\n",
    "##### \n"
   ]
  },
  {
   "cell_type": "markdown",
   "metadata": {
    "deletable": false,
    "editable": false,
    "nbgrader": {
     "cell_type": "markdown",
     "checksum": "92c1191e9e7291dcf0d70dc67b907a65",
     "grade": false,
     "grade_id": "cell-134b72872f4300cb",
     "locked": true,
     "schema_version": 3,
     "solution": false,
     "task": false
    }
   },
   "source": [
    "---\n",
    "### 1.4 Tokenization (3 points)\n",
    "\n",
    "We can now write some basic text processing functions. \n",
    "A first step is to tokenize the text. \n",
    "\n",
    "**Note**: Use the  `WordPunctTokenizer` available in the `nltk` library:"
   ]
  },
  {
   "cell_type": "code",
   "execution_count": 13,
   "metadata": {
    "deletable": false,
    "nbgrader": {
     "cell_type": "code",
     "checksum": "3f5564d3c75bf22fbf832b3a9b938f37",
     "grade": false,
     "grade_id": "cell-322be4c9499bdc4b",
     "locked": false,
     "schema_version": 3,
     "solution": true,
     "task": false
    }
   },
   "outputs": [],
   "source": [
    "# TODO: Implement this! (4 points)\n",
    "def tokenize(text):\n",
    "    \"\"\"\n",
    "        Tokenizes the input text. Use the WordPunctTokenizer\n",
    "        Input: text - a string\n",
    "        Output: a list of tokens\n",
    "    \"\"\"\n",
    "    # YOUR CODE HERE\n",
    "    \n",
    "    tokenizer = nltk.WordPunctTokenizer()\n",
    "    tokens = tokenizer.tokenize(text)\n",
    "    return tokens"
   ]
  },
  {
   "cell_type": "code",
   "execution_count": 14,
   "metadata": {
    "deletable": false,
    "editable": false,
    "nbgrader": {
     "cell_type": "code",
     "checksum": "e15af22c4d8ae0a3f9dac43bef7097ec",
     "grade": true,
     "grade_id": "cell-7fbf48bf7541a622",
     "locked": true,
     "points": 3,
     "schema_version": 3,
     "solution": false,
     "task": false
    }
   },
   "outputs": [
    {
     "name": "stdout",
     "output_type": "stream",
     "text": [
      "['the', 'quick', 'brown', 'fox', 'jumps', 'over', 'the', 'lazy', 'dog']\n"
     ]
    }
   ],
   "source": [
    "##### Function check\n",
    "text = \"the quick brown fox jumps over the lazy dog\"\n",
    "tokens = tokenize(text)\n",
    "\n",
    "assert isinstance(tokens, list)\n",
    "assert len(tokens) == 9\n",
    "\n",
    "print(tokens)\n",
    "# output: ['the', 'quick', 'brown', 'fox', 'jumps', 'over', 'the', 'lazy', 'dog']\n",
    "#####"
   ]
  },
  {
   "cell_type": "markdown",
   "metadata": {
    "deletable": false,
    "editable": false,
    "nbgrader": {
     "cell_type": "markdown",
     "checksum": "34210618bff4cb47aad2f03cb4b9854c",
     "grade": false,
     "grade_id": "cell-fd1b98ae61b697ca",
     "locked": true,
     "schema_version": 3,
     "solution": false,
     "task": false
    }
   },
   "source": [
    "---\n",
    "### 1.5 Stemming (2 points)\n",
    "\n",
    "Write a function to stem tokens. \n",
    "Again, you can use the nltk library for this:"
   ]
  },
  {
   "cell_type": "code",
   "execution_count": 15,
   "metadata": {
    "deletable": false,
    "nbgrader": {
     "cell_type": "code",
     "checksum": "1c4a6aa979d66158c7b6b992af43293a",
     "grade": false,
     "grade_id": "cell-e3f6c8e3f874b28d",
     "locked": false,
     "schema_version": 3,
     "solution": true,
     "task": false
    }
   },
   "outputs": [],
   "source": [
    "# TODO: Implement this! (3 points)\n",
    "def stem_token(token):\n",
    "    \"\"\"\n",
    "        Stems the given token using the PorterStemmer from the nltk library\n",
    "        Input: a single token\n",
    "        Output: the stem of the token\n",
    "    \"\"\"\n",
    "    # YOUR CODE HERE\n",
    "    \n",
    "    stemmer = nltk.PorterStemmer()\n",
    "    stemmed_token = stemmer.stem(token)\n",
    "    return stemmed_token\n",
    "    "
   ]
  },
  {
   "cell_type": "code",
   "execution_count": 16,
   "metadata": {
    "deletable": false,
    "editable": false,
    "nbgrader": {
     "cell_type": "code",
     "checksum": "9363b4f09b556d424d9c895d4ab57b1c",
     "grade": true,
     "grade_id": "cell-cd6863e6ee6ed205",
     "locked": true,
     "points": 2,
     "schema_version": 3,
     "solution": false,
     "task": false
    }
   },
   "outputs": [],
   "source": [
    "##### Function check\n",
    "\n",
    "assert stem_token('owned') == 'own'\n",
    "assert stem_token('itemization') == 'item'\n",
    "#####"
   ]
  },
  {
   "cell_type": "markdown",
   "metadata": {
    "deletable": false,
    "editable": false,
    "nbgrader": {
     "cell_type": "markdown",
     "checksum": "0b311d014146da6afa1d39542fab9869",
     "grade": false,
     "grade_id": "cell-47c9f90498699110",
     "locked": true,
     "schema_version": 3,
     "solution": false,
     "task": false
    }
   },
   "source": [
    "---\n",
    "### 1.6 Summary\n",
    "\n",
    "The following function puts it all together. Given an input string, this functions tokenizes and processes it according to the flags that you set."
   ]
  },
  {
   "cell_type": "code",
   "execution_count": 17,
   "metadata": {
    "deletable": false,
    "editable": false,
    "nbgrader": {
     "cell_type": "code",
     "checksum": "2ff2d215ee8e0039c5a91fd3de12e6bd",
     "grade": false,
     "grade_id": "cell-dd0d3f46b30801da",
     "locked": true,
     "schema_version": 3,
     "solution": false,
     "task": false
    }
   },
   "outputs": [],
   "source": [
    "#### Putting it all together\n",
    "def process_text(text, stem=False, remove_stopwords=False, lowercase_text=False):\n",
    "    \n",
    "    tokens = []\n",
    "    for token in tokenize(text):\n",
    "        if remove_stopwords and token.lower() in stopwords:\n",
    "            continue\n",
    "        if stem:\n",
    "            token = stem_token(token)\n",
    "        if lowercase_text:\n",
    "            token = token.lower()\n",
    "        tokens.append(token)\n",
    "\n",
    "    return tokens\n",
    "#### "
   ]
  },
  {
   "cell_type": "markdown",
   "metadata": {
    "deletable": false,
    "editable": false,
    "nbgrader": {
     "cell_type": "markdown",
     "checksum": "02d433b18eb43654fa4306a7bf55b190",
     "grade": false,
     "grade_id": "cell-8d885bfd2edd43ae",
     "locked": true,
     "schema_version": 3,
     "solution": false,
     "task": false
    }
   },
   "source": [
    "---\n",
    "\n",
    "Let's create two sets of preprocessed documents.\n",
    "We can process the documents and queries according to these two configurations:"
   ]
  },
  {
   "cell_type": "code",
   "execution_count": 18,
   "metadata": {
    "deletable": false,
    "editable": false,
    "nbgrader": {
     "cell_type": "code",
     "checksum": "dbe4ca667be6842fdcf512fbcad50c7f",
     "grade": false,
     "grade_id": "cell-d427365ee0fb21d8",
     "locked": true,
     "schema_version": 3,
     "solution": false,
     "task": false
    }
   },
   "outputs": [],
   "source": [
    "# In this configuration:\n",
    "# Don't preprocess the text, except to tokenize \n",
    "config_1 = {\n",
    "  \"stem\": False,\n",
    "  \"remove_stopwords\" : False,\n",
    "  \"lowercase_text\": True\n",
    "} \n",
    "\n",
    "\n",
    "# In this configuration:\n",
    "# Preprocess the text, stem and remove stopwords\n",
    "config_2 = {\n",
    "  \"stem\": True,\n",
    "  \"remove_stopwords\" : True,\n",
    "  \"lowercase_text\": True, \n",
    "} \n",
    "\n",
    "####\n",
    "doc_repr_1 = []\n",
    "doc_repr_2 = []\n",
    "for (doc_id, document) in docs:\n",
    "    doc_repr_1.append((doc_id, process_text(document, **config_1)))\n",
    "    doc_repr_2.append((doc_id, process_text(document, **config_2)))\n",
    "\n",
    "####"
   ]
  },
  {
   "cell_type": "markdown",
   "metadata": {
    "deletable": false,
    "editable": false,
    "nbgrader": {
     "cell_type": "markdown",
     "checksum": "b60589aac19e80941d860d9b3f1e9a16",
     "grade": false,
     "grade_id": "cell-b1c102db61ae7495",
     "locked": true,
     "schema_version": 3,
     "solution": false,
     "task": false
    }
   },
   "source": [
    "--- \n",
    "\n",
    "## Section 2: Indexing (10 points)<a class=\"anchor\" id=\"indexing\"></a>\n",
    "\n",
    "[Back to Part 1](#part1)\n",
    "\n",
    "\n",
    "\n",
    "A retrieval function usually takes in a query document pair, and scores a query against a document.  Our document set is quite small - just a few thousand documents. However, consider a web-scale dataset with a few million documents. In such a scenario, it would become infeasible to score every query and document pair. In such a case, we can build an inverted index. From Wikipedia:\n",
    "\n",
    "> ... , an inverted index (also referred to as a postings file or inverted file) is a database index storing a mapping from content, such as words or numbers, to its locations in a table, .... The purpose of an inverted index is to allow fast full-text searches, at a cost of increased processing when a document is added to the database. ...\n",
    "\n",
    "\n",
    "Consider a simple inverted index, which maps from word to document. This can improve the performance of a retrieval system significantly. In this assignment, we consider a *simple* inverted index, which maps a word to a set of documents. In practice, however, more complex indices might be used.  \n"
   ]
  },
  {
   "cell_type": "markdown",
   "metadata": {
    "deletable": false,
    "editable": false,
    "nbgrader": {
     "cell_type": "markdown",
     "checksum": "710fd943f45523ac36fcb887cc0d4d39",
     "grade": false,
     "grade_id": "cell-fa373192c1b7bb95",
     "locked": true,
     "schema_version": 3,
     "solution": false,
     "task": false
    }
   },
   "source": [
    "### 2.1 Term Frequency-index (10 points)\n",
    "In this assignment, we will be using an index created in memory since our dataset is tiny. To get started, build a simple index that maps each `token` to a list of `(doc_id, count)` where `count` is the count of the `token` in `doc_id`.\n",
    "For consistency, build this index using a python dictionary.\n",
    "    \n",
    "Now, implement a function to build an index:"
   ]
  },
  {
   "cell_type": "code",
   "execution_count": 19,
   "metadata": {
    "deletable": false,
    "nbgrader": {
     "cell_type": "code",
     "checksum": "d4e8c6b658c469379d5fe511de05b536",
     "grade": false,
     "grade_id": "cell-077599b87e953209",
     "locked": false,
     "schema_version": 3,
     "solution": true,
     "task": false
    }
   },
   "outputs": [],
   "source": [
    "from collections import defaultdict\n",
    "\n",
    "# TODO: Implement this! (10 points)\n",
    "def build_tf_index(documents):\n",
    "    \"\"\"\n",
    "        Build an inverted index (with counts). The output is a dictionary which takes in a token\n",
    "        and returns a list of (doc_id, count) where 'count' is the count of the 'token' in 'doc_id'\n",
    "        Input: a list of documents - (doc_id, tokens) \n",
    "        Output: An inverted index implemented within a python dictionary: [token] -> [(doc_id, token_count)]\n",
    "    \"\"\"\n",
    "    # YOUR CODE HERE\n",
    "    inv_idx = defaultdict(list)\n",
    "    \n",
    "    for doc in documents:\n",
    "        doc_id = doc[0]\n",
    "        doc_tokens = doc[1]\n",
    "        \n",
    "        for token in doc_tokens:\n",
    "            if token not in inv_idx:\n",
    "                inv_idx[token] = {}\n",
    "                \n",
    "            if doc_id not in inv_idx[token]:\n",
    "                inv_idx[token][doc_id] = 0\n",
    "                \n",
    "            inv_idx[token][doc_id] += 1\n",
    "\n",
    "    for token in inv_idx:\n",
    "        inv_idx[token] = list(inv_idx[token].items())\n",
    "        \n",
    "    return inv_idx"
   ]
  },
  {
   "cell_type": "markdown",
   "metadata": {
    "deletable": false,
    "editable": false,
    "nbgrader": {
     "cell_type": "markdown",
     "checksum": "15e7041b4323d2a290322de538ff7670",
     "grade": false,
     "grade_id": "cell-093aebfa504f96f2",
     "locked": true,
     "schema_version": 3,
     "solution": false,
     "task": false
    }
   },
   "source": [
    "---\n",
    "Now we can build indexed documents and preprocess the queries based on the two configurations:"
   ]
  },
  {
   "cell_type": "code",
   "execution_count": 20,
   "metadata": {
    "deletable": false,
    "editable": false,
    "nbgrader": {
     "cell_type": "code",
     "checksum": "e27540c1d8d77a3779a05f557f3f40c6",
     "grade": false,
     "grade_id": "cell-b2ff1676348b90a8",
     "locked": true,
     "schema_version": 3,
     "solution": false,
     "task": false
    }
   },
   "outputs": [],
   "source": [
    "#### Indexed documents based on the two configs\n",
    "\n",
    "# Create the 2 indices\n",
    "tf_index_1 = build_tf_index(doc_repr_1)\n",
    "tf_index_2 = build_tf_index(doc_repr_2)\n",
    "\n",
    "# This function returns the tf_index of the corresponding config\n",
    "def get_index(index_set):\n",
    "    assert index_set in {1, 2}\n",
    "    return {\n",
    "        1: tf_index_1,\n",
    "        2: tf_index_2\n",
    "    }[index_set]\n",
    "\n",
    "####\n",
    "#### Preprocessed query based on the two configs\n",
    "\n",
    "# This function preprocesses the text given the index set, according to the specified config\n",
    "def preprocess_query(text, index_set):\n",
    "    assert index_set in {1, 2}\n",
    "    if index_set == 1:\n",
    "        return process_text(text, **config_1)\n",
    "    elif index_set == 2:\n",
    "        return process_text(text, **config_2)\n",
    "\n",
    "#### "
   ]
  },
  {
   "cell_type": "code",
   "execution_count": 21,
   "metadata": {
    "deletable": false,
    "editable": false,
    "nbgrader": {
     "cell_type": "code",
     "checksum": "f0cbc8703e1248cd6edf03f9019b69db",
     "grade": true,
     "grade_id": "cell-fc7c7232d5d2ee46",
     "locked": true,
     "points": 5,
     "schema_version": 3,
     "solution": false,
     "task": false
    }
   },
   "outputs": [
    {
     "name": "stdout",
     "output_type": "stream",
     "text": [
      "sample tf index for computer: [('4', 1), ('7', 1), ('10', 1), ('13', 1), ('19', 1), ('22', 1), ('23', 1), ('37', 1), ('40', 3), ('41', 1)]\n",
      "sample tf index for examples: [('111', 1), ('320', 1), ('644', 1), ('691', 1), ('727', 1), ('848', 1), ('892', 1), ('893', 1), ('1049', 1), ('1051', 1)]\n"
     ]
    }
   ],
   "source": [
    "##### Function check\n",
    "\n",
    "assert isinstance(tf_index_1, dict)\n",
    "\n",
    "assert isinstance(tf_index_1['computer'], list)\n",
    "print('sample tf index for computer:', tf_index_1['computer'][:10])\n",
    "\n",
    "assert isinstance(tf_index_1['examples'], list)\n",
    "print('sample tf index for examples:', tf_index_1['examples'][:10])\n",
    "#### "
   ]
  },
  {
   "cell_type": "code",
   "execution_count": 22,
   "metadata": {
    "deletable": false,
    "editable": false,
    "nbgrader": {
     "cell_type": "code",
     "checksum": "d49b8ac36815d9a5cb4bed838ab53a50",
     "grade": true,
     "grade_id": "cell-ff06bd11204db250",
     "locked": true,
     "points": 5,
     "schema_version": 3,
     "solution": false,
     "task": false
    }
   },
   "outputs": [
    {
     "name": "stdout",
     "output_type": "stream",
     "text": [
      "sample tf index for computer: [('4', 1), ('7', 1), ('10', 1), ('13', 1), ('19', 1), ('22', 1), ('23', 1), ('37', 1), ('40', 3), ('41', 1)]\n",
      "sample tf index for examples: []\n"
     ]
    }
   ],
   "source": [
    "##### Function check\n",
    "\n",
    "assert isinstance(tf_index_2, dict)\n",
    "\n",
    "assert isinstance(tf_index_2['computer'], list)\n",
    "print('sample tf index for computer:', tf_index_1['computer'][:10])\n",
    "\n",
    "assert isinstance(tf_index_2['examples'], list)\n",
    "print('sample tf index for examples:', tf_index_2['examples'][:10])\n",
    "#### "
   ]
  },
  {
   "cell_type": "markdown",
   "metadata": {
    "deletable": false,
    "editable": false,
    "nbgrader": {
     "cell_type": "markdown",
     "checksum": "880b2ef3ca405f2af6e0667d2dc7a600",
     "grade": false,
     "grade_id": "cell-89eba71f04310291",
     "locked": true,
     "schema_version": 3,
     "solution": false,
     "task": false
    }
   },
   "source": [
    "\n",
    "---\n",
    "## Section 3: Ranking  (80 points) <a class=\"anchor\" id=\"ranking\"></a>\n",
    "\n",
    "[Back to Part 1](#part1)\n",
    "\n",
    "Now that we have cleaned and processed our dataset, we can start building simple IR systems. \n",
    "\n",
    "For now, we consider *simple* IR systems, which involve computing scores from the tokens present in the document/query. More advanced methods are covered in later assignments.\n",
    "\n",
    "We will implement the following methods in this section:\n",
    "- [Section 3.1: Bag of Words](#bow) (10 points)\n",
    "- [Section 3.2: TF-IDF](#tfidf) (15 points)\n",
    "- [Section 3.3: Query Likelihood Model](#qlm) (35 points)\n",
    "- [Section 3.4: BM25](#bm25) (20 points)\n",
    "\n",
    "*All search functions should be able to handle multiple words queries.*\n",
    "\n",
    "**Scoring policy:**\n",
    "Your implementations in this section are scored based on the expected performance of your ranking functions.\n",
    "You will get a full mark if your implementation meets the expected performance (measured by some evaluation metric).\n",
    "Otherwise, you may get partial credit.\n",
    "For example, if your *Bag of words* ranking function has 60% of expected performance, you will get 6 out of 10."
   ]
  },
  {
   "cell_type": "markdown",
   "metadata": {
    "deletable": false,
    "editable": false,
    "nbgrader": {
     "cell_type": "markdown",
     "checksum": "6c74e5061917358300c6e8085ec07864",
     "grade": false,
     "grade_id": "cell-3daf70a60e393adf",
     "locked": true,
     "schema_version": 3,
     "solution": false,
     "task": false
    }
   },
   "source": [
    "--- \n",
    "\n",
    "### Section 3.1: Bag of Words (10 points)<a class=\"anchor\" id=\"bow\"></a>\n",
    "\n",
    "Probably the simplest IR model is the Bag of Words (BOW) model.\n",
    "Implement a function that scores and ranks all the documents against a query using this model.   \n",
    "\n",
    "- For consistency, you should use the count of the token and **not** the binary indicator.\n",
    "- Use `float` type for the scores (even though the scores are integers in this case).\n",
    "- No normalization of the scores is necessary, as the ordering is what we are interested in.\n",
    "- If two documents have the same score, they can have any ordering: you are not required to disambiguate.\n"
   ]
  },
  {
   "cell_type": "code",
   "execution_count": 23,
   "metadata": {
    "deletable": false,
    "nbgrader": {
     "cell_type": "code",
     "checksum": "fee4640e22bfc4f05eb958a675ef40e7",
     "grade": false,
     "grade_id": "cell-de9cf0459c4b9324",
     "locked": false,
     "schema_version": 3,
     "solution": true,
     "task": false
    }
   },
   "outputs": [],
   "source": [
    "# TODO: Implement this! (10 points)\n",
    "def bow_search(query, index_set):\n",
    "    \"\"\"\n",
    "        Perform a search over all documents with the given query. \n",
    "        Note: You have to use the `get_index` function created in the previous cells\n",
    "        Input: \n",
    "            query - a (unprocessed) query\n",
    "            index_set - the index to use\n",
    "        Output: a list of (document_id, score), sorted in descending relevance to the given query. \n",
    "    \"\"\"\n",
    "    index = get_index(index_set)\n",
    "    processed_query = preprocess_query(query, index_set)\n",
    "    \n",
    "    # YOUR CODE HERE\n",
    "    doc_score_dict = defaultdict(float)\n",
    "    \n",
    "    for token in processed_query:\n",
    "        if token not in index:\n",
    "            continue\n",
    "            \n",
    "        for doc_id, count in index[token]:            \n",
    "            doc_score_dict[doc_id] += count\n",
    "            \n",
    "    return sorted(doc_score_dict.items(), key=lambda x: x[1], reverse=True)"
   ]
  },
  {
   "cell_type": "code",
   "execution_count": 24,
   "metadata": {
    "deletable": false,
    "editable": false,
    "nbgrader": {
     "cell_type": "code",
     "checksum": "613524fbbf02b1d122c6611a71fbf11b",
     "grade": true,
     "grade_id": "cell-9f6aceae6dd9125f",
     "locked": true,
     "points": 2,
     "schema_version": 3,
     "solution": false,
     "task": false
    }
   },
   "outputs": [],
   "source": [
    "#### Function check\n",
    "\n",
    "test_bow = bow_search(\"how to implement bag of words search\", index_set=1)[:5]\n",
    "assert isinstance(test_bow, list)\n",
    "assert len(test_bow[0]) == 2\n",
    "assert isinstance(test_bow[0][0], str)\n",
    "assert isinstance(test_bow[0][1], float)\n",
    "\n",
    "#### "
   ]
  },
  {
   "cell_type": "code",
   "execution_count": 25,
   "metadata": {
    "deletable": false,
    "editable": false,
    "nbgrader": {
     "cell_type": "code",
     "checksum": "9af20897659edb62fe77598483590500",
     "grade": true,
     "grade_id": "cell-4eed3abf233d9b58",
     "locked": true,
     "points": 2,
     "schema_version": 3,
     "solution": false,
     "task": false
    }
   },
   "outputs": [
    {
     "name": "stdout",
     "output_type": "stream",
     "text": [
      "BOW Results:\n",
      "Rank 0(1.3e+01): On Computing The Fast Fourier Transform\\nCooley an...\n",
      "Rank 1(1.2e+01): Variable Length Tree Structures Having Minimum Ave...\n",
      "Rank 2(1.1e+01): A Modular Computer Sharing System\\nAn alternative ...\n",
      "Rank 3(1e+01): PEEKABIT, Computer Offspring of Punched\\nCard PEEK...\n",
      "Rank 4(9.0): Computer Simulation-Discussion of the\\nTechnique a...\n"
     ]
    }
   ],
   "source": [
    "\n",
    "docs_by_id = dict(docs)\n",
    "def print_results(docs, len_limit=50):    \n",
    "    for i, (doc_id, score) in enumerate(docs):\n",
    "        doc_content = docs_by_id[doc_id].strip().replace(\"\\n\", \"\\\\n\")[:len_limit] + \"...\"\n",
    "        print(f\"Rank {i}({score:.2}): {doc_content}\")\n",
    "\n",
    "test_bow_2 = bow_search(\"computer search word\", index_set=2)[:5]\n",
    "print(f\"BOW Results:\")\n",
    "print_results(test_bow_2)\n"
   ]
  },
  {
   "cell_type": "code",
   "execution_count": 26,
   "metadata": {
    "deletable": false,
    "editable": false,
    "nbgrader": {
     "cell_type": "code",
     "checksum": "3c9c8b16c8e7d1032f101e9da8a6e845",
     "grade": true,
     "grade_id": "cell-4d65a2d7090c466c",
     "locked": true,
     "points": 3,
     "schema_version": 3,
     "solution": false,
     "task": false
    }
   },
   "outputs": [
    {
     "name": "stdout",
     "output_type": "stream",
     "text": [
      "BOW Results:\n",
      "Rank 0(9.0): CURRICULUM 68 -- Recommendations for Academic\\nPro...\n",
      "Rank 1(9.0): Variable Length Tree Structures Having Minimum Ave...\n",
      "Rank 2(7.0): Computer Formulation of the Equations of Motion Us...\n",
      "Rank 3(7.0): The Effects of Multiplexing on a Computer-Communic...\n",
      "Rank 4(6.0): Optimizing Bit-time Computer Simulation\\nA major c...\n"
     ]
    }
   ],
   "source": [
    "\n",
    "test_bow_1 = bow_search(\"computer search word\", index_set=1)[:5]\n",
    "print(f\"BOW Results:\")\n",
    "print_results(test_bow_1)\n"
   ]
  },
  {
   "cell_type": "code",
   "execution_count": 27,
   "metadata": {
    "deletable": false,
    "editable": false,
    "nbgrader": {
     "cell_type": "code",
     "checksum": "b7e593847aa4202ae45ec061fb18ad73",
     "grade": true,
     "grade_id": "cell-dedf36ab5853ce20",
     "locked": true,
     "points": 3,
     "schema_version": 3,
     "solution": false,
     "task": false
    }
   },
   "outputs": [
    {
     "name": "stdout",
     "output_type": "stream",
     "text": [
      "top-5 docs for index1: ('1771', '1936', '1543', '2535', '678')\n",
      "top-5 docs for index2: ('1525', '1936', '1844', '1700', '1366')\n"
     ]
    }
   ],
   "source": [
    "print('top-5 docs for index1:', list(zip(*test_bow_1[:5]))[0])\n",
    "print('top-5 docs for index2:', list(zip(*test_bow_2[:5]))[0])\n"
   ]
  },
  {
   "cell_type": "markdown",
   "metadata": {
    "deletable": false,
    "editable": false,
    "nbgrader": {
     "cell_type": "markdown",
     "checksum": "b04352ee0716dfdf094b8cdb6f32e984",
     "grade": false,
     "grade_id": "cell-a5c09c79ac1f2871",
     "locked": true,
     "schema_version": 3,
     "solution": false,
     "task": false
    }
   },
   "source": [
    "\n",
    "---\n",
    "\n",
    "### Section 3.2: TF-IDF (15 points) <a class=\"anchor\" id=\"tfidf\"></a>\n",
    "\n",
    "Before we implement the tf-idf scoring functions, let's first write a function to compute the document frequencies of all words.  \n",
    "\n",
    "#### 3.2.1 Document frequency (5 points)\n",
    "Compute the document frequencies of all tokens in the collection. \n",
    "Your code should return a dictionary with tokens as its keys and the number of documents containing the token as values.\n",
    "For consistency, the values should have `int` type."
   ]
  },
  {
   "cell_type": "code",
   "execution_count": 28,
   "metadata": {
    "deletable": false,
    "nbgrader": {
     "cell_type": "code",
     "checksum": "5c53263cf4c0b0ffcaae08b91fc364cc",
     "grade": false,
     "grade_id": "cell-9a2369f32e864b8a",
     "locked": false,
     "schema_version": 3,
     "solution": true,
     "task": false
    }
   },
   "outputs": [],
   "source": [
    "# TODO: Implement this! (5 points)\n",
    "def compute_df(documents):\n",
    "    \"\"\"\n",
    "        Compute the document frequency of all terms in the vocabulary\n",
    "        Input: A list of lists of tokens per document\n",
    "        Output: A dictionary with {token: document frequency (int)}\n",
    "    \"\"\"\n",
    "    # YOUR CODE HERE\n",
    "    df = defaultdict(int)\n",
    "    \n",
    "    for doc_tokens in documents:\n",
    "        for token in set(doc_tokens):\n",
    "            df[token] += 1\n",
    "    \n",
    "    return df"
   ]
  },
  {
   "cell_type": "code",
   "execution_count": 29,
   "metadata": {
    "deletable": false,
    "editable": false,
    "nbgrader": {
     "cell_type": "code",
     "checksum": "154985511d7925c5793a1f97dea81880",
     "grade": false,
     "grade_id": "cell-4c3bddd0b73ac90e",
     "locked": true,
     "schema_version": 3,
     "solution": false,
     "task": false
    }
   },
   "outputs": [],
   "source": [
    "#### Compute df based on the two configs\n",
    "\n",
    "# get the document frequencies of each document\n",
    "df_1 = compute_df([d[1] for d in doc_repr_1])\n",
    "df_2 = compute_df([d[1] for d in doc_repr_2])\n",
    "\n",
    "def get_df(index_set):\n",
    "    assert index_set in {1, 2}\n",
    "    return {\n",
    "        1: df_1,\n",
    "        2: df_2\n",
    "    }[index_set]\n",
    "####"
   ]
  },
  {
   "cell_type": "code",
   "execution_count": 30,
   "metadata": {
    "deletable": false,
    "editable": false,
    "nbgrader": {
     "cell_type": "code",
     "checksum": "110cc180068cf3f77c682ee3de2a117c",
     "grade": true,
     "grade_id": "cell-79e8a6db1e5fc46f",
     "locked": true,
     "points": 5,
     "schema_version": 3,
     "solution": false,
     "task": false
    }
   },
   "outputs": [
    {
     "name": "stdout",
     "output_type": "stream",
     "text": [
      "597\n",
      "11\n"
     ]
    }
   ],
   "source": [
    "#### Function check\n",
    "\n",
    "print(df_1['computer'])\n",
    "print(df_2['computer'])\n",
    "####"
   ]
  },
  {
   "cell_type": "markdown",
   "metadata": {
    "deletable": false,
    "editable": false,
    "nbgrader": {
     "cell_type": "markdown",
     "checksum": "d0d577668fa51b80aeab6e67209ae73b",
     "grade": false,
     "grade_id": "cell-52f6acc487e1b96d",
     "locked": true,
     "schema_version": 3,
     "solution": false,
     "task": false
    }
   },
   "source": [
    "---\n",
    "#### 3.2.2 TF-IDF search (10 points)\n",
    "Next, implement a function that computes a tf-idf score, given a query.\n",
    "Use the following formulas for TF and IDF:\n",
    "\n",
    "$$ TF=\\log (1 + f_{d,t}) $$\n",
    "\n",
    "$$ IDF=\\log (\\frac{N}{n_t})$$\n",
    "\n",
    "where $f_{d,t}$ is the frequency of token $t$ in document $d$, $N$ is the number of total documents and $n_t$ is the number of documents containing token $t$.\n",
    "\n",
    "**Note:** your implementation will be auto-graded assuming you have used the above formulas.\n"
   ]
  },
  {
   "cell_type": "code",
   "execution_count": 31,
   "metadata": {
    "deletable": false,
    "nbgrader": {
     "cell_type": "code",
     "checksum": "3534c44b4a3419ca1db98eebe7115dc1",
     "grade": false,
     "grade_id": "cell-2fb5ba34b2994cd9",
     "locked": false,
     "schema_version": 3,
     "solution": true,
     "task": false
    }
   },
   "outputs": [],
   "source": [
    "# TODO: Implement this! (10 points)\n",
    "def tfidf_search(query, index_set):\n",
    "    \"\"\"\n",
    "        Perform a search over all documents with the given query using tf-idf. \n",
    "        Note #1: You have to use the `get_index` (and the `get_df`) function created in the previous cells\n",
    "        Input: \n",
    "            query - a (unprocessed) query\n",
    "            index_set - the index to use\n",
    "        Output: a list of (document_id, score), sorted in descending relevance to the given query \n",
    "    \"\"\"\n",
    "    index = get_index(index_set)\n",
    "    df = get_df(index_set)\n",
    "    processed_query = preprocess_query(query, index_set)\n",
    "    \n",
    "    N = len(docs)\n",
    "    # YOUR CODE HERE\n",
    "    doc_score_dict = defaultdict(float)\n",
    "    \n",
    "    for token in processed_query:\n",
    "        if token not in df:\n",
    "            continue\n",
    "        \n",
    "        n_t = df[token]\n",
    "        idf = np.log(N/n_t)\n",
    "        \n",
    "        for doc_id, f_d_t in index[token]:\n",
    "            tf = np.log(1 + f_d_t)\n",
    "            \n",
    "            doc_score_dict[doc_id] += tf*idf\n",
    "    \n",
    "    return sorted(doc_score_dict.items(), key=lambda x: x[1], reverse=True)"
   ]
  },
  {
   "cell_type": "code",
   "execution_count": 32,
   "metadata": {
    "deletable": false,
    "editable": false,
    "nbgrader": {
     "cell_type": "code",
     "checksum": "7b66a514663d898694b09a23a597312b",
     "grade": true,
     "grade_id": "cell-bc68aeeacf42beb3",
     "locked": true,
     "points": 2,
     "schema_version": 3,
     "solution": false,
     "task": false
    }
   },
   "outputs": [],
   "source": [
    "\n",
    "#### Function check\n",
    "test_tfidf = tfidf_search(\"how to implement tf idf search\", index_set=1)[:5]\n",
    "assert isinstance(test_tfidf, list)\n",
    "assert len(test_tfidf[0]) == 2\n",
    "assert isinstance(test_tfidf[0][0], str)\n",
    "assert isinstance(test_tfidf[0][1], float)\n",
    "\n",
    "####"
   ]
  },
  {
   "cell_type": "code",
   "execution_count": 33,
   "metadata": {
    "deletable": false,
    "editable": false,
    "nbgrader": {
     "cell_type": "code",
     "checksum": "98fb1326cf4bf7983ae237ca8a9105f9",
     "grade": true,
     "grade_id": "cell-c7702fa8179fadb9",
     "locked": true,
     "points": 2,
     "schema_version": 3,
     "solution": false,
     "task": false
    }
   },
   "outputs": [
    {
     "name": "stdout",
     "output_type": "stream",
     "text": [
      "TFIDF Results:\n",
      "Rank 0(1.3e+01): PEEKABIT, Computer Offspring of Punched\\nCard PEEK...\n",
      "Rank 1(9.8): Variable Length Tree Structures Having Minimum Ave...\n",
      "Rank 2(8.2): A Stochastic Approach to the Grammatical Coding of...\n",
      "Rank 3(8.1): Full Table Quadratic Searching for Scatter Storage...\n",
      "Rank 4(7.6): Use of Tree Structures for Processing Files\\nIn da...\n"
     ]
    }
   ],
   "source": [
    "\n",
    "test_tfidf_2 = tfidf_search(\"computer word search\", index_set=2)[:5]\n",
    "print(f\"TFIDF Results:\")\n",
    "print_results(test_tfidf_2)\n"
   ]
  },
  {
   "cell_type": "code",
   "execution_count": 34,
   "metadata": {
    "deletable": false,
    "editable": false,
    "nbgrader": {
     "cell_type": "code",
     "checksum": "733b5b67be5e53989f5b763ce5e52ee9",
     "grade": true,
     "grade_id": "cell-3284f50ac29abbaa",
     "locked": true,
     "points": 3,
     "schema_version": 3,
     "solution": false,
     "task": false
    }
   },
   "outputs": [
    {
     "name": "stdout",
     "output_type": "stream",
     "text": [
      "TFIDF Results:\n",
      "Rank 0(9.4): Variable Length Tree Structures Having Minimum Ave...\n",
      "Rank 1(7.4): On the Feasibility of Voice Input to\\nan On-line C...\n",
      "Rank 2(7.3): Median Split Trees: A Fast Lookup Technique for Fr...\n",
      "Rank 3(7.0): Execution Time Requirements for Encipherment Progr...\n",
      "Rank 4(7.0): Storage and Search Properties of a Tree-Organized ...\n"
     ]
    }
   ],
   "source": [
    "\n",
    "test_tfidf_1 = tfidf_search(\"computer word search\", index_set=1)[:5]\n",
    "print(f\"TFIDF Results:\")\n",
    "print_results(test_tfidf_1)\n"
   ]
  },
  {
   "cell_type": "code",
   "execution_count": 35,
   "metadata": {
    "deletable": false,
    "editable": false,
    "nbgrader": {
     "cell_type": "code",
     "checksum": "e0edb37a5ae807a2de85d578c87ccb78",
     "grade": true,
     "grade_id": "cell-d908c80a3155354b",
     "locked": true,
     "points": 3,
     "schema_version": 3,
     "solution": false,
     "task": false
    }
   },
   "outputs": [
    {
     "name": "stdout",
     "output_type": "stream",
     "text": [
      "top-5 docs for index1 with BOW search: ('1771', '1936', '1543', '2535', '678')\n",
      "top-5 docs for index2 with BOW search: ('1525', '1936', '1844', '1700', '1366')\n",
      "top-5 docs for index1 with TF-IDF search: ('1936', '2054', '3041', '2620', '944')\n",
      "top-5 docs for index2 with TF-IDF search: ('1700', '1936', '1235', '2018', '849')\n"
     ]
    }
   ],
   "source": [
    "\n",
    "print('top-5 docs for index1 with BOW search:', list(zip(*test_bow_1[:5]))[0])\n",
    "print('top-5 docs for index2 with BOW search:', list(zip(*test_bow_2[:5]))[0])\n",
    "print('top-5 docs for index1 with TF-IDF search:', list(zip(*test_tfidf_1[:5]))[0])\n",
    "print('top-5 docs for index2 with TF-IDF search:', list(zip(*test_tfidf_2[:5]))[0])\n",
    "\n"
   ]
  },
  {
   "cell_type": "markdown",
   "metadata": {
    "deletable": false,
    "editable": false,
    "nbgrader": {
     "cell_type": "markdown",
     "checksum": "cdffc83f0eaea937cf64a212e7e9af8d",
     "grade": false,
     "grade_id": "cell-f5d923459ba21733",
     "locked": true,
     "schema_version": 3,
     "solution": false,
     "task": false
    }
   },
   "source": [
    "--- \n",
    "\n",
    "### Section 3.3: Query Likelihood Model (35 points) <a class=\"anchor\" id=\"qlm\"></a>\n",
    "\n",
    "In this section, you will implement a simple query likelihood model. \n",
    "\n",
    "\n",
    "#### 3.3.1 Naive QL (15 points)\n",
    "\n",
    "First, let us implement a naive version of a QL model, assuming a multinomial unigram language model (with a uniform prior over the documents). \n",
    "\n"
   ]
  },
  {
   "cell_type": "code",
   "execution_count": 36,
   "metadata": {
    "deletable": false,
    "editable": false,
    "nbgrader": {
     "cell_type": "code",
     "checksum": "b7ae2b7d818b428b4638c1c9206d2aca",
     "grade": false,
     "grade_id": "cell-98505778f7b68e7f",
     "locked": true,
     "schema_version": 3,
     "solution": false,
     "task": false
    }
   },
   "outputs": [],
   "source": [
    "#### Document length for normalization\n",
    "\n",
    "def doc_lengths(documents):\n",
    "    doc_lengths = {doc_id:len(doc) for (doc_id, doc) in documents}\n",
    "    return doc_lengths\n",
    "\n",
    "doc_lengths_1 = doc_lengths(doc_repr_1)\n",
    "doc_lengths_2 = doc_lengths(doc_repr_2)\n",
    "\n",
    "def get_doc_lengths(index_set):\n",
    "    assert index_set in {1, 2}\n",
    "    return {\n",
    "        1: doc_lengths_1,\n",
    "        2: doc_lengths_2\n",
    "    }[index_set]\n",
    "####"
   ]
  },
  {
   "cell_type": "code",
   "execution_count": 37,
   "metadata": {
    "deletable": false,
    "nbgrader": {
     "cell_type": "code",
     "checksum": "cedd08303a914243fefdb6b876977ca1",
     "grade": false,
     "grade_id": "cell-8bcf2b804d636c2e",
     "locked": false,
     "schema_version": 3,
     "solution": true,
     "task": false
    }
   },
   "outputs": [],
   "source": [
    "# Comment: Helper function created to avoid code duplication\n",
    "def ql_scores_per_doc(query, index, doc_lengths, smoothing=0):\n",
    "    \"\"\"\n",
    "    Calculate the QL score per document for the given **preprocessed** query and index.\n",
    "    If `smoothing` is set to a value greater than 0, Jelinek-Mercer smoothing is applied.\n",
    "    Input:\n",
    "        query - a **processed** query\n",
    "        index - the index to use\n",
    "        doc_lengths - a dict containing (doc_id, doc_length) pairs\n",
    "        smoothing - the JM smoothing value to use; falls back to the naive approach when zero\n",
    "    Output: a dict containing (document_id, score) pairs\n",
    "    \"\"\"\n",
    "    assert smoothing >= 0, \"The JM smoothing parameter cannot be negative!\"\n",
    "\n",
    "    # Create a dict with the following mapping: doc_id -> scores_list\n",
    "    doc_dict = {doc_id:[] for doc_id in doc_lengths.keys()}\n",
    "\n",
    "    # Keep track of word count (needed for JM smoothing)\n",
    "    word_count = sum(doc_lengths.values())\n",
    "\n",
    "    \"\"\"\n",
    "    Unigram Language Model, so we assume the following:\n",
    "    - p(Q | D) = \\prod_i p(q_i | D), where Q = { q_i } for i=1..N\n",
    "    \"\"\"\n",
    "    for query_token in query:\n",
    "#         if query_token not in index:\n",
    "#             continue\n",
    "        if not index[query_token]:\n",
    "            continue\n",
    "\n",
    "        # Find the documents that the token appears in\n",
    "        token_index = dict(index[query_token])\n",
    "\n",
    "        # Calculate the total amount of times the token appears\n",
    "        token_count = sum(token_index.values())\n",
    "\n",
    "        # Calculate the token's LM score for the entire collection (needed for JM smoothing)\n",
    "        col_lm_score = token_count / word_count\n",
    "\n",
    "        for doc_id in doc_lengths.keys():\n",
    "            # If the token is present in the document, calculate the LM score\n",
    "            lm_score = 0. if doc_id not in token_index.keys() \\\n",
    "                else token_index[doc_id] / doc_lengths[doc_id]\n",
    "\n",
    "            \"\"\"\n",
    "            In the naive approach, we define the LM probability for each query token as:\n",
    "            - p(q_i | D) = freq_{q_i, D} / len(D)\n",
    "\n",
    "            When applying the Jelinek-Mercer smoothing, the estimate for each token's probability becomes:\n",
    "            - p(q_i | D) = (1 - λ) freq_{q_i, D} / len(D) + λ freq_{q_i} / [ sum_{d_i in D} len(d_i) ]\n",
    "\n",
    "            The two formulas can be combined when setting smoothing=0 for the naive approach.\n",
    "            \"\"\"\n",
    "            score = (1 - smoothing) * lm_score + smoothing * col_lm_score\n",
    "            doc_dict[doc_id] += [score]\n",
    "\n",
    "    return doc_dict\n",
    "\n",
    "# TODO: Implement this! (15 points)\n",
    "def naive_ql_search(query, index_set):\n",
    "    \"\"\"\n",
    "        Perform a search over all documents with the given query using a naive QL model. \n",
    "        Note #1: You have to use the `get_index` (and get_doc_lengths) function created in the previous cells\n",
    "        Input: \n",
    "            query - a (unprocessed) query\n",
    "            index_set - the index to use\n",
    "        Output: a list of (document_id, score), sorted in descending relevance to the given query \n",
    "    \"\"\"\n",
    "    index = get_index(index_set)\n",
    "    doc_lengths = get_doc_lengths(index_set)\n",
    "    processed_query = preprocess_query(query, index_set)\n",
    "    # YOUR CODE HERE\n",
    "\n",
    "    # Calculate the LM probabilities using the helper function defined previously\n",
    "    ql_scores = ql_scores_per_doc(processed_query, index, doc_lengths, smoothing=0)\n",
    "\n",
    "    # Accumulate scores by multiplying them together\n",
    "    for (doc_id, scores) in ql_scores.items():\n",
    "        ql_scores[doc_id] = np.prod(scores)\n",
    "\n",
    "    # Sort final list by descending score value\n",
    "    return sorted(ql_scores.items(), key=(lambda p: p[1]), reverse=True)"
   ]
  },
  {
   "cell_type": "code",
   "execution_count": 38,
   "metadata": {
    "deletable": false,
    "editable": false,
    "nbgrader": {
     "cell_type": "code",
     "checksum": "b550d15bdad28354c336020a00c33d56",
     "grade": true,
     "grade_id": "cell-5a83ac12ecde8578",
     "locked": true,
     "points": 3,
     "schema_version": 3,
     "solution": false,
     "task": false
    }
   },
   "outputs": [
    {
     "name": "stdout",
     "output_type": "stream",
     "text": [
      "Naive QL Results:\n",
      "Rank 0(0.2): A Report Writer For COBOL...\n",
      "Rank 1(0.2): A CRT Report Generating System...\n",
      "Rank 2(0.17): Preliminary Report-International Algebraic Languag...\n",
      "Rank 3(0.17): Supplement to the ALGOL 60 Report...\n",
      "Rank 4(0.14): ALGOL Sub-Committee Report - Extensions...\n"
     ]
    }
   ],
   "source": [
    "#### Function check\n",
    "test_naiveql = naive_ql_search(\"report\", index_set=1)[:5]\n",
    "print(f\"Naive QL Results:\")\n",
    "print_results(test_naiveql)\n",
    "####"
   ]
  },
  {
   "cell_type": "code",
   "execution_count": 39,
   "metadata": {
    "deletable": false,
    "editable": false,
    "nbgrader": {
     "cell_type": "code",
     "checksum": "799df1d81c63fe90edbb6c218fc707fb",
     "grade": true,
     "grade_id": "cell-80f4bf2137f997bb",
     "locked": true,
     "points": 2,
     "schema_version": 3,
     "solution": false,
     "task": false
    }
   },
   "outputs": [],
   "source": [
    "#### Please do not change this. This cell is used for grading."
   ]
  },
  {
   "cell_type": "code",
   "execution_count": 40,
   "metadata": {
    "deletable": false,
    "editable": false,
    "nbgrader": {
     "cell_type": "code",
     "checksum": "875a4a517d27e20625d41783cebec118",
     "grade": true,
     "grade_id": "cell-5ce2993458a8ce51",
     "locked": true,
     "points": 3,
     "schema_version": 3,
     "solution": false,
     "task": false
    }
   },
   "outputs": [],
   "source": [
    "#### Please do not change this. This cell is used for grading."
   ]
  },
  {
   "cell_type": "code",
   "execution_count": 41,
   "metadata": {
    "deletable": false,
    "editable": false,
    "nbgrader": {
     "cell_type": "code",
     "checksum": "d5c4e1c3852e71a46f32825b122f1b71",
     "grade": true,
     "grade_id": "cell-7753bdb54e292f3d",
     "locked": true,
     "points": 3,
     "schema_version": 3,
     "solution": false,
     "task": false
    }
   },
   "outputs": [],
   "source": [
    "#### Please do not change this. This cell is used for grading."
   ]
  },
  {
   "cell_type": "code",
   "execution_count": 42,
   "metadata": {
    "deletable": false,
    "editable": false,
    "nbgrader": {
     "cell_type": "code",
     "checksum": "c4d4332d4356e89ce0240f6b80e1899a",
     "grade": true,
     "grade_id": "cell-54e476e2f96e64bb",
     "locked": true,
     "points": 4,
     "schema_version": 3,
     "solution": false,
     "task": false
    }
   },
   "outputs": [],
   "source": [
    "#### Please do not change this. This cell is used for grading."
   ]
  },
  {
   "cell_type": "markdown",
   "metadata": {
    "deletable": false,
    "editable": false,
    "nbgrader": {
     "cell_type": "markdown",
     "checksum": "8d739dc91a22bd48897f603885f95a74",
     "grade": false,
     "grade_id": "cell-5414dfd69dab8b94",
     "locked": true,
     "schema_version": 3,
     "solution": false,
     "task": false
    }
   },
   "source": [
    "---\n",
    "#### 3.3.2 QL (20 points)\n",
    "Now, let's implement a QL model that handles the issues with the naive version. In particular, you will implement a QL model with Jelinek-Mercer Smoothing. That means an interpolated score is computed per word - one term is the same as the previous naive version, and the second term comes from a unigram language model. In addition, you should accumulate the scores by summing the **log** (smoothed) probability which leads to better numerical stability."
   ]
  },
  {
   "cell_type": "code",
   "execution_count": 43,
   "metadata": {
    "deletable": false,
    "nbgrader": {
     "cell_type": "code",
     "checksum": "b8c6abf937ad333e628f1db891f2e29e",
     "grade": false,
     "grade_id": "cell-bb1f506409771257",
     "locked": false,
     "schema_version": 3,
     "solution": true,
     "task": false
    }
   },
   "outputs": [],
   "source": [
    "# TODO: Implement this! (20 points)\n",
    "def ql_search(query, index_set):\n",
    "    \"\"\"\n",
    "        Perform a search over all documents with the given query using a QL model \n",
    "        with Jelinek-Mercer Smoothing (set smoothing=0.1). \n",
    "        \n",
    "        \n",
    "        Note #1: You have to use the `get_index` (and get_doc_lengths) function created in the previous cells\n",
    "        Note #2: You might have to create some variables beforehand and use them in this function\n",
    "        \n",
    "        \n",
    "        Input: \n",
    "            query - a (unprocessed) query\n",
    "            index_set - the index to use\n",
    "        Output: a list of (document_id, score), sorted in descending relevance to the given query \n",
    "    \"\"\"\n",
    "    index = get_index(index_set)\n",
    "    doc_lengths = get_doc_lengths(index_set)\n",
    "    processed_query = preprocess_query(query, index_set)\n",
    "    \n",
    "    # YOUR CODE HERE\n",
    "\n",
    "    # Calculate the LM probabilities using the helper function defined previously\n",
    "    ql_scores = ql_scores_per_doc(processed_query, index, doc_lengths, smoothing=0.1)\n",
    "\n",
    "    # Accumulate scores by applying the sum-of-logs trick\n",
    "    for (doc_id, scores) in ql_scores.items():\n",
    "        ql_scores[doc_id] = np.log(scores).sum()\n",
    "\n",
    "    # Sort final list by descending score value\n",
    "    return sorted(ql_scores.items(), key=(lambda p: p[1]), reverse=True)"
   ]
  },
  {
   "cell_type": "code",
   "execution_count": 44,
   "metadata": {
    "deletable": false,
    "editable": false,
    "nbgrader": {
     "cell_type": "code",
     "checksum": "0b12a7f3355193a257fd9f5f69a66562",
     "grade": true,
     "grade_id": "cell-850e9d6369bcec32",
     "locked": true,
     "points": 4,
     "schema_version": 3,
     "solution": false,
     "task": false
    }
   },
   "outputs": [
    {
     "name": "stdout",
     "output_type": "stream",
     "text": [
      "Rank 0(-1.7): A Report Writer For COBOL...\n",
      "Rank 1(-1.7): A CRT Report Generating System...\n",
      "Rank 2(-1.9): Preliminary Report-International Algebraic Languag...\n",
      "Rank 3(-1.9): Supplement to the ALGOL 60 Report...\n",
      "Rank 4(-2.1): ALGOL Sub-Committee Report - Extensions...\n",
      "\n",
      "Rank 0(-1.7e+01): A Report Writer For COBOL...\n",
      "Rank 1(-1.7e+01): A CRT Report Generating System...\n",
      "Rank 2(-1.9e+01): Preliminary Report-International Algebraic Languag...\n",
      "Rank 3(-1.9e+01): Supplement to the ALGOL 60 Report...\n",
      "Rank 4(-2.1e+01): ALGOL Sub-Committee Report - Extensions...\n"
     ]
    }
   ],
   "source": [
    "#### Function check\n",
    "test_ql_results = ql_search(\"report\", index_set=1)[:5]\n",
    "print_results(test_ql_results)\n",
    "print()\n",
    "test_ql_results_long = ql_search(\"report \" * 10, index_set=1)[:5]\n",
    "print_results(test_ql_results_long)\n",
    "####"
   ]
  },
  {
   "cell_type": "code",
   "execution_count": 45,
   "metadata": {
    "deletable": false,
    "editable": false,
    "nbgrader": {
     "cell_type": "code",
     "checksum": "e40be645140389c115849856145f5b59",
     "grade": true,
     "grade_id": "cell-958cdcf6fd6899b7",
     "locked": true,
     "points": 3,
     "schema_version": 3,
     "solution": false,
     "task": false
    }
   },
   "outputs": [],
   "source": [
    "#### Please do not change this. This cell is used for grading."
   ]
  },
  {
   "cell_type": "code",
   "execution_count": 46,
   "metadata": {
    "deletable": false,
    "editable": false,
    "nbgrader": {
     "cell_type": "code",
     "checksum": "41d4aff001df17e7963ba79b45810b30",
     "grade": true,
     "grade_id": "cell-384dc23a0c251f6e",
     "locked": true,
     "points": 4,
     "schema_version": 3,
     "solution": false,
     "task": false
    }
   },
   "outputs": [],
   "source": [
    "#### Please do not change this. This cell is used for grading."
   ]
  },
  {
   "cell_type": "code",
   "execution_count": 47,
   "metadata": {
    "deletable": false,
    "editable": false,
    "nbgrader": {
     "cell_type": "code",
     "checksum": "893e8c5a073abc8ebb763d267b91bc02",
     "grade": true,
     "grade_id": "cell-7218966cba5097cc",
     "locked": true,
     "points": 4,
     "schema_version": 3,
     "solution": false,
     "task": false
    }
   },
   "outputs": [],
   "source": [
    "#### Please do not change this. This cell is used for grading."
   ]
  },
  {
   "cell_type": "code",
   "execution_count": 48,
   "metadata": {
    "deletable": false,
    "editable": false,
    "nbgrader": {
     "cell_type": "code",
     "checksum": "f99cb6f8b1f5830aaed8f06712ff846e",
     "grade": true,
     "grade_id": "cell-481ab073259ae53f",
     "locked": true,
     "points": 5,
     "schema_version": 3,
     "solution": false,
     "task": false
    }
   },
   "outputs": [],
   "source": [
    "#### Please do not change this. This cell is used for grading."
   ]
  },
  {
   "cell_type": "markdown",
   "metadata": {
    "deletable": false,
    "editable": false,
    "nbgrader": {
     "cell_type": "markdown",
     "checksum": "c02f14705d679579b1aa9f78f54779d5",
     "grade": false,
     "grade_id": "cell-f44088bfdac1dc90",
     "locked": true,
     "schema_version": 3,
     "solution": false,
     "task": false
    }
   },
   "source": [
    "--- \n",
    "\n",
    "### Section 3.4: BM25 (20 points) <a class=\"anchor\" id=\"bm25\"></a>\n",
    "\n",
    "In this section, we will implement the BM25 scoring function. \n"
   ]
  },
  {
   "cell_type": "code",
   "execution_count": 49,
   "metadata": {
    "deletable": false,
    "nbgrader": {
     "cell_type": "code",
     "checksum": "e57efe06ea92af1c83784a42eb3d86e0",
     "grade": false,
     "grade_id": "cell-15640fc9b5d00a3c",
     "locked": false,
     "schema_version": 3,
     "solution": true,
     "task": false
    }
   },
   "outputs": [],
   "source": [
    "# TODO: Implement this! (20 points)\n",
    "def bm25_search(query, index_set):\n",
    "    \"\"\"\n",
    "        Perform a search over all documents with the given query using BM25. Use k_1 = 1.5 and b = 0.75\n",
    "        Note #1: You have to use the `get_index` (and `get_doc_lengths`) function created in the previous cells\n",
    "        Note #2: You might have to create some variables beforehand and use them in this function\n",
    "        \n",
    "        Input: \n",
    "            query - a (unprocessed) query\n",
    "            index_set - the index to use\n",
    "        Output: a list of (document_id, score), sorted in descending relevance to the given query \n",
    "    \"\"\"\n",
    "    \n",
    "    index = get_index(index_set)\n",
    "    df = get_df(index_set)\n",
    "    doc_lengths = get_doc_lengths(index_set)\n",
    "    processed_query = preprocess_query(query, index_set)\n",
    "    \n",
    "    # YOUR CODE HERE    \n",
    "    k_1 = 1.5\n",
    "    b = 0.75\n",
    "\n",
    "    N = len(doc_lengths.keys())\n",
    "    avg_doc_len = np.mean(list(doc_lengths.values()))\n",
    "\n",
    "    scores = defaultdict(float)\n",
    "\n",
    "    for token in processed_query:\n",
    "        if not index[token]:\n",
    "            continue\n",
    "\n",
    "        token_index = dict(index[token])\n",
    "        idf = np.log( N / df[token] )\n",
    "\n",
    "        for doc_id, doc_len in doc_lengths.items():\n",
    "            if doc_id not in token_index:\n",
    "                continue\n",
    "\n",
    "            tf = token_index[doc_id]\n",
    "            num = (k_1 + 1) * tf\n",
    "            denom = k_1 * ((1 - b) + b * (doc_len / avg_doc_len)) + tf\n",
    "            scores[doc_id] += idf * ( num / denom )\n",
    "\n",
    "    return sorted(scores.items(), key=(lambda p: p[1]), reverse=True)"
   ]
  },
  {
   "cell_type": "code",
   "execution_count": 50,
   "metadata": {
    "deletable": false,
    "editable": false,
    "nbgrader": {
     "cell_type": "code",
     "checksum": "4be9de5d4e94637960d83725422bea6c",
     "grade": true,
     "grade_id": "cell-d10536bca72c74b1",
     "locked": true,
     "points": 3,
     "schema_version": 3,
     "solution": false,
     "task": false
    }
   },
   "outputs": [
    {
     "name": "stdout",
     "output_type": "stream",
     "text": [
      "Rank 0(6.7): A Report Writer For COBOL...\n",
      "Rank 1(6.7): A CRT Report Generating System...\n",
      "Rank 2(6.6): Preliminary Report-International Algebraic Languag...\n",
      "Rank 3(6.6): Supplement to the ALGOL 60 Report...\n",
      "Rank 4(6.5): ALGOL Sub-Committee Report - Extensions...\n"
     ]
    }
   ],
   "source": [
    "#### Function check\n",
    "test_bm25_results = bm25_search(\"report\", index_set=1)[:5]\n",
    "print_results(test_bm25_results)\n",
    "####"
   ]
  },
  {
   "cell_type": "code",
   "execution_count": 51,
   "metadata": {
    "deletable": false,
    "editable": false,
    "nbgrader": {
     "cell_type": "code",
     "checksum": "31b550d6a46ae4f8ede88788799ac2b9",
     "grade": true,
     "grade_id": "cell-60f6ec5052712d79",
     "locked": true,
     "points": 5,
     "schema_version": 3,
     "solution": false,
     "task": false
    }
   },
   "outputs": [],
   "source": [
    "#### Please do not change this. This cell is used for grading."
   ]
  },
  {
   "cell_type": "code",
   "execution_count": 52,
   "metadata": {
    "deletable": false,
    "editable": false,
    "nbgrader": {
     "cell_type": "code",
     "checksum": "3da2ec16bfe781916e71755d65aa2983",
     "grade": true,
     "grade_id": "cell-5d17524043a5abcc",
     "locked": true,
     "points": 5,
     "schema_version": 3,
     "solution": false,
     "task": false
    }
   },
   "outputs": [],
   "source": [
    "#### Please do not change this. This cell is used for grading."
   ]
  },
  {
   "cell_type": "code",
   "execution_count": 53,
   "metadata": {
    "deletable": false,
    "editable": false,
    "nbgrader": {
     "cell_type": "code",
     "checksum": "e7b563d54fa84c20909c0ae107010541",
     "grade": true,
     "grade_id": "cell-ff8e704eda1184e3",
     "locked": true,
     "points": 3,
     "schema_version": 3,
     "solution": false,
     "task": false
    }
   },
   "outputs": [],
   "source": [
    "#### Please do not change this. This cell is used for grading."
   ]
  },
  {
   "cell_type": "code",
   "execution_count": 54,
   "metadata": {
    "deletable": false,
    "editable": false,
    "nbgrader": {
     "cell_type": "code",
     "checksum": "b013f90974b396630a8831d6f1d7e5f7",
     "grade": true,
     "grade_id": "cell-a52310500a2543cb",
     "locked": true,
     "points": 4,
     "schema_version": 3,
     "solution": false,
     "task": false
    }
   },
   "outputs": [],
   "source": [
    "#### Please do not change this. This cell is used for grading."
   ]
  },
  {
   "cell_type": "markdown",
   "metadata": {
    "deletable": false,
    "editable": false,
    "nbgrader": {
     "cell_type": "markdown",
     "checksum": "8fcf67cb7d5e8b26cb9bf1f0aa42c847",
     "grade": false,
     "grade_id": "cell-8b2b412c81d62f2d",
     "locked": true,
     "schema_version": 3,
     "solution": false,
     "task": false
    }
   },
   "source": [
    "\n",
    "---\n",
    "\n",
    "### 3.5. Test Your Functions\n",
    "\n",
    "The widget below allows you to play with the search functions you've written so far. Use this to test your search functions and ensure that they work as expected."
   ]
  },
  {
   "cell_type": "code",
   "execution_count": 55,
   "metadata": {
    "deletable": false,
    "editable": false,
    "nbgrader": {
     "cell_type": "code",
     "checksum": "dfeb204b390acc0794dbdcac92b0cf2c",
     "grade": false,
     "grade_id": "cell-c9c2bb76354e8d97",
     "locked": true,
     "schema_version": 3,
     "solution": false,
     "task": false
    }
   },
   "outputs": [],
   "source": [
    "#### Highlighter function\n",
    "# class for results\n",
    "ResultRow = namedtuple(\"ResultRow\", [\"doc_id\", \"snippet\", \"score\"])\n",
    "# doc_id -> doc\n",
    "docs_by_id = dict((d[0], d[1]) for d in docs)\n",
    "\n",
    "def highlight_text(document, query, tol=17):\n",
    "    import re\n",
    "    tokens = tokenize(query)\n",
    "    regex = \"|\".join(f\"(\\\\b{t}\\\\b)\" for t in tokens)\n",
    "    regex = re.compile(regex, flags=re.IGNORECASE)\n",
    "    output = \"\"\n",
    "    i = 0\n",
    "    for m in regex.finditer(document):\n",
    "        start_idx = max(0, m.start() - tol)\n",
    "        end_idx = min(len(document), m.end() + tol)\n",
    "        output += \"\".join([\"...\",\n",
    "                        document[start_idx:m.start()],\n",
    "                        \"<strong>\",\n",
    "                        document[m.start():m.end()],\n",
    "                        \"</strong>\",\n",
    "                        document[m.end():end_idx],\n",
    "                        \"...\"])\n",
    "    return output.replace(\"\\n\", \" \")\n",
    "\n",
    "\n",
    "def make_results(query, search_fn, index_set):\n",
    "    results = []\n",
    "    for doc_id, score in search_fn(query, index_set):\n",
    "        highlight = highlight_text(docs_by_id[doc_id], query)\n",
    "        if len(highlight.strip()) == 0:\n",
    "            highlight = docs_by_id[doc_id]\n",
    "        results.append(ResultRow(doc_id, highlight, score))\n",
    "    return results\n",
    "####"
   ]
  },
  {
   "cell_type": "code",
   "execution_count": 56,
   "metadata": {},
   "outputs": [
    {
     "data": {
      "application/vnd.jupyter.widget-view+json": {
       "model_id": "bdb92c3148e049beadbf1794569df196",
       "version_major": 2,
       "version_minor": 0
      },
      "text/plain": [
       "Text(value='', description='Search Bar')"
      ]
     },
     "metadata": {},
     "output_type": "display_data"
    }
   ],
   "source": [
    "# TODO: Set this to the function you want to test!\n",
    "# this function should take in a query (string)\n",
    "# and return a sorted list of (doc_id, score) \n",
    "# with the most relevant document in the first position\n",
    "search_fn = bm25_search\n",
    "index_set = 1\n",
    "\n",
    "text = widgets.Text(description=\"Search Bar\", width=200)\n",
    "display(text)\n",
    "\n",
    "def handle_submit(sender):\n",
    "    print(f\"Searching for: '{sender.value}'\")\n",
    "    \n",
    "    results = make_results(sender.value, search_fn, index_set)\n",
    "    \n",
    "    # display only the top 5\n",
    "    results = results[:5]\n",
    "    \n",
    "    body = \"\"\n",
    "    for idx, r in enumerate(results):\n",
    "        body += f\"<li>Document #{r.doc_id}({r.score}): {r.snippet}</li>\"\n",
    "    display(HTML(f\"<ul>{body}</ul>\"))\n",
    "    \n",
    "\n",
    "text.on_submit(handle_submit)"
   ]
  },
  {
   "cell_type": "markdown",
   "metadata": {
    "deletable": false,
    "editable": false,
    "nbgrader": {
     "cell_type": "markdown",
     "checksum": "019b1ff878dc6339dd068e2d48d19904",
     "grade": false,
     "grade_id": "cell-8d46fe8e4f3d8cdb",
     "locked": true,
     "schema_version": 3,
     "solution": false,
     "task": false
    }
   },
   "source": [
    "---\n",
    "\n",
    "## Section 4: Evaluation (40 points) <a class=\"anchor\" id=\"evaluation\"></a>\n",
    "\n",
    "[Back to Part 1](#part1)\n",
    "\n",
    "In order to analyze the effectiveness of retrieval algorithms, we first have to learn how to evaluate such a system. In particular, we will work with offline evaluation metrics. These metrics are computed on a dataset with known relevance judgements.\n",
    "\n",
    "Implement the following evaluation metrics. \n",
    "\n",
    "1. Precision (7 points)\n",
    "2. Recall (7 points)\n",
    "3. Mean Average Precision (13 points)\n",
    "4. Expected Reciprocal Rank (13 points)"
   ]
  },
  {
   "cell_type": "markdown",
   "metadata": {
    "deletable": false,
    "editable": false,
    "nbgrader": {
     "cell_type": "markdown",
     "checksum": "e46f54c7f81d88bbc950b0fae14c4ca5",
     "grade": false,
     "grade_id": "cell-3419fd3bc663d7cc",
     "locked": true,
     "schema_version": 3,
     "solution": false,
     "task": false
    }
   },
   "source": [
    "---\n",
    "### 4.1 Read relevance labels\n",
    "\n",
    "Let's take a look at the `qrels.text` file, which contains the ground truth relevance scores. The relevance labels for CACM are binary - either 0 or 1. \n"
   ]
  },
  {
   "cell_type": "code",
   "execution_count": 57,
   "metadata": {
    "deletable": false,
    "editable": false,
    "nbgrader": {
     "cell_type": "code",
     "checksum": "6c11025f5a222796f2882c73c1634799",
     "grade": false,
     "grade_id": "cell-6b738366059dde9e",
     "locked": true,
     "schema_version": 3,
     "solution": false,
     "task": false
    }
   },
   "outputs": [
    {
     "name": "stderr",
     "output_type": "stream",
     "text": [
      "'head' is not recognized as an internal or external command,\n",
      "operable program or batch file.\n"
     ]
    }
   ],
   "source": [
    "!head ./datasets/qrels.text"
   ]
  },
  {
   "cell_type": "markdown",
   "metadata": {
    "deletable": false,
    "editable": false,
    "nbgrader": {
     "cell_type": "markdown",
     "checksum": "7ce95245c1597183320d7254afde5c8e",
     "grade": false,
     "grade_id": "cell-10e16bff2753ffbb",
     "locked": true,
     "schema_version": 3,
     "solution": false,
     "task": false
    }
   },
   "source": [
    "---\n",
    "\n",
    "The first column is the query_id and the second column is the document_id. We can safely ignore the 3rd and 4th columns."
   ]
  },
  {
   "cell_type": "code",
   "execution_count": 58,
   "metadata": {
    "deletable": false,
    "nbgrader": {
     "cell_type": "code",
     "checksum": "000c6d59dce08dba0ba1e8d691dbbc2e",
     "grade": false,
     "grade_id": "cell-ee5253a4ef602fce",
     "locked": false,
     "schema_version": 3,
     "solution": true,
     "task": false
    }
   },
   "outputs": [],
   "source": [
    "# Code posted on piazza\n",
    "def read_qrels(root_folder = \"./datasets/\"):\n",
    "    \"\"\"\n",
    "        Reads the qrels.text file. \n",
    "        Output: A dictionary: query_id -> [list of relevant documents]\n",
    "    \"\"\"\n",
    "    with open(os.path.join(root_folder, \"qrels.text\")) as reader:\n",
    "        lines = reader.readlines()\n",
    "    \n",
    "    from collections import defaultdict\n",
    "    relevant_docs = defaultdict(set)\n",
    "    for line in lines:\n",
    "        query_id, doc_id, _, _ = line.split()\n",
    "        relevant_docs[str(int(query_id))].add(doc_id)\n",
    "    return relevant_docs"
   ]
  },
  {
   "cell_type": "code",
   "execution_count": 59,
   "metadata": {
    "deletable": false,
    "editable": false,
    "nbgrader": {
     "cell_type": "code",
     "checksum": "d60caeba85c2a97d2211184a5ae91fd1",
     "grade": false,
     "grade_id": "cell-72215605fbe24f65",
     "locked": true,
     "schema_version": 3,
     "solution": false,
     "task": false
    }
   },
   "outputs": [],
   "source": [
    "#### Function check\n",
    "qrels = read_qrels()\n",
    "\n",
    "assert len(qrels) == 52, \"There should be 52 queries with relevance judgements\"\n",
    "assert sum(len(j) for j in qrels.values()) == 796, \"There should be a total of 796 Relevance Judgements\"\n",
    "\n",
    "assert np.min(np.array([len(j) for j in qrels.values()])) == 1\n",
    "assert np.max(np.array([len(j) for j in qrels.values()])) == 51\n",
    "\n",
    "####"
   ]
  },
  {
   "cell_type": "markdown",
   "metadata": {
    "deletable": false,
    "editable": false,
    "nbgrader": {
     "cell_type": "markdown",
     "checksum": "6c9e7428a52e291a2cdf92a379730d4c",
     "grade": false,
     "grade_id": "cell-176a6fb2939d0420",
     "locked": true,
     "schema_version": 3,
     "solution": false,
     "task": false
    }
   },
   "source": [
    "---\n",
    "**Note:** For a given query `query_id`, you can assume that documents *not* in `qrels[query_id]` are not relevant to `query_id`. \n"
   ]
  },
  {
   "cell_type": "markdown",
   "metadata": {
    "deletable": false,
    "editable": false,
    "nbgrader": {
     "cell_type": "markdown",
     "checksum": "b26a818c7b4f7ad490e00b35ea0edd69",
     "grade": false,
     "grade_id": "cell-bd8341b72cdd89bb",
     "locked": true,
     "schema_version": 3,
     "solution": false,
     "task": false
    }
   },
   "source": [
    "---\n",
    "### 4.2 Precision (7 points)\n",
    "Implement the `precision@k` metric:"
   ]
  },
  {
   "cell_type": "code",
   "execution_count": 60,
   "metadata": {
    "deletable": false,
    "nbgrader": {
     "cell_type": "code",
     "checksum": "43dea1979ebdec24ffcfeff71c670433",
     "grade": false,
     "grade_id": "cell-494bd0cce108ed67",
     "locked": false,
     "schema_version": 3,
     "solution": true,
     "task": false
    }
   },
   "outputs": [],
   "source": [
    "# TODO: Implement this! (7 points)\n",
    "def precision_k(results, relevant_docs, k):\n",
    "    \"\"\"\n",
    "        Compute Precision@K\n",
    "        Input: \n",
    "            results: A sorted list of 2-tuples (document_id, score), \n",
    "                    with the most relevant document in the first position\n",
    "            relevant_docs: A set of relevant documents. \n",
    "            k: the cut-off\n",
    "        Output: Precision@K\n",
    "    \"\"\"\n",
    "    if k > len(results):\n",
    "        k = len(results)\n",
    "    # YOUR CODE HERE\n",
    "    correct = 0\n",
    "    for doc in results[:k]:\n",
    "        doc_id = doc[0]\n",
    "        if doc_id in relevant_docs:\n",
    "            correct += 1\n",
    "            \n",
    "    return correct/k"
   ]
  },
  {
   "cell_type": "code",
   "execution_count": 61,
   "metadata": {
    "deletable": false,
    "editable": false,
    "nbgrader": {
     "cell_type": "code",
     "checksum": "9222e35582b1840ffb60fd02fb0b60c3",
     "grade": true,
     "grade_id": "cell-e7ff0d91c319ca64",
     "locked": true,
     "points": 7,
     "schema_version": 3,
     "solution": false,
     "task": false
    }
   },
   "outputs": [
    {
     "name": "stdout",
     "output_type": "stream",
     "text": [
      "query: What articles exist which deal with TSS (Time Sharing System), an\n",
      "operating system for IBM computers?\n",
      "precision@10 = 0.2\n"
     ]
    }
   ],
   "source": [
    "\n",
    "#### Function check\n",
    "qid = queries[0][0]\n",
    "qtext = queries[0][1]\n",
    "print(f'query:{qtext}')\n",
    "results = bm25_search(qtext, 2)\n",
    "precision = precision_k(results, qrels[qid], 10)\n",
    "print(f'precision@10 = {precision}')\n",
    "####"
   ]
  },
  {
   "cell_type": "markdown",
   "metadata": {
    "deletable": false,
    "editable": false,
    "nbgrader": {
     "cell_type": "markdown",
     "checksum": "8fd3b3998197c7097a40348500affb68",
     "grade": false,
     "grade_id": "cell-afd95f865bc7191e",
     "locked": true,
     "schema_version": 3,
     "solution": false,
     "task": false
    }
   },
   "source": [
    "---\n",
    "### 4.3 Recall (7 points)\n",
    "Implement the `recall@k` metric:"
   ]
  },
  {
   "cell_type": "code",
   "execution_count": 62,
   "metadata": {
    "deletable": false,
    "nbgrader": {
     "cell_type": "code",
     "checksum": "b2020e5741ae03b3fe35817ed8f4ccaa",
     "grade": false,
     "grade_id": "cell-c323fc8c3f8a7cf8",
     "locked": false,
     "schema_version": 3,
     "solution": true,
     "task": false
    }
   },
   "outputs": [],
   "source": [
    "# TODO: Implement this! (7 points)\n",
    "def recall_k(results, relevant_docs, k):\n",
    "    \"\"\"\n",
    "        Compute Recall@K\n",
    "        Input: \n",
    "            results: A sorted list of 2-tuples (document_id, score), with the most relevant document in the first position\n",
    "            relevant_docs: A set of relevant documents. \n",
    "            k: the cut-off\n",
    "        Output: Recall@K\n",
    "    \"\"\"\n",
    "    # YOUR CODE HERE\n",
    "    if k > len(results):\n",
    "        k = len(results)\n",
    "    # YOUR CODE HERE\n",
    "    correct = 0\n",
    "    for doc in results[:k]:\n",
    "        doc_id = doc[0]\n",
    "        if doc_id in relevant_docs:\n",
    "            correct += 1\n",
    "            \n",
    "    return correct/len(relevant_docs)"
   ]
  },
  {
   "cell_type": "code",
   "execution_count": 63,
   "metadata": {
    "deletable": false,
    "editable": false,
    "nbgrader": {
     "cell_type": "code",
     "checksum": "56b6e0b8522f8b2dffbfb3206b2efa84",
     "grade": true,
     "grade_id": "cell-b25172161aef165c",
     "locked": true,
     "points": 7,
     "schema_version": 3,
     "solution": false,
     "task": false
    }
   },
   "outputs": [
    {
     "name": "stdout",
     "output_type": "stream",
     "text": [
      "query: SETL, Very High Level Languages\n",
      "recall@10 = 0.3157894736842105\n"
     ]
    }
   ],
   "source": [
    "#### Function check\n",
    "qid = queries[10][0]\n",
    "qtext = queries[10][1]\n",
    "print(f'query:{qtext}')\n",
    "results = bm25_search(qtext, 2)\n",
    "recall = recall_k(results, qrels[qid], 10)\n",
    "print(f'recall@10 = {recall}')\n",
    "####"
   ]
  },
  {
   "cell_type": "markdown",
   "metadata": {
    "deletable": false,
    "editable": false,
    "nbgrader": {
     "cell_type": "markdown",
     "checksum": "b3d3c7bd1cd977cd07ef5df7d3fbf159",
     "grade": false,
     "grade_id": "cell-77fd2e7a39a74739",
     "locked": true,
     "schema_version": 3,
     "solution": false,
     "task": false
    }
   },
   "source": [
    "---\n",
    "### 4.4 Mean Average Precision (13 points)\n",
    "Implement the `map` metric:"
   ]
  },
  {
   "cell_type": "code",
   "execution_count": 64,
   "metadata": {
    "deletable": false,
    "nbgrader": {
     "cell_type": "code",
     "checksum": "aae2c62f2ffd76f5b6c004e9519b9f14",
     "grade": false,
     "grade_id": "cell-e50925fa9093a30d",
     "locked": false,
     "schema_version": 3,
     "solution": true,
     "task": false
    }
   },
   "outputs": [],
   "source": [
    "# TODO: Implement this! (12 points)\n",
    "def average_precision(results, relevant_docs):\n",
    "    \"\"\"\n",
    "        Compute Average Precision (for a single query - the results are \n",
    "        averaged across queries to get MAP in the next few cells)\n",
    "        Hint: You can use the recall_k and precision_k functions here!\n",
    "        Input: \n",
    "            results: A sorted list of 2-tuples (document_id, score), with the most \n",
    "                    relevant document in the first position\n",
    "            relevant_docs: A set of relevant documents. \n",
    "        Output: Average Precision\n",
    "    \"\"\"\n",
    "    # YOUR CODE HERE\n",
    "    precisions = []\n",
    "    for k, doc in enumerate(results):\n",
    "        doc_id = doc[0]\n",
    "        if doc_id not in relevant_docs:\n",
    "            continue\n",
    "        \n",
    "        precisions.append( precision_k(results, relevant_docs, k+1) )\n",
    "\n",
    "    if len(precisions) == 0:\n",
    "        return 0.\n",
    "\n",
    "    return np.mean(precisions)"
   ]
  },
  {
   "cell_type": "code",
   "execution_count": 65,
   "metadata": {
    "deletable": false,
    "editable": false,
    "nbgrader": {
     "cell_type": "code",
     "checksum": "3b00e147c2fa146fa59f179b7c9cab75",
     "grade": true,
     "grade_id": "cell-8a1f7ec98571e58b",
     "locked": true,
     "points": 13,
     "schema_version": 3,
     "solution": false,
     "task": false
    }
   },
   "outputs": [
    {
     "name": "stdout",
     "output_type": "stream",
     "text": [
      "query: computational complexity, intractability, class-complete reductions,\n",
      "algorithms and efficiency\n",
      "MAP = 0.1724040411055945\n"
     ]
    }
   ],
   "source": [
    "#### Function check\n",
    "qid = queries[20][0]\n",
    "qtext = queries[20][1]\n",
    "print(f'query:{qtext}')\n",
    "results = bm25_search(qtext, 2)\n",
    "mean_ap = average_precision(results, qrels[qid])\n",
    "print(f'MAP = {mean_ap}')\n",
    "####"
   ]
  },
  {
   "cell_type": "markdown",
   "metadata": {
    "deletable": false,
    "editable": false,
    "nbgrader": {
     "cell_type": "markdown",
     "checksum": "36f85f45ef52d9467ba9a717d6d99ff2",
     "grade": false,
     "grade_id": "cell-1da18f0fe6f6d7be",
     "locked": true,
     "schema_version": 3,
     "solution": false,
     "task": false
    }
   },
   "source": [
    "---\n",
    "### 4.5 Expected Reciprocal Rank (13 points)\n",
    "Implement the `err` metric:"
   ]
  },
  {
   "cell_type": "code",
   "execution_count": 66,
   "metadata": {
    "deletable": false,
    "nbgrader": {
     "cell_type": "code",
     "checksum": "9ac94db728e23ea1f5dc0d509473c6fb",
     "grade": false,
     "grade_id": "cell-64262889f9b267ea",
     "locked": false,
     "schema_version": 3,
     "solution": true,
     "task": false
    }
   },
   "outputs": [],
   "source": [
    "# TODO: Implement this! (12 points)\n",
    "def err(results, relevant_docs):\n",
    "    \"\"\"\n",
    "        Compute the expected reciprocal rank.\n",
    "        Hint: https://dl.acm.org/doi/pdf/10.1145/1645953.1646033?download=true\n",
    "        Input: \n",
    "            results: A sorted list of 2-tuples (document_id, score), with the most \n",
    "                    relevant document in the first position\n",
    "            relevant_docs: A set of relevant documents. \n",
    "        Output: ERR\n",
    "        \n",
    "    \"\"\"\n",
    "    # YOUR CODE HERE\n",
    "    g_max = 1\n",
    "    p = 1\n",
    "    err = 0\n",
    "    for k, doc in enumerate(results):\n",
    "        doc_id = doc[0]\n",
    "        g_k = 1 if doc_id in relevant_docs else 0\n",
    "        r_k = (2**g_k - 1) / 2**g_max\n",
    "        err += p * r_k / (k + 1)\n",
    "        p *= (1 - r_k)            \n",
    "        \n",
    "    return err\n",
    "    "
   ]
  },
  {
   "cell_type": "code",
   "execution_count": 67,
   "metadata": {
    "deletable": false,
    "editable": false,
    "nbgrader": {
     "cell_type": "code",
     "checksum": "b7d201de0990b69d5f38704668665d87",
     "grade": true,
     "grade_id": "cell-071e3970ff1afae4",
     "locked": true,
     "points": 13,
     "schema_version": 3,
     "solution": false,
     "task": false
    }
   },
   "outputs": [
    {
     "name": "stdout",
     "output_type": "stream",
     "text": [
      "query: I'd like to find articles describing the use of singular value decomposition\n",
      "in digital image processing.  Applications include finding approximations\n",
      "to the original image and restoring images that are subject to noise. An\n",
      "article on the subject is H.C. Andrews and C.L. Patterson \"Outer product\n",
      "expansions and their uses in digital image processing\", American Mathematical\n",
      "Monthly, vol. 82.\n",
      "ERR = 0.625\n"
     ]
    }
   ],
   "source": [
    "#### Function check\n",
    "qid = queries[30][0]\n",
    "qtext = queries[30][1]\n",
    "print(f'query:{qtext}')\n",
    "results = bm25_search(qtext, 2)\n",
    "ERR = err(results, qrels[qid])\n",
    "print(f'ERR = {ERR}')\n",
    "####"
   ]
  },
  {
   "cell_type": "markdown",
   "metadata": {
    "deletable": false,
    "editable": false,
    "nbgrader": {
     "cell_type": "markdown",
     "checksum": "5bd94caf77cfa5f34675df758d91002d",
     "grade": false,
     "grade_id": "cell-43709a765f353946",
     "locked": true,
     "schema_version": 3,
     "solution": false,
     "task": false
    }
   },
   "source": [
    "---\n",
    "### 4.6 Evaluate Search Functions\n",
    "\n",
    "Let's define some metrics@k using [partial functions](https://docs.python.org/3/library/functools.html#functools.partial)"
   ]
  },
  {
   "cell_type": "code",
   "execution_count": 68,
   "metadata": {
    "deletable": false,
    "editable": false,
    "nbgrader": {
     "cell_type": "code",
     "checksum": "49ccc158e5fb7340ace55e90eeb9d62a",
     "grade": false,
     "grade_id": "cell-dab560e18e340da8",
     "locked": true,
     "schema_version": 3,
     "solution": false,
     "task": false
    }
   },
   "outputs": [],
   "source": [
    "#### metrics@k functions\n",
    "\n",
    "recall_at_1 = partial(recall_k, k=1)\n",
    "recall_at_5 = partial(recall_k, k=5)\n",
    "recall_at_10 = partial(recall_k, k=10)\n",
    "precision_at_1 = partial(precision_k, k=1)\n",
    "precision_at_5 = partial(precision_k, k=5)\n",
    "precision_at_10 = partial(precision_k, k=10)\n",
    "\n",
    "\n",
    "list_of_metrics = [\n",
    "    (\"ERR\", err),\n",
    "    (\"MAP\", average_precision),\n",
    "    (\"Recall@1\",recall_at_1),\n",
    "    (\"Recall@5\", recall_at_5),\n",
    "    (\"Recall@10\", recall_at_10),\n",
    "    (\"Precision@1\", precision_at_1),\n",
    "    (\"Precision@5\", precision_at_5),\n",
    "    (\"Precision@10\", precision_at_10)]\n",
    "####"
   ]
  },
  {
   "cell_type": "markdown",
   "metadata": {
    "deletable": false,
    "editable": false,
    "nbgrader": {
     "cell_type": "markdown",
     "checksum": "fb541002c03221b453b8936290020ea5",
     "grade": false,
     "grade_id": "cell-580a2bdc66d03b47",
     "locked": true,
     "schema_version": 3,
     "solution": false,
     "task": false
    }
   },
   "source": [
    "---\n",
    "\n",
    "The following function evaluates a `search_fn` using the `metric_fn`. Note that the final number is averaged over all the queries"
   ]
  },
  {
   "cell_type": "code",
   "execution_count": 69,
   "metadata": {},
   "outputs": [],
   "source": [
    "#### Evaluate a search function\n",
    "\n",
    "list_of_search_fns = [\n",
    "    (\"BOW\", bow_search),\n",
    "    (\"TF-IDF\", tfidf_search),\n",
    "    (\"NaiveQL\", naive_ql_search),\n",
    "    (\"QL\", ql_search),\n",
    "    (\"BM25\", bm25_search)\n",
    "]\n",
    "\n",
    "def evaluate_search_fn(search_fn, metric_fns, index_set=None):\n",
    "    # build a dict query_id -> query \n",
    "    queries_by_id = dict((q[0], q[1]) for q in queries)\n",
    "    \n",
    "    metrics = {}\n",
    "    for metric, metric_fn in metric_fns:\n",
    "        metrics[metric] = np.zeros(len(qrels), dtype=np.float32)\n",
    "    \n",
    "    for i, (query_id, relevant_docs) in enumerate(qrels.items()):\n",
    "        query = queries_by_id[query_id]\n",
    "        if index_set:\n",
    "            results = search_fn(query, index_set)\n",
    "        else:\n",
    "            results = search_fn(query)\n",
    "        \n",
    "        for metric, metric_fn in metric_fns:\n",
    "            metrics[metric][i] = metric_fn(results, relevant_docs)\n",
    "\n",
    "    \n",
    "    \n",
    "    final_dict = {}\n",
    "    for metric, metric_vals in metrics.items():\n",
    "        final_dict[metric] = metric_vals.mean()\n",
    "    \n",
    "    return final_dict\n",
    "####"
   ]
  },
  {
   "cell_type": "markdown",
   "metadata": {
    "deletable": false,
    "editable": false,
    "nbgrader": {
     "cell_type": "markdown",
     "checksum": "6ea67534f74a8f81e1f504794f641709",
     "grade": false,
     "grade_id": "cell-b156d83a0649cbb4",
     "locked": true,
     "schema_version": 3,
     "solution": false,
     "task": false
    }
   },
   "source": [
    "## Section 5: Analysis (30 points) <a class=\"anchor\" id=\"analysis\"></a>\n",
    "\n",
    "[Back to Part 1](#part1)\n",
    "\n",
    "In the final section of Part1, we will compare the different term-based IR algorithms and different preprocessing configurations and analyze their advantages and disadvantages.\n",
    "\n",
    "### Section 5.1: Plot (20 points)\n",
    "\n",
    "First, gather the results. The results should consider the index set, the different search functions and different metrics. Plot the results in bar charts, per metric, with clear labels.\n",
    "\n",
    "**Rubric:**\n",
    "- Each Metric is plotted: 7 points\n",
    "- Each Method is plotted: 7 points\n",
    "- Clear titles, x label, y labels and legends (if applicable): 6 points"
   ]
  },
  {
   "cell_type": "code",
   "execution_count": 124,
   "metadata": {
    "deletable": false,
    "nbgrader": {
     "cell_type": "code",
     "checksum": "7e2588a925d13ddf588abe8311dc9cfc",
     "grade": true,
     "grade_id": "cell-46fda42a25863a04",
     "locked": false,
     "points": 20,
     "schema_version": 3,
     "solution": true,
     "task": false
    }
   },
   "outputs": [
    {
     "data": {
      "image/png": "[encoded data removed]",
      "text/plain": [
       "<Figure size 864x432 with 1 Axes>"
      ]
     },
     "metadata": {
      "needs_background": "light"
     },
     "output_type": "display_data"
    }
   ],
   "source": [
    "# YOUR CODE HERE\n",
    "import json\n",
    "\n",
    "# results = {}\n",
    "# for index_set in (1,2):\n",
    "#     results[index_set] = {}\n",
    "#     for i, (fn_name, search_fn) in enumerate(list_of_search_fns):\n",
    "#         results[index_set][fn_name] = evaluate_search_fn(search_fn, list_of_metrics, index_set)\n",
    "\n",
    "# with open(\"results_part1.json\", \"w\") as f:\n",
    "#     json.dump({index_set: {k: {kk:float(vv) for kk,vv in v.items()} for k,v in res.items()} for index_set,res in results.items()}, f)\n",
    "\n",
    "with open(\"results_part1.json\", \"r\") as f:\n",
    "    results = json.load(f)  \n",
    "\n",
    "fig, ax = plt.subplots(1, 1, figsize=(12,6))\n",
    "col_width = 0.8\n",
    "bar_count = len(list_of_search_fns)\n",
    "bar_width = col_width / bar_count\n",
    "x_labels = [m[0] for m in list_of_metrics]\n",
    "x_axis = np.arange(len(x_labels))\n",
    "\n",
    "ax.set_title(\"Evaluation of Term-Based Matching Methods\", fontsize=20, fontdict=dict(weight='bold'))\n",
    "\n",
    "for i, (fn_name, search_fn) in enumerate(list_of_search_fns):\n",
    "    index_set = 1\n",
    "    eval_dict = results[str(index_set)][fn_name]\n",
    "    scores = list(eval_dict.values())\n",
    "\n",
    "    gap = (i - ((bar_count - 1) / 2)) * bar_width\n",
    "    bar = ax.bar(x_axis + gap, scores, bar_width, label=f\"{fn_name}\")\n",
    "    color = np.array(bar.patches[0].get_facecolor())\n",
    "    \n",
    "    index_set = 2\n",
    "    eval_dict = results[str(index_set)][fn_name]\n",
    "    scores = list(eval_dict.values())   \n",
    "    color = [min(co*1.7, 1) for co in color[:3]] + [.5]\n",
    "    ax.bar(x_axis + gap, scores, bar_width, label=f\"{fn_name} processed\", color=color)\n",
    "\n",
    "# ax.set_yticks(np.arange(0, 1.1, 0.1))\n",
    "ax.set_xticks(x_axis)\n",
    "ax.set_xticklabels(x_labels)\n",
    "ax.set_xlabel(\"Metric\", fontsize=15, fontdict=dict(weight='bold'))\n",
    "ax.set_ylabel(\"Score\", fontsize=15, fontdict=dict(weight='bold'))\n",
    "ax.legend()\n",
    "ax.grid(markevery=1, axis='y')\n",
    "    \n",
    "plt.tight_layout()\n",
    "plt.show()"
   ]
  },
  {
   "cell_type": "markdown",
   "metadata": {
    "deletable": false,
    "editable": false,
    "nbgrader": {
     "cell_type": "markdown",
     "checksum": "e88c444a0acf4e398c65e289169b75f7",
     "grade": false,
     "grade_id": "cell-8aabe3bcf265deb0",
     "locked": true,
     "points": 10,
     "schema_version": 3,
     "solution": false,
     "task": true
    }
   },
   "source": [
    "---\n",
    "### Section 5.2: Summary (10 points)\n",
    "Write a summary of what you observe in the results.\n",
    "Your summary should compare results across the 2 indices and the methods being used. State what you expected to see in the results, followed by either supporting evidence *or* justify why the results did not support your expectations.      "
   ]
  },
  {
   "cell_type": "markdown",
   "metadata": {},
   "source": [
    "Write your answer here!"
   ]
  },
  {
   "cell_type": "markdown",
   "metadata": {
    "deletable": false,
    "editable": false,
    "nbgrader": {
     "cell_type": "markdown",
     "checksum": "b3eb77be74eecca205fc7b47316d1627",
     "grade": false,
     "grade_id": "cell-bb60dd5c092d0f2e",
     "locked": true,
     "schema_version": 3,
     "solution": false,
     "task": false
    }
   },
   "source": [
    "---\n",
    "---\n",
    "# Part 2: Semantic-based Matching (85 points) <a class=\"anchor\" id=\"part2\"></a>\n",
    "\n",
    "[Back to top](#top)\n",
    "\n",
    "We will now experiment with methods that go beyond lexical methods like TF-IDF, which operate at the word level and are high dimensional and sparse, and look at methods which constructs low dimensional dense representations of queries and documents. \n",
    "\n",
    "Since these low-dimensional methods have a higher time complexity, they are typically used in conjunction with methods like BM-25. That is, instead of searching through potentially million documents to find matches using low dimensional vectors, a list of K documents are retrieved using BM25, and then **re-ranked** using the other method. This is the method that is going to be applied in the following exercises. \n",
    "\n",
    "LSI/LDA takes documents that are similar on a semantic level - for instance, if they are describing the same topic - and projects them into nearby vectors, despite having low lexical overlap.\n",
    "\n",
    "In this assignment, you will use `gensim` to create LSI/LDA models and use them in re-ranking. \n",
    "\n",
    "**Note**: The following exercises only uses `doc_repr_2` and `config_2`\n",
    "\n",
    "Table of contents:\n",
    "- [Section 6: LSI](#lsi) (15 points)\n",
    "- [Section 7: LDA](#lda) (10 points)\n",
    "- [Section 8: Word2Vec/Doc2Vec](#2vec) (20 points)\n",
    "- [Section 8: Re-ranking](#reranking) (10 points)\n",
    "- [Section 9: Re-ranking Evaluation](#reranking_eval) (30 points)"
   ]
  },
  {
   "cell_type": "markdown",
   "metadata": {
    "deletable": false,
    "editable": false,
    "nbgrader": {
     "cell_type": "markdown",
     "checksum": "f7c7b2cab82f576ed0acf836ca57171c",
     "grade": false,
     "grade_id": "cell-6b2c81e7a8abd180",
     "locked": true,
     "schema_version": 3,
     "solution": false,
     "task": false
    }
   },
   "source": [
    "---\n",
    "## Section 6: Latent Semantic Indexing (LSI) (15 points) <a class=\"anchor\" id=\"lsi\"></a>\n",
    "\n",
    "[Back to Part 2](#part2)\n",
    "\n",
    "LSI is one of the methods to embed the queries and documents into vectors. It is based on a method similar to Principal Component Analysis (PCA) for obtaining a dense concept matrix out of the sparse term-document matrix.\n",
    "\n",
    "See [wikipedia](https://en.wikipedia.org/wiki/Latent_semantic_analysis), particularly [#Mathematics_of_LSI](https://en.wikipedia.org/wiki/Latent_semantic_analysis#Mathematics_of_LSI)."
   ]
  },
  {
   "cell_type": "code",
   "execution_count": 72,
   "metadata": {
    "deletable": false,
    "editable": false,
    "nbgrader": {
     "cell_type": "code",
     "checksum": "c17ee75319cb517e2bf48ec3d9efc329",
     "grade": false,
     "grade_id": "cell-59913daee47f680d",
     "locked": true,
     "schema_version": 3,
     "solution": false,
     "task": false
    }
   },
   "outputs": [],
   "source": [
    "from gensim.corpora import Dictionary\n",
    "from gensim.models import LdaModel, LsiModel, Word2Vec\n",
    "from gensim.models.doc2vec import Doc2Vec, TaggedDocument\n",
    "from gensim import downloader as g_downloader\n",
    "# gensim uses logging, so set it up \n",
    "import logging\n",
    "logging.basicConfig(format='%(asctime)s : %(levelname)s : %(message)s', level=logging.INFO)"
   ]
  },
  {
   "cell_type": "markdown",
   "metadata": {
    "deletable": false,
    "editable": false,
    "nbgrader": {
     "cell_type": "markdown",
     "checksum": "5fce140c546759b54a9fc060901ae77c",
     "grade": false,
     "grade_id": "cell-3644faff4976598a",
     "locked": true,
     "schema_version": 3,
     "solution": false,
     "task": false
    }
   },
   "source": [
    "---\n",
    "### Section 6.1: Cosine Similarity (5 points)<a class=\"anchor\" id=\"cosing_sim\"></a>\n",
    "Before we begin, let us first define our method of similarity for the LSI model, the cosine similarity:\n",
    "\n",
    "$$\\text{similarity} = \\cos(\\theta) = {\\mathbf{A} \\cdot \\mathbf{B} \\over \\|\\mathbf{A}\\| \\|\\mathbf{B}\\|} = \\frac{ \\sum\\limits_{i=1}^{n}{A_i  B_i} }{ \\sqrt{\\sum\\limits_{i=1}^{n}{A_i^2}}  \\sqrt{\\sum\\limits_{i=1}^{n}{B_i^2}} }$$\n",
    "\n",
    "Since we are using gensim, the types of vectors returned by their classes are of the form defined below (they are not just simple vectors):"
   ]
  },
  {
   "cell_type": "code",
   "execution_count": 73,
   "metadata": {
    "deletable": false,
    "editable": false,
    "nbgrader": {
     "cell_type": "code",
     "checksum": "4e340e1a1d546f430c018fd0760e707a",
     "grade": false,
     "grade_id": "cell-3995a50f951314d5",
     "locked": true,
     "schema_version": 3,
     "solution": false,
     "task": false
    }
   },
   "outputs": [],
   "source": [
    "# 1, 2, 3 are either latent dimensions (LSI), or topics (LDA)\n",
    "# The second value in each tuple is a number (LSI) or a probability (LDA)  \n",
    "example_vec_1 = [(1, 0.2), (2, 0.3), (3, 0.4)]\n",
    "example_vec_2 = [(1, 0.2), (2, 0.7), (3, 0.4)]"
   ]
  },
  {
   "cell_type": "markdown",
   "metadata": {
    "deletable": false,
    "editable": false,
    "nbgrader": {
     "cell_type": "markdown",
     "checksum": "20832fd4f579f49ae204b0efee02edd1",
     "grade": false,
     "grade_id": "cell-5e54d581858dc8f7",
     "locked": true,
     "schema_version": 3,
     "solution": false,
     "task": false
    }
   },
   "source": [
    "---\n",
    "**Implementation (2+3 points):**\n",
    "Now, implement the `dot product` operation on these types of vectors and using this operator, implement the `cosine similarity` (don't forget: two functions to implement!):"
   ]
  },
  {
   "cell_type": "code",
   "execution_count": 74,
   "metadata": {
    "deletable": false,
    "nbgrader": {
     "cell_type": "code",
     "checksum": "06a712ee75fc213a21c5f0067fd8fe28",
     "grade": false,
     "grade_id": "cell-0e8189f5f93de33f",
     "locked": false,
     "schema_version": 3,
     "solution": true,
     "task": false
    }
   },
   "outputs": [],
   "source": [
    "# TODO: Implement this! (2 points)\n",
    "def dot(vec_1,vec_2): \n",
    "    \"\"\"\n",
    "        vec_1 and vec_2 are of the form: [(int, float), (int, float), ...]\n",
    "        Return the dot product of two such vectors, computed only on the floats\n",
    "        You can assume that the lengths of the vectors are the same, and the dimensions are aligned \n",
    "            i.e you won't get: vec_1 = [(1, 0.2)] ; vec_2 = [(2, 0.3)] \n",
    "                                (dimensions are unaligned and lengths are different)\n",
    "    \"\"\"\n",
    "    # YOUR CODE HERE\n",
    "    dot_product = sum([v1[1]*v2[1] for v1, v2 in zip(vec_1, vec_2)])\n",
    "    return dot_product\n",
    "    \n",
    "# TODO: Implement this! (3 points)\n",
    "def cosine_sim(vec_1, vec_2):\n",
    "    # YOUR CODE HERE\n",
    "    # in case a vector is empty return 0 similarity\n",
    "    if not vec_1 or not vec_2:\n",
    "        return 0\n",
    "    similarity = dot(vec_1, vec_2) / (np.sqrt(dot(vec_1, vec_1)) * np.sqrt(dot(vec_2, vec_2)))\n",
    "    return similarity "
   ]
  },
  {
   "cell_type": "code",
   "execution_count": 75,
   "metadata": {
    "deletable": false,
    "editable": false,
    "nbgrader": {
     "cell_type": "code",
     "checksum": "d22a4a7325ba7815a808390388f534a1",
     "grade": true,
     "grade_id": "cell-b25d04ed6b79fd35",
     "locked": true,
     "points": 2,
     "schema_version": 3,
     "solution": false,
     "task": false
    }
   },
   "outputs": [
    {
     "name": "stdout",
     "output_type": "stream",
     "text": [
      "vectors: ([(1, 0.2), (2, 0.3), (3, 0.4)], [(1, 0.2), (2, 0.7), (3, 0.4)])\n",
      "dot product = 0.41000000000000003\n",
      "cosine similarity = 0.9165587597202866\n"
     ]
    }
   ],
   "source": [
    "##### Function check\n",
    "print(f'vectors: {(example_vec_1,example_vec_2)}')\n",
    "print(f'dot product = {dot(example_vec_1,example_vec_2)}')\n",
    "print(f'cosine similarity = {cosine_sim(example_vec_1,example_vec_2)}')\n",
    "##### "
   ]
  },
  {
   "cell_type": "code",
   "execution_count": 76,
   "metadata": {
    "deletable": false,
    "editable": false,
    "nbgrader": {
     "cell_type": "code",
     "checksum": "0744131724ce76b1b3f163b4bae5f700",
     "grade": true,
     "grade_id": "cell-ae3c4466866ace77",
     "locked": true,
     "points": 3,
     "schema_version": 3,
     "solution": false,
     "task": false
    }
   },
   "outputs": [],
   "source": [
    "#### Please do not change this. This cell is used for grading."
   ]
  },
  {
   "cell_type": "markdown",
   "metadata": {
    "deletable": false,
    "editable": false,
    "nbgrader": {
     "cell_type": "markdown",
     "checksum": "9b123f599f9ea372d14676e23f1c6a52",
     "grade": false,
     "grade_id": "cell-4b2534067c44fcdf",
     "locked": true,
     "schema_version": 3,
     "solution": false,
     "task": false
    }
   },
   "source": [
    "---\n",
    "### Section 6.2: LSI Retrieval (10 points)<a class=\"anchor\" id=\"lsi_retrieval\"></a>\n",
    "LSI retrieval is simply ranking the documents based on their cosine similarity to the query vector.\n",
    "First, let's write a parent class for vector-based retrieval models:"
   ]
  },
  {
   "cell_type": "code",
   "execution_count": 77,
   "metadata": {
    "deletable": false,
    "editable": false,
    "nbgrader": {
     "cell_type": "code",
     "checksum": "ecc111d58182570e2252b8ef5d6b02af",
     "grade": false,
     "grade_id": "cell-937936cea18711ee",
     "locked": true,
     "schema_version": 3,
     "solution": false,
     "task": false
    }
   },
   "outputs": [],
   "source": [
    "class VectorSpaceRetrievalModel:\n",
    "    \"\"\"\n",
    "        Parent class for Dense Vector Retrieval models\n",
    "    \"\"\"\n",
    "    def __init__(self, doc_repr):\n",
    "        \"\"\"\n",
    "            document_collection: \n",
    "                [\n",
    "                    (doc_id_1, [token 1, token 2, ...]), \n",
    "                    (doc_id_2, [token 1, token 2, ....]) \n",
    "                    ...\n",
    "                ]\n",
    "\n",
    "        \"\"\"\n",
    "        self.doc_repr = doc_repr\n",
    "        self.documents = [_[1] for _ in self.doc_repr]\n",
    "        \n",
    "        # construct a dictionary\n",
    "        self.dictionary = Dictionary(self.documents)\n",
    "        # Filter out words that occur less than 20 documents, or more than 50% of the documents.\n",
    "        self.dictionary.filter_extremes(no_below=10)\n",
    "        self.corpus = [self.dictionary.doc2bow(doc) for doc in self.documents]\n",
    "    \n",
    "        # Make a index to word dictionary.\n",
    "        temp = self.dictionary[0]  # This is only to \"load\" the dictionary.\n",
    "        self.id2word = self.dictionary.id2token\n",
    "        \n",
    "        # this is set by the train_model function\n",
    "        self.model = None\n",
    "        \n",
    "        \n",
    "    def vectorize_documents(self):\n",
    "        \"\"\"\n",
    "            Returns a doc_id -> vector dictionary\n",
    "        \"\"\"\n",
    "        vectors = {}\n",
    "        for (doc_id, _), cc in zip(self.doc_repr, self.corpus):\n",
    "            vectors[doc_id] = self.model[cc]\n",
    "        return vectors\n",
    "\n",
    "    def vectorize_query(self, query):\n",
    "        # Note the use of config_2 here!\n",
    "        query = process_text(query, **config_2)\n",
    "        query_vector = self.dictionary.doc2bow(query)\n",
    "        return self.model[query_vector]\n",
    "    \n",
    "    def train_model(self):\n",
    "        \"\"\"\n",
    "            Trains a model and sets the 'self.model' variable. \n",
    "            Make sure to use the variables created in the __init__ method.\n",
    "            e.g the variables which may be useful: {corpus, dictionary, id2word}\n",
    "        \"\"\"\n",
    "        raise NotImplementedError()"
   ]
  },
  {
   "cell_type": "markdown",
   "metadata": {
    "deletable": false,
    "editable": false,
    "nbgrader": {
     "cell_type": "markdown",
     "checksum": "ff161eefd9b81b768cd6361bc1a502b0",
     "grade": false,
     "grade_id": "cell-704a18c2f80cd60c",
     "locked": true,
     "schema_version": 3,
     "solution": false,
     "task": false
    }
   },
   "source": [
    "---\n",
    "**Implementation (5 points):**\n",
    "Implement the `train_model` method in the following class (note that this is only one line of code in `gensim`!). Ensure that the parameters defined in the `__init__` method are not changed, and are *used in the `train_method` function*. Normally, the hyperaparameter space will be searched using grid search / other methods - in this assignment we have provided the hyperparameters for you.\n",
    "\n",
    "The last two lines of code train an LSI model on the list of documents which have been stemmed, lower-cased and have stopwords removed. "
   ]
  },
  {
   "cell_type": "code",
   "execution_count": 78,
   "metadata": {
    "deletable": false,
    "nbgrader": {
     "cell_type": "code",
     "checksum": "0e90eedc27c248bc1ae050518a46a46c",
     "grade": false,
     "grade_id": "cell-307682c9089f15d6",
     "locked": false,
     "schema_version": 3,
     "solution": true,
     "task": false
    }
   },
   "outputs": [],
   "source": [
    "# TODO: Implement this! (5 points)\n",
    "class LsiRetrievalModel(VectorSpaceRetrievalModel):\n",
    "    def __init__(self, doc_repr):\n",
    "        super().__init__(doc_repr)\n",
    "        \n",
    "        self.num_topics = 100\n",
    "        self.chunksize = 2000\n",
    "    \n",
    "    def train_model(self):\n",
    "        # YOUR CODE HERE\n",
    "        self.model = LsiModel(corpus=self.corpus, num_topics=self.num_topics, \n",
    "                              id2word=self.id2word, chunksize=self.chunksize)"
   ]
  },
  {
   "cell_type": "code",
   "execution_count": 79,
   "metadata": {
    "deletable": false,
    "editable": false,
    "nbgrader": {
     "cell_type": "code",
     "checksum": "00399cfe13d60cb4beed1271e36004b0",
     "grade": true,
     "grade_id": "cell-5ce512650c1b2dfb",
     "locked": true,
     "points": 0,
     "schema_version": 3,
     "solution": false,
     "task": false
    }
   },
   "outputs": [
    {
     "name": "stderr",
     "output_type": "stream",
     "text": [
      "2022-02-22 20:26:07,440 : INFO : adding document #0 to Dictionary(0 unique tokens: [])\n",
      "2022-02-22 20:26:07,519 : INFO : built Dictionary(5937 unique tokens: ['-', 'algebra', 'intern', 'languag', 'preliminari']...) from 3204 documents (total 115969 corpus positions)\n",
      "2022-02-22 20:26:07,539 : INFO : discarding 4740 tokens: [('repeat', 8), ('glossari', 7), ('inspect', 8), ('uncol', 2), ('rung', 9), ('secant', 2), ('.', 1603), ('acceler', 6), ('diverg', 3), ('induc', 9)]...\n",
      "2022-02-22 20:26:07,540 : INFO : keeping 1197 tokens which were in no less than 10 and no more than 1602 (=50.0%) documents\n",
      "2022-02-22 20:26:07,542 : INFO : resulting dictionary: Dictionary(1197 unique tokens: ['-', 'algebra', 'intern', 'languag', 'preliminari']...)\n",
      "2022-02-22 20:26:07,590 : INFO : using serial LSI version on this node\n",
      "2022-02-22 20:26:07,590 : INFO : updating model with new documents\n",
      "2022-02-22 20:26:07,590 : INFO : preparing a new chunk of documents\n",
      "2022-02-22 20:26:07,596 : INFO : using 100 extra samples and 2 power iterations\n",
      "2022-02-22 20:26:07,596 : INFO : 1st phase: constructing (1197, 200) action matrix\n",
      "2022-02-22 20:26:07,615 : INFO : orthonormalizing (1197, 200) action matrix\n",
      "2022-02-22 20:26:07,644 : INFO : 2nd phase: running dense svd on (200, 2000) matrix\n",
      "2022-02-22 20:26:07,677 : INFO : computing the final decomposition\n",
      "2022-02-22 20:26:07,677 : INFO : keeping 100 factors (discarding 13.439% of energy spectrum)\n",
      "2022-02-22 20:26:07,679 : INFO : processed documents up to #2000\n",
      "2022-02-22 20:26:07,680 : INFO : topic #0(152.127): -0.741*\",\" + -0.342*\"-\" + -0.211*\"system\" + -0.204*\"program\" + -0.192*\"comput\" + -0.146*\"(\" + -0.127*\"languag\" + -0.108*\")\" + -0.084*\"gener\" + -0.083*\"data\"\n",
      "2022-02-22 20:26:07,680 : INFO : topic #1(60.600): -0.607*\"(\" + -0.434*\")\" + -0.366*\"algorithm\" + -0.300*\"-\" + 0.237*\",\" + 0.213*\"system\" + 0.132*\"comput\" + -0.096*\"[\" + 0.093*\"program\" + -0.084*\"])\"\n",
      "2022-02-22 20:26:07,681 : INFO : topic #2(57.438): 0.744*\"-\" + -0.452*\",\" + 0.263*\"system\" + -0.214*\"(\" + -0.166*\")\" + 0.107*\"time\" + 0.105*\"program\" + -0.094*\"algorithm\" + 0.068*\"comput\" + 0.067*\"share\"\n",
      "2022-02-22 20:26:07,681 : INFO : topic #3(48.370): 0.483*\"system\" + 0.375*\"program\" + 0.367*\"comput\" + -0.363*\"-\" + -0.308*\",\" + 0.212*\"(\" + 0.168*\")\" + 0.147*\"algorithm\" + -0.144*\"languag\" + 0.119*\"time\"\n",
      "2022-02-22 20:26:07,682 : INFO : topic #4(45.710): -0.489*\"comput\" + 0.475*\"languag\" + 0.428*\"program\" + -0.238*\"method\" + -0.141*\"problem\" + 0.121*\"system\" + 0.109*\")\" + -0.107*\"equat\" + -0.101*\"algorithm\" + 0.099*\"(\"\n",
      "2022-02-22 20:26:07,682 : INFO : preparing a new chunk of documents\n",
      "2022-02-22 20:26:07,689 : INFO : using 100 extra samples and 2 power iterations\n",
      "2022-02-22 20:26:07,689 : INFO : 1st phase: constructing (1197, 200) action matrix\n",
      "2022-02-22 20:26:07,702 : INFO : orthonormalizing (1197, 200) action matrix\n",
      "2022-02-22 20:26:07,733 : INFO : 2nd phase: running dense svd on (200, 1204) matrix\n",
      "2022-02-22 20:26:07,749 : INFO : computing the final decomposition\n",
      "2022-02-22 20:26:07,750 : INFO : keeping 100 factors (discarding 14.014% of energy spectrum)\n",
      "2022-02-22 20:26:07,751 : INFO : merging projections: (1197, 100) + (1197, 100)\n",
      "2022-02-22 20:26:07,759 : INFO : keeping 100 factors (discarding 8.160% of energy spectrum)\n",
      "2022-02-22 20:26:07,760 : INFO : processed documents up to #3204\n",
      "2022-02-22 20:26:07,761 : INFO : topic #0(225.136): 0.759*\",\" + 0.337*\"-\" + 0.196*\"system\" + 0.186*\"program\" + 0.166*\"comput\" + 0.139*\"(\" + 0.103*\")\" + 0.103*\"algorithm\" + 0.099*\"languag\" + 0.087*\"time\"\n",
      "2022-02-22 20:26:07,762 : INFO : topic #1(87.805): 0.613*\"-\" + -0.399*\",\" + 0.399*\"(\" + 0.326*\"algorithm\" + 0.293*\")\" + -0.129*\"system\" + -0.107*\"program\" + 0.085*\"method\" + 0.077*\"time\" + 0.062*\"1\"\n",
      "2022-02-22 20:26:07,763 : INFO : topic #2(81.909): 0.550*\"-\" + -0.434*\"(\" + 0.355*\"system\" + -0.321*\")\" + -0.291*\",\" + -0.266*\"algorithm\" + 0.146*\"program\" + 0.123*\"comput\" + 0.078*\"time\" + -0.064*\"[\"\n",
      "2022-02-22 20:26:07,763 : INFO : topic #3(72.433): -0.693*\"program\" + 0.339*\",\" + 0.279*\"-\" + -0.251*\"(\" + -0.221*\"system\" + -0.214*\"languag\" + -0.204*\")\" + -0.160*\"comput\" + -0.099*\"data\" + -0.056*\"execut\"\n",
      "2022-02-22 20:26:07,764 : INFO : topic #4(68.523): -0.673*\"system\" + 0.453*\"program\" + 0.254*\"languag\" + 0.212*\"-\" + -0.179*\"comput\" + -0.165*\"(\" + -0.121*\")\" + -0.115*\"model\" + 0.101*\",\" + -0.098*\"algorithm\"\n"
     ]
    },
    {
     "data": {
      "text/plain": [
       "[(0, 0.015213664738592897),\n",
       " (1, -0.016288995703228337),\n",
       " (2, -0.00021224473092434134),\n",
       " (3, -0.0018271319542577267),\n",
       " (4, -0.00941010981486848),\n",
       " (5, -0.004708212014276863),\n",
       " (6, 0.027084436834773983),\n",
       " (7, 0.016715175118890604),\n",
       " (8, -0.0318278465034868),\n",
       " (9, -0.0008213898252530227),\n",
       " (10, 0.0022965995811186843),\n",
       " (11, -0.01756314835321951),\n",
       " (12, 0.00034754406387018776),\n",
       " (13, 0.0010761030660173037),\n",
       " (14, 0.004022090959788916),\n",
       " (15, 0.0059532040137205925),\n",
       " (16, 0.005733141250492521),\n",
       " (17, 0.0027678296740606782),\n",
       " (18, -0.018087208797423628),\n",
       " (19, 0.020969384696200546),\n",
       " (20, -0.008874539415890843),\n",
       " (21, -0.013923271707618591),\n",
       " (22, 0.04818802345449877),\n",
       " (23, 0.025814697510866576),\n",
       " (24, -0.009669743210253018),\n",
       " (25, -0.010684849194756608),\n",
       " (26, 0.00842512571025478),\n",
       " (27, 0.07688798171805797),\n",
       " (28, -0.06220088532626717),\n",
       " (29, 0.03311081211464039),\n",
       " (30, 0.042831432329253114),\n",
       " (31, 0.04613777169698255),\n",
       " (32, -0.07337987952885837),\n",
       " (33, 0.04332615106365699),\n",
       " (34, -0.025162451222547816),\n",
       " (35, 0.06185307847657258),\n",
       " (36, 0.04109507329246541),\n",
       " (37, -0.006993975946381704),\n",
       " (38, -0.06288427408155843),\n",
       " (39, 0.023575871207564193),\n",
       " (40, -0.04285571051486467),\n",
       " (41, -0.03199323257081764),\n",
       " (42, 0.025519264376365355),\n",
       " (43, 0.010830064202862463),\n",
       " (44, 0.013812976892308431),\n",
       " (45, 0.06046005700618534),\n",
       " (46, -0.006057089390355682),\n",
       " (47, 0.0026840720963592036),\n",
       " (48, -0.010136601828581688),\n",
       " (49, 0.02950329031425831),\n",
       " (50, 0.019671581877745578),\n",
       " (51, 0.05394460975320899),\n",
       " (52, -0.009018641688572658),\n",
       " (53, 0.00812892760891642),\n",
       " (54, 0.04716494229877223),\n",
       " (55, -0.01656382860365355),\n",
       " (56, 0.023158050191061402),\n",
       " (57, -0.01324709889646528),\n",
       " (58, -0.006660994577105347),\n",
       " (59, 0.044756786181425416),\n",
       " (60, 0.0010564119718333917),\n",
       " (61, -0.048774274744667064),\n",
       " (62, -0.02294238452213375),\n",
       " (63, 0.03226727302174704),\n",
       " (64, -0.03866203840813245),\n",
       " (65, 0.0493820064212706),\n",
       " (66, 0.00861783503357269),\n",
       " (67, -0.024528728002073806),\n",
       " (68, 0.05023383181978576),\n",
       " (69, -0.037822733575826675),\n",
       " (70, 0.052648826708293336),\n",
       " (71, -0.021031242284273756),\n",
       " (72, 0.03583641571587814),\n",
       " (73, -0.03234557648871288),\n",
       " (74, -0.09891627537554896),\n",
       " (75, 0.02987467354475253),\n",
       " (76, 0.023572903102414212),\n",
       " (77, -0.0029929699843163522),\n",
       " (78, 0.04424170597846424),\n",
       " (79, -0.030230120327621086),\n",
       " (80, 0.015235360197710166),\n",
       " (81, -0.022950121879712643),\n",
       " (82, 0.041133460194645706),\n",
       " (83, 0.014982175918774165),\n",
       " (84, 0.05914574986587507),\n",
       " (85, -0.00858192695363013),\n",
       " (86, -0.03771675702680543),\n",
       " (87, -0.03407906009877187),\n",
       " (88, -0.06795770405691655),\n",
       " (89, -0.06331242064879891),\n",
       " (90, -0.0317351694813256),\n",
       " (91, 0.018203333554164758),\n",
       " (92, -0.05063718507809076),\n",
       " (93, 0.0005948511737709277),\n",
       " (94, -0.07091319329532542),\n",
       " (95, 0.016130415468173127),\n",
       " (96, -0.01569081949566773),\n",
       " (97, -0.015881372354146946),\n",
       " (98, 0.026720435981826465),\n",
       " (99, 0.016210456082650346)]"
      ]
     },
     "execution_count": 79,
     "metadata": {},
     "output_type": "execute_result"
    }
   ],
   "source": [
    "##### Function check\n",
    "lsi = LsiRetrievalModel(doc_repr_2)\n",
    "lsi.train_model()\n",
    "\n",
    "# you can now get an LSI vector for a given query in the following way:\n",
    "lsi.vectorize_query(\"report\")\n",
    "##### "
   ]
  },
  {
   "cell_type": "markdown",
   "metadata": {
    "deletable": false,
    "editable": false,
    "nbgrader": {
     "cell_type": "markdown",
     "checksum": "7116bb9f576c5bb04934e1d59c51d729",
     "grade": false,
     "grade_id": "cell-4c5eeb557b4fca2f",
     "locked": true,
     "points": 5,
     "schema_version": 3,
     "solution": false,
     "task": true
    }
   },
   "source": [
    "\\#### Please do not change this. This cell is used for grading."
   ]
  },
  {
   "cell_type": "markdown",
   "metadata": {
    "deletable": false,
    "editable": false,
    "nbgrader": {
     "cell_type": "markdown",
     "checksum": "26e2ff3c413745e633d99f66c041d6b1",
     "grade": false,
     "grade_id": "cell-c4e50296cd17a555",
     "locked": true,
     "schema_version": 3,
     "solution": false,
     "task": false
    }
   },
   "source": [
    "---\n",
    "**Implementation (5 points):**\n",
    " Next, implement a basic ranking class for vector space retrieval (used for all semantic methods): "
   ]
  },
  {
   "cell_type": "code",
   "execution_count": 80,
   "metadata": {
    "deletable": false,
    "nbgrader": {
     "cell_type": "code",
     "checksum": "1a8389d2f0635c3405e2b0b27ed9f327",
     "grade": false,
     "grade_id": "cell-250515d288e80cdc",
     "locked": false,
     "schema_version": 3,
     "solution": true,
     "task": false
    }
   },
   "outputs": [],
   "source": [
    "# TODO: Implement this! (5 points)\n",
    "class DenseRetrievalRanker:\n",
    "    def __init__(self, vsrm, similarity_fn):\n",
    "        \"\"\"\n",
    "            vsrm: instance of `VectorSpaceRetrievalModel`\n",
    "            similarity_fn: function instance that takes in two vectors \n",
    "                            and returns a similarity score e.g cosine_sim defined earlier\n",
    "        \"\"\"\n",
    "        self.vsrm = vsrm \n",
    "        self.vectorized_documents = self.vsrm.vectorize_documents()\n",
    "        self.similarity_fn = similarity_fn\n",
    "    \n",
    "    def _compute_sim(self, query_vector):\n",
    "        \"\"\"\n",
    "            Compute the similarity of `query_vector` to documents in \n",
    "            `self.vectorized_documents` using `self.similarity_fn`\n",
    "            Returns a list of (doc_id, score) tuples\n",
    "        \"\"\"\n",
    "        # YOUR CODE HERE\n",
    "        similarities = [(doc_id, self.similarity_fn(doc_vec, query_vector)) \n",
    "                        for  doc_id, doc_vec in self.vectorized_documents.items()]\n",
    "        \n",
    "        return similarities\n",
    "    \n",
    "    def search(self, query):\n",
    "        scores = self._compute_sim(self.vsrm.vectorize_query(query))\n",
    "        scores.sort(key=lambda _:-_[1])\n",
    "        return scores "
   ]
  },
  {
   "cell_type": "code",
   "execution_count": 81,
   "metadata": {
    "deletable": false,
    "editable": false,
    "nbgrader": {
     "cell_type": "code",
     "checksum": "f237dd1ef6c1783c06797f4b514421f5",
     "grade": true,
     "grade_id": "cell-b73068b3e77a8e31",
     "locked": true,
     "points": 0,
     "schema_version": 3,
     "solution": false,
     "task": false
    }
   },
   "outputs": [
    {
     "data": {
      "text/plain": [
       "[('599', 0.8005913777028222),\n",
       " ('947', 0.5769380520995188),\n",
       " ('53', 0.5166759122330125),\n",
       " ('1339', 0.45528720960185054),\n",
       " ('3160', 0.44232781526151577)]"
      ]
     },
     "execution_count": 81,
     "metadata": {},
     "output_type": "execute_result"
    }
   ],
   "source": [
    "##### Function check\n",
    "drm_lsi = DenseRetrievalRanker(lsi, cosine_sim)\n",
    "drm_lsi.search(\"report\")[:5]\n",
    "##### "
   ]
  },
  {
   "cell_type": "markdown",
   "metadata": {
    "deletable": false,
    "editable": false,
    "nbgrader": {
     "cell_type": "markdown",
     "checksum": "5b3f19fdcaa585d263706d5a26038799",
     "grade": false,
     "grade_id": "cell-034c755a6502b868",
     "locked": true,
     "points": 5,
     "schema_version": 3,
     "solution": false,
     "task": true
    }
   },
   "source": [
    "\\#### Please do not change this. This cell is used for grading."
   ]
  },
  {
   "cell_type": "markdown",
   "metadata": {
    "deletable": false,
    "editable": false,
    "nbgrader": {
     "cell_type": "markdown",
     "checksum": "dcafef6e037033c46304b914f7c78bdf",
     "grade": false,
     "grade_id": "cell-d1df23f497d5ed6b",
     "locked": true,
     "schema_version": 3,
     "solution": false,
     "task": false
    }
   },
   "source": [
    "---\n",
    "Now, you can test your LSI model in the following cell: try finding queries which are lexically different to documents, but semantically similar - does LSI work well for these queries?!"
   ]
  },
  {
   "cell_type": "code",
   "execution_count": 82,
   "metadata": {
    "deletable": false,
    "editable": false,
    "nbgrader": {
     "cell_type": "code",
     "checksum": "11734bc7674377b340ad51297a8e8bb5",
     "grade": false,
     "grade_id": "cell-efd1d08dfc04ec3e",
     "locked": true,
     "schema_version": 3,
     "solution": false,
     "task": false
    }
   },
   "outputs": [
    {
     "data": {
      "application/vnd.jupyter.widget-view+json": {
       "model_id": "4d05b41149554264b00e754f611757d8",
       "version_major": 2,
       "version_minor": 0
      },
      "text/plain": [
       "Text(value='', description='Search Bar')"
      ]
     },
     "metadata": {},
     "output_type": "display_data"
    }
   ],
   "source": [
    "# test your LSI model\n",
    "search_fn = drm_lsi.search\n",
    "\n",
    "text = widgets.Text(description=\"Search Bar\", width=200)\n",
    "display(text)\n",
    "\n",
    "def make_results_2(query, search_fn):\n",
    "    results = []\n",
    "    for doc_id, score in search_fn(query):\n",
    "        highlight = highlight_text(docs_by_id[doc_id], query)\n",
    "        if len(highlight.strip()) == 0:\n",
    "            highlight = docs_by_id[doc_id]\n",
    "        results.append(ResultRow(doc_id, highlight, score))\n",
    "    return results\n",
    "\n",
    "def handle_submit_2(sender):\n",
    "    print(f\"Searching for: '{sender.value}' (SEARCH FN: {search_fn})\")\n",
    "    \n",
    "    results = make_results_2(sender.value, search_fn)\n",
    "    \n",
    "    # display only the top 5\n",
    "    results = results[:5]\n",
    "    \n",
    "    body = \"\"\n",
    "    for idx, r in enumerate(results):\n",
    "        body += f\"<li>Document #{r.doc_id}({r.score}): {r.snippet}</li>\"\n",
    "    display(HTML(f\"<ul>{body}</ul>\"))\n",
    "    \n",
    "\n",
    "text.on_submit(handle_submit_2)"
   ]
  },
  {
   "cell_type": "markdown",
   "metadata": {
    "deletable": false,
    "editable": false,
    "nbgrader": {
     "cell_type": "markdown",
     "checksum": "d074ce1ca48384cdda78742741c938be",
     "grade": false,
     "grade_id": "cell-3a86cef264d8f6cf",
     "locked": true,
     "schema_version": 3,
     "solution": false,
     "task": false
    }
   },
   "source": [
    "---\n",
    "## Section 7: Latent Dirichlet Allocation (LDA) (10 points) <a class=\"anchor\" id=\"lda\"></a>\n",
    "\n",
    "[Back to Part 2](#part2)\n",
    "\n",
    "The specifics of LDA is out of the scope of this assignment, but we will use the `gensim` implementation to perform search using LDA over our small document collection. The key thing to remember is that LDA, unlike LSI, outputs a topic **distribution**, not a vector. With that in mind, let's first define a similarity measure.\n"
   ]
  },
  {
   "cell_type": "markdown",
   "metadata": {
    "deletable": false,
    "editable": false,
    "nbgrader": {
     "cell_type": "markdown",
     "checksum": "db01092373b18f0c9dfed1bb17db4ad9",
     "grade": false,
     "grade_id": "cell-6b78ad22c2d60ba7",
     "locked": true,
     "schema_version": 3,
     "solution": false,
     "task": false
    }
   },
   "source": [
    "---\n",
    "### Section 7.1: Jenson-Shannon divergence (5 points) <a class=\"anchor\" id=\"js_sim\"></a>\n",
    "\n",
    "The Jenson-Shannon divergence is a symmetric and finite measure on two probability distributions (unlike the KL, which is neither). For identical distributions, the JSD is equal to 0, and since our code uses 0 as irrelevant and higher scores as relevant, we use `(1 - JSD)` as the score or 'similarity' in our setup\n",
    "\n",
    "**Note**: the JSD is bounded to \\[0,1\\] only if we use log base 2. So please ensure that you're using `np.log2` instead of `np.log`"
   ]
  },
  {
   "cell_type": "code",
   "execution_count": 83,
   "metadata": {
    "deletable": false,
    "nbgrader": {
     "cell_type": "code",
     "checksum": "a579e6cd7a24a3516bc9a84528b392d3",
     "grade": false,
     "grade_id": "cell-d2376a85a4841e98",
     "locked": false,
     "schema_version": 3,
     "solution": true,
     "task": false
    }
   },
   "outputs": [],
   "source": [
    "## TODO: Implement this! (5 points)\n",
    "def jenson_shannon_divergence(vec_1, vec_2, assert_prob=False):\n",
    "    \"\"\"\n",
    "        Computes the Jensen-Shannon divergence between two probability distributions. \n",
    "        NOTE: DO NOT RETURN 1 - JSD here, that is handled by the next function which is already implemented! \n",
    "        The inputs are *gensim* vectors - same as the vectors for the cosine_sim function\n",
    "        assert_prob is a flag that checks if the inputs are proper probability distributions \n",
    "            i.e they sum to 1 and are positive - use this to check your inputs if needed. \n",
    "                (This is optional to implement, but recommended - \n",
    "                you can the default to False to save a few ms off the runtime)\n",
    "    \"\"\"\n",
    "    # YOUR CODE HERE\n",
    "    \n",
    "    P = [v[1] for v in vec_1]\n",
    "    Q = [v[1] for v in vec_2]\n",
    "    \n",
    "    if assert_prob:\n",
    "        assert sum(P) == 1\n",
    "        assert sum(Q) == 1\n",
    "        assert min(P) >= 0\n",
    "        assert min(Q) >= 0\n",
    "\n",
    "    M = [(p + q) / 2 for p, q in zip(P, Q)]\n",
    "    \n",
    "    JSD = sum(P * (np.log2(P) - np.log2(M))) + sum(Q * (np.log2(Q) - np.log2(M)))\n",
    "    JSD /= 2\n",
    "    \n",
    "    return JSD\n",
    "\n",
    "def jenson_shannon_sim(vec_1, vec_2, assert_prob=False):\n",
    "    return 1 - jenson_shannon_divergence(vec_1, vec_2, assert_prob)\n"
   ]
  },
  {
   "cell_type": "code",
   "execution_count": 84,
   "metadata": {
    "deletable": false,
    "editable": false,
    "nbgrader": {
     "cell_type": "code",
     "checksum": "ab340aa941c9fb5c89b3fd0a9139e246",
     "grade": true,
     "grade_id": "cell-487c6d2933f38053",
     "locked": true,
     "points": 5,
     "schema_version": 3,
     "solution": false,
     "task": false
    }
   },
   "outputs": [
    {
     "data": {
      "text/plain": [
       "0.9251064410358459"
      ]
     },
     "execution_count": 84,
     "metadata": {},
     "output_type": "execute_result"
    }
   ],
   "source": [
    "##### Function check\n",
    "vec_1 = [(1, 0.3), (2, 0.4), (3, 0.3)]\n",
    "vec_2 = [(1, 0.1), (2, 0.7), (3, 0.2)]\n",
    "jenson_shannon_sim(vec_1, vec_2, assert_prob=True)\n",
    "##### "
   ]
  },
  {
   "cell_type": "markdown",
   "metadata": {
    "deletable": false,
    "editable": false,
    "nbgrader": {
     "cell_type": "markdown",
     "checksum": "0a1583a5f23e3390038331cce67f5d8e",
     "grade": false,
     "grade_id": "cell-4535cc67a50b80fa",
     "locked": true,
     "schema_version": 3,
     "solution": false,
     "task": false
    }
   },
   "source": [
    "---\n",
    "### Section 7.2: LDA retrieval (5 points) <a class=\"anchor\" id=\"lda_ret\"></a>\n",
    "\n",
    "Implement the `train_model` method in the following class (note that this is only one line of code in `gensim`!). Ensure that the parameters defined in the `__init__` method are not changed, and are *used in the `train_method` function*. You do not need to set this. Normally, the hyperaparameter space will be searched using grid search / other methods. Note that training the LDA model might take some time\n",
    "\n",
    "The last two lines of code train an LDA model on the list of documents which have been stemmed, lower-cased and have stopwords removed. "
   ]
  },
  {
   "cell_type": "code",
   "execution_count": 85,
   "metadata": {
    "deletable": false,
    "nbgrader": {
     "cell_type": "code",
     "checksum": "27de8e4fa85536bb396b73bfc51b3f50",
     "grade": false,
     "grade_id": "cell-021a48dff4a8bb91",
     "locked": false,
     "schema_version": 3,
     "solution": true,
     "task": false
    }
   },
   "outputs": [],
   "source": [
    "# TODO: Implement this! (5 points)\n",
    "class LdaRetrievalModel(VectorSpaceRetrievalModel):\n",
    "    def __init__(self, doc_repr):\n",
    "        super().__init__(doc_repr)\n",
    "        \n",
    "        # use these parameters in the train_model method\n",
    "        self.num_topics = 100\n",
    "        self.chunksize = 2000\n",
    "        self.passes = 20\n",
    "        self.iterations = 400\n",
    "        self.eval_every = 10\n",
    "        # this is need to get full vectors\n",
    "        self.minimum_probability=0.0\n",
    "        self.alpha='auto'\n",
    "        self.eta='auto'\n",
    "    \n",
    "    \n",
    "    def train_model(self):\n",
    "        # YOUR CODE HERE\n",
    "        self.model = LdaModel(corpus=self.corpus, id2word=self.id2word,num_topics=self.num_topics, \n",
    "                              chunksize=self.chunksize, passes=self.passes, iterations=self.iterations, \n",
    "                              eval_every=self.eval_every, minimum_probability=self.minimum_probability, \n",
    "                              alpha=self.alpha, eta=self.eta,\n",
    "                             )"
   ]
  },
  {
   "cell_type": "code",
   "execution_count": 86,
   "metadata": {
    "deletable": false,
    "editable": false,
    "nbgrader": {
     "cell_type": "code",
     "checksum": "be70fcb8098d0b6ce64cd2a10e6a05b7",
     "grade": true,
     "grade_id": "cell-86750b715f0345fd",
     "locked": true,
     "points": 0,
     "schema_version": 3,
     "solution": false,
     "task": false
    }
   },
   "outputs": [
    {
     "name": "stderr",
     "output_type": "stream",
     "text": [
      "2022-02-22 20:26:14,309 : INFO : adding document #0 to Dictionary(0 unique tokens: [])\n",
      "2022-02-22 20:26:14,394 : INFO : built Dictionary(5937 unique tokens: ['-', 'algebra', 'intern', 'languag', 'preliminari']...) from 3204 documents (total 115969 corpus positions)\n",
      "2022-02-22 20:26:14,408 : INFO : discarding 4740 tokens: [('repeat', 8), ('glossari', 7), ('inspect', 8), ('uncol', 2), ('rung', 9), ('secant', 2), ('.', 1603), ('acceler', 6), ('diverg', 3), ('induc', 9)]...\n",
      "2022-02-22 20:26:14,408 : INFO : keeping 1197 tokens which were in no less than 10 and no more than 1602 (=50.0%) documents\n",
      "2022-02-22 20:26:14,411 : INFO : resulting dictionary: Dictionary(1197 unique tokens: ['-', 'algebra', 'intern', 'languag', 'preliminari']...)\n",
      "2022-02-22 20:26:14,449 : INFO : using autotuned alpha, starting with [0.01, 0.01, 0.01, 0.01, 0.01, 0.01, 0.01, 0.01, 0.01, 0.01, 0.01, 0.01, 0.01, 0.01, 0.01, 0.01, 0.01, 0.01, 0.01, 0.01, 0.01, 0.01, 0.01, 0.01, 0.01, 0.01, 0.01, 0.01, 0.01, 0.01, 0.01, 0.01, 0.01, 0.01, 0.01, 0.01, 0.01, 0.01, 0.01, 0.01, 0.01, 0.01, 0.01, 0.01, 0.01, 0.01, 0.01, 0.01, 0.01, 0.01, 0.01, 0.01, 0.01, 0.01, 0.01, 0.01, 0.01, 0.01, 0.01, 0.01, 0.01, 0.01, 0.01, 0.01, 0.01, 0.01, 0.01, 0.01, 0.01, 0.01, 0.01, 0.01, 0.01, 0.01, 0.01, 0.01, 0.01, 0.01, 0.01, 0.01, 0.01, 0.01, 0.01, 0.01, 0.01, 0.01, 0.01, 0.01, 0.01, 0.01, 0.01, 0.01, 0.01, 0.01, 0.01, 0.01, 0.01, 0.01, 0.01, 0.01]\n",
      "2022-02-22 20:26:14,449 : INFO : using serial LDA version on this node\n",
      "2022-02-22 20:26:14,474 : INFO : running online (multi-pass) LDA training, 100 topics, 20 passes over the supplied corpus of 3204 documents, updating model once every 2000 documents, evaluating perplexity every 3204 documents, iterating 400x with a convergence threshold of 0.001000\n",
      "2022-02-22 20:26:14,474 : INFO : PROGRESS: pass 0, at document #2000/3204\n",
      "2022-02-22 20:26:15,906 : INFO : optimized alpha [0.009882779, 0.009826752, 0.009840665, 0.009804623, 0.009794438, 0.009835535, 0.009844245, 0.009825735, 0.009825453, 0.009804485, 0.009804957, 0.009825241, 0.009825669, 0.009783954, 0.009882368, 0.009823355, 0.00982045, 0.009898086, 0.00979414, 0.009789256, 0.009799754, 0.009850842, 0.009830501, 0.009810129, 0.009872623, 0.0097787725, 0.009809706, 0.009794463, 0.009825159, 0.009778787, 0.009789201, 0.009857092, 0.009815416, 0.009851668, 0.009836252, 0.009810063, 0.009836358, 0.009977964, 0.009815013, 0.009866364, 0.009815419, 0.009778743, 0.009856447, 0.00982582, 0.009825033, 0.009796563, 0.009815234, 0.009784002, 0.009789056, 0.009836057, 0.009784193, 0.00980451, 0.009861581, 0.009794386, 0.009820241, 0.009987613, 0.009867459, 0.00983033, 0.009794431, 0.009846124, 0.009809448, 0.009784069, 0.009856869, 0.0099070715, 0.009794457, 0.009867199, 0.009794401, 0.009804596, 0.00984646, 0.009804974, 0.009851533, 0.009955619, 0.009820631, 0.009794228, 0.009773596, 0.009820457, 0.009815354, 0.00979627, 0.009778923, 0.009794024, 0.009908729, 0.009802956, 0.009867256, 0.009856772, 0.009840917, 0.009820526, 0.009825616, 0.009882635, 0.009867038, 0.009810346, 0.009789142, 0.009901883, 0.009861782, 0.009887543, 0.009846088, 0.00983019, 0.009794247, 0.009825482, 0.009818741, 0.009877525]\n",
      "2022-02-22 20:26:15,919 : INFO : merging changes from 2000 documents into a model of 3204 documents\n",
      "2022-02-22 20:26:15,931 : INFO : topic #13 (0.010): 0.078*\"system\" + 0.056*\"algorithm\" + 0.034*\"analysi\" + 0.034*\"(\" + 0.034*\"languag\" + 0.034*\")\" + 0.034*\",\" + 0.022*\"quadratur\" + 0.022*\"design\" + 0.022*\"descript\"\n",
      "2022-02-22 20:26:15,931 : INFO : topic #58 (0.010): 0.071*\"(\" + 0.041*\"processor\" + 0.038*\")\" + 0.032*\",\" + 0.024*\"construct\" + 0.024*\"-\" + 0.022*\"problem\" + 0.019*\"number\" + 0.018*\"solut\" + 0.016*\"method\"\n",
      "2022-02-22 20:26:15,932 : INFO : topic #37 (0.010): 0.049*\"(\" + 0.041*\",\" + 0.035*\")\" + 0.029*\"algorithm\" + 0.027*\"program\" + 0.025*\"-\" + 0.017*\"processor\" + 0.016*\"method\" + 0.011*\"gener\" + 0.010*\"time\"\n",
      "2022-02-22 20:26:15,932 : INFO : topic #55 (0.010): 0.070*\",\" + 0.029*\"-\" + 0.027*\"system\" + 0.016*\"comput\" + 0.012*\"program\" + 0.012*\"languag\" + 0.012*\"time\" + 0.010*\"result\" + 0.010*\"simul\" + 0.009*\"data\"\n",
      "2022-02-22 20:26:15,933 : INFO : topic #71 (0.010): 0.061*\",\" + 0.035*\"-\" + 0.032*\"comput\" + 0.020*\"program\" + 0.018*\"problem\" + 0.016*\"gener\" + 0.014*\"system\" + 0.013*\"analysi\" + 0.012*\"method\" + 0.011*\"paper\"\n",
      "2022-02-22 20:26:15,934 : INFO : topic diff=82.256691, rho=1.000000\n",
      "2022-02-22 20:26:16,733 : INFO : -7.284 per-word bound, 155.8 perplexity estimate based on a held-out corpus of 1204 documents with 49783 words\n",
      "2022-02-22 20:26:16,733 : INFO : PROGRESS: pass 0, at document #3204/3204\n",
      "2022-02-22 20:26:17,430 : INFO : optimized alpha [0.009912462, 0.009997428, 0.009875696, 0.009822106, 0.009859128, 0.009981841, 0.010039251, 0.0099862255, 0.009837186, 0.00975694, 0.009840506, 0.009960298, 0.010031901, 0.009731349, 0.01032298, 0.009869658, 0.009903524, 0.010346832, 0.009751992, 0.009952388, 0.009969764, 0.009939717, 0.009858764, 0.009881785, 0.010040099, 0.009655533, 0.009873054, 0.009929015, 0.009824145, 0.0098370565, 0.009741664, 0.010047727, 0.009923278, 0.009928583, 0.010121317, 0.010010738, 0.009996133, 0.010016841, 0.009774178, 0.009983267, 0.009928399, 0.009696915, 0.009784253, 0.0103579415, 0.009817339, 0.009900704, 0.00996373, 0.009865172, 0.009841255, 0.010120832, 0.009959939, 0.009751207, 0.010014687, 0.009939766, 0.009984111, 0.01028902, 0.009992304, 0.010084396, 0.009842054, 0.010088624, 0.0096976105, 0.009778908, 0.009844738, 0.010159895, 0.010000454, 0.010264906, 0.009735667, 0.009809507, 0.0100898715, 0.010047067, 0.010101499, 0.010254552, 0.009933287, 0.009821994, 0.009661585, 0.009861844, 0.009962184, 0.00990071, 0.009936047, 0.009740278, 0.009979169, 0.009885125, 0.010110476, 0.010022761, 0.010347972, 0.010489159, 0.009984603, 0.010151766, 0.009986014, 0.009832922, 0.009835899, 0.00973927, 0.010087983, 0.009922566, 0.009899345, 0.009870658, 0.009969063, 0.010002018, 0.009917399, 0.0099663725]\n",
      "2022-02-22 20:26:17,430 : INFO : merging changes from 1204 documents into a model of 3204 documents\n",
      "2022-02-22 20:26:17,448 : INFO : topic #25 (0.010): 0.106*\"(\" + 0.084*\"sens\" + 0.065*\"algorithm\" + 0.058*\"fraction\" + 0.051*\")\" + 0.048*\"*\" + 0.046*\"elementari\" + 0.045*\"solut\" + 0.039*\"s22\" + 0.036*\"[\"\n",
      "2022-02-22 20:26:17,449 : INFO : topic #74 (0.010): 0.157*\"nest\" + 0.151*\"adapt\" + 0.078*\"subroutin\" + 0.061*\"automat\" + 0.055*\"specif\" + 0.041*\"method\" + 0.038*\"algorithm\" + 0.036*\"librari\" + 0.029*\"-\" + 0.026*\"structur\"\n",
      "2022-02-22 20:26:17,449 : INFO : topic #84 (0.010): 0.125*\"]\" + 0.054*\",\" + 0.045*\"properti\" + 0.036*\"algorithm\" + 0.035*\"tree\" + 0.020*\"-\" + 0.018*\")\" + 0.017*\"method\" + 0.014*\"valu\" + 0.014*\"function\"\n",
      "2022-02-22 20:26:17,449 : INFO : topic #43 (0.010): 0.041*\",\" + 0.033*\"key\" + 0.033*\"-\" + 0.030*\"queri\" + 0.027*\"hash\" + 0.020*\"method\" + 0.019*\"tabl\" + 0.019*\"(\" + 0.018*\"system\" + 0.018*\"index\"\n",
      "2022-02-22 20:26:17,449 : INFO : topic #85 (0.010): 0.058*\"tree\" + 0.050*\",\" + 0.044*\"search\" + 0.041*\"time\" + 0.031*\"method\" + 0.028*\"-\" + 0.027*\"averag\" + 0.024*\"node\" + 0.024*\"cost\" + 0.017*\"paper\"\n",
      "2022-02-22 20:26:17,449 : INFO : topic diff=0.705158, rho=0.707107\n",
      "2022-02-22 20:26:17,459 : INFO : PROGRESS: pass 1, at document #2000/3204\n",
      "2022-02-22 20:26:18,168 : INFO : optimized alpha [0.009818616, 0.009962115, 0.009784566, 0.009753073, 0.009852677, 0.009895904, 0.010040876, 0.009948763, 0.00974968, 0.009826577, 0.00975561, 0.009944085, 0.010092714, 0.009666685, 0.010259511, 0.009822994, 0.009856682, 0.010420119, 0.009696839, 0.01081442, 0.009873603, 0.010050129, 0.009765363, 0.009832806, 0.010013063, 0.009751732, 0.0098338695, 0.009923775, 0.009765543, 0.009801521, 0.009863267, 0.009972049, 0.009929838, 0.009862971, 0.010054206, 0.009982952, 0.009910421, 0.00992255, 0.009690558, 0.009971728, 0.00982796, 0.009824817, 0.009721609, 0.010268234, 0.009800211, 0.0099030025, 0.009956115, 0.00982912, 0.009847016, 0.0100318305, 0.009909093, 0.009722146, 0.009933192, 0.009933849, 0.009908803, 0.010236064, 0.009912306, 0.010031273, 0.009783127, 0.010177493, 0.009780976, 0.009793998, 0.009731037, 0.010746286, 0.009956903, 0.010172491, 0.009694744, 0.009719541, 0.010034336, 0.009951652, 0.0100023495, 0.010201681, 0.009835541, 0.009862543, 0.009671992, 0.009800065, 0.009927516, 0.00979538, 0.009977302, 0.009817179, 0.009867479, 0.009922474, 0.010048868, 0.009941609, 0.010255563, 0.010384878, 0.009983554, 0.010103605, 0.009997374, 0.009789369, 0.009918085, 0.009765337, 0.0100296335, 0.009854633, 0.00986337, 0.009808477, 0.009933291, 0.009953019, 0.0099487575, 0.009918855]\n"
     ]
    },
    {
     "name": "stderr",
     "output_type": "stream",
     "text": [
      "2022-02-22 20:26:18,180 : INFO : merging changes from 2000 documents into a model of 3204 documents\n",
      "2022-02-22 20:26:18,192 : INFO : topic #74 (0.010): 0.184*\"subroutin\" + 0.132*\"automat\" + 0.117*\"adapt\" + 0.111*\"nest\" + 0.057*\"librari\" + 0.043*\"specif\" + 0.041*\"method\" + 0.023*\"load\" + 0.022*\"-\" + 0.017*\"convent\"\n",
      "2022-02-22 20:26:18,192 : INFO : topic #38 (0.010): 0.065*\"program\" + 0.034*\",\" + 0.033*\"behavior\" + 0.032*\"page\" + 0.029*\"comput\" + 0.028*\"implement\" + 0.026*\"empir\" + 0.024*\"data\" + 0.021*\")\" + 0.021*\"studi\"\n",
      "2022-02-22 20:26:18,193 : INFO : topic #85 (0.010): 0.053*\"tree\" + 0.049*\",\" + 0.045*\"search\" + 0.042*\"time\" + 0.031*\"method\" + 0.028*\"-\" + 0.024*\"averag\" + 0.023*\"node\" + 0.022*\"cost\" + 0.017*\"paper\"\n",
      "2022-02-22 20:26:18,194 : INFO : topic #63 (0.011): 0.157*\"algorithm\" + 0.156*\"(\" + 0.126*\"[\" + 0.096*\"])\" + 0.047*\")\" + 0.029*\"matrix\" + 0.015*\"d1\" + 0.015*\"a1\" + 0.013*\"$\" + 0.012*\"symmetr\"\n",
      "2022-02-22 20:26:18,195 : INFO : topic #19 (0.011): 0.262*\")\" + 0.258*\"(\" + 0.226*\"algorithm\" + 0.045*\"integr\" + 0.024*\"$\" + 0.020*\"complex\" + 0.017*\"'\" + 0.017*\"invers\" + 0.017*\"))\" + 0.012*\"evalu\"\n",
      "2022-02-22 20:26:18,196 : INFO : topic diff=0.317181, rho=0.526900\n",
      "2022-02-22 20:26:18,954 : INFO : -6.895 per-word bound, 119.0 perplexity estimate based on a held-out corpus of 1204 documents with 49783 words\n",
      "2022-02-22 20:26:18,954 : INFO : PROGRESS: pass 1, at document #3204/3204\n",
      "2022-02-22 20:26:19,594 : INFO : optimized alpha [0.00990012, 0.010111625, 0.009821672, 0.009898898, 0.010010796, 0.010000901, 0.010209499, 0.010090653, 0.009847475, 0.0099133495, 0.009797022, 0.010035901, 0.0103136, 0.009691753, 0.010579553, 0.009936827, 0.009941177, 0.010782617, 0.0097714495, 0.011736143, 0.010053577, 0.010240741, 0.009849389, 0.00992212, 0.010088013, 0.009744148, 0.009946989, 0.010090467, 0.009797286, 0.009945879, 0.009949749, 0.010069955, 0.010010306, 0.009920852, 0.010160151, 0.010226174, 0.010007781, 0.009917736, 0.009767276, 0.010023262, 0.009886386, 0.009868125, 0.009715435, 0.010651578, 0.009864998, 0.010102924, 0.010129299, 0.009982333, 0.009969039, 0.010226967, 0.010133103, 0.0097585665, 0.010003346, 0.010068288, 0.010044887, 0.010388457, 0.010018602, 0.010298834, 0.009854561, 0.010421894, 0.009803364, 0.009925614, 0.009721205, 0.011023723, 0.010133473, 0.010458302, 0.009740782, 0.009743124, 0.010212552, 0.010088686, 0.010158146, 0.0103299245, 0.009885121, 0.00988335, 0.009690573, 0.009858579, 0.010067843, 0.00995752, 0.010217763, 0.009981488, 0.009890851, 0.010102547, 0.010194388, 0.010113895, 0.010681584, 0.010882771, 0.0100971125, 0.010310165, 0.010103615, 0.009807733, 0.010079799, 0.0097018555, 0.010203437, 0.0098783625, 0.009908436, 0.00983114, 0.010138069, 0.0101024015, 0.010065792, 0.009967399]\n",
      "2022-02-22 20:26:19,600 : INFO : merging changes from 1204 documents into a model of 3204 documents\n",
      "2022-02-22 20:26:19,611 : INFO : topic #13 (0.010): 0.108*\"system\" + 0.070*\"describ\" + 0.062*\"synchron\" + 0.050*\"design\" + 0.045*\"algorithm\" + 0.042*\"specif\" + 0.036*\"descript\" + 0.036*\"definit\" + 0.033*\",\" + 0.027*\"addit\"\n",
      "2022-02-22 20:26:19,612 : INFO : topic #42 (0.010): 0.043*\",\" + 0.037*\"curv\" + 0.035*\"optim\" + 0.034*\"mechan\" + 0.030*\"-\" + 0.029*\"fit\" + 0.026*\"algorithm\" + 0.023*\"rel\" + 0.023*\"techniqu\" + 0.022*\"primari\"\n",
      "2022-02-22 20:26:19,612 : INFO : topic #85 (0.011): 0.074*\"tree\" + 0.058*\"search\" + 0.055*\",\" + 0.045*\"time\" + 0.032*\"cost\" + 0.028*\"averag\" + 0.027*\"method\" + 0.026*\"node\" + 0.026*\"-\" + 0.019*\"structur\"\n",
      "2022-02-22 20:26:19,613 : INFO : topic #63 (0.011): 0.156*\"algorithm\" + 0.146*\"(\" + 0.142*\"[\" + 0.059*\")\" + 0.054*\"])\" + 0.030*\"matrix\" + 0.023*\"$\" + 0.022*\"d1\" + 0.020*\"))\" + 0.017*\"a1\"\n",
      "2022-02-22 20:26:19,613 : INFO : topic #19 (0.012): 0.278*\"(\" + 0.270*\")\" + 0.234*\"algorithm\" + 0.034*\"integr\" + 0.029*\"$\" + 0.024*\"))\" + 0.023*\"complex\" + 0.016*\"'\" + 0.010*\"order\" + 0.010*\"invers\"\n",
      "2022-02-22 20:26:19,614 : INFO : topic diff=0.414927, rho=0.526900\n",
      "2022-02-22 20:26:19,622 : INFO : PROGRESS: pass 2, at document #2000/3204\n",
      "2022-02-22 20:26:20,315 : INFO : optimized alpha [0.009846857, 0.010117748, 0.009773725, 0.00988185, 0.010025375, 0.009916185, 0.010291989, 0.010071451, 0.009849965, 0.010019233, 0.0097356085, 0.010002489, 0.010443843, 0.009677624, 0.010534644, 0.009937742, 0.009944753, 0.010922324, 0.009741785, 0.012937973, 0.009979655, 0.010418576, 0.009793648, 0.009898097, 0.010047539, 0.009891682, 0.009942784, 0.010125557, 0.009772466, 0.009925754, 0.010151991, 0.010018209, 0.010068448, 0.009868824, 0.010120631, 0.010252338, 0.009949483, 0.00983291, 0.0097176, 0.0099971285, 0.009802073, 0.010039746, 0.009699144, 0.010577027, 0.009878038, 0.010124701, 0.010143265, 0.00995451, 0.009976074, 0.0101545, 0.010117103, 0.009743415, 0.009947014, 0.010104931, 0.010016031, 0.0103459135, 0.0099461535, 0.010293244, 0.009831081, 0.010553445, 0.009994888, 0.009989598, 0.009636234, 0.01159068, 0.010115521, 0.010368452, 0.009767718, 0.00968683, 0.010184123, 0.010009329, 0.010084741, 0.010302623, 0.009803333, 0.009928618, 0.009773165, 0.00982173, 0.010070005, 0.009890168, 0.010319926, 0.0101400865, 0.009799955, 0.010156024, 0.010170608, 0.0100484425, 0.010608593, 0.010797991, 0.0101243565, 0.010285475, 0.010137435, 0.009807653, 0.010168899, 0.00976953, 0.010182331, 0.0098460885, 0.009898613, 0.009798507, 0.010133262, 0.010063298, 0.010125921, 0.009928816]\n",
      "2022-02-22 20:26:20,332 : INFO : merging changes from 2000 documents into a model of 3204 documents\n",
      "2022-02-22 20:26:20,342 : INFO : topic #67 (0.010): 0.074*\"technolog\" + 0.073*\",\" + 0.057*\"educ\" + 0.055*\"potenti\" + 0.050*\"social\" + 0.038*\"arrang\" + 0.038*\"chang\" + 0.029*\"respons\" + 0.026*\"need\" + 0.026*\"keyboard\"\n",
      "2022-02-22 20:26:20,343 : INFO : topic #62 (0.010): 0.091*\",\" + 0.059*\"-\" + 0.043*\"region\" + 0.026*\"order\" + 0.023*\"comput\" + 0.022*\"circular\" + 0.022*\"\"\" + 0.018*\"speed\" + 0.015*\"1\" + 0.014*\"compar\"\n",
      "2022-02-22 20:26:20,343 : INFO : topic #17 (0.011): 0.105*\"languag\" + 0.080*\",\" + 0.077*\"program\" + 0.026*\"-\" + 0.022*\"structur\" + 0.015*\"syntax\" + 0.013*\"\"\" + 0.012*\"form\" + 0.012*\"semant\" + 0.010*\"statement\"\n",
      "2022-02-22 20:26:20,343 : INFO : topic #63 (0.012): 0.158*\"algorithm\" + 0.158*\"(\" + 0.156*\"[\" + 0.111*\"])\" + 0.033*\")\" + 0.029*\"matrix\" + 0.017*\"d1\" + 0.015*\"a1\" + 0.013*\"symmetr\" + 0.012*\"eigenvalu\"\n",
      "2022-02-22 20:26:20,344 : INFO : topic #19 (0.013): 0.290*\"(\" + 0.290*\")\" + 0.237*\"algorithm\" + 0.036*\"integr\" + 0.018*\"$\" + 0.017*\"complex\" + 0.015*\"'\" + 0.014*\"invers\" + 0.013*\"))\" + 0.009*\"evalu\"\n",
      "2022-02-22 20:26:20,345 : INFO : topic diff=0.406049, rho=0.466151\n",
      "2022-02-22 20:26:21,111 : INFO : -6.772 per-word bound, 109.3 perplexity estimate based on a held-out corpus of 1204 documents with 49783 words\n",
      "2022-02-22 20:26:21,111 : INFO : PROGRESS: pass 2, at document #3204/3204\n",
      "2022-02-22 20:26:21,759 : INFO : optimized alpha [0.009958894, 0.010207077, 0.009842574, 0.010066168, 0.010185797, 0.010013786, 0.010503132, 0.010213651, 0.009979536, 0.010157821, 0.009777641, 0.010104013, 0.010641341, 0.009742801, 0.010829619, 0.010093467, 0.010054927, 0.0112899635, 0.009835056, 0.014181529, 0.0101241125, 0.010645755, 0.009911441, 0.009981666, 0.010102535, 0.009895571, 0.0100550605, 0.010269918, 0.009809527, 0.010070026, 0.0102351755, 0.010101742, 0.010198436, 0.00993659, 0.0101830065, 0.010494076, 0.010009062, 0.00986215, 0.009851344, 0.010016169, 0.00984374, 0.0100880815, 0.009718259, 0.010922054, 0.009955081, 0.010318925, 0.01031762, 0.010134093, 0.010134948, 0.010260349, 0.010376783, 0.009788281, 0.010017911, 0.010232117, 0.010140984, 0.0104690185, 0.010033263, 0.010569997, 0.009921867, 0.0107843345, 0.010036044, 0.010129885, 0.009626588, 0.011844617, 0.010288559, 0.010619729, 0.009873614, 0.009736096, 0.01037504, 0.010159088, 0.010259157, 0.0104816165, 0.009852581, 0.00998202, 0.009842452, 0.00988626, 0.010214548, 0.010061849, 0.010583538, 0.010313387, 0.009857683, 0.01031659, 0.010295848, 0.010225905, 0.011022271, 0.01124498, 0.010244729, 0.010493687, 0.010251895, 0.009851725, 0.010395363, 0.009745031, 0.010385642, 0.009907135, 0.010009053, 0.00985045, 0.0103236, 0.010204287, 0.010276813, 0.009969028]\n",
      "2022-02-22 20:26:21,769 : INFO : merging changes from 1204 documents into a model of 3204 documents\n"
     ]
    },
    {
     "name": "stderr",
     "output_type": "stream",
     "text": [
      "2022-02-22 20:26:21,779 : INFO : topic #62 (0.010): 0.094*\",\" + 0.063*\"region\" + 0.055*\"-\" + 0.030*\"circular\" + 0.024*\"\"\" + 0.021*\"order\" + 0.020*\"speed\" + 0.019*\"comput\" + 0.017*\"compar\" + 0.016*\"block\"\n",
      "2022-02-22 20:26:21,779 : INFO : topic #42 (0.010): 0.053*\"curv\" + 0.043*\"mechan\" + 0.041*\",\" + 0.028*\"optim\" + 0.028*\"techniqu\" + 0.028*\"fit\" + 0.028*\"rel\" + 0.028*\"-\" + 0.025*\"algorithm\" + 0.023*\"polyphas\"\n",
      "2022-02-22 20:26:21,780 : INFO : topic #17 (0.011): 0.105*\"languag\" + 0.084*\",\" + 0.084*\"program\" + 0.025*\"-\" + 0.023*\"structur\" + 0.018*\"semant\" + 0.015*\"syntax\" + 0.012*\"form\" + 0.012*\"level\" + 0.010*\"\"\"\n",
      "2022-02-22 20:26:21,780 : INFO : topic #63 (0.012): 0.168*\"[\" + 0.157*\"algorithm\" + 0.148*\"(\" + 0.072*\"])\" + 0.040*\")\" + 0.029*\"matrix\" + 0.024*\"d1\" + 0.022*\"$\" + 0.020*\"))\" + 0.017*\"eigenvalu\"\n",
      "2022-02-22 20:26:21,781 : INFO : topic #19 (0.014): 0.302*\"(\" + 0.291*\")\" + 0.241*\"algorithm\" + 0.030*\"integr\" + 0.022*\"$\" + 0.019*\"complex\" + 0.017*\"))\" + 0.014*\"'\" + 0.009*\"invers\" + 0.008*\"evalu\"\n",
      "2022-02-22 20:26:21,782 : INFO : topic diff=0.532170, rho=0.466151\n",
      "2022-02-22 20:26:21,790 : INFO : PROGRESS: pass 3, at document #2000/3204\n",
      "2022-02-22 20:26:22,458 : INFO : optimized alpha [0.009925928, 0.010221616, 0.009806452, 0.010069113, 0.010213519, 0.009944434, 0.010620638, 0.010208974, 0.010007074, 0.01028667, 0.009719467, 0.010091153, 0.010789856, 0.009780418, 0.010809075, 0.010108723, 0.010075366, 0.011451202, 0.009820908, 0.015573582, 0.010069912, 0.010841551, 0.009873881, 0.009964546, 0.010056138, 0.010037124, 0.010066151, 0.01032536, 0.009821543, 0.010057799, 0.010454426, 0.010064124, 0.010283772, 0.009913751, 0.010165501, 0.010549841, 0.009968186, 0.009800152, 0.009827123, 0.009998194, 0.009779987, 0.010262669, 0.009723237, 0.010859799, 0.009992563, 0.010357295, 0.010342833, 0.010129506, 0.010172673, 0.010197565, 0.01037549, 0.009783734, 0.009980645, 0.010291226, 0.01012124, 0.010441602, 0.009974981, 0.010587673, 0.009919826, 0.010908841, 0.010235487, 0.010228679, 0.009565074, 0.0123440605, 0.0102846, 0.010540683, 0.009957118, 0.009704992, 0.010359209, 0.010091488, 0.0101898145, 0.010476055, 0.009792928, 0.010036098, 0.009945049, 0.009860178, 0.01023359, 0.01000234, 0.010710001, 0.010480731, 0.009781363, 0.010386821, 0.010289504, 0.010178891, 0.010957762, 0.011185885, 0.01030189, 0.010487894, 0.010337491, 0.009871134, 0.010511218, 0.009858954, 0.010407365, 0.009899852, 0.010038499, 0.009832215, 0.010329021, 0.010179411, 0.010389833, 0.009933244]\n",
      "2022-02-22 20:26:22,473 : INFO : merging changes from 2000 documents into a model of 3204 documents\n",
      "2022-02-22 20:26:22,484 : INFO : topic #62 (0.010): 0.090*\",\" + 0.060*\"-\" + 0.051*\"region\" + 0.027*\"speed\" + 0.026*\"\"\" + 0.026*\"circular\" + 0.025*\"order\" + 0.024*\"comput\" + 0.017*\"block\" + 0.016*\"compar\"\n",
      "2022-02-22 20:26:22,485 : INFO : topic #10 (0.010): 0.053*\"alloc\" + 0.040*\"regist\" + 0.038*\"storag\" + 0.032*\"segment\" + 0.031*\"point\" + 0.030*\",\" + 0.030*\"techniqu\" + 0.028*\"system\" + 0.023*\"determin\" + 0.021*\"data\"\n",
      "2022-02-22 20:26:22,485 : INFO : topic #17 (0.011): 0.119*\"languag\" + 0.085*\",\" + 0.079*\"program\" + 0.026*\"-\" + 0.022*\"structur\" + 0.017*\"syntax\" + 0.014*\"semant\" + 0.013*\"form\" + 0.011*\"\"\" + 0.011*\"defin\"\n",
      "2022-02-22 20:26:22,486 : INFO : topic #63 (0.012): 0.175*\"[\" + 0.162*\"algorithm\" + 0.160*\"(\" + 0.120*\"])\" + 0.023*\"matrix\" + 0.023*\")\" + 0.019*\"d1\" + 0.016*\"a1\" + 0.014*\"eigenvalu\" + 0.013*\"symmetr\"\n",
      "2022-02-22 20:26:22,486 : INFO : topic #19 (0.016): 0.306*\"(\" + 0.303*\")\" + 0.240*\"algorithm\" + 0.032*\"integr\" + 0.016*\"$\" + 0.016*\"complex\" + 0.014*\"'\" + 0.011*\"))\" + 0.011*\"invers\" + 0.009*\"evalu\"\n",
      "2022-02-22 20:26:22,487 : INFO : topic diff=0.549845, rho=0.422502\n",
      "2022-02-22 20:26:23,229 : INFO : -6.692 per-word bound, 103.4 perplexity estimate based on a held-out corpus of 1204 documents with 49783 words\n",
      "2022-02-22 20:26:23,229 : INFO : PROGRESS: pass 3, at document #3204/3204\n",
      "2022-02-22 20:26:23,846 : INFO : optimized alpha [0.010060387, 0.01031763, 0.009883752, 0.010302488, 0.010378292, 0.010009556, 0.010844893, 0.01036071, 0.010174705, 0.010449051, 0.009758998, 0.010187423, 0.010985935, 0.009885056, 0.011072477, 0.010265152, 0.010208166, 0.011814061, 0.009909729, 0.01706894, 0.01021964, 0.011084975, 0.010023859, 0.010062132, 0.010100113, 0.010064421, 0.01016848, 0.01047527, 0.009883575, 0.010203979, 0.010550756, 0.010137316, 0.010409291, 0.00996892, 0.01023006, 0.010801882, 0.010030358, 0.009849305, 0.010008637, 0.0099951895, 0.009815764, 0.010319634, 0.00976905, 0.011181643, 0.010069771, 0.010549525, 0.010513343, 0.010344096, 0.010364177, 0.010301544, 0.010665455, 0.009846148, 0.010063619, 0.010410506, 0.010242332, 0.010572718, 0.010054983, 0.010869006, 0.0100379065, 0.0111594, 0.010278428, 0.010367343, 0.00957226, 0.0125938235, 0.010453858, 0.010755453, 0.010084943, 0.009754181, 0.010515334, 0.01024622, 0.010341925, 0.010647111, 0.009845889, 0.010102307, 0.010025272, 0.00991958, 0.010387297, 0.010180616, 0.010990757, 0.010653625, 0.009845679, 0.010544433, 0.010392773, 0.010377413, 0.011344538, 0.0115762325, 0.010436721, 0.010689626, 0.010467371, 0.009939574, 0.01075999, 0.00984005, 0.010630781, 0.009987812, 0.010149926, 0.009900974, 0.010506627, 0.010315376, 0.010538356, 0.00999206]\n",
      "2022-02-22 20:26:23,852 : INFO : merging changes from 1204 documents into a model of 3204 documents\n",
      "2022-02-22 20:26:23,862 : INFO : topic #62 (0.010): 0.092*\",\" + 0.068*\"region\" + 0.055*\"-\" + 0.031*\"circular\" + 0.028*\"\"\" + 0.026*\"speed\" + 0.021*\"independ\" + 0.020*\"comput\" + 0.020*\"block\" + 0.020*\"order\"\n",
      "2022-02-22 20:26:23,862 : INFO : topic #67 (0.010): 0.078*\"technolog\" + 0.076*\",\" + 0.058*\"chang\" + 0.057*\"potenti\" + 0.056*\"social\" + 0.055*\"respons\" + 0.055*\"educ\" + 0.048*\"arrang\" + 0.039*\"suggest\" + 0.038*\"econom\"\n",
      "2022-02-22 20:26:23,863 : INFO : topic #17 (0.012): 0.118*\"languag\" + 0.089*\",\" + 0.082*\"program\" + 0.025*\"-\" + 0.023*\"structur\" + 0.019*\"semant\" + 0.016*\"syntax\" + 0.015*\"level\" + 0.012*\"form\" + 0.011*\"defin\"\n",
      "2022-02-22 20:26:23,863 : INFO : topic #63 (0.013): 0.187*\"[\" + 0.161*\"algorithm\" + 0.150*\"(\" + 0.083*\"])\" + 0.026*\")\" + 0.025*\"matrix\" + 0.025*\"d1\" + 0.023*\"$\" + 0.021*\"))\" + 0.019*\"eigenvalu\"\n",
      "2022-02-22 20:26:23,863 : INFO : topic #19 (0.017): 0.313*\"(\" + 0.303*\")\" + 0.243*\"algorithm\" + 0.028*\"integr\" + 0.019*\"$\" + 0.017*\"complex\" + 0.015*\"))\" + 0.013*\"'\" + 0.008*\"invers\" + 0.008*\"evalu\"\n",
      "2022-02-22 20:26:23,864 : INFO : topic diff=0.662942, rho=0.422502\n",
      "2022-02-22 20:26:23,872 : INFO : PROGRESS: pass 4, at document #2000/3204\n",
      "2022-02-22 20:26:24,534 : INFO : optimized alpha [0.010045754, 0.010345399, 0.009858902, 0.010328194, 0.010423727, 0.009947003, 0.011001039, 0.010362274, 0.010203703, 0.010583379, 0.00971643, 0.010183746, 0.011139522, 0.009950985, 0.01106463, 0.010300823, 0.010248917, 0.012004233, 0.009906621, 0.018575454, 0.010181384, 0.011299519, 0.009996746, 0.010050475, 0.010068561, 0.010196406, 0.010190712, 0.0105364565, 0.009899104, 0.010202387, 0.010779205, 0.010107443, 0.010508882, 0.009970264, 0.010226767, 0.010865229, 0.009999572, 0.009795609, 0.010010833, 0.009986027, 0.009762587, 0.010492602, 0.0097991815, 0.011131943, 0.010116431, 0.010584189, 0.010558776, 0.010346874, 0.010416395, 0.01025842, 0.0106809735, 0.009848339, 0.01003186, 0.010477322, 0.010240091, 0.010553557, 0.010002132, 0.010887882, 0.0100399405, 0.011279168, 0.010480995, 0.010461233, 0.009528993, 0.013091952, 0.010453685, 0.010689807, 0.01017814, 0.009737877, 0.010500319, 0.010189774, 0.010292029, 0.010658187, 0.009805832, 0.010164398, 0.010138289, 0.009906077, 0.010426936, 0.010135035, 0.01112537, 0.010814258, 0.0097806435, 0.01061134, 0.010393214, 0.01034531, 0.0112917395, 0.011542173, 0.010513804, 0.010685207, 0.010561265, 0.009975308, 0.010871608, 0.009973216, 0.010666672, 0.009985385, 0.010195039, 0.009890508, 0.0105189895, 0.010294231, 0.010680453, 0.009959943]\n",
      "2022-02-22 20:26:24,544 : INFO : merging changes from 2000 documents into a model of 3204 documents\n",
      "2022-02-22 20:26:24,554 : INFO : topic #62 (0.010): 0.088*\",\" + 0.059*\"-\" + 0.056*\"region\" + 0.033*\"speed\" + 0.029*\"\"\" + 0.028*\"circular\" + 0.026*\"comput\" + 0.022*\"order\" + 0.020*\"block\" + 0.019*\"independ\"\n",
      "2022-02-22 20:26:24,555 : INFO : topic #10 (0.010): 0.054*\"alloc\" + 0.042*\"regist\" + 0.040*\"storag\" + 0.037*\"segment\" + 0.034*\"techniqu\" + 0.031*\"point\" + 0.027*\",\" + 0.025*\"determin\" + 0.024*\"system\" + 0.022*\"addit\"\n"
     ]
    },
    {
     "name": "stderr",
     "output_type": "stream",
     "text": [
      "2022-02-22 20:26:24,555 : INFO : topic #17 (0.012): 0.130*\"languag\" + 0.090*\",\" + 0.079*\"program\" + 0.026*\"-\" + 0.023*\"structur\" + 0.017*\"syntax\" + 0.016*\"semant\" + 0.013*\"form\" + 0.013*\"level\" + 0.012*\"defin\"\n",
      "2022-02-22 20:26:24,556 : INFO : topic #63 (0.013): 0.188*\"[\" + 0.168*\"algorithm\" + 0.162*\"(\" + 0.126*\"])\" + 0.021*\"matrix\" + 0.020*\"d1\" + 0.016*\"a1\" + 0.015*\"eigenvalu\" + 0.015*\")\" + 0.014*\"$\"\n",
      "2022-02-22 20:26:24,557 : INFO : topic #19 (0.019): 0.316*\"(\" + 0.310*\")\" + 0.241*\"algorithm\" + 0.030*\"integr\" + 0.015*\"complex\" + 0.014*\"$\" + 0.013*\"'\" + 0.010*\"))\" + 0.009*\"evalu\" + 0.009*\"invers\"\n",
      "2022-02-22 20:26:24,558 : INFO : topic diff=0.644526, rho=0.389191\n",
      "2022-02-22 20:26:25,268 : INFO : -6.632 per-word bound, 99.2 perplexity estimate based on a held-out corpus of 1204 documents with 49783 words\n",
      "2022-02-22 20:26:25,268 : INFO : PROGRESS: pass 4, at document #3204/3204\n",
      "2022-02-22 20:26:25,862 : INFO : optimized alpha [0.01016749, 0.010441066, 0.009934132, 0.010566611, 0.0105835395, 0.010011482, 0.011232522, 0.010496627, 0.01036948, 0.010758191, 0.009763611, 0.010293019, 0.011336764, 0.010070703, 0.011317775, 0.0104863765, 0.010385572, 0.012379231, 0.009989247, 0.020253815, 0.010343641, 0.011553458, 0.010149411, 0.010141167, 0.010129934, 0.010247539, 0.010298946, 0.0106824, 0.0099698845, 0.010351618, 0.010860162, 0.010175795, 0.010635326, 0.010028262, 0.010283567, 0.011111694, 0.0100676445, 0.009861364, 0.010206071, 0.010000898, 0.009806544, 0.010554391, 0.009848266, 0.011454822, 0.0101846745, 0.010766306, 0.010734854, 0.010544034, 0.010625093, 0.010348463, 0.010977262, 0.009909797, 0.0101222955, 0.010590963, 0.010355845, 0.010678888, 0.010073662, 0.011144494, 0.01016597, 0.011535451, 0.010515905, 0.010606749, 0.009546604, 0.01333712, 0.010624636, 0.010878959, 0.010299707, 0.009793591, 0.010669665, 0.01034678, 0.010443539, 0.010827735, 0.009868566, 0.010228876, 0.010225297, 0.009964956, 0.010576533, 0.0103043355, 0.011382148, 0.010971336, 0.00985728, 0.010771617, 0.010489061, 0.010553839, 0.011680707, 0.011897568, 0.010645484, 0.010883441, 0.010702307, 0.01007435, 0.011143123, 0.009981274, 0.010882228, 0.010093458, 0.010324961, 0.009967431, 0.010691032, 0.010434033, 0.01083206, 0.010015182]\n",
      "2022-02-22 20:26:25,876 : INFO : merging changes from 1204 documents into a model of 3204 documents\n",
      "2022-02-22 20:26:25,886 : INFO : topic #62 (0.010): 0.089*\",\" + 0.071*\"region\" + 0.053*\"-\" + 0.033*\"speed\" + 0.032*\"\"\" + 0.032*\"circular\" + 0.028*\"independ\" + 0.023*\"compar\" + 0.022*\"comput\" + 0.022*\"block\"\n",
      "2022-02-22 20:26:25,886 : INFO : topic #67 (0.010): 0.078*\"technolog\" + 0.077*\",\" + 0.065*\"chang\" + 0.060*\"respons\" + 0.059*\"potenti\" + 0.056*\"social\" + 0.053*\"educ\" + 0.050*\"arrang\" + 0.043*\"econom\" + 0.039*\"suggest\"\n",
      "2022-02-22 20:26:25,887 : INFO : topic #17 (0.012): 0.127*\"languag\" + 0.093*\",\" + 0.081*\"program\" + 0.024*\"-\" + 0.024*\"structur\" + 0.020*\"semant\" + 0.017*\"level\" + 0.017*\"syntax\" + 0.013*\"form\" + 0.012*\"defin\"\n",
      "2022-02-22 20:26:25,887 : INFO : topic #63 (0.013): 0.198*\"[\" + 0.165*\"algorithm\" + 0.152*\"(\" + 0.090*\"])\" + 0.025*\"d1\" + 0.025*\"$\" + 0.023*\"))\" + 0.022*\"matrix\" + 0.021*\"eigenvalu\" + 0.018*\"a1\"\n",
      "2022-02-22 20:26:25,887 : INFO : topic #19 (0.020): 0.322*\"(\" + 0.312*\")\" + 0.241*\"algorithm\" + 0.026*\"integr\" + 0.017*\"$\" + 0.016*\"complex\" + 0.013*\"))\" + 0.012*\"'\" + 0.008*\"evalu\" + 0.007*\"invers\"\n",
      "2022-02-22 20:26:25,888 : INFO : topic diff=0.707721, rho=0.389191\n",
      "2022-02-22 20:26:25,896 : INFO : PROGRESS: pass 5, at document #2000/3204\n",
      "2022-02-22 20:26:26,560 : INFO : optimized alpha [0.010155701, 0.010470999, 0.009911484, 0.010603096, 0.0106470045, 0.009958009, 0.011396785, 0.01050374, 0.010407535, 0.010894774, 0.009732076, 0.010289666, 0.011492268, 0.010150973, 0.011317173, 0.010528732, 0.010431136, 0.012582495, 0.009983043, 0.021918947, 0.010313081, 0.011764341, 0.010140399, 0.010132415, 0.010118002, 0.010371761, 0.010332846, 0.010749281, 0.009990206, 0.010357297, 0.01108718, 0.010150499, 0.010734862, 0.010042953, 0.010286796, 0.011182457, 0.010047041, 0.00981948, 0.01021845, 0.009997053, 0.009763709, 0.010725514, 0.009902008, 0.011424445, 0.010224984, 0.010803972, 0.010778968, 0.010559296, 0.010681041, 0.0103125395, 0.010985994, 0.009921362, 0.010106093, 0.01066501, 0.010357516, 0.01066689, 0.010027059, 0.011177288, 0.010180633, 0.011641171, 0.010709586, 0.01071038, 0.009513014, 0.013840342, 0.0106355995, 0.010823044, 0.010385433, 0.009786202, 0.010655113, 0.010293766, 0.010398668, 0.010855497, 0.009855481, 0.010298427, 0.010342907, 0.009954834, 0.010624973, 0.010270691, 0.011529763, 0.0111290505, 0.009801266, 0.010855615, 0.010503021, 0.010532281, 0.011633829, 0.011860353, 0.010737088, 0.010884382, 0.01081026, 0.010126249, 0.011255785, 0.010139691, 0.010934965, 0.01009499, 0.010372846, 0.00996166, 0.010705973, 0.010421651, 0.010978034, 0.009987872]\n",
      "2022-02-22 20:26:26,570 : INFO : merging changes from 2000 documents into a model of 3204 documents\n",
      "2022-02-22 20:26:26,580 : INFO : topic #62 (0.010): 0.087*\",\" + 0.059*\"region\" + 0.056*\"-\" + 0.041*\"speed\" + 0.032*\"\"\" + 0.029*\"independ\" + 0.029*\"circular\" + 0.027*\"comput\" + 0.023*\"compar\" + 0.022*\"block\"\n",
      "2022-02-22 20:26:26,581 : INFO : topic #10 (0.010): 0.055*\"alloc\" + 0.046*\"segment\" + 0.044*\"regist\" + 0.041*\"storag\" + 0.037*\"techniqu\" + 0.031*\"point\" + 0.027*\"determin\" + 0.025*\",\" + 0.023*\"addit\" + 0.022*\"intersect\"\n",
      "2022-02-22 20:26:26,581 : INFO : topic #17 (0.013): 0.138*\"languag\" + 0.094*\",\" + 0.078*\"program\" + 0.025*\"-\" + 0.023*\"structur\" + 0.018*\"syntax\" + 0.017*\"semant\" + 0.015*\"level\" + 0.013*\"form\" + 0.013*\"defin\"\n",
      "2022-02-22 20:26:26,582 : INFO : topic #63 (0.014): 0.196*\"[\" + 0.172*\"algorithm\" + 0.164*\"(\" + 0.129*\"])\" + 0.020*\"d1\" + 0.019*\"matrix\" + 0.017*\"eigenvalu\" + 0.016*\"$\" + 0.016*\"a1\" + 0.015*\"))\"\n",
      "2022-02-22 20:26:26,582 : INFO : topic #19 (0.022): 0.324*\"(\" + 0.317*\")\" + 0.239*\"algorithm\" + 0.028*\"integr\" + 0.014*\"complex\" + 0.013*\"$\" + 0.013*\"'\" + 0.009*\"evalu\" + 0.009*\"))\" + 0.007*\"invers\"\n",
      "2022-02-22 20:26:26,583 : INFO : topic diff=0.648842, rho=0.362690\n",
      "2022-02-22 20:26:27,267 : INFO : -6.590 per-word bound, 96.3 perplexity estimate based on a held-out corpus of 1204 documents with 49783 words\n",
      "2022-02-22 20:26:27,267 : INFO : PROGRESS: pass 5, at document #3204/3204\n",
      "2022-02-22 20:26:27,846 : INFO : optimized alpha [0.010263964, 0.010551173, 0.009991505, 0.010861178, 0.010794173, 0.010022222, 0.011633588, 0.01063982, 0.0105509525, 0.011062743, 0.009794712, 0.010407977, 0.011688767, 0.010275671, 0.011573408, 0.010710131, 0.010559132, 0.0129262, 0.010063816, 0.023701562, 0.010475039, 0.012030622, 0.010299621, 0.010220733, 0.010191432, 0.010431764, 0.010440798, 0.010889623, 0.010068972, 0.010516569, 0.011165054, 0.010205659, 0.010843538, 0.010097643, 0.010343503, 0.011422707, 0.010114476, 0.009902665, 0.010424461, 0.010015077, 0.009808858, 0.010788889, 0.009963043, 0.011730378, 0.010301434, 0.010969033, 0.010948199, 0.010758282, 0.010884632, 0.010390965, 0.011287127, 0.009985327, 0.010203563, 0.010787521, 0.010472628, 0.01079458, 0.010106958, 0.011433831, 0.010333048, 0.011880365, 0.0107311355, 0.010860059, 0.009545181, 0.01410466, 0.01081931, 0.011010826, 0.010521302, 0.009847872, 0.0108471215, 0.010438342, 0.010547484, 0.011034931, 0.009941765, 0.010380453, 0.010436504, 0.010013545, 0.01076873, 0.0104362825, 0.011783665, 0.01128991, 0.009894674, 0.011022899, 0.010596306, 0.010748103, 0.0120178135, 0.012189937, 0.010860653, 0.011077837, 0.010965933, 0.010243709, 0.011564421, 0.010158655, 0.011175266, 0.010199791, 0.010494893, 0.010037137, 0.010871071, 0.010549832, 0.011140489, 0.0100524295]\n",
      "2022-02-22 20:26:27,862 : INFO : merging changes from 1204 documents into a model of 3204 documents\n",
      "2022-02-22 20:26:27,873 : INFO : topic #62 (0.010): 0.088*\",\" + 0.072*\"region\" + 0.051*\"-\" + 0.042*\"independ\" + 0.037*\"speed\" + 0.034*\"\"\" + 0.032*\"circular\" + 0.027*\"compar\" + 0.023*\"block\" + 0.022*\"comput\"\n",
      "2022-02-22 20:26:27,874 : INFO : topic #40 (0.010): 0.067*\",\" + 0.044*\"plan\" + 0.039*\"cost\" + 0.038*\"?\" + 0.037*\"method\" + 0.032*\"quadrat\" + 0.027*\"comput\" + 0.016*\"abl\" + 0.016*\"simul\" + 0.016*\"express\"\n",
      "2022-02-22 20:26:27,874 : INFO : topic #17 (0.013): 0.134*\"languag\" + 0.096*\",\" + 0.080*\"program\" + 0.025*\"structur\" + 0.024*\"-\" + 0.021*\"semant\" + 0.019*\"level\" + 0.018*\"syntax\" + 0.013*\"form\" + 0.013*\"defin\"\n"
     ]
    },
    {
     "name": "stderr",
     "output_type": "stream",
     "text": [
      "2022-02-22 20:26:27,875 : INFO : topic #63 (0.014): 0.201*\"[\" + 0.171*\"algorithm\" + 0.155*\"(\" + 0.094*\"])\" + 0.030*\"$\" + 0.028*\"))\" + 0.025*\"d1\" + 0.022*\"eigenvalu\" + 0.021*\"matrix\" + 0.017*\"a1\"\n",
      "2022-02-22 20:26:27,875 : INFO : topic #19 (0.024): 0.330*\"(\" + 0.321*\")\" + 0.237*\"algorithm\" + 0.026*\"integr\" + 0.015*\"complex\" + 0.013*\"$\" + 0.012*\"'\" + 0.010*\"))\" + 0.008*\"evalu\" + 0.006*\"invers\"\n",
      "2022-02-22 20:26:27,876 : INFO : topic diff=0.673339, rho=0.362690\n",
      "2022-02-22 20:26:27,885 : INFO : PROGRESS: pass 6, at document #2000/3204\n",
      "2022-02-22 20:26:28,618 : INFO : optimized alpha [0.010256527, 0.010577886, 0.009979223, 0.010909534, 0.010863305, 0.009972879, 0.011812566, 0.0106648, 0.010592137, 0.01120781, 0.009777454, 0.010410131, 0.011841236, 0.010356975, 0.011579258, 0.010757087, 0.010614792, 0.013129702, 0.010051416, 0.025472036, 0.010452976, 0.0122413905, 0.010285368, 0.010219833, 0.010194667, 0.010549736, 0.0104693035, 0.010954653, 0.010097069, 0.010528801, 0.011386411, 0.0101896785, 0.01093793, 0.010111958, 0.010352484, 0.011506789, 0.010104382, 0.009875721, 0.01045855, 0.010019274, 0.009771343, 0.010964914, 0.010021038, 0.011707536, 0.010339737, 0.011004188, 0.011002664, 0.010792406, 0.0109388055, 0.01036138, 0.011297343, 0.010011986, 0.01019372, 0.010863158, 0.010484994, 0.010788795, 0.010072447, 0.011461767, 0.010360642, 0.011984093, 0.010921439, 0.010963892, 0.009526066, 0.014618956, 0.0108401915, 0.01095936, 0.010615203, 0.009841433, 0.010840045, 0.010390071, 0.010517811, 0.011060719, 0.009941809, 0.01045348, 0.01055371, 0.010018434, 0.010827195, 0.010402288, 0.011938481, 0.011449988, 0.00984588, 0.011106172, 0.01061516, 0.010730349, 0.0119699845, 0.012152182, 0.010954975, 0.011079867, 0.01108743, 0.010303254, 0.01168281, 0.010323542, 0.011237986, 0.010210166, 0.010545537, 0.010032066, 0.010893958, 0.010541675, 0.011291161, 0.010032655]\n",
      "2022-02-22 20:26:28,625 : INFO : merging changes from 2000 documents into a model of 3204 documents\n",
      "2022-02-22 20:26:28,634 : INFO : topic #62 (0.010): 0.087*\",\" + 0.061*\"region\" + 0.054*\"-\" + 0.046*\"speed\" + 0.042*\"independ\" + 0.033*\"\"\" + 0.028*\"circular\" + 0.028*\"comput\" + 0.026*\"compar\" + 0.024*\"block\"\n",
      "2022-02-22 20:26:28,635 : INFO : topic #40 (0.010): 0.070*\",\" + 0.045*\"plan\" + 0.038*\"method\" + 0.036*\"cost\" + 0.033*\"?\" + 0.028*\"comput\" + 0.025*\"quadrat\" + 0.017*\"chain\" + 0.016*\"simul\" + 0.016*\"character\"\n",
      "2022-02-22 20:26:28,636 : INFO : topic #17 (0.013): 0.145*\"languag\" + 0.097*\",\" + 0.077*\"program\" + 0.025*\"-\" + 0.023*\"structur\" + 0.019*\"syntax\" + 0.017*\"semant\" + 0.016*\"level\" + 0.013*\"form\" + 0.013*\"defin\"\n",
      "2022-02-22 20:26:28,636 : INFO : topic #63 (0.015): 0.199*\"[\" + 0.176*\"algorithm\" + 0.166*\"(\" + 0.130*\"])\" + 0.020*\"$\" + 0.020*\"d1\" + 0.019*\"))\" + 0.018*\"matrix\" + 0.018*\"eigenvalu\" + 0.016*\"a1\"\n",
      "2022-02-22 20:26:28,637 : INFO : topic #19 (0.025): 0.331*\"(\" + 0.325*\")\" + 0.235*\"algorithm\" + 0.027*\"integr\" + 0.014*\"complex\" + 0.013*\"'\" + 0.011*\"$\" + 0.009*\"evalu\" + 0.007*\"))\" + 0.005*\"simpson\"\n",
      "2022-02-22 20:26:28,638 : INFO : topic diff=0.596939, rho=0.340958\n",
      "2022-02-22 20:26:29,405 : INFO : -6.555 per-word bound, 94.0 perplexity estimate based on a held-out corpus of 1204 documents with 49783 words\n",
      "2022-02-22 20:26:29,406 : INFO : PROGRESS: pass 6, at document #3204/3204\n",
      "2022-02-22 20:26:30,031 : INFO : optimized alpha [0.010373874, 0.010653749, 0.010060903, 0.011194034, 0.01100594, 0.010037026, 0.012059485, 0.01080932, 0.010731199, 0.011373625, 0.009837194, 0.010536855, 0.012038403, 0.010492934, 0.0118334135, 0.010944912, 0.01073944, 0.0134679, 0.010122375, 0.027287453, 0.0106005585, 0.012507139, 0.010454336, 0.010315177, 0.010279067, 0.010602907, 0.010571551, 0.011090793, 0.010177456, 0.010689099, 0.011458705, 0.010245355, 0.011012351, 0.010166789, 0.010409311, 0.011739392, 0.010168542, 0.009951878, 0.010666951, 0.010034184, 0.009834415, 0.011026855, 0.010084463, 0.01199631, 0.010415027, 0.011167029, 0.011163512, 0.011003694, 0.011160432, 0.010438855, 0.011592078, 0.010089865, 0.010292062, 0.010985204, 0.010591175, 0.010919286, 0.0101715615, 0.011709824, 0.010514196, 0.012215327, 0.010940494, 0.011118384, 0.009568151, 0.014887068, 0.011027243, 0.011140626, 0.010746951, 0.009902848, 0.011016216, 0.010521275, 0.010655972, 0.011243924, 0.010037904, 0.010539806, 0.010647941, 0.010080136, 0.010988332, 0.0105654225, 0.012191471, 0.01159912, 0.0099543985, 0.011268218, 0.010706558, 0.01095398, 0.012334775, 0.012452842, 0.011081114, 0.011263645, 0.011235126, 0.010423342, 0.012005894, 0.010361044, 0.011473737, 0.010318295, 0.0106702745, 0.0101093855, 0.011056845, 0.010678216, 0.0114485705, 0.010099894]\n",
      "2022-02-22 20:26:30,039 : INFO : merging changes from 1204 documents into a model of 3204 documents\n",
      "2022-02-22 20:26:30,050 : INFO : topic #62 (0.010): 0.088*\",\" + 0.071*\"region\" + 0.052*\"independ\" + 0.049*\"-\" + 0.042*\"speed\" + 0.036*\"\"\" + 0.031*\"circular\" + 0.029*\"compar\" + 0.026*\"block\" + 0.023*\"comput\"\n",
      "2022-02-22 20:26:30,050 : INFO : topic #10 (0.010): 0.064*\"segment\" + 0.052*\"alloc\" + 0.048*\"regist\" + 0.044*\"storag\" + 0.043*\"techniqu\" + 0.032*\"point\" + 0.028*\"determin\" + 0.026*\"intersect\" + 0.026*\"addit\" + 0.023*\"scheme\"\n",
      "2022-02-22 20:26:30,051 : INFO : topic #17 (0.013): 0.141*\"languag\" + 0.099*\",\" + 0.078*\"program\" + 0.024*\"structur\" + 0.024*\"-\" + 0.021*\"semant\" + 0.020*\"level\" + 0.019*\"syntax\" + 0.013*\"form\" + 0.013*\"defin\"\n",
      "2022-02-22 20:26:30,051 : INFO : topic #63 (0.015): 0.201*\"[\" + 0.178*\"algorithm\" + 0.158*\"(\" + 0.096*\"])\" + 0.036*\"$\" + 0.033*\"))\" + 0.024*\"d1\" + 0.022*\"eigenvalu\" + 0.020*\"matrix\" + 0.017*\"a1\"\n",
      "2022-02-22 20:26:30,052 : INFO : topic #19 (0.027): 0.338*\"(\" + 0.331*\")\" + 0.230*\"algorithm\" + 0.025*\"integr\" + 0.015*\"complex\" + 0.012*\"'\" + 0.010*\"$\" + 0.007*\"evalu\" + 0.006*\"))\" + 0.005*\"invers\"\n",
      "2022-02-22 20:26:30,053 : INFO : topic diff=0.603957, rho=0.340958\n",
      "2022-02-22 20:26:30,062 : INFO : PROGRESS: pass 7, at document #2000/3204\n",
      "2022-02-22 20:26:30,803 : INFO : optimized alpha [0.010371922, 0.010686368, 0.010051184, 0.011248153, 0.011084397, 0.009994437, 0.012243973, 0.010843635, 0.010777182, 0.011522029, 0.009826221, 0.010543809, 0.01219046, 0.010587453, 0.011851074, 0.010999865, 0.010795908, 0.013668403, 0.010107775, 0.029156627, 0.010579332, 0.012720942, 0.010450504, 0.010317823, 0.0103024645, 0.01071734, 0.010607282, 0.011150983, 0.010214266, 0.010703826, 0.0116719445, 0.01023256, 0.011111591, 0.010182497, 0.010423404, 0.011836247, 0.010162816, 0.009926736, 0.010707371, 0.010045434, 0.009805941, 0.011190502, 0.010136629, 0.011982494, 0.010455019, 0.011200025, 0.011216953, 0.011044537, 0.0112169115, 0.010414719, 0.011596294, 0.01012531, 0.010287955, 0.011069682, 0.010613359, 0.010915434, 0.010144189, 0.011743067, 0.010543575, 0.012315863, 0.0111249965, 0.01122818, 0.009560089, 0.015402934, 0.011051914, 0.011093054, 0.010854059, 0.009906786, 0.011007098, 0.010480644, 0.010631141, 0.011275307, 0.010054402, 0.010614624, 0.010765357, 0.010091771, 0.011051181, 0.010543066, 0.012351918, 0.011750945, 0.009910053, 0.011342196, 0.0107264165, 0.010941304, 0.012296235, 0.01241071, 0.011182033, 0.011268602, 0.011377406, 0.010493453, 0.012120676, 0.01053118, 0.011538516, 0.010329913, 0.010730616, 0.010106538, 0.011081832, 0.010680712, 0.011598738, 0.010081676]\n",
      "2022-02-22 20:26:30,809 : INFO : merging changes from 2000 documents into a model of 3204 documents\n",
      "2022-02-22 20:26:30,819 : INFO : topic #62 (0.010): 0.086*\",\" + 0.061*\"region\" + 0.053*\"speed\" + 0.052*\"-\" + 0.050*\"independ\" + 0.035*\"\"\" + 0.028*\"comput\" + 0.028*\"circular\" + 0.028*\"compar\" + 0.025*\"block\"\n",
      "2022-02-22 20:26:30,819 : INFO : topic #40 (0.010): 0.068*\",\" + 0.050*\"cost\" + 0.045*\"plan\" + 0.040*\"method\" + 0.034*\"?\" + 0.029*\"comput\" + 0.027*\"quadrat\" + 0.018*\"simul\" + 0.016*\"character\" + 0.015*\"maxim\"\n",
      "2022-02-22 20:26:30,819 : INFO : topic #17 (0.014): 0.151*\"languag\" + 0.099*\",\" + 0.075*\"program\" + 0.025*\"-\" + 0.023*\"structur\" + 0.020*\"syntax\" + 0.018*\"semant\" + 0.018*\"level\" + 0.013*\"form\" + 0.013*\"defin\"\n",
      "2022-02-22 20:26:30,820 : INFO : topic #63 (0.015): 0.199*\"[\" + 0.181*\"algorithm\" + 0.168*\"(\" + 0.129*\"])\" + 0.025*\"$\" + 0.023*\"))\" + 0.020*\"d1\" + 0.018*\"eigenvalu\" + 0.017*\"matrix\" + 0.016*\"a1\"\n",
      "2022-02-22 20:26:30,820 : INFO : topic #19 (0.029): 0.337*\"(\" + 0.333*\")\" + 0.231*\"algorithm\" + 0.027*\"integr\" + 0.014*\"complex\" + 0.013*\"'\" + 0.008*\"$\" + 0.008*\"evalu\" + 0.005*\"simpson\" + 0.005*\"))\"\n"
     ]
    },
    {
     "name": "stderr",
     "output_type": "stream",
     "text": [
      "2022-02-22 20:26:30,821 : INFO : topic diff=0.527532, rho=0.322715\n",
      "2022-02-22 20:26:31,531 : INFO : -6.526 per-word bound, 92.1 perplexity estimate based on a held-out corpus of 1204 documents with 49783 words\n",
      "2022-02-22 20:26:31,531 : INFO : PROGRESS: pass 7, at document #3204/3204\n",
      "2022-02-22 20:26:32,182 : INFO : optimized alpha [0.0104953395, 0.010761708, 0.010126605, 0.011547301, 0.011229623, 0.010053378, 0.012502064, 0.010993662, 0.010913022, 0.011686813, 0.009891454, 0.010664874, 0.0123693645, 0.010749006, 0.012101528, 0.011182818, 0.010914919, 0.014010337, 0.010186565, 0.03099448, 0.010723158, 0.0129668815, 0.01063219, 0.010406137, 0.0103969425, 0.010778993, 0.0107219, 0.011286971, 0.010301949, 0.010857195, 0.011739612, 0.010288803, 0.01118209, 0.01024045, 0.010480721, 0.012076036, 0.010229831, 0.010007635, 0.01092198, 0.010071045, 0.009871867, 0.011251669, 0.010205248, 0.012253477, 0.010526831, 0.01134653, 0.011352332, 0.011265617, 0.011438728, 0.01049172, 0.011895756, 0.010207982, 0.010390225, 0.011182953, 0.010717591, 0.011039902, 0.010236062, 0.011975076, 0.010701822, 0.012547552, 0.011145057, 0.011381804, 0.009616169, 0.015671806, 0.011237025, 0.01126639, 0.010996578, 0.009978892, 0.011175597, 0.010605954, 0.010766073, 0.011456768, 0.010159753, 0.01070541, 0.010854927, 0.010159145, 0.01122912, 0.010704735, 0.0125988955, 0.011899406, 0.010021967, 0.011497172, 0.01081366, 0.011152801, 0.012661179, 0.0127091855, 0.011308294, 0.011438339, 0.011546236, 0.010613737, 0.012452844, 0.010580234, 0.011777556, 0.010433144, 0.010849787, 0.0101776775, 0.011246531, 0.010808267, 0.0117709385, 0.010151586]\n",
      "2022-02-22 20:26:32,189 : INFO : merging changes from 1204 documents into a model of 3204 documents\n",
      "2022-02-22 20:26:32,199 : INFO : topic #62 (0.010): 0.087*\",\" + 0.070*\"region\" + 0.060*\"independ\" + 0.048*\"-\" + 0.047*\"speed\" + 0.036*\"\"\" + 0.032*\"compar\" + 0.030*\"circular\" + 0.028*\"block\" + 0.024*\"comput\"\n",
      "2022-02-22 20:26:32,200 : INFO : topic #40 (0.010): 0.066*\"cost\" + 0.062*\",\" + 0.043*\"plan\" + 0.042*\"method\" + 0.037*\"?\" + 0.033*\"quadrat\" + 0.028*\"comput\" + 0.019*\"simul\" + 0.017*\"express\" + 0.016*\"present\"\n",
      "2022-02-22 20:26:32,201 : INFO : topic #17 (0.014): 0.148*\"languag\" + 0.101*\",\" + 0.076*\"program\" + 0.024*\"-\" + 0.024*\"structur\" + 0.022*\"semant\" + 0.022*\"level\" + 0.019*\"syntax\" + 0.013*\"form\" + 0.013*\"defin\"\n",
      "2022-02-22 20:26:32,202 : INFO : topic #63 (0.016): 0.200*\"[\" + 0.182*\"algorithm\" + 0.161*\"(\" + 0.097*\"])\" + 0.039*\"$\" + 0.036*\"))\" + 0.023*\"d1\" + 0.022*\"eigenvalu\" + 0.019*\"matrix\" + 0.017*\"a1\"\n",
      "2022-02-22 20:26:32,202 : INFO : topic #19 (0.031): 0.344*\"(\" + 0.339*\")\" + 0.225*\"algorithm\" + 0.025*\"integr\" + 0.015*\"complex\" + 0.012*\"'\" + 0.008*\"$\" + 0.007*\"evalu\" + 0.005*\"simpson\" + 0.004*\"))\"\n",
      "2022-02-22 20:26:32,203 : INFO : topic diff=0.529749, rho=0.322715\n",
      "2022-02-22 20:26:32,211 : INFO : PROGRESS: pass 8, at document #2000/3204\n",
      "2022-02-22 20:26:32,895 : INFO : optimized alpha [0.010498291, 0.010801496, 0.010112958, 0.011603604, 0.011323851, 0.010015078, 0.012686552, 0.011046818, 0.010960384, 0.011830139, 0.009887569, 0.010676366, 0.01252561, 0.0108432155, 0.012121133, 0.011243764, 0.010979218, 0.014215225, 0.010174541, 0.03297836, 0.010704268, 0.013168318, 0.010627946, 0.010412048, 0.010437206, 0.010882342, 0.010759397, 0.011337463, 0.010337338, 0.010877619, 0.011942286, 0.0102884015, 0.011270549, 0.010259007, 0.010496274, 0.012164996, 0.010239114, 0.009993319, 0.01096855, 0.010088646, 0.009852917, 0.011418079, 0.010255374, 0.012240572, 0.0105685275, 0.011379554, 0.011406916, 0.011300568, 0.011499271, 0.010478883, 0.01188709, 0.010243649, 0.010388066, 0.011269212, 0.010752068, 0.011044875, 0.010211828, 0.012000429, 0.010734541, 0.012645637, 0.011328282, 0.0114891855, 0.009620819, 0.016193233, 0.011268826, 0.011222326, 0.011113263, 0.009989147, 0.011173398, 0.01056731, 0.010743925, 0.01149179, 0.010177101, 0.010778935, 0.010972967, 0.010181702, 0.011296078, 0.01068786, 0.0127558615, 0.012053167, 0.009981307, 0.011571471, 0.010834535, 0.011144927, 0.012639192, 0.012666932, 0.011408717, 0.011446229, 0.01169082, 0.010681056, 0.012564588, 0.010762584, 0.011851834, 0.010445922, 0.010907666, 0.010180017, 0.011271788, 0.010812209, 0.0119286, 0.010137839]\n",
      "2022-02-22 20:26:32,904 : INFO : merging changes from 2000 documents into a model of 3204 documents\n",
      "2022-02-22 20:26:32,915 : INFO : topic #62 (0.010): 0.086*\",\" + 0.061*\"region\" + 0.059*\"independ\" + 0.057*\"speed\" + 0.051*\"-\" + 0.036*\"\"\" + 0.032*\"compar\" + 0.028*\"comput\" + 0.028*\"circular\" + 0.027*\"block\"\n",
      "2022-02-22 20:26:32,916 : INFO : topic #40 (0.010): 0.065*\",\" + 0.065*\"cost\" + 0.044*\"plan\" + 0.044*\"method\" + 0.033*\"?\" + 0.029*\"comput\" + 0.027*\"quadrat\" + 0.019*\"simul\" + 0.016*\"character\" + 0.015*\"present\"\n",
      "2022-02-22 20:26:32,916 : INFO : topic #17 (0.014): 0.157*\"languag\" + 0.102*\",\" + 0.074*\"program\" + 0.025*\"-\" + 0.022*\"structur\" + 0.020*\"syntax\" + 0.019*\"level\" + 0.019*\"semant\" + 0.014*\"form\" + 0.013*\"translat\"\n",
      "2022-02-22 20:26:32,917 : INFO : topic #63 (0.016): 0.199*\"[\" + 0.184*\"algorithm\" + 0.171*\"(\" + 0.129*\"])\" + 0.028*\"$\" + 0.026*\"))\" + 0.020*\"d1\" + 0.018*\"eigenvalu\" + 0.017*\"matrix\" + 0.016*\"a1\"\n",
      "2022-02-22 20:26:32,917 : INFO : topic #19 (0.033): 0.343*\"(\" + 0.340*\")\" + 0.226*\"algorithm\" + 0.026*\"integr\" + 0.013*\"complex\" + 0.013*\"'\" + 0.008*\"evalu\" + 0.007*\"$\" + 0.005*\"simpson\" + 0.003*\"invers\"\n",
      "2022-02-22 20:26:32,918 : INFO : topic diff=0.459989, rho=0.307119\n",
      "2022-02-22 20:26:33,683 : INFO : -6.503 per-word bound, 90.7 perplexity estimate based on a held-out corpus of 1204 documents with 49783 words\n",
      "2022-02-22 20:26:33,683 : INFO : PROGRESS: pass 8, at document #3204/3204\n",
      "2022-02-22 20:26:34,312 : INFO : optimized alpha [0.010619502, 0.010876613, 0.010188047, 0.011912217, 0.011469229, 0.010079663, 0.012949778, 0.011196784, 0.011090819, 0.011985482, 0.00994265, 0.01080071, 0.012700852, 0.0110155875, 0.012378487, 0.011434241, 0.011104681, 0.014547597, 0.010247668, 0.034849465, 0.010847842, 0.013416242, 0.010827796, 0.010499467, 0.010541297, 0.010949295, 0.010872157, 0.011473696, 0.01041881, 0.011030624, 0.012009024, 0.010347916, 0.011331963, 0.010319906, 0.010559491, 0.012384111, 0.010300783, 0.010089071, 0.011181549, 0.010121411, 0.009926573, 0.011484448, 0.010313202, 0.012505084, 0.010640027, 0.011523053, 0.01154582, 0.011511151, 0.011725044, 0.010552875, 0.01217993, 0.010330821, 0.010486146, 0.0113834245, 0.010852001, 0.011175716, 0.010305287, 0.012211769, 0.010878455, 0.012869023, 0.01134346, 0.011639655, 0.009674826, 0.016459374, 0.011452911, 0.011391487, 0.011259214, 0.010055851, 0.011352631, 0.010690287, 0.010879082, 0.011666403, 0.010283543, 0.010868583, 0.011058485, 0.01024637, 0.01147325, 0.0108460635, 0.012997783, 0.012201564, 0.01011462, 0.011732258, 0.010918223, 0.011354354, 0.012992895, 0.0129449805, 0.011535617, 0.011624085, 0.011865285, 0.010799164, 0.012890947, 0.01081965, 0.012110323, 0.0105529735, 0.011021952, 0.010253537, 0.011430105, 0.010940262, 0.012103338, 0.010210267]\n",
      "2022-02-22 20:26:34,332 : INFO : merging changes from 1204 documents into a model of 3204 documents\n",
      "2022-02-22 20:26:34,342 : INFO : topic #62 (0.010): 0.086*\",\" + 0.071*\"region\" + 0.065*\"independ\" + 0.050*\"speed\" + 0.046*\"-\" + 0.035*\"compar\" + 0.035*\"\"\" + 0.029*\"circular\" + 0.027*\"block\" + 0.024*\"comput\"\n",
      "2022-02-22 20:26:34,342 : INFO : topic #10 (0.010): 0.085*\"segment\" + 0.050*\"regist\" + 0.045*\"alloc\" + 0.044*\"techniqu\" + 0.041*\"storag\" + 0.037*\"point\" + 0.032*\"scheme\" + 0.028*\"determin\" + 0.028*\"intersect\" + 0.023*\"paper\"\n",
      "2022-02-22 20:26:34,343 : INFO : topic #17 (0.015): 0.153*\"languag\" + 0.103*\",\" + 0.075*\"program\" + 0.024*\"-\" + 0.023*\"structur\" + 0.022*\"level\" + 0.022*\"semant\" + 0.020*\"syntax\" + 0.013*\"form\" + 0.013*\"defin\"\n",
      "2022-02-22 20:26:34,344 : INFO : topic #63 (0.016): 0.199*\"[\" + 0.185*\"algorithm\" + 0.164*\"(\" + 0.099*\"])\" + 0.041*\"$\" + 0.039*\"))\" + 0.023*\"d1\" + 0.021*\"eigenvalu\" + 0.018*\"matrix\" + 0.017*\"a1\"\n",
      "2022-02-22 20:26:34,345 : INFO : topic #19 (0.035): 0.350*\"(\" + 0.345*\")\" + 0.220*\"algorithm\" + 0.024*\"integr\" + 0.015*\"complex\" + 0.013*\"'\" + 0.007*\"evalu\" + 0.006*\"$\" + 0.005*\"simpson\" + 0.003*\"invers\"\n",
      "2022-02-22 20:26:34,346 : INFO : topic diff=0.461443, rho=0.307119\n"
     ]
    },
    {
     "name": "stderr",
     "output_type": "stream",
     "text": [
      "2022-02-22 20:26:34,353 : INFO : PROGRESS: pass 9, at document #2000/3204\n",
      "2022-02-22 20:26:35,053 : INFO : optimized alpha [0.010625437, 0.010921562, 0.010178217, 0.011972512, 0.011565152, 0.010043648, 0.013135137, 0.011247773, 0.011132982, 0.012124263, 0.009936414, 0.010824389, 0.012857978, 0.011117946, 0.012407147, 0.011507775, 0.0111714555, 0.014746899, 0.0102380365, 0.036894664, 0.010835858, 0.013616382, 0.010832586, 0.010508419, 0.010594155, 0.011060295, 0.0109097725, 0.0115221795, 0.010454514, 0.01104673, 0.012200428, 0.010347978, 0.011418919, 0.010339558, 0.0105763655, 0.012480584, 0.010316097, 0.010078441, 0.011234082, 0.010143289, 0.009914716, 0.011647336, 0.010363079, 0.012491276, 0.010677202, 0.011556242, 0.011593095, 0.011551084, 0.01178455, 0.010545671, 0.0121716615, 0.010368297, 0.010487326, 0.011474986, 0.010885223, 0.011185308, 0.0102869, 0.012240879, 0.010912921, 0.012968873, 0.011520981, 0.011748561, 0.009678249, 0.016975366, 0.0114881145, 0.011350499, 0.011370431, 0.010064507, 0.011350002, 0.010656475, 0.010854449, 0.011706722, 0.010309324, 0.010937906, 0.011175907, 0.010271421, 0.011542578, 0.010827966, 0.0131593775, 0.012350478, 0.0100785205, 0.01180894, 0.010940041, 0.011344247, 0.012976968, 0.012902759, 0.0116292015, 0.01163292, 0.012021411, 0.010873542, 0.013009529, 0.011009552, 0.012190229, 0.010568318, 0.011079281, 0.010257582, 0.011450675, 0.010943884, 0.012254474, 0.01020194]\n",
      "2022-02-22 20:26:35,066 : INFO : merging changes from 2000 documents into a model of 3204 documents\n",
      "2022-02-22 20:26:35,076 : INFO : topic #62 (0.010): 0.086*\",\" + 0.065*\"independ\" + 0.063*\"region\" + 0.060*\"speed\" + 0.049*\"-\" + 0.034*\"\"\" + 0.034*\"compar\" + 0.028*\"comput\" + 0.028*\"circular\" + 0.026*\"block\"\n",
      "2022-02-22 20:26:35,077 : INFO : topic #10 (0.010): 0.089*\"segment\" + 0.051*\"regist\" + 0.043*\"alloc\" + 0.043*\"techniqu\" + 0.039*\"point\" + 0.038*\"storag\" + 0.032*\"scheme\" + 0.031*\"determin\" + 0.027*\"intersect\" + 0.022*\",\"\n",
      "2022-02-22 20:26:35,077 : INFO : topic #17 (0.015): 0.162*\"languag\" + 0.104*\",\" + 0.073*\"program\" + 0.024*\"-\" + 0.021*\"structur\" + 0.021*\"syntax\" + 0.020*\"level\" + 0.019*\"semant\" + 0.014*\"form\" + 0.013*\"translat\"\n",
      "2022-02-22 20:26:35,078 : INFO : topic #63 (0.017): 0.198*\"[\" + 0.187*\"algorithm\" + 0.172*\"(\" + 0.129*\"])\" + 0.029*\"$\" + 0.028*\"))\" + 0.020*\"d1\" + 0.018*\"eigenvalu\" + 0.016*\"matrix\" + 0.016*\"a1\"\n",
      "2022-02-22 20:26:35,078 : INFO : topic #19 (0.037): 0.348*\"(\" + 0.345*\")\" + 0.222*\"algorithm\" + 0.025*\"integr\" + 0.013*\"complex\" + 0.013*\"'\" + 0.008*\"evalu\" + 0.006*\"$\" + 0.005*\"simpson\" + 0.003*\"invers\"\n",
      "2022-02-22 20:26:35,080 : INFO : topic diff=0.400562, rho=0.293585\n",
      "2022-02-22 20:26:35,876 : INFO : -6.487 per-word bound, 89.7 perplexity estimate based on a held-out corpus of 1204 documents with 49783 words\n",
      "2022-02-22 20:26:35,876 : INFO : PROGRESS: pass 9, at document #3204/3204\n",
      "2022-02-22 20:26:36,529 : INFO : optimized alpha [0.0107371155, 0.010993972, 0.010245693, 0.012279688, 0.011713896, 0.01010864, 0.0133980485, 0.011395427, 0.011264216, 0.012274069, 0.009996996, 0.010946911, 0.013023853, 0.011290438, 0.012668909, 0.011700716, 0.011303273, 0.015074394, 0.010308646, 0.0387337, 0.010977028, 0.013856978, 0.011042316, 0.010595272, 0.010702295, 0.011129812, 0.011029131, 0.0116676185, 0.010538105, 0.011205379, 0.012260665, 0.010418209, 0.011480557, 0.010395811, 0.010642556, 0.012692954, 0.010375589, 0.010183205, 0.011457205, 0.010177649, 0.009990756, 0.011713293, 0.010423857, 0.012756824, 0.010759098, 0.011691863, 0.011729885, 0.011769531, 0.011994857, 0.010622303, 0.012468062, 0.010467578, 0.010581938, 0.011587646, 0.010986804, 0.011314328, 0.010377064, 0.01245133, 0.011059822, 0.0131851155, 0.011534621, 0.011896724, 0.009739984, 0.017235441, 0.011677509, 0.011517834, 0.011516795, 0.010131328, 0.011523197, 0.01077244, 0.010990181, 0.011875496, 0.010427185, 0.0110241035, 0.011257924, 0.010338882, 0.011713867, 0.010983392, 0.013413548, 0.0125053525, 0.010214718, 0.011958392, 0.011026116, 0.011555205, 0.013336945, 0.013168676, 0.011751467, 0.011801883, 0.012196126, 0.010992679, 0.0133345, 0.011071701, 0.012438453, 0.010666438, 0.011197608, 0.010333534, 0.011606351, 0.011064671, 0.012420278, 0.010274351]\n",
      "2022-02-22 20:26:36,536 : INFO : merging changes from 1204 documents into a model of 3204 documents\n",
      "2022-02-22 20:26:36,547 : INFO : topic #62 (0.010): 0.086*\",\" + 0.072*\"independ\" + 0.071*\"region\" + 0.051*\"speed\" + 0.044*\"-\" + 0.037*\"compar\" + 0.034*\"\"\" + 0.029*\"circular\" + 0.025*\"block\" + 0.024*\"comput\"\n",
      "2022-02-22 20:26:36,548 : INFO : topic #10 (0.010): 0.094*\"segment\" + 0.052*\"regist\" + 0.044*\"techniqu\" + 0.039*\"alloc\" + 0.039*\"point\" + 0.037*\"storag\" + 0.035*\"scheme\" + 0.030*\"intersect\" + 0.029*\"determin\" + 0.025*\"paper\"\n",
      "2022-02-22 20:26:36,548 : INFO : topic #17 (0.015): 0.158*\"languag\" + 0.105*\",\" + 0.074*\"program\" + 0.023*\"-\" + 0.023*\"level\" + 0.022*\"semant\" + 0.022*\"structur\" + 0.020*\"syntax\" + 0.013*\"form\" + 0.012*\"defin\"\n",
      "2022-02-22 20:26:36,549 : INFO : topic #63 (0.017): 0.199*\"[\" + 0.187*\"algorithm\" + 0.166*\"(\" + 0.100*\"])\" + 0.042*\"$\" + 0.040*\"))\" + 0.023*\"d1\" + 0.021*\"eigenvalu\" + 0.018*\"matrix\" + 0.016*\"a1\"\n",
      "2022-02-22 20:26:36,549 : INFO : topic #19 (0.039): 0.354*\"(\" + 0.350*\")\" + 0.217*\"algorithm\" + 0.023*\"integr\" + 0.014*\"complex\" + 0.012*\"'\" + 0.007*\"evalu\" + 0.005*\"$\" + 0.005*\"simpson\" + 0.002*\"invers\"\n",
      "2022-02-22 20:26:36,550 : INFO : topic diff=0.403904, rho=0.293585\n",
      "2022-02-22 20:26:36,559 : INFO : PROGRESS: pass 10, at document #2000/3204\n",
      "2022-02-22 20:26:37,286 : INFO : optimized alpha [0.010750518, 0.01103132, 0.01024242, 0.012343758, 0.011805173, 0.010078901, 0.013577085, 0.011449484, 0.011309517, 0.012412339, 0.0099955555, 0.0109665, 0.013176505, 0.0113897165, 0.012702656, 0.011771609, 0.011370968, 0.015270516, 0.010301149, 0.04083881, 0.010966809, 0.014054252, 0.011049331, 0.010605553, 0.010756394, 0.011235862, 0.01107319, 0.01171755, 0.010575635, 0.011225326, 0.0124486815, 0.010415608, 0.011568048, 0.010415086, 0.010666653, 0.012795062, 0.010395135, 0.010170104, 0.011513869, 0.010199176, 0.009981035, 0.011874954, 0.010473686, 0.0127348285, 0.010796562, 0.01172865, 0.0117771095, 0.0118024135, 0.012055218, 0.0106232455, 0.012454827, 0.010505276, 0.010581691, 0.0116763245, 0.011022014, 0.011321891, 0.010361044, 0.012475186, 0.011095956, 0.01328327, 0.011710402, 0.01200222, 0.009749115, 0.017746596, 0.011712636, 0.011476358, 0.0116295125, 0.01014138, 0.01152351, 0.010738478, 0.010971014, 0.011920925, 0.010449048, 0.011091166, 0.011373429, 0.010369179, 0.011780727, 0.010965567, 0.013568924, 0.012651826, 0.010187097, 0.012025668, 0.01104575, 0.0115428725, 0.013322785, 0.013126434, 0.011842103, 0.011811664, 0.012356941, 0.011069269, 0.013456515, 0.011260072, 0.012524156, 0.0106828585, 0.011256208, 0.010344924, 0.0116291465, 0.011074343, 0.012576095, 0.010268088]\n",
      "2022-02-22 20:26:37,293 : INFO : merging changes from 2000 documents into a model of 3204 documents\n",
      "2022-02-22 20:26:37,303 : INFO : topic #62 (0.010): 0.086*\",\" + 0.070*\"independ\" + 0.063*\"region\" + 0.061*\"speed\" + 0.047*\"-\" + 0.035*\"compar\" + 0.033*\"\"\" + 0.028*\"comput\" + 0.027*\"circular\" + 0.024*\"block\"\n",
      "2022-02-22 20:26:37,304 : INFO : topic #10 (0.010): 0.098*\"segment\" + 0.053*\"regist\" + 0.043*\"techniqu\" + 0.042*\"point\" + 0.037*\"scheme\" + 0.036*\"alloc\" + 0.032*\"storag\" + 0.031*\"determin\" + 0.029*\"intersect\" + 0.024*\"paper\"\n",
      "2022-02-22 20:26:37,305 : INFO : topic #17 (0.015): 0.166*\"languag\" + 0.105*\",\" + 0.073*\"program\" + 0.024*\"-\" + 0.021*\"syntax\" + 0.021*\"structur\" + 0.020*\"level\" + 0.020*\"semant\" + 0.014*\"translat\" + 0.014*\"form\"\n",
      "2022-02-22 20:26:37,305 : INFO : topic #63 (0.018): 0.198*\"[\" + 0.188*\"algorithm\" + 0.174*\"(\" + 0.129*\"])\" + 0.031*\"$\" + 0.029*\"))\" + 0.020*\"d1\" + 0.018*\"eigenvalu\" + 0.016*\"matrix\" + 0.016*\"a1\"\n",
      "2022-02-22 20:26:37,305 : INFO : topic #19 (0.041): 0.352*\"(\" + 0.348*\")\" + 0.220*\"algorithm\" + 0.025*\"integr\" + 0.013*\"complex\" + 0.013*\"'\" + 0.007*\"evalu\" + 0.005*\"simpson\" + 0.005*\"$\" + 0.002*\"invers\"\n",
      "2022-02-22 20:26:37,306 : INFO : topic diff=0.351076, rho=0.281696\n",
      "2022-02-22 20:26:38,117 : INFO : -6.472 per-word bound, 88.8 perplexity estimate based on a held-out corpus of 1204 documents with 49783 words\n",
      "2022-02-22 20:26:38,118 : INFO : PROGRESS: pass 10, at document #3204/3204\n"
     ]
    },
    {
     "name": "stderr",
     "output_type": "stream",
     "text": [
      "2022-02-22 20:26:38,760 : INFO : optimized alpha [0.010856026, 0.0110986205, 0.010302989, 0.012662021, 0.011943728, 0.010151419, 0.01384327, 0.011606243, 0.011436536, 0.012557204, 0.01006605, 0.011092661, 0.013340111, 0.011565339, 0.0129633285, 0.01196173, 0.011503961, 0.015593998, 0.010367069, 0.04267866, 0.011108628, 0.014288212, 0.0112508675, 0.010697018, 0.010868552, 0.011305281, 0.011193817, 0.011869436, 0.010658871, 0.011371079, 0.012502876, 0.010483669, 0.011627363, 0.01047687, 0.010733215, 0.013004516, 0.010462535, 0.010271513, 0.011736753, 0.01023502, 0.010057035, 0.0119406525, 0.010532349, 0.012989848, 0.01088078, 0.011870751, 0.011912243, 0.012015082, 0.012265191, 0.010699929, 0.012746752, 0.010601258, 0.010673236, 0.01178509, 0.011125387, 0.011446615, 0.010462886, 0.01267949, 0.011246077, 0.013496226, 0.011725291, 0.012145471, 0.009824996, 0.018000983, 0.011896679, 0.011634364, 0.011779369, 0.010198911, 0.011694117, 0.0108481115, 0.0111127645, 0.01208733, 0.010580381, 0.011176859, 0.011452316, 0.010434433, 0.011957928, 0.011129029, 0.013819724, 0.012810477, 0.010318964, 0.0121731935, 0.011134205, 0.011763967, 0.013693078, 0.013378351, 0.011971349, 0.0119837755, 0.012544273, 0.011187055, 0.013780823, 0.011329745, 0.012774843, 0.010777749, 0.011370547, 0.010420799, 0.011782632, 0.011193802, 0.012739664, 0.010335741]\n",
      "2022-02-22 20:26:38,766 : INFO : merging changes from 1204 documents into a model of 3204 documents\n",
      "2022-02-22 20:26:38,776 : INFO : topic #62 (0.010): 0.086*\",\" + 0.076*\"independ\" + 0.070*\"region\" + 0.052*\"speed\" + 0.043*\"-\" + 0.039*\"compar\" + 0.031*\"\"\" + 0.028*\"circular\" + 0.024*\"comput\" + 0.023*\"block\"\n",
      "2022-02-22 20:26:38,776 : INFO : topic #10 (0.010): 0.101*\"segment\" + 0.052*\"regist\" + 0.044*\"techniqu\" + 0.041*\"point\" + 0.040*\"scheme\" + 0.034*\"alloc\" + 0.031*\"storag\" + 0.030*\"intersect\" + 0.029*\"determin\" + 0.028*\"paper\"\n",
      "2022-02-22 20:26:38,777 : INFO : topic #17 (0.016): 0.162*\"languag\" + 0.107*\",\" + 0.074*\"program\" + 0.024*\"level\" + 0.023*\"-\" + 0.023*\"semant\" + 0.021*\"structur\" + 0.020*\"syntax\" + 0.014*\"form\" + 0.013*\"translat\"\n",
      "2022-02-22 20:26:38,777 : INFO : topic #63 (0.018): 0.199*\"[\" + 0.188*\"algorithm\" + 0.167*\"(\" + 0.101*\"])\" + 0.043*\"$\" + 0.040*\"))\" + 0.023*\"d1\" + 0.021*\"eigenvalu\" + 0.017*\"matrix\" + 0.016*\"a1\"\n",
      "2022-02-22 20:26:38,777 : INFO : topic #19 (0.043): 0.357*\"(\" + 0.352*\")\" + 0.215*\"algorithm\" + 0.023*\"integr\" + 0.014*\"complex\" + 0.012*\"'\" + 0.007*\"evalu\" + 0.005*\"simpson\" + 0.005*\"$\" + 0.002*\"invers\"\n",
      "2022-02-22 20:26:38,778 : INFO : topic diff=0.356480, rho=0.281696\n",
      "2022-02-22 20:26:38,787 : INFO : PROGRESS: pass 11, at document #2000/3204\n",
      "2022-02-22 20:26:39,479 : INFO : optimized alpha [0.010867573, 0.011147033, 0.010297375, 0.012728565, 0.0120388875, 0.0101245195, 0.014018303, 0.011663188, 0.011478777, 0.012693594, 0.010064919, 0.011111445, 0.013477916, 0.011672885, 0.013002138, 0.012033485, 0.011569471, 0.015789688, 0.010361571, 0.04483197, 0.011101513, 0.01448309, 0.011258567, 0.010705588, 0.010926949, 0.011409877, 0.011240991, 0.011920861, 0.010696724, 0.011391717, 0.012693145, 0.010487228, 0.011714045, 0.010500028, 0.010755308, 0.013108841, 0.010483072, 0.0102645205, 0.011795945, 0.010257559, 0.010049226, 0.01209829, 0.010585094, 0.0129672205, 0.010917213, 0.011904535, 0.01196109, 0.012052919, 0.012321577, 0.0107025225, 0.012730521, 0.010639233, 0.010680357, 0.011874286, 0.011159447, 0.011463334, 0.010458908, 0.012701953, 0.011280836, 0.013591149, 0.011896662, 0.01224961, 0.009836626, 0.018507764, 0.011936819, 0.011592446, 0.011889073, 0.0102102775, 0.011692332, 0.010815462, 0.011098532, 0.012131047, 0.010607187, 0.0112419585, 0.01156471, 0.010463984, 0.0120225195, 0.01111593, 0.01396928, 0.012960186, 0.010293485, 0.012240022, 0.011154856, 0.011754318, 0.013688046, 0.013334483, 0.012062591, 0.011989484, 0.012708422, 0.011264438, 0.013893386, 0.0115171885, 0.012864578, 0.010795165, 0.011428902, 0.010434826, 0.011804385, 0.011207663, 0.012907272, 0.010325728]\n",
      "2022-02-22 20:26:39,485 : INFO : merging changes from 2000 documents into a model of 3204 documents\n",
      "2022-02-22 20:26:39,495 : INFO : topic #62 (0.010): 0.086*\",\" + 0.074*\"independ\" + 0.063*\"region\" + 0.061*\"speed\" + 0.045*\"-\" + 0.037*\"compar\" + 0.030*\"\"\" + 0.027*\"comput\" + 0.027*\"circular\" + 0.022*\"block\"\n",
      "2022-02-22 20:26:39,496 : INFO : topic #40 (0.010): 0.097*\"cost\" + 0.061*\",\" + 0.051*\"method\" + 0.042*\"plan\" + 0.035*\"?\" + 0.030*\"comput\" + 0.028*\"quadrat\" + 0.019*\"compar\" + 0.018*\"simul\" + 0.017*\"present\"\n",
      "2022-02-22 20:26:39,497 : INFO : topic #17 (0.016): 0.169*\"languag\" + 0.107*\",\" + 0.072*\"program\" + 0.024*\"-\" + 0.021*\"syntax\" + 0.021*\"level\" + 0.020*\"structur\" + 0.020*\"semant\" + 0.014*\"translat\" + 0.014*\"form\"\n",
      "2022-02-22 20:26:39,497 : INFO : topic #63 (0.019): 0.198*\"[\" + 0.189*\"algorithm\" + 0.174*\"(\" + 0.128*\"])\" + 0.031*\"$\" + 0.030*\"))\" + 0.020*\"d1\" + 0.018*\"eigenvalu\" + 0.016*\"matrix\" + 0.016*\"a1\"\n",
      "2022-02-22 20:26:39,498 : INFO : topic #19 (0.045): 0.354*\"(\" + 0.350*\")\" + 0.218*\"algorithm\" + 0.024*\"integr\" + 0.013*\"complex\" + 0.013*\"'\" + 0.007*\"evalu\" + 0.005*\"simpson\" + 0.005*\"$\" + 0.002*\"25\"\n",
      "2022-02-22 20:26:39,498 : INFO : topic diff=0.310673, rho=0.271143\n",
      "2022-02-22 20:26:40,260 : INFO : -6.460 per-word bound, 88.1 perplexity estimate based on a held-out corpus of 1204 documents with 49783 words\n",
      "2022-02-22 20:26:40,261 : INFO : PROGRESS: pass 11, at document #3204/3204\n",
      "2022-02-22 20:26:40,891 : INFO : optimized alpha [0.010982384, 0.011209704, 0.010358628, 0.013029735, 0.0121733975, 0.0101950355, 0.014281893, 0.011823609, 0.0116020795, 0.012834064, 0.010135626, 0.011241336, 0.01364598, 0.01184947, 0.013271581, 0.012229489, 0.01169335, 0.016106488, 0.010425627, 0.046660703, 0.011239185, 0.014711039, 0.011465487, 0.010794287, 0.011043251, 0.011479374, 0.011363152, 0.012084626, 0.010777428, 0.011533371, 0.012744642, 0.01057233, 0.011771304, 0.010562408, 0.010827319, 0.013307008, 0.010546084, 0.010367572, 0.0120136365, 0.010294797, 0.010125338, 0.0121639045, 0.010649116, 0.013224518, 0.011001412, 0.012037077, 0.012092341, 0.012271393, 0.012537343, 0.010774585, 0.013012867, 0.0107395165, 0.010776428, 0.011984894, 0.011262175, 0.011589771, 0.010555361, 0.012903693, 0.011426721, 0.013798448, 0.01191291, 0.012385987, 0.009910298, 0.018765267, 0.012121405, 0.0117563065, 0.012034726, 0.01027075, 0.0118580405, 0.010921875, 0.011241241, 0.012303914, 0.01073726, 0.011324925, 0.011643417, 0.01052485, 0.012203256, 0.011284823, 0.01421096, 0.01311413, 0.010431001, 0.012383293, 0.011238188, 0.011956611, 0.014054128, 0.013585647, 0.0121770585, 0.012154077, 0.012890932, 0.011381212, 0.014208203, 0.011594347, 0.013130069, 0.010877424, 0.011539817, 0.010513177, 0.011953508, 0.011333817, 0.01306897, 0.010393831]\n",
      "2022-02-22 20:26:40,897 : INFO : merging changes from 1204 documents into a model of 3204 documents\n",
      "2022-02-22 20:26:40,908 : INFO : topic #62 (0.010): 0.086*\",\" + 0.078*\"independ\" + 0.070*\"region\" + 0.052*\"speed\" + 0.041*\"-\" + 0.040*\"compar\" + 0.028*\"circular\" + 0.028*\"\"\" + 0.023*\"comput\" + 0.021*\"block\"\n",
      "2022-02-22 20:26:40,909 : INFO : topic #40 (0.010): 0.109*\"cost\" + 0.058*\",\" + 0.050*\"method\" + 0.040*\"plan\" + 0.037*\"?\" + 0.032*\"quadrat\" + 0.029*\"comput\" + 0.021*\"compar\" + 0.019*\"simul\" + 0.018*\"constraint\"\n",
      "2022-02-22 20:26:40,909 : INFO : topic #17 (0.016): 0.165*\"languag\" + 0.108*\",\" + 0.073*\"program\" + 0.024*\"level\" + 0.023*\"-\" + 0.023*\"semant\" + 0.021*\"structur\" + 0.021*\"syntax\" + 0.014*\"form\" + 0.013*\"translat\"\n",
      "2022-02-22 20:26:40,909 : INFO : topic #63 (0.019): 0.200*\"[\" + 0.188*\"algorithm\" + 0.168*\"(\" + 0.102*\"])\" + 0.043*\"$\" + 0.041*\"))\" + 0.022*\"d1\" + 0.021*\"eigenvalu\" + 0.017*\"matrix\" + 0.016*\"a1\"\n",
      "2022-02-22 20:26:40,910 : INFO : topic #19 (0.047): 0.359*\"(\" + 0.354*\")\" + 0.214*\"algorithm\" + 0.022*\"integr\" + 0.014*\"complex\" + 0.012*\"'\" + 0.006*\"evalu\" + 0.005*\"simpson\" + 0.004*\"$\" + 0.001*\"25\"\n",
      "2022-02-22 20:26:40,911 : INFO : topic diff=0.317162, rho=0.271143\n",
      "2022-02-22 20:26:40,919 : INFO : PROGRESS: pass 12, at document #2000/3204\n",
      "2022-02-22 20:26:41,612 : INFO : optimized alpha [0.010999393, 0.011256931, 0.01035352, 0.013095324, 0.012274104, 0.010173342, 0.014449455, 0.0118851755, 0.011646033, 0.012968911, 0.010138731, 0.0112623265, 0.013796803, 0.011960624, 0.013313583, 0.012302204, 0.011767782, 0.016293433, 0.010420614, 0.048837043, 0.011233526, 0.014905781, 0.011472192, 0.010802674, 0.011105773, 0.011587286, 0.011413394, 0.012139114, 0.010818484, 0.011554695, 0.012929146, 0.010578733, 0.011855767, 0.010589238, 0.010851786, 0.013410232, 0.010569006, 0.01036353, 0.012081805, 0.010314316, 0.010128623, 0.012317957, 0.010700481, 0.0131925875, 0.011036838, 0.012071288, 0.012136492, 0.012310836, 0.012593299, 0.010778759, 0.013000716, 0.010779223, 0.0107820025, 0.012070214, 0.011299656, 0.011602805, 0.01054875, 0.012926583, 0.011464696, 0.013892306, 0.012083484, 0.012487522, 0.009923012, 0.01926819, 0.012164858, 0.011718403, 0.012140152, 0.010284693, 0.011866906, 0.01089041, 0.011231657, 0.012344479, 0.01076027, 0.011392742, 0.01175308, 0.010555157, 0.012270603, 0.011268626, 0.014353146, 0.013255279, 0.010410223, 0.012451349, 0.011259837, 0.011952766, 0.014050605, 0.013540121, 0.012267484, 0.012162375, 0.013056963, 0.011456517, 0.014319084, 0.011790399, 0.013220502, 0.010897356, 0.0115965195, 0.010528347, 0.011977463, 0.01135311, 0.01323645, 0.010383074]\n"
     ]
    },
    {
     "name": "stderr",
     "output_type": "stream",
     "text": [
      "2022-02-22 20:26:41,619 : INFO : merging changes from 2000 documents into a model of 3204 documents\n",
      "2022-02-22 20:26:41,630 : INFO : topic #62 (0.010): 0.086*\",\" + 0.077*\"independ\" + 0.063*\"region\" + 0.061*\"speed\" + 0.043*\"-\" + 0.039*\"compar\" + 0.027*\"\"\" + 0.027*\"circular\" + 0.026*\"comput\" + 0.021*\"block\"\n",
      "2022-02-22 20:26:41,631 : INFO : topic #40 (0.010): 0.103*\"cost\" + 0.059*\",\" + 0.052*\"method\" + 0.042*\"plan\" + 0.034*\"?\" + 0.030*\"comput\" + 0.028*\"quadrat\" + 0.020*\"constraint\" + 0.019*\"compar\" + 0.018*\"simul\"\n",
      "2022-02-22 20:26:41,631 : INFO : topic #17 (0.016): 0.172*\"languag\" + 0.109*\",\" + 0.072*\"program\" + 0.024*\"-\" + 0.022*\"syntax\" + 0.021*\"level\" + 0.020*\"semant\" + 0.020*\"structur\" + 0.014*\"translat\" + 0.014*\"form\"\n",
      "2022-02-22 20:26:41,632 : INFO : topic #63 (0.019): 0.199*\"[\" + 0.189*\"algorithm\" + 0.175*\"(\" + 0.128*\"])\" + 0.032*\"$\" + 0.030*\"))\" + 0.019*\"d1\" + 0.018*\"eigenvalu\" + 0.016*\"matrix\" + 0.016*\"a1\"\n",
      "2022-02-22 20:26:41,632 : INFO : topic #19 (0.049): 0.356*\"(\" + 0.351*\")\" + 0.217*\"algorithm\" + 0.023*\"integr\" + 0.013*\"complex\" + 0.013*\"'\" + 0.007*\"evalu\" + 0.005*\"simpson\" + 0.004*\"$\" + 0.002*\"25\"\n",
      "2022-02-22 20:26:41,633 : INFO : topic diff=0.277938, rho=0.261694\n",
      "2022-02-22 20:26:42,416 : INFO : -6.450 per-word bound, 87.4 perplexity estimate based on a held-out corpus of 1204 documents with 49783 words\n",
      "2022-02-22 20:26:42,417 : INFO : PROGRESS: pass 12, at document #3204/3204\n",
      "2022-02-22 20:26:43,037 : INFO : optimized alpha [0.0111111635, 0.011317866, 0.010413199, 0.013399917, 0.012413162, 0.01024638, 0.014714317, 0.012049694, 0.011768587, 0.013105379, 0.010203106, 0.0113837505, 0.013963427, 0.012151434, 0.013571691, 0.012491147, 0.0118986, 0.016596606, 0.010487484, 0.050582662, 0.011372423, 0.01513169, 0.011689771, 0.010886561, 0.01122634, 0.011662047, 0.011537161, 0.012306816, 0.010894448, 0.011692634, 0.01296685, 0.010663927, 0.011913792, 0.010652181, 0.010924118, 0.013603575, 0.010630347, 0.0104706045, 0.012305522, 0.010353002, 0.010213813, 0.012381017, 0.010760341, 0.013443809, 0.011121065, 0.012200186, 0.012269467, 0.0125325825, 0.012806898, 0.010853582, 0.013282797, 0.010879127, 0.01088021, 0.012172389, 0.011392153, 0.011725908, 0.010654144, 0.013126258, 0.011606756, 0.014097475, 0.012103713, 0.012628258, 0.010007681, 0.019533556, 0.012339743, 0.011875368, 0.012287194, 0.010350292, 0.012038857, 0.010996301, 0.011368137, 0.012521257, 0.010889345, 0.011475733, 0.011831788, 0.010614382, 0.012455119, 0.011430779, 0.01457988, 0.013407864, 0.0105534755, 0.012585355, 0.011343352, 0.01216331, 0.014410241, 0.013790988, 0.0123866955, 0.012322704, 0.013238036, 0.011575085, 0.014634417, 0.0118673155, 0.01348681, 0.010982167, 0.011704393, 0.010604529, 0.012127897, 0.011473342, 0.013396794, 0.010456202]\n",
      "2022-02-22 20:26:43,044 : INFO : merging changes from 1204 documents into a model of 3204 documents\n",
      "2022-02-22 20:26:43,054 : INFO : topic #62 (0.010): 0.086*\",\" + 0.082*\"independ\" + 0.069*\"region\" + 0.053*\"speed\" + 0.041*\"compar\" + 0.040*\"-\" + 0.028*\"circular\" + 0.024*\"\"\" + 0.022*\"comput\" + 0.022*\"represent\"\n",
      "2022-02-22 20:26:43,055 : INFO : topic #40 (0.010): 0.115*\"cost\" + 0.057*\",\" + 0.051*\"method\" + 0.040*\"plan\" + 0.037*\"?\" + 0.031*\"quadrat\" + 0.028*\"comput\" + 0.022*\"constraint\" + 0.021*\"compar\" + 0.018*\"size\"\n",
      "2022-02-22 20:26:43,055 : INFO : topic #17 (0.017): 0.168*\"languag\" + 0.109*\",\" + 0.073*\"program\" + 0.024*\"level\" + 0.024*\"semant\" + 0.023*\"-\" + 0.021*\"syntax\" + 0.020*\"structur\" + 0.013*\"form\" + 0.012*\"defin\"\n",
      "2022-02-22 20:26:43,056 : INFO : topic #63 (0.020): 0.201*\"[\" + 0.188*\"algorithm\" + 0.169*\"(\" + 0.103*\"])\" + 0.043*\"$\" + 0.041*\"))\" + 0.022*\"d1\" + 0.021*\"eigenvalu\" + 0.017*\"matrix\" + 0.016*\"a1\"\n",
      "2022-02-22 20:26:43,056 : INFO : topic #19 (0.051): 0.361*\"(\" + 0.355*\")\" + 0.213*\"algorithm\" + 0.022*\"integr\" + 0.014*\"complex\" + 0.012*\"'\" + 0.006*\"evalu\" + 0.005*\"simpson\" + 0.004*\"$\" + 0.001*\"25\"\n",
      "2022-02-22 20:26:43,057 : INFO : topic diff=0.284925, rho=0.261694\n",
      "2022-02-22 20:26:43,066 : INFO : PROGRESS: pass 13, at document #2000/3204\n",
      "2022-02-22 20:26:43,764 : INFO : optimized alpha [0.011127679, 0.011359656, 0.0104125375, 0.0134646725, 0.012514687, 0.010228223, 0.014887946, 0.012117329, 0.011811314, 0.013237282, 0.010208933, 0.011404056, 0.014105535, 0.012260198, 0.013615148, 0.012564969, 0.01197113, 0.016777221, 0.010484206, 0.052761428, 0.011365254, 0.015328535, 0.011700019, 0.010897549, 0.011285762, 0.011768952, 0.0115860235, 0.012358033, 0.010934534, 0.011713144, 0.013144309, 0.010671627, 0.011996282, 0.010681163, 0.010953615, 0.0137163885, 0.01065009, 0.010467966, 0.012376361, 0.010374866, 0.01022357, 0.012531818, 0.010813236, 0.013411594, 0.0111584, 0.012234882, 0.01232331, 0.012578392, 0.012857626, 0.010859226, 0.0132695045, 0.010916396, 0.010887042, 0.01225408, 0.011430156, 0.011736933, 0.010653145, 0.013149591, 0.011645001, 0.014190375, 0.012269234, 0.012728893, 0.010020092, 0.020035477, 0.012383293, 0.011836782, 0.012393306, 0.010364047, 0.012047039, 0.010967267, 0.011360089, 0.012563606, 0.010917089, 0.011544804, 0.011938959, 0.010646821, 0.012522064, 0.011420426, 0.014709516, 0.013551032, 0.010537072, 0.012656394, 0.011367382, 0.01216034, 0.0144027425, 0.013749086, 0.01247808, 0.012330428, 0.013409551, 0.0116470605, 0.014743861, 0.012064671, 0.01357289, 0.011001678, 0.011761147, 0.010623396, 0.012150918, 0.011496357, 0.013561062, 0.010447317]\n",
      "2022-02-22 20:26:43,770 : INFO : merging changes from 2000 documents into a model of 3204 documents\n",
      "2022-02-22 20:26:43,780 : INFO : topic #62 (0.010): 0.086*\",\" + 0.080*\"independ\" + 0.063*\"region\" + 0.062*\"speed\" + 0.042*\"-\" + 0.040*\"compar\" + 0.027*\"circular\" + 0.025*\"comput\" + 0.023*\"\"\" + 0.021*\"represent\"\n",
      "2022-02-22 20:26:43,781 : INFO : topic #40 (0.010): 0.108*\"cost\" + 0.058*\",\" + 0.053*\"method\" + 0.041*\"plan\" + 0.034*\"?\" + 0.029*\"comput\" + 0.027*\"quadrat\" + 0.024*\"constraint\" + 0.021*\"compar\" + 0.018*\"present\"\n",
      "2022-02-22 20:26:43,782 : INFO : topic #17 (0.017): 0.175*\"languag\" + 0.109*\",\" + 0.072*\"program\" + 0.024*\"-\" + 0.022*\"syntax\" + 0.021*\"level\" + 0.021*\"semant\" + 0.019*\"structur\" + 0.014*\"translat\" + 0.014*\"form\"\n",
      "2022-02-22 20:26:43,782 : INFO : topic #63 (0.020): 0.200*\"[\" + 0.189*\"algorithm\" + 0.175*\"(\" + 0.127*\"])\" + 0.032*\"$\" + 0.031*\"))\" + 0.019*\"d1\" + 0.018*\"eigenvalu\" + 0.015*\"matrix\" + 0.015*\"a1\"\n",
      "2022-02-22 20:26:43,783 : INFO : topic #19 (0.053): 0.358*\"(\" + 0.352*\")\" + 0.217*\"algorithm\" + 0.023*\"integr\" + 0.013*\"complex\" + 0.013*\"'\" + 0.007*\"evalu\" + 0.005*\"simpson\" + 0.004*\"$\" + 0.002*\"25\"\n",
      "2022-02-22 20:26:43,784 : INFO : topic diff=0.251076, rho=0.253169\n",
      "2022-02-22 20:26:44,544 : INFO : -6.441 per-word bound, 86.9 perplexity estimate based on a held-out corpus of 1204 documents with 49783 words\n",
      "2022-02-22 20:26:44,545 : INFO : PROGRESS: pass 13, at document #3204/3204\n",
      "2022-02-22 20:26:45,162 : INFO : optimized alpha [0.011236696, 0.011423784, 0.01047082, 0.013767622, 0.012644984, 0.010310376, 0.015148084, 0.012283389, 0.0119308345, 0.013372914, 0.010271748, 0.011522507, 0.014268132, 0.0124525735, 0.013876971, 0.01275253, 0.012093735, 0.017096056, 0.010549471, 0.05445311, 0.011500774, 0.015549474, 0.011920998, 0.0109815635, 0.0113986535, 0.011841394, 0.011709176, 0.012527152, 0.011006155, 0.011847757, 0.013182881, 0.010759138, 0.012052525, 0.010751573, 0.011026458, 0.013914122, 0.010707616, 0.010585596, 0.0126064485, 0.010414814, 0.010313122, 0.012592506, 0.010878361, 0.013660354, 0.011245163, 0.012360526, 0.012450301, 0.012790519, 0.013072223, 0.0109368, 0.013546147, 0.011013694, 0.010982816, 0.012356088, 0.011525082, 0.011862023, 0.010758129, 0.013344811, 0.011783622, 0.014396894, 0.01228552, 0.012868806, 0.010104751, 0.02031313, 0.012562143, 0.011994793, 0.0125420345, 0.010430176, 0.0122098895, 0.011072844, 0.011495706, 0.012739134, 0.011045431, 0.011627937, 0.012015343, 0.01070451, 0.012705237, 0.011586065, 0.01493437, 0.013702596, 0.010679251, 0.012787078, 0.011451218, 0.012379305, 0.014759414, 0.013988459, 0.012602041, 0.012489641, 0.013586809, 0.011770047, 0.0150695, 0.01213897, 0.013840419, 0.011082005, 0.011868812, 0.010702111, 0.012297778, 0.011611168, 0.013708859, 0.010514269]\n",
      "2022-02-22 20:26:45,169 : INFO : merging changes from 1204 documents into a model of 3204 documents\n"
     ]
    },
    {
     "name": "stderr",
     "output_type": "stream",
     "text": [
      "2022-02-22 20:26:45,180 : INFO : topic #62 (0.010): 0.086*\",\" + 0.085*\"independ\" + 0.069*\"region\" + 0.053*\"speed\" + 0.041*\"compar\" + 0.039*\"-\" + 0.028*\"circular\" + 0.023*\"represent\" + 0.022*\"comput\" + 0.022*\"area\"\n",
      "2022-02-22 20:26:45,181 : INFO : topic #10 (0.010): 0.115*\"segment\" + 0.057*\"scheme\" + 0.053*\"regist\" + 0.043*\"techniqu\" + 0.040*\"point\" + 0.032*\"intersect\" + 0.031*\"determin\" + 0.031*\"paper\" + 0.030*\"directli\" + 0.024*\"alloc\"\n",
      "2022-02-22 20:26:45,182 : INFO : topic #17 (0.017): 0.170*\"languag\" + 0.110*\",\" + 0.073*\"program\" + 0.024*\"level\" + 0.024*\"semant\" + 0.023*\"-\" + 0.021*\"syntax\" + 0.020*\"structur\" + 0.013*\"form\" + 0.012*\"defin\"\n",
      "2022-02-22 20:26:45,183 : INFO : topic #63 (0.020): 0.202*\"[\" + 0.188*\"algorithm\" + 0.169*\"(\" + 0.103*\"])\" + 0.043*\"$\" + 0.041*\"))\" + 0.022*\"d1\" + 0.021*\"eigenvalu\" + 0.016*\"matrix\" + 0.016*\"a1\"\n",
      "2022-02-22 20:26:45,183 : INFO : topic #19 (0.054): 0.362*\"(\" + 0.355*\")\" + 0.213*\"algorithm\" + 0.021*\"integr\" + 0.014*\"complex\" + 0.012*\"'\" + 0.006*\"evalu\" + 0.005*\"simpson\" + 0.004*\"$\" + 0.001*\"25\"\n",
      "2022-02-22 20:26:45,184 : INFO : topic diff=0.257682, rho=0.253169\n",
      "2022-02-22 20:26:45,192 : INFO : PROGRESS: pass 14, at document #2000/3204\n",
      "2022-02-22 20:26:45,816 : INFO : optimized alpha [0.011254185, 0.011473175, 0.010465276, 0.013843599, 0.012742673, 0.010292912, 0.015318578, 0.012350888, 0.011972466, 0.013502128, 0.010283951, 0.011543637, 0.0144038545, 0.012565158, 0.01392021, 0.012825981, 0.012167536, 0.017285626, 0.010546528, 0.056630578, 0.011494946, 0.015741045, 0.0119376825, 0.010990971, 0.01146088, 0.011947592, 0.011758167, 0.012581465, 0.011045287, 0.011870478, 0.013357029, 0.010770702, 0.0121361865, 0.010782586, 0.011055342, 0.014031229, 0.010732331, 0.010586811, 0.012678383, 0.01043511, 0.010320125, 0.012740355, 0.010932811, 0.013624377, 0.011281627, 0.012392692, 0.012501221, 0.012833016, 0.01312278, 0.010950492, 0.0135317575, 0.011050009, 0.010990824, 0.012435911, 0.011563576, 0.011881483, 0.010755825, 0.01336703, 0.011822165, 0.014490831, 0.012450869, 0.012971988, 0.010120567, 0.02080949, 0.012597998, 0.011956957, 0.012644352, 0.010446277, 0.012218984, 0.011044686, 0.011481967, 0.0127817355, 0.011073707, 0.011694002, 0.012118816, 0.010736268, 0.012776641, 0.01157697, 0.015068462, 0.013844538, 0.010673556, 0.012856241, 0.011477563, 0.012377048, 0.014753497, 0.01394661, 0.012689829, 0.01249683, 0.013740314, 0.011840357, 0.015181268, 0.012334954, 0.013925759, 0.011101133, 0.011925677, 0.010721942, 0.012323025, 0.01163213, 0.013878444, 0.010507161]\n",
      "2022-02-22 20:26:45,826 : INFO : merging changes from 2000 documents into a model of 3204 documents\n",
      "2022-02-22 20:26:45,836 : INFO : topic #62 (0.010): 0.085*\",\" + 0.084*\"independ\" + 0.064*\"region\" + 0.062*\"speed\" + 0.041*\"-\" + 0.041*\"compar\" + 0.027*\"circular\" + 0.024*\"comput\" + 0.022*\"represent\" + 0.020*\"area\"\n",
      "2022-02-22 20:26:45,837 : INFO : topic #5 (0.010): 0.062*\"servic\" + 0.062*\"game\" + 0.051*\"avoid\" + 0.044*\"public\" + 0.043*\"-\" + 0.039*\"program\" + 0.038*\",\" + 0.037*\"play\" + 0.036*\"pair\" + 0.033*\"graph\"\n",
      "2022-02-22 20:26:45,838 : INFO : topic #17 (0.017): 0.177*\"languag\" + 0.111*\",\" + 0.072*\"program\" + 0.023*\"-\" + 0.022*\"syntax\" + 0.022*\"level\" + 0.021*\"semant\" + 0.019*\"structur\" + 0.014*\"translat\" + 0.013*\"form\"\n",
      "2022-02-22 20:26:45,838 : INFO : topic #63 (0.021): 0.201*\"[\" + 0.190*\"algorithm\" + 0.175*\"(\" + 0.127*\"])\" + 0.032*\"$\" + 0.031*\"))\" + 0.019*\"d1\" + 0.018*\"eigenvalu\" + 0.015*\"a1\" + 0.015*\"matrix\"\n",
      "2022-02-22 20:26:45,839 : INFO : topic #19 (0.057): 0.358*\"(\" + 0.353*\")\" + 0.217*\"algorithm\" + 0.022*\"integr\" + 0.013*\"complex\" + 0.013*\"'\" + 0.007*\"evalu\" + 0.005*\"simpson\" + 0.004*\"$\" + 0.002*\"25\"\n",
      "2022-02-22 20:26:45,840 : INFO : topic diff=0.228335, rho=0.245426\n",
      "2022-02-22 20:26:46,484 : INFO : -6.432 per-word bound, 86.4 perplexity estimate based on a held-out corpus of 1204 documents with 49783 words\n",
      "2022-02-22 20:26:46,484 : INFO : PROGRESS: pass 14, at document #3204/3204\n",
      "2022-02-22 20:26:46,991 : INFO : optimized alpha [0.011363023, 0.011533316, 0.010524434, 0.014148057, 0.012880332, 0.010377393, 0.015571101, 0.0125392135, 0.012091663, 0.013634381, 0.010362145, 0.011659327, 0.01456862, 0.0127567565, 0.014174579, 0.013015088, 0.012292256, 0.017599046, 0.010610298, 0.058232535, 0.011629734, 0.015960613, 0.012174719, 0.011068439, 0.011571198, 0.012030079, 0.011878504, 0.012749609, 0.011115125, 0.011999651, 0.013393757, 0.010856154, 0.0121909175, 0.010853543, 0.011130972, 0.014224916, 0.010788474, 0.010712651, 0.012915152, 0.010474233, 0.010407579, 0.012798846, 0.010994043, 0.013865275, 0.011361686, 0.012515402, 0.012630438, 0.013041275, 0.013338578, 0.011026244, 0.01380629, 0.011142712, 0.011082131, 0.012535305, 0.011653841, 0.012006266, 0.010853945, 0.013552618, 0.011960157, 0.014699002, 0.012465965, 0.013111298, 0.010205332, 0.02109615, 0.012780911, 0.012111528, 0.0127924, 0.010510905, 0.012375869, 0.011154638, 0.011623991, 0.012945679, 0.011199278, 0.011775026, 0.012193061, 0.01078815, 0.012951024, 0.011736652, 0.015294883, 0.013986767, 0.010814932, 0.012981229, 0.011559423, 0.012591906, 0.015113781, 0.014177971, 0.012810876, 0.012652479, 0.013933658, 0.011958143, 0.015505406, 0.012409251, 0.014197711, 0.011181869, 0.012030797, 0.010794428, 0.012466618, 0.011746701, 0.014025453, 0.010574763]\n",
      "2022-02-22 20:26:47,009 : INFO : merging changes from 1204 documents into a model of 3204 documents\n",
      "2022-02-22 20:26:47,019 : INFO : topic #62 (0.010): 0.088*\"independ\" + 0.085*\",\" + 0.070*\"region\" + 0.054*\"speed\" + 0.042*\"compar\" + 0.038*\"-\" + 0.028*\"circular\" + 0.025*\"represent\" + 0.022*\"area\" + 0.021*\"comput\"\n",
      "2022-02-22 20:26:47,019 : INFO : topic #10 (0.010): 0.117*\"segment\" + 0.066*\"scheme\" + 0.052*\"regist\" + 0.042*\"techniqu\" + 0.040*\"point\" + 0.032*\"determin\" + 0.032*\"paper\" + 0.031*\"intersect\" + 0.030*\"directli\" + 0.022*\",\"\n",
      "2022-02-22 20:26:47,021 : INFO : topic #17 (0.018): 0.172*\"languag\" + 0.112*\",\" + 0.073*\"program\" + 0.024*\"semant\" + 0.024*\"level\" + 0.023*\"-\" + 0.022*\"syntax\" + 0.019*\"structur\" + 0.013*\"form\" + 0.012*\"defin\"\n",
      "2022-02-22 20:26:47,021 : INFO : topic #63 (0.021): 0.204*\"[\" + 0.189*\"algorithm\" + 0.169*\"(\" + 0.103*\"])\" + 0.042*\"$\" + 0.041*\"))\" + 0.022*\"d1\" + 0.020*\"eigenvalu\" + 0.016*\"matrix\" + 0.016*\"a1\"\n",
      "2022-02-22 20:26:47,022 : INFO : topic #19 (0.058): 0.363*\"(\" + 0.356*\")\" + 0.213*\"algorithm\" + 0.021*\"integr\" + 0.014*\"complex\" + 0.012*\"'\" + 0.006*\"evalu\" + 0.005*\"simpson\" + 0.004*\"$\" + 0.001*\"25\"\n",
      "2022-02-22 20:26:47,024 : INFO : topic diff=0.234069, rho=0.245426\n",
      "2022-02-22 20:26:47,031 : INFO : PROGRESS: pass 15, at document #2000/3204\n",
      "2022-02-22 20:26:47,595 : INFO : optimized alpha [0.011384205, 0.011581691, 0.010524358, 0.014216608, 0.012976066, 0.010364193, 0.015734933, 0.01261407, 0.012132218, 0.013759494, 0.010377879, 0.011681185, 0.0146999825, 0.012864204, 0.014219345, 0.013081988, 0.012363013, 0.017791303, 0.010607628, 0.060397163, 0.011625193, 0.016147044, 0.012200456, 0.011077759, 0.01162786, 0.012131362, 0.011927723, 0.01280398, 0.011154785, 0.012018851, 0.013566422, 0.010874041, 0.012278746, 0.010883923, 0.011157914, 0.014346447, 0.010815388, 0.010709801, 0.012988261, 0.010495542, 0.01041444, 0.012942504, 0.011048644, 0.013829101, 0.011398695, 0.012546631, 0.012686242, 0.013085439, 0.013387369, 0.011045026, 0.013792427, 0.01117819, 0.011089986, 0.012613408, 0.011696987, 0.012030909, 0.010859489, 0.013570551, 0.011999004, 0.014788792, 0.0126283495, 0.013212376, 0.010222021, 0.02158965, 0.012823198, 0.01207583, 0.012895635, 0.010528026, 0.012375462, 0.011127231, 0.011611714, 0.012990193, 0.01122945, 0.011841128, 0.012294488, 0.010819349, 0.013020609, 0.011725957, 0.015429676, 0.014134413, 0.010809112, 0.013050449, 0.011586616, 0.012588874, 0.015107578, 0.014137877, 0.012896777, 0.012659161, 0.014089784, 0.012025473, 0.015608591, 0.012604092, 0.0142875165, 0.011201954, 0.012084923, 0.010815158, 0.012492468, 0.01176568, 0.014192356, 0.010569306]\n",
      "2022-02-22 20:26:47,603 : INFO : merging changes from 2000 documents into a model of 3204 documents\n",
      "2022-02-22 20:26:47,614 : INFO : topic #62 (0.010): 0.088*\"independ\" + 0.085*\",\" + 0.064*\"region\" + 0.062*\"speed\" + 0.042*\"compar\" + 0.040*\"-\" + 0.027*\"circular\" + 0.024*\"represent\" + 0.023*\"comput\" + 0.021*\"area\"\n"
     ]
    },
    {
     "name": "stderr",
     "output_type": "stream",
     "text": [
      "2022-02-22 20:26:47,615 : INFO : topic #5 (0.010): 0.062*\"servic\" + 0.062*\"game\" + 0.053*\"avoid\" + 0.043*\"public\" + 0.043*\"-\" + 0.038*\"program\" + 0.037*\"play\" + 0.036*\",\" + 0.036*\"pair\" + 0.032*\"graph\"\n",
      "2022-02-22 20:26:47,615 : INFO : topic #17 (0.018): 0.178*\"languag\" + 0.112*\",\" + 0.071*\"program\" + 0.023*\"-\" + 0.022*\"syntax\" + 0.022*\"level\" + 0.021*\"semant\" + 0.018*\"structur\" + 0.013*\"form\" + 0.013*\"translat\"\n",
      "2022-02-22 20:26:47,616 : INFO : topic #63 (0.022): 0.202*\"[\" + 0.190*\"algorithm\" + 0.175*\"(\" + 0.126*\"])\" + 0.032*\"$\" + 0.031*\"))\" + 0.019*\"d1\" + 0.018*\"eigenvalu\" + 0.015*\"a1\" + 0.015*\"matrix\"\n",
      "2022-02-22 20:26:47,616 : INFO : topic #19 (0.060): 0.359*\"(\" + 0.353*\")\" + 0.217*\"algorithm\" + 0.022*\"integr\" + 0.013*\"complex\" + 0.013*\"'\" + 0.007*\"evalu\" + 0.005*\"simpson\" + 0.004*\"$\" + 0.002*\"25\"\n",
      "2022-02-22 20:26:47,617 : INFO : topic diff=0.208394, rho=0.238352\n",
      "2022-02-22 20:26:48,233 : INFO : -6.424 per-word bound, 85.9 perplexity estimate based on a held-out corpus of 1204 documents with 49783 words\n",
      "2022-02-22 20:26:48,233 : INFO : PROGRESS: pass 15, at document #3204/3204\n",
      "2022-02-22 20:26:48,748 : INFO : optimized alpha [0.011486138, 0.0116404565, 0.0105801625, 0.014508913, 0.013121205, 0.010446831, 0.015989613, 0.012801783, 0.0122512495, 0.013888628, 0.010458461, 0.011789672, 0.014866884, 0.013060286, 0.01446956, 0.01326766, 0.012489985, 0.018096246, 0.010667911, 0.061922938, 0.011757108, 0.016368655, 0.012439303, 0.01115572, 0.011733492, 0.012214177, 0.012052548, 0.012973946, 0.0112252245, 0.012142839, 0.01359872, 0.010961961, 0.012331954, 0.010957657, 0.011229642, 0.014536438, 0.010878967, 0.010839494, 0.013221634, 0.010533891, 0.010502116, 0.012999004, 0.011108418, 0.0140655385, 0.01147695, 0.012666634, 0.012817797, 0.013290111, 0.013602096, 0.011121322, 0.014062521, 0.0112711005, 0.011181513, 0.012707915, 0.011785185, 0.01214578, 0.010955517, 0.013757986, 0.012143669, 0.014992844, 0.012649893, 0.01335912, 0.010302955, 0.021859322, 0.013002733, 0.012222316, 0.013040603, 0.010591242, 0.012536553, 0.011232581, 0.011746142, 0.013153525, 0.011352449, 0.011920216, 0.012366759, 0.010872284, 0.013202091, 0.01188953, 0.015648806, 0.014276115, 0.010954214, 0.013180464, 0.0116666695, 0.012802455, 0.01546294, 0.014370388, 0.013015157, 0.012806521, 0.014276842, 0.012138356, 0.015934516, 0.012678536, 0.014567076, 0.011283105, 0.0121852625, 0.010890282, 0.0126330685, 0.011875464, 0.0143359, 0.010635461]\n",
      "2022-02-22 20:26:48,758 : INFO : merging changes from 1204 documents into a model of 3204 documents\n",
      "2022-02-22 20:26:48,769 : INFO : topic #62 (0.010): 0.091*\"independ\" + 0.085*\",\" + 0.070*\"region\" + 0.054*\"speed\" + 0.044*\"compar\" + 0.037*\"-\" + 0.028*\"circular\" + 0.026*\"represent\" + 0.022*\"area\" + 0.021*\"today\"\n",
      "2022-02-22 20:26:48,770 : INFO : topic #10 (0.010): 0.118*\"segment\" + 0.075*\"scheme\" + 0.052*\"regist\" + 0.042*\"techniqu\" + 0.039*\"point\" + 0.033*\"determin\" + 0.032*\"paper\" + 0.031*\"intersect\" + 0.030*\"directli\" + 0.023*\"systemat\"\n",
      "2022-02-22 20:26:48,770 : INFO : topic #17 (0.018): 0.173*\"languag\" + 0.113*\",\" + 0.073*\"program\" + 0.024*\"semant\" + 0.024*\"level\" + 0.023*\"-\" + 0.022*\"syntax\" + 0.019*\"structur\" + 0.013*\"form\" + 0.012*\"defin\"\n",
      "2022-02-22 20:26:48,771 : INFO : topic #63 (0.022): 0.205*\"[\" + 0.189*\"algorithm\" + 0.169*\"(\" + 0.103*\"])\" + 0.042*\"$\" + 0.040*\"))\" + 0.022*\"d1\" + 0.020*\"eigenvalu\" + 0.016*\"a1\" + 0.016*\"matrix\"\n",
      "2022-02-22 20:26:48,772 : INFO : topic #19 (0.062): 0.363*\"(\" + 0.356*\")\" + 0.212*\"algorithm\" + 0.021*\"integr\" + 0.014*\"complex\" + 0.012*\"'\" + 0.006*\"evalu\" + 0.005*\"simpson\" + 0.004*\"$\" + 0.001*\"25\"\n",
      "2022-02-22 20:26:48,773 : INFO : topic diff=0.213442, rho=0.238352\n",
      "2022-02-22 20:26:48,781 : INFO : PROGRESS: pass 16, at document #2000/3204\n",
      "2022-02-22 20:26:49,322 : INFO : optimized alpha [0.011502704, 0.011686572, 0.0105815865, 0.014585269, 0.013222712, 0.01043406, 0.016152624, 0.012876542, 0.012289405, 0.0140114585, 0.010477564, 0.011813731, 0.014994113, 0.013179444, 0.014515964, 0.01333748, 0.012557761, 0.018278657, 0.010665531, 0.06405268, 0.011753821, 0.01655793, 0.012460821, 0.011166192, 0.011790344, 0.012320682, 0.012096447, 0.013026914, 0.011265359, 0.012162893, 0.013770141, 0.010982004, 0.012422524, 0.010988748, 0.0112587, 0.014669132, 0.01091174, 0.010841532, 0.013292902, 0.010553647, 0.010510086, 0.013138704, 0.011167111, 0.01403083, 0.0115132, 0.012697018, 0.012870746, 0.013334353, 0.013650891, 0.011137133, 0.014047638, 0.011308436, 0.011191837, 0.0127873765, 0.011823309, 0.01216982, 0.010958389, 0.013779858, 0.012181477, 0.015080451, 0.012812565, 0.013462956, 0.010319303, 0.022352481, 0.013040634, 0.012190116, 0.013144914, 0.010609326, 0.01254314, 0.011207195, 0.011735263, 0.01319526, 0.011381881, 0.011983597, 0.01246488, 0.0109029645, 0.01327161, 0.011882776, 0.015784532, 0.014417916, 0.010948176, 0.013251326, 0.011691992, 0.012800159, 0.015456503, 0.014330248, 0.013099322, 0.0128127765, 0.014435696, 0.012205696, 0.016032966, 0.01287094, 0.0146477455, 0.01129883, 0.012238185, 0.010911892, 0.0126551455, 0.011899465, 0.0144985495, 0.010631549]\n",
      "2022-02-22 20:26:49,339 : INFO : merging changes from 2000 documents into a model of 3204 documents\n",
      "2022-02-22 20:26:49,349 : INFO : topic #62 (0.010): 0.091*\"independ\" + 0.085*\",\" + 0.065*\"region\" + 0.062*\"speed\" + 0.043*\"compar\" + 0.039*\"-\" + 0.027*\"circular\" + 0.026*\"represent\" + 0.023*\"comput\" + 0.021*\"area\"\n",
      "2022-02-22 20:26:49,350 : INFO : topic #5 (0.010): 0.062*\"servic\" + 0.062*\"game\" + 0.055*\"avoid\" + 0.043*\"public\" + 0.043*\"-\" + 0.037*\"play\" + 0.037*\"program\" + 0.036*\"pair\" + 0.035*\",\" + 0.034*\"goal\"\n",
      "2022-02-22 20:26:49,351 : INFO : topic #17 (0.018): 0.180*\"languag\" + 0.113*\",\" + 0.071*\"program\" + 0.023*\"-\" + 0.023*\"syntax\" + 0.022*\"level\" + 0.022*\"semant\" + 0.018*\"structur\" + 0.013*\"form\" + 0.013*\"translat\"\n",
      "2022-02-22 20:26:49,351 : INFO : topic #63 (0.022): 0.203*\"[\" + 0.190*\"algorithm\" + 0.175*\"(\" + 0.126*\"])\" + 0.033*\"$\" + 0.031*\"))\" + 0.019*\"d1\" + 0.018*\"eigenvalu\" + 0.015*\"a1\" + 0.015*\"matrix\"\n",
      "2022-02-22 20:26:49,352 : INFO : topic #19 (0.064): 0.360*\"(\" + 0.354*\")\" + 0.216*\"algorithm\" + 0.022*\"integr\" + 0.013*\"complex\" + 0.013*\"'\" + 0.007*\"evalu\" + 0.005*\"simpson\" + 0.004*\"$\" + 0.002*\"25\"\n",
      "2022-02-22 20:26:49,353 : INFO : topic diff=0.190771, rho=0.231857\n",
      "2022-02-22 20:26:49,985 : INFO : -6.418 per-word bound, 85.5 perplexity estimate based on a held-out corpus of 1204 documents with 49783 words\n",
      "2022-02-22 20:26:49,985 : INFO : PROGRESS: pass 16, at document #3204/3204\n",
      "2022-02-22 20:26:50,475 : INFO : optimized alpha [0.011604805, 0.011746258, 0.0106342295, 0.014879727, 0.013370193, 0.010516942, 0.01640018, 0.0130740935, 0.012408452, 0.014137719, 0.010568725, 0.011924594, 0.015163713, 0.013385329, 0.014765109, 0.013519968, 0.01267979, 0.018578839, 0.010722557, 0.06551991, 0.011885423, 0.016772263, 0.012699112, 0.011246853, 0.011902908, 0.01240151, 0.01221648, 0.013208891, 0.011334269, 0.012282047, 0.013806175, 0.011070295, 0.01247197, 0.011063085, 0.0113310935, 0.014861559, 0.0109740235, 0.010973004, 0.013523241, 0.0105892075, 0.010600046, 0.013193408, 0.011234195, 0.014260356, 0.011594204, 0.012814494, 0.013012371, 0.013556637, 0.013859539, 0.0112184035, 0.014321668, 0.011399361, 0.011292314, 0.012879742, 0.011909635, 0.01228718, 0.011054593, 0.013966586, 0.012321028, 0.015280832, 0.012832924, 0.013604154, 0.0104045775, 0.022622839, 0.013222063, 0.01233365, 0.013282029, 0.010669218, 0.012691342, 0.011306039, 0.011864747, 0.013360687, 0.011504763, 0.012060896, 0.012532941, 0.0109526925, 0.013449898, 0.012036453, 0.015996594, 0.014562017, 0.0110991895, 0.01338132, 0.011770353, 0.013012768, 0.01580432, 0.014561317, 0.013222772, 0.012949794, 0.014611088, 0.012320974, 0.016354866, 0.012950517, 0.014923897, 0.011378298, 0.012336444, 0.010985472, 0.0127929775, 0.012004758, 0.0146389, 0.01069846]\n",
      "2022-02-22 20:26:50,475 : INFO : merging changes from 1204 documents into a model of 3204 documents\n",
      "2022-02-22 20:26:50,488 : INFO : topic #62 (0.010): 0.093*\"independ\" + 0.085*\",\" + 0.070*\"region\" + 0.054*\"speed\" + 0.045*\"compar\" + 0.036*\"-\" + 0.028*\"circular\" + 0.027*\"represent\" + 0.022*\"area\" + 0.021*\"today\"\n",
      "2022-02-22 20:26:50,488 : INFO : topic #10 (0.011): 0.117*\"segment\" + 0.086*\"scheme\" + 0.051*\"regist\" + 0.041*\"techniqu\" + 0.038*\"point\" + 0.033*\"determin\" + 0.033*\"paper\" + 0.030*\"intersect\" + 0.030*\"directli\" + 0.023*\"systemat\"\n"
     ]
    },
    {
     "name": "stderr",
     "output_type": "stream",
     "text": [
      "2022-02-22 20:26:50,488 : INFO : topic #17 (0.019): 0.175*\"languag\" + 0.114*\",\" + 0.073*\"program\" + 0.024*\"semant\" + 0.024*\"level\" + 0.023*\"-\" + 0.022*\"syntax\" + 0.019*\"structur\" + 0.013*\"form\" + 0.012*\"defin\"\n",
      "2022-02-22 20:26:50,488 : INFO : topic #63 (0.023): 0.206*\"[\" + 0.190*\"algorithm\" + 0.169*\"(\" + 0.103*\"])\" + 0.042*\"$\" + 0.040*\"))\" + 0.022*\"d1\" + 0.020*\"eigenvalu\" + 0.016*\"a1\" + 0.016*\"matrix\"\n",
      "2022-02-22 20:26:50,488 : INFO : topic #19 (0.066): 0.364*\"(\" + 0.357*\")\" + 0.212*\"algorithm\" + 0.020*\"integr\" + 0.014*\"complex\" + 0.012*\"'\" + 0.006*\"evalu\" + 0.005*\"simpson\" + 0.004*\"$\" + 0.001*\"25\"\n",
      "2022-02-22 20:26:50,488 : INFO : topic diff=0.195216, rho=0.231857\n",
      "2022-02-22 20:26:50,505 : INFO : PROGRESS: pass 17, at document #2000/3204\n",
      "2022-02-22 20:26:51,058 : INFO : optimized alpha [0.011618349, 0.011795505, 0.010634652, 0.014952298, 0.013466853, 0.010503344, 0.016560568, 0.013157679, 0.0124499425, 0.014258462, 0.010588593, 0.011952111, 0.015298986, 0.013507224, 0.014816483, 0.013594297, 0.012744705, 0.018762395, 0.010720456, 0.06762176, 0.011881967, 0.016958667, 0.012716506, 0.011258473, 0.011957205, 0.01250765, 0.012264915, 0.013263456, 0.0113736605, 0.012301549, 0.0139718475, 0.011089982, 0.012560963, 0.011093523, 0.011363509, 0.014990487, 0.0110099865, 0.010978432, 0.013595858, 0.010607582, 0.0106102135, 0.013332331, 0.01129438, 0.0142221935, 0.011631049, 0.012847042, 0.0130715165, 0.013600977, 0.013903695, 0.011235235, 0.014305703, 0.0114372, 0.011299825, 0.012956255, 0.01195247, 0.012312, 0.011058637, 0.013989141, 0.012359215, 0.015366388, 0.012993158, 0.013715202, 0.0104205925, 0.023113154, 0.013260349, 0.01230336, 0.01338753, 0.01068828, 0.012697487, 0.011281292, 0.011851289, 0.013401308, 0.011534774, 0.012123091, 0.012627903, 0.010982864, 0.0135209095, 0.012029473, 0.016124401, 0.0147048095, 0.0110954195, 0.01345225, 0.011793891, 0.013014158, 0.015797796, 0.014519435, 0.013306788, 0.012957158, 0.014776081, 0.012385602, 0.016452393, 0.013143723, 0.015002441, 0.011395068, 0.0123911705, 0.01100792, 0.012812954, 0.01202684, 0.014800845, 0.010694826]\n",
      "2022-02-22 20:26:51,075 : INFO : merging changes from 2000 documents into a model of 3204 documents\n",
      "2022-02-22 20:26:51,086 : INFO : topic #62 (0.010): 0.092*\"independ\" + 0.085*\",\" + 0.065*\"region\" + 0.062*\"speed\" + 0.045*\"compar\" + 0.038*\"-\" + 0.027*\"circular\" + 0.026*\"represent\" + 0.022*\"comput\" + 0.021*\"element\"\n",
      "2022-02-22 20:26:51,086 : INFO : topic #5 (0.011): 0.062*\"servic\" + 0.062*\"game\" + 0.056*\"avoid\" + 0.044*\"public\" + 0.043*\"-\" + 0.037*\"play\" + 0.037*\"pair\" + 0.037*\"goal\" + 0.036*\"program\" + 0.034*\",\"\n",
      "2022-02-22 20:26:51,087 : INFO : topic #17 (0.019): 0.181*\"languag\" + 0.114*\",\" + 0.072*\"program\" + 0.023*\"-\" + 0.023*\"syntax\" + 0.022*\"level\" + 0.022*\"semant\" + 0.018*\"structur\" + 0.013*\"form\" + 0.013*\"translat\"\n",
      "2022-02-22 20:26:51,087 : INFO : topic #63 (0.023): 0.204*\"[\" + 0.191*\"algorithm\" + 0.174*\"(\" + 0.125*\"])\" + 0.033*\"$\" + 0.031*\"))\" + 0.019*\"d1\" + 0.018*\"eigenvalu\" + 0.015*\"a1\" + 0.015*\"matrix\"\n",
      "2022-02-22 20:26:51,088 : INFO : topic #19 (0.068): 0.360*\"(\" + 0.354*\")\" + 0.216*\"algorithm\" + 0.021*\"integr\" + 0.013*\"complex\" + 0.013*\"'\" + 0.007*\"evalu\" + 0.005*\"simpson\" + 0.004*\"$\" + 0.002*\"25\"\n",
      "2022-02-22 20:26:51,089 : INFO : topic diff=0.175485, rho=0.225865\n",
      "2022-02-22 20:26:51,704 : INFO : -6.413 per-word bound, 85.2 perplexity estimate based on a held-out corpus of 1204 documents with 49783 words\n",
      "2022-02-22 20:26:51,704 : INFO : PROGRESS: pass 17, at document #3204/3204\n",
      "2022-02-22 20:26:52,182 : INFO : optimized alpha [0.0117251575, 0.01185166, 0.010688393, 0.015240825, 0.013606563, 0.010588615, 0.01680451, 0.013365233, 0.012571391, 0.014381992, 0.010678101, 0.012054063, 0.015471298, 0.013720689, 0.015064926, 0.013778937, 0.012864419, 0.019061746, 0.010774433, 0.06894972, 0.012013354, 0.017168866, 0.012951992, 0.011341845, 0.012063136, 0.012586679, 0.012380414, 0.0134450905, 0.01144542, 0.012420784, 0.014003647, 0.011174399, 0.012606739, 0.01117685, 0.011432328, 0.015193823, 0.011075149, 0.011113849, 0.013818211, 0.010640541, 0.010702473, 0.013387778, 0.011362187, 0.014437002, 0.011710396, 0.0129646445, 0.013205467, 0.013815125, 0.014106497, 0.011321264, 0.014578655, 0.011528509, 0.011398413, 0.013046643, 0.01203705, 0.012436481, 0.011157186, 0.0141698755, 0.012493909, 0.015563353, 0.013017244, 0.013858934, 0.010506227, 0.023384089, 0.01344635, 0.012451148, 0.0135270655, 0.010749045, 0.012845482, 0.011380362, 0.011971612, 0.013569008, 0.011655488, 0.012194182, 0.012694306, 0.011031636, 0.013688705, 0.012180423, 0.016335743, 0.014848584, 0.011246124, 0.01356954, 0.011872884, 0.013228402, 0.01615028, 0.014743773, 0.013432717, 0.013101457, 0.014954125, 0.0125033045, 0.016767498, 0.01322111, 0.015283776, 0.011470818, 0.012492108, 0.011084168, 0.012948241, 0.012134635, 0.014946557, 0.010762511]\n",
      "2022-02-22 20:26:52,189 : INFO : merging changes from 1204 documents into a model of 3204 documents\n",
      "2022-02-22 20:26:52,189 : INFO : topic #62 (0.011): 0.094*\"independ\" + 0.085*\",\" + 0.071*\"region\" + 0.055*\"speed\" + 0.047*\"compar\" + 0.035*\"-\" + 0.028*\"circular\" + 0.028*\"represent\" + 0.022*\"area\" + 0.022*\"especi\"\n",
      "2022-02-22 20:26:52,189 : INFO : topic #5 (0.011): 0.070*\"game\" + 0.064*\"servic\" + 0.054*\"avoid\" + 0.045*\"public\" + 0.043*\"goal\" + 0.042*\"-\" + 0.041*\"play\" + 0.039*\"pair\" + 0.033*\"program\" + 0.033*\",\"\n",
      "2022-02-22 20:26:52,189 : INFO : topic #17 (0.019): 0.176*\"languag\" + 0.115*\",\" + 0.073*\"program\" + 0.025*\"semant\" + 0.024*\"level\" + 0.023*\"-\" + 0.022*\"syntax\" + 0.019*\"structur\" + 0.013*\"form\" + 0.012*\"defin\"\n",
      "2022-02-22 20:26:52,189 : INFO : topic #63 (0.023): 0.207*\"[\" + 0.190*\"algorithm\" + 0.169*\"(\" + 0.104*\"])\" + 0.041*\"$\" + 0.040*\"))\" + 0.022*\"d1\" + 0.020*\"eigenvalu\" + 0.016*\"a1\" + 0.015*\"matrix\"\n",
      "2022-02-22 20:26:52,189 : INFO : topic #19 (0.069): 0.364*\"(\" + 0.357*\")\" + 0.211*\"algorithm\" + 0.020*\"integr\" + 0.014*\"complex\" + 0.012*\"'\" + 0.006*\"evalu\" + 0.005*\"simpson\" + 0.004*\"$\" + 0.001*\"25\"\n",
      "2022-02-22 20:26:52,204 : INFO : topic diff=0.179598, rho=0.225865\n",
      "2022-02-22 20:26:52,212 : INFO : PROGRESS: pass 18, at document #2000/3204\n",
      "2022-02-22 20:26:52,753 : INFO : optimized alpha [0.011744921, 0.011897459, 0.010687833, 0.015316288, 0.013707645, 0.010577684, 0.016968092, 0.013454808, 0.012610588, 0.014500768, 0.010697574, 0.012080996, 0.01560112, 0.013846887, 0.015116266, 0.013847119, 0.0129280975, 0.019242002, 0.010772614, 0.07100923, 0.012009733, 0.017360285, 0.0129710585, 0.011353222, 0.012118943, 0.012691177, 0.01242375, 0.013501303, 0.011484115, 0.012441124, 0.014168446, 0.011192421, 0.012692893, 0.011207989, 0.0114654545, 0.015322256, 0.011109247, 0.011121399, 0.013890702, 0.01065991, 0.010714816, 0.013524655, 0.011420092, 0.014403631, 0.011745273, 0.0129963895, 0.013264914, 0.013864307, 0.014152362, 0.01133903, 0.014564879, 0.011566873, 0.011404456, 0.013121784, 0.012073685, 0.012457904, 0.011162356, 0.014189837, 0.012532528, 0.015646989, 0.013175183, 0.013968203, 0.010525367, 0.023866493, 0.013483495, 0.012424003, 0.013632328, 0.010767833, 0.012856924, 0.011357461, 0.011959591, 0.013611521, 0.011684791, 0.01225528, 0.012787727, 0.011061355, 0.01376126, 0.012175922, 0.016459325, 0.0149892, 0.011242082, 0.01364512, 0.011898643, 0.013227481, 0.016141795, 0.014701887, 0.013515201, 0.013112813, 0.015122099, 0.012566715, 0.016862432, 0.013418126, 0.015363599, 0.011491092, 0.012545788, 0.011106238, 0.012967572, 0.0121575305, 0.015104631, 0.010759077]\n",
      "2022-02-22 20:26:52,765 : INFO : merging changes from 2000 documents into a model of 3204 documents\n",
      "2022-02-22 20:26:52,776 : INFO : topic #62 (0.011): 0.094*\"independ\" + 0.085*\",\" + 0.066*\"region\" + 0.063*\"speed\" + 0.047*\"compar\" + 0.037*\"-\" + 0.027*\"represent\" + 0.027*\"circular\" + 0.021*\"comput\" + 0.021*\"element\"\n",
      "2022-02-22 20:26:52,777 : INFO : topic #5 (0.011): 0.062*\"game\" + 0.062*\"servic\" + 0.057*\"avoid\" + 0.044*\"public\" + 0.043*\"-\" + 0.039*\"goal\" + 0.037*\"pair\" + 0.037*\"play\" + 0.035*\"program\" + 0.033*\",\"\n",
      "2022-02-22 20:26:52,777 : INFO : topic #17 (0.019): 0.182*\"languag\" + 0.115*\",\" + 0.072*\"program\" + 0.023*\"-\" + 0.023*\"syntax\" + 0.022*\"semant\" + 0.022*\"level\" + 0.018*\"structur\" + 0.013*\"form\" + 0.012*\"translat\"\n",
      "2022-02-22 20:26:52,778 : INFO : topic #63 (0.024): 0.205*\"[\" + 0.191*\"algorithm\" + 0.174*\"(\" + 0.125*\"])\" + 0.033*\"$\" + 0.031*\"))\" + 0.019*\"d1\" + 0.018*\"eigenvalu\" + 0.015*\"a1\" + 0.014*\"g6\"\n"
     ]
    },
    {
     "name": "stderr",
     "output_type": "stream",
     "text": [
      "2022-02-22 20:26:52,778 : INFO : topic #19 (0.071): 0.360*\"(\" + 0.354*\")\" + 0.216*\"algorithm\" + 0.021*\"integr\" + 0.013*\"complex\" + 0.013*\"'\" + 0.007*\"evalu\" + 0.005*\"simpson\" + 0.004*\"$\" + 0.002*\"25\"\n",
      "2022-02-22 20:26:52,779 : INFO : topic diff=0.162377, rho=0.220316\n",
      "2022-02-22 20:26:53,376 : INFO : -6.406 per-word bound, 84.8 perplexity estimate based on a held-out corpus of 1204 documents with 49783 words\n",
      "2022-02-22 20:26:53,376 : INFO : PROGRESS: pass 18, at document #3204/3204\n",
      "2022-02-22 20:26:53,840 : INFO : optimized alpha [0.011847662, 0.011952557, 0.010740639, 0.015596119, 0.01384487, 0.010661431, 0.017205294, 0.013669866, 0.012732194, 0.014621735, 0.010785479, 0.01218553, 0.015770545, 0.014065542, 0.01535843, 0.014031495, 0.013045671, 0.019533338, 0.010825657, 0.07223424, 0.012140986, 0.017579718, 0.013206448, 0.0114329485, 0.012225158, 0.012773102, 0.012539439, 0.013677745, 0.011558712, 0.012558239, 0.01419883, 0.011285709, 0.012737512, 0.011287723, 0.011530837, 0.015511161, 0.011173185, 0.011269103, 0.014112867, 0.010692335, 0.010809395, 0.013578478, 0.011484458, 0.014617658, 0.011825192, 0.013109449, 0.013396635, 0.014072985, 0.014352133, 0.011421429, 0.014842257, 0.011656508, 0.011501291, 0.0132103115, 0.012156655, 0.0125825815, 0.011257086, 0.014365014, 0.012660274, 0.015834874, 0.013193259, 0.014104239, 0.010611393, 0.024129132, 0.013669248, 0.012571549, 0.013769381, 0.010827458, 0.013007156, 0.011456818, 0.012077833, 0.013771463, 0.011805619, 0.012324866, 0.012852578, 0.01110923, 0.013923807, 0.012324359, 0.016670171, 0.015130165, 0.01139258, 0.013765218, 0.011976209, 0.013445976, 0.01649316, 0.014930735, 0.013638824, 0.013252201, 0.015305642, 0.012682262, 0.01717686, 0.013493383, 0.0156419, 0.011567549, 0.0126425205, 0.011181077, 0.013100461, 0.012272375, 0.015241909, 0.010825519]\n",
      "2022-02-22 20:26:53,859 : INFO : merging changes from 1204 documents into a model of 3204 documents\n",
      "2022-02-22 20:26:53,870 : INFO : topic #62 (0.011): 0.096*\"independ\" + 0.085*\",\" + 0.071*\"region\" + 0.055*\"speed\" + 0.049*\"compar\" + 0.035*\"-\" + 0.029*\"represent\" + 0.028*\"circular\" + 0.023*\"especi\" + 0.022*\"area\"\n",
      "2022-02-22 20:26:53,870 : INFO : topic #5 (0.011): 0.070*\"game\" + 0.064*\"servic\" + 0.055*\"avoid\" + 0.045*\"public\" + 0.044*\"goal\" + 0.042*\"-\" + 0.041*\"play\" + 0.039*\"pair\" + 0.034*\"situat\" + 0.033*\"incorpor\"\n",
      "2022-02-22 20:26:53,871 : INFO : topic #17 (0.020): 0.177*\"languag\" + 0.115*\",\" + 0.073*\"program\" + 0.025*\"semant\" + 0.024*\"level\" + 0.023*\"-\" + 0.022*\"syntax\" + 0.019*\"structur\" + 0.013*\"form\" + 0.012*\"defin\"\n",
      "2022-02-22 20:26:53,871 : INFO : topic #63 (0.024): 0.208*\"[\" + 0.190*\"algorithm\" + 0.169*\"(\" + 0.104*\"])\" + 0.041*\"$\" + 0.040*\"))\" + 0.022*\"d1\" + 0.020*\"eigenvalu\" + 0.016*\"a1\" + 0.015*\"matrix\"\n",
      "2022-02-22 20:26:53,872 : INFO : topic #19 (0.072): 0.364*\"(\" + 0.357*\")\" + 0.212*\"algorithm\" + 0.019*\"integr\" + 0.014*\"complex\" + 0.012*\"'\" + 0.006*\"evalu\" + 0.005*\"simpson\" + 0.004*\"$\" + 0.001*\"25\"\n",
      "2022-02-22 20:26:53,873 : INFO : topic diff=0.166166, rho=0.220316\n",
      "2022-02-22 20:26:53,881 : INFO : PROGRESS: pass 19, at document #2000/3204\n",
      "2022-02-22 20:26:54,412 : INFO : optimized alpha [0.011873444, 0.012001497, 0.010742577, 0.01567637, 0.013945806, 0.0106530525, 0.017370364, 0.013768407, 0.012770561, 0.014737065, 0.010808048, 0.012209217, 0.015903441, 0.014182559, 0.0154064465, 0.014098151, 0.013106789, 0.019702047, 0.010824059, 0.07419221, 0.012141126, 0.01776679, 0.013234424, 0.011445412, 0.012282668, 0.012876039, 0.01258593, 0.013735653, 0.011597973, 0.0125753665, 0.014359819, 0.011304617, 0.012823714, 0.011319524, 0.0115621695, 0.015650922, 0.011210369, 0.011284695, 0.014182193, 0.010710401, 0.010820249, 0.013713398, 0.011542643, 0.014585751, 0.011861946, 0.013137688, 0.013453353, 0.014110136, 0.014390431, 0.011441325, 0.014827336, 0.011694147, 0.011508402, 0.013284165, 0.012195305, 0.012610245, 0.011265719, 0.014384099, 0.012697971, 0.015916705, 0.01335191, 0.01421338, 0.010629012, 0.024603458, 0.013708182, 0.012544606, 0.013871537, 0.010846, 0.0130208535, 0.01143561, 0.01206461, 0.013809901, 0.011835508, 0.012386246, 0.012944515, 0.011138564, 0.013999405, 0.012322276, 0.016798688, 0.015268692, 0.011390684, 0.013839472, 0.012002846, 0.013444212, 0.016489882, 0.014890367, 0.013719868, 0.013260238, 0.015475053, 0.012745879, 0.017274773, 0.01369002, 0.015721433, 0.0115849655, 0.012696524, 0.011203957, 0.013120604, 0.012294743, 0.015396193, 0.010821115]\n",
      "2022-02-22 20:26:54,425 : INFO : merging changes from 2000 documents into a model of 3204 documents\n",
      "2022-02-22 20:26:54,435 : INFO : topic #62 (0.011): 0.095*\"independ\" + 0.084*\",\" + 0.066*\"region\" + 0.062*\"speed\" + 0.049*\"compar\" + 0.036*\"-\" + 0.029*\"represent\" + 0.027*\"circular\" + 0.022*\"element\" + 0.021*\"area\"\n",
      "2022-02-22 20:26:54,436 : INFO : topic #5 (0.011): 0.062*\"game\" + 0.062*\"servic\" + 0.057*\"avoid\" + 0.044*\"public\" + 0.043*\"-\" + 0.041*\"goal\" + 0.038*\"pair\" + 0.037*\"play\" + 0.034*\"program\" + 0.033*\"incorpor\"\n",
      "2022-02-22 20:26:54,436 : INFO : topic #17 (0.020): 0.183*\"languag\" + 0.116*\",\" + 0.072*\"program\" + 0.023*\"-\" + 0.023*\"syntax\" + 0.022*\"semant\" + 0.022*\"level\" + 0.018*\"structur\" + 0.012*\"form\" + 0.012*\"defin\"\n",
      "2022-02-22 20:26:54,436 : INFO : topic #63 (0.025): 0.206*\"[\" + 0.191*\"algorithm\" + 0.174*\"(\" + 0.124*\"])\" + 0.033*\"$\" + 0.032*\"))\" + 0.019*\"d1\" + 0.018*\"eigenvalu\" + 0.015*\"a1\" + 0.014*\"g6\"\n",
      "2022-02-22 20:26:54,437 : INFO : topic #19 (0.074): 0.360*\"(\" + 0.354*\")\" + 0.216*\"algorithm\" + 0.021*\"integr\" + 0.013*\"complex\" + 0.013*\"'\" + 0.007*\"evalu\" + 0.005*\"simpson\" + 0.004*\"$\" + 0.002*\"25\"\n",
      "2022-02-22 20:26:54,438 : INFO : topic diff=0.150966, rho=0.215156\n",
      "2022-02-22 20:26:55,020 : INFO : -6.402 per-word bound, 84.6 perplexity estimate based on a held-out corpus of 1204 documents with 49783 words\n",
      "2022-02-22 20:26:55,020 : INFO : PROGRESS: pass 19, at document #3204/3204\n",
      "2022-02-22 20:26:55,492 : INFO : optimized alpha [0.011978736, 0.0120577095, 0.010792629, 0.015961863, 0.014083206, 0.010733485, 0.017613815, 0.013991331, 0.012892416, 0.014858243, 0.010898284, 0.012311953, 0.01607299, 0.014401517, 0.015653864, 0.014282355, 0.013227013, 0.019992776, 0.010876242, 0.0752743, 0.012276798, 0.01798255, 0.0134817595, 0.011523735, 0.012389287, 0.012963135, 0.012697424, 0.013919409, 0.011671217, 0.012692762, 0.014386293, 0.011388135, 0.012864993, 0.011399898, 0.011634699, 0.015842626, 0.0112832775, 0.011434392, 0.01440431, 0.010740403, 0.010915241, 0.013765685, 0.011607847, 0.014793908, 0.011938349, 0.013253461, 0.013577949, 0.014318708, 0.014582076, 0.011528449, 0.015098806, 0.011784284, 0.011605669, 0.013370953, 0.012276759, 0.012730602, 0.011366976, 0.01456171, 0.012823585, 0.016104357, 0.013368916, 0.0143496, 0.010711668, 0.024858309, 0.013891337, 0.012680646, 0.014013622, 0.010904601, 0.013164105, 0.011531221, 0.012180868, 0.013967338, 0.0119501185, 0.012461121, 0.013007925, 0.011185614, 0.014164406, 0.012468406, 0.01701214, 0.015412352, 0.011543178, 0.013959958, 0.012083355, 0.01366479, 0.016840607, 0.015107799, 0.013841326, 0.013402164, 0.01565026, 0.012864007, 0.017588843, 0.013763193, 0.01599979, 0.011657995, 0.012789194, 0.011279444, 0.013251276, 0.012407682, 0.01552785, 0.010888393]\n",
      "2022-02-22 20:26:55,501 : INFO : merging changes from 1204 documents into a model of 3204 documents\n",
      "2022-02-22 20:26:55,501 : INFO : topic #62 (0.011): 0.096*\"independ\" + 0.085*\",\" + 0.071*\"region\" + 0.055*\"speed\" + 0.051*\"compar\" + 0.034*\"-\" + 0.030*\"represent\" + 0.028*\"circular\" + 0.023*\"especi\" + 0.022*\"area\"\n",
      "2022-02-22 20:26:55,501 : INFO : topic #5 (0.011): 0.070*\"game\" + 0.064*\"servic\" + 0.055*\"avoid\" + 0.046*\"goal\" + 0.045*\"public\" + 0.042*\"-\" + 0.041*\"play\" + 0.040*\"pair\" + 0.035*\"situat\" + 0.034*\"incorpor\"\n",
      "2022-02-22 20:26:55,501 : INFO : topic #17 (0.020): 0.178*\"languag\" + 0.116*\",\" + 0.073*\"program\" + 0.025*\"semant\" + 0.024*\"level\" + 0.023*\"-\" + 0.022*\"syntax\" + 0.018*\"structur\" + 0.012*\"form\" + 0.012*\"defin\"\n",
      "2022-02-22 20:26:55,501 : INFO : topic #63 (0.025): 0.209*\"[\" + 0.190*\"algorithm\" + 0.169*\"(\" + 0.104*\"])\" + 0.041*\"$\" + 0.040*\"))\" + 0.021*\"d1\" + 0.020*\"eigenvalu\" + 0.016*\"a1\" + 0.015*\"matrix\"\n",
      "2022-02-22 20:26:55,501 : INFO : topic #19 (0.075): 0.364*\"(\" + 0.357*\")\" + 0.212*\"algorithm\" + 0.019*\"integr\" + 0.014*\"complex\" + 0.012*\"'\" + 0.006*\"evalu\" + 0.005*\"simpson\" + 0.004*\"$\" + 0.002*\"25\"\n"
     ]
    },
    {
     "name": "stderr",
     "output_type": "stream",
     "text": [
      "2022-02-22 20:26:55,501 : INFO : topic diff=0.154580, rho=0.215156\n"
     ]
    },
    {
     "data": {
      "text/plain": [
       "[(0, 0.004982162),\n",
       " (1, 0.005015008),\n",
       " (2, 0.0044888393),\n",
       " (3, 0.0066388124),\n",
       " (4, 0.0058574467),\n",
       " (5, 0.0044642407),\n",
       " (6, 0.0073258877),\n",
       " (7, 0.0058192345),\n",
       " (8, 0.005362177),\n",
       " (9, 0.006179798),\n",
       " (10, 0.0045327833),\n",
       " (11, 0.0051207524),\n",
       " (12, 0.0066850325),\n",
       " (13, 0.005989838),\n",
       " (14, 0.0065107103),\n",
       " (15, 0.005940276),\n",
       " (16, 0.0055013415),\n",
       " (17, 0.008315339),\n",
       " (18, 0.0045236154),\n",
       " (19, 0.031307872),\n",
       " (20, 0.0051061306),\n",
       " (21, 0.007479251),\n",
       " (22, 0.005607295),\n",
       " (23, 0.004792919),\n",
       " (24, 0.005152917),\n",
       " (25, 0.00539159),\n",
       " (26, 0.0052810763),\n",
       " (27, 0.005789321),\n",
       " (28, 0.0048542595),\n",
       " (29, 0.0052791373),\n",
       " (30, 0.005983506),\n",
       " (31, 0.004736521),\n",
       " (32, 0.0053507714),\n",
       " (33, 0.004741413),\n",
       " (34, 0.004839071),\n",
       " (35, 0.00658922),\n",
       " (36, 0.004692909),\n",
       " (37, 0.0047557596),\n",
       " (38, 0.0059909993),\n",
       " (39, 0.0044671176),\n",
       " (40, 0.004539836),\n",
       " (41, 0.0057253847),\n",
       " (42, 0.0048279027),\n",
       " (43, 0.00615304),\n",
       " (44, 0.004965364),\n",
       " (45, 0.0055123414),\n",
       " (46, 0.005647302),\n",
       " (47, 0.005955396),\n",
       " (48, 0.0060649356),\n",
       " (49, 0.00479488),\n",
       " (50, 0.0062798522),\n",
       " (51, 0.0049012857),\n",
       " (52, 0.0048269965),\n",
       " (53, 0.0055612084),\n",
       " (54, 0.005106115),\n",
       " (55, 0.0052948757),\n",
       " (56, 0.0047277203),\n",
       " (57, 0.0060564647),\n",
       " (58, 0.005333549),\n",
       " (59, 0.0066980785),\n",
       " (60, 0.0055603613),\n",
       " (61, 0.0059682447),\n",
       " (62, 0.0044551664),\n",
       " (63, 0.010338997),\n",
       " (64, 0.0057776454),\n",
       " (65, 0.005274098),\n",
       " (66, 0.005828506),\n",
       " (67, 0.0045354106),\n",
       " (68, 0.005475177),\n",
       " (69, 0.0047960323),\n",
       " (70, 0.005066232),\n",
       " (71, 0.0058092554),\n",
       " (72, 0.004970259),\n",
       " (73, 0.005182794),\n",
       " (74, 0.005410219),\n",
       " (75, 0.0046522887),\n",
       " (76, 0.0058912192),\n",
       " (77, 0.005185824),\n",
       " (78, 0.007075641),\n",
       " (79, 0.0064102616),\n",
       " (80, 0.0048010056),\n",
       " (81, 0.42172018),\n",
       " (82, 0.0050256746),\n",
       " (83, 0.0056834207),\n",
       " (84, 0.0070042973),\n",
       " (85, 0.006283593),\n",
       " (86, 0.0057568448),\n",
       " (87, 0.0055741896),\n",
       " (88, 0.0065092114),\n",
       " (89, 0.005350361),\n",
       " (90, 0.007315501),\n",
       " (91, 0.005724348),\n",
       " (92, 0.006654587),\n",
       " (93, 0.00484876),\n",
       " (94, 0.0053192447),\n",
       " (95, 0.0046913144),\n",
       " (96, 0.005511433),\n",
       " (97, 0.005160568),\n",
       " (98, 0.0064582992),\n",
       " (99, 0.004528669)]"
      ]
     },
     "execution_count": 86,
     "metadata": {},
     "output_type": "execute_result"
    }
   ],
   "source": [
    "##### Function check\n",
    "lda = LdaRetrievalModel(doc_repr_2)\n",
    "lda.train_model()\n",
    "\n",
    "# you can now get an LDA vector for a given query in the following way:\n",
    "lda.vectorize_query(\"report\")\n",
    "##### "
   ]
  },
  {
   "cell_type": "markdown",
   "metadata": {
    "deletable": false,
    "editable": false,
    "nbgrader": {
     "cell_type": "markdown",
     "checksum": "32d83b6ea79ca3ddb789a7f8805a1b25",
     "grade": false,
     "grade_id": "cell-0e24b727d5908c0e",
     "locked": true,
     "points": 5,
     "schema_version": 3,
     "solution": false,
     "task": true
    }
   },
   "source": [
    "\\#### Please do not change this. This cell is used for grading."
   ]
  },
  {
   "cell_type": "markdown",
   "metadata": {
    "deletable": false,
    "editable": false,
    "nbgrader": {
     "cell_type": "markdown",
     "checksum": "114a934f0b9ce696e6cf09d3b8da6a3d",
     "grade": false,
     "grade_id": "cell-b1bffcb970b18aeb",
     "locked": true,
     "schema_version": 3,
     "solution": false,
     "task": false
    }
   },
   "source": [
    "---\n",
    "Now we can use the `DenseRetrievalModel` class to obtain an LDA search function.\n",
    "You can test your LDA model in the following cell: Try finding queries which are lexically different to documents, but semantically similar - does LDA work well for these queries?!"
   ]
  },
  {
   "cell_type": "code",
   "execution_count": 87,
   "metadata": {},
   "outputs": [
    {
     "data": {
      "application/vnd.jupyter.widget-view+json": {
       "model_id": "01f87b87e3c14344ababb641bf9c0699",
       "version_major": 2,
       "version_minor": 0
      },
      "text/plain": [
       "Text(value='', description='Search Bar')"
      ]
     },
     "metadata": {},
     "output_type": "display_data"
    }
   ],
   "source": [
    "drm_lda = DenseRetrievalRanker(lda, jenson_shannon_sim)\n",
    "\n",
    "# test your LDA model\n",
    "search_fn = drm_lda.search\n",
    "\n",
    "text = widgets.Text(description=\"Search Bar\", width=200)\n",
    "display(text)\n",
    "\n",
    "\n",
    "text.on_submit(handle_submit_2)"
   ]
  },
  {
   "cell_type": "markdown",
   "metadata": {
    "deletable": false,
    "editable": false,
    "nbgrader": {
     "cell_type": "markdown",
     "checksum": "9d7f15863b655119b45f4d89354e5661",
     "grade": false,
     "grade_id": "cell-190cd0854b2791cc",
     "locked": true,
     "schema_version": 3,
     "solution": false,
     "task": false
    }
   },
   "source": [
    "## Section 8: Word2Vec/Doc2Vec (20 points) <a class=\"anchor\" id=\"2vec\"></a>\n",
    "\n",
    "[Back to Part 2](#part2)\n",
    "\n",
    "We will implement two other methods here, the Word2Vec model and the Doc2Vec model, also using `gensim`. Word2Vec creates representations of words, not documents, so the word level vectors need to be aggregated to obtain a representation for the document. Here, we will simply take the mean of the vectors. \n",
    "\n",
    "\n",
    "A drawback of these models is that they need a lot of training data. Our dataset is tiny, so in addition to using a model trained on the data, we will also use a pre-trained model for Word2Vec (this will be automatically downloaded).     \n",
    "\n",
    "*Note*:\n",
    "1. The code in vectorize_documents / vectorize_query should return gensim-like vectors i.e `[(dim, val), .. (dim, val)]`. \n",
    "2. For Word2Vec: You should also handle the following two cases: (a) A word in the query is not present in the vocabulary of the model and (b) none of the words in the query are present in the model - you can return 0 scores for all documents in this case. For either of these, you can check if a `word` is present in the vocab by using `word in self.model`\n"
   ]
  },
  {
   "cell_type": "code",
   "execution_count": 88,
   "metadata": {
    "deletable": false,
    "nbgrader": {
     "cell_type": "code",
     "checksum": "83ab733608ed14c29c09b36b4e1b6daa",
     "grade": false,
     "grade_id": "cell-2b73759f9baf688f",
     "locked": false,
     "schema_version": 3,
     "solution": true,
     "task": false
    }
   },
   "outputs": [
    {
     "name": "stderr",
     "output_type": "stream",
     "text": [
      "2022-02-22 20:26:56,958 : INFO : adding document #0 to Dictionary(0 unique tokens: [])\n",
      "2022-02-22 20:26:57,041 : INFO : built Dictionary(5937 unique tokens: ['-', 'algebra', 'intern', 'languag', 'preliminari']...) from 3204 documents (total 115969 corpus positions)\n",
      "2022-02-22 20:26:57,041 : INFO : discarding 4740 tokens: [('repeat', 8), ('glossari', 7), ('inspect', 8), ('uncol', 2), ('rung', 9), ('secant', 2), ('.', 1603), ('acceler', 6), ('diverg', 3), ('induc', 9)]...\n",
      "2022-02-22 20:26:57,041 : INFO : keeping 1197 tokens which were in no less than 10 and no more than 1602 (=50.0%) documents\n",
      "2022-02-22 20:26:57,041 : INFO : resulting dictionary: Dictionary(1197 unique tokens: ['-', 'algebra', 'intern', 'languag', 'preliminari']...)\n",
      "2022-02-22 20:26:57,098 : INFO : collecting all words and their counts\n",
      "2022-02-22 20:26:57,098 : INFO : PROGRESS: at sentence #0, processed 0 words, keeping 0 word types\n",
      "2022-02-22 20:26:57,118 : INFO : collected 5937 word types from a corpus of 115969 raw words and 3204 sentences\n",
      "2022-02-22 20:26:57,119 : INFO : Loading a fresh vocabulary\n",
      "2022-02-22 20:26:57,185 : INFO : effective_min_count=1 retains 5937 unique words (100% of original 5937, drops 0)\n",
      "2022-02-22 20:26:57,185 : INFO : effective_min_count=1 leaves 115969 word corpus (100% of original 115969, drops 0)\n",
      "2022-02-22 20:26:57,196 : INFO : deleting the raw counts dictionary of 5937 items\n",
      "2022-02-22 20:26:57,197 : INFO : sample=0.001 downsamples 40 most-common words\n",
      "2022-02-22 20:26:57,197 : INFO : downsampling leaves estimated 92346 word corpus (79.6% of prior 115969)\n",
      "2022-02-22 20:26:57,206 : INFO : estimated required memory for 5937 words and 100 dimensions: 7718100 bytes\n",
      "2022-02-22 20:26:57,206 : INFO : resetting layer weights\n",
      "2022-02-22 20:26:58,018 : INFO : training model with 3 workers on 5937 vocabulary and 100 features, using sg=0 hs=0 sample=0.001 negative=5 window=5\n",
      "2022-02-22 20:26:58,065 : INFO : worker thread finished; awaiting finish of 2 more threads\n",
      "2022-02-22 20:26:58,065 : INFO : worker thread finished; awaiting finish of 1 more threads\n",
      "2022-02-22 20:26:58,070 : INFO : worker thread finished; awaiting finish of 0 more threads\n",
      "2022-02-22 20:26:58,071 : INFO : EPOCH - 1 : training on 115969 raw words (92241 effective words) took 0.0s, 1940608 effective words/s\n",
      "2022-02-22 20:26:58,106 : INFO : worker thread finished; awaiting finish of 2 more threads\n",
      "2022-02-22 20:26:58,118 : INFO : worker thread finished; awaiting finish of 1 more threads\n",
      "2022-02-22 20:26:58,120 : INFO : worker thread finished; awaiting finish of 0 more threads\n",
      "2022-02-22 20:26:58,120 : INFO : EPOCH - 2 : training on 115969 raw words (92353 effective words) took 0.0s, 1972381 effective words/s\n",
      "2022-02-22 20:26:58,160 : INFO : worker thread finished; awaiting finish of 2 more threads\n",
      "2022-02-22 20:26:58,169 : INFO : worker thread finished; awaiting finish of 1 more threads\n",
      "2022-02-22 20:26:58,170 : INFO : worker thread finished; awaiting finish of 0 more threads\n",
      "2022-02-22 20:26:58,171 : INFO : EPOCH - 3 : training on 115969 raw words (92323 effective words) took 0.0s, 1933381 effective words/s\n",
      "2022-02-22 20:26:58,219 : INFO : worker thread finished; awaiting finish of 2 more threads\n",
      "2022-02-22 20:26:58,222 : INFO : worker thread finished; awaiting finish of 1 more threads\n",
      "2022-02-22 20:26:58,223 : INFO : worker thread finished; awaiting finish of 0 more threads\n",
      "2022-02-22 20:26:58,223 : INFO : EPOCH - 4 : training on 115969 raw words (92452 effective words) took 0.0s, 1888799 effective words/s\n",
      "2022-02-22 20:26:58,272 : INFO : worker thread finished; awaiting finish of 2 more threads\n",
      "2022-02-22 20:26:58,272 : INFO : worker thread finished; awaiting finish of 1 more threads\n",
      "2022-02-22 20:26:58,277 : INFO : worker thread finished; awaiting finish of 0 more threads\n",
      "2022-02-22 20:26:58,277 : INFO : EPOCH - 5 : training on 115969 raw words (92286 effective words) took 0.1s, 1809352 effective words/s\n",
      "2022-02-22 20:26:58,278 : INFO : training on a 579845 raw words (461655 effective words) took 0.3s, 1789281 effective words/s\n"
     ]
    },
    {
     "data": {
      "text/plain": [
       "[(0, 0.20614988),\n",
       " (1, 0.12790225),\n",
       " (2, 0.14666852),\n",
       " (3, 0.054025967),\n",
       " (4, -0.109151565),\n",
       " (5, -0.21613818),\n",
       " (6, 0.21393956),\n",
       " (7, 0.13724685),\n",
       " (8, -0.59163177),\n",
       " (9, -0.37866488),\n",
       " (10, 0.35508326),\n",
       " (11, 0.236129),\n",
       " (12, 0.1011782),\n",
       " (13, 0.541483),\n",
       " (14, -0.6859197),\n",
       " (15, 0.41286793),\n",
       " (16, 0.19010447),\n",
       " (17, -0.02318023),\n",
       " (18, 0.24323724),\n",
       " (19, 0.46190622),\n",
       " (20, 0.096620366),\n",
       " (21, 0.05891887),\n",
       " (22, -0.89344394),\n",
       " (23, 0.46739817),\n",
       " (24, 1.0637636),\n",
       " (25, 0.34065437),\n",
       " (26, -0.014589984),\n",
       " (27, -0.37850925),\n",
       " (28, -0.5007971),\n",
       " (29, 0.39219597),\n",
       " (30, 0.7601745),\n",
       " (31, 0.0019644415),\n",
       " (32, -0.50766987),\n",
       " (33, 0.48797336),\n",
       " (34, 1.2384326),\n",
       " (35, 0.020082885),\n",
       " (36, -0.6682636),\n",
       " (37, -0.41565892),\n",
       " (38, -0.23836224),\n",
       " (39, 0.3010872),\n",
       " (40, -0.3484997),\n",
       " (41, 0.10604363),\n",
       " (42, 0.15803617),\n",
       " (43, 0.23980817),\n",
       " (44, -0.34465408),\n",
       " (45, -0.21617894),\n",
       " (46, -0.23057786),\n",
       " (47, 0.2182664),\n",
       " (48, -0.19505358),\n",
       " (49, 0.5089654),\n",
       " (50, 0.45903683),\n",
       " (51, 0.6286735),\n",
       " (52, -0.18113768),\n",
       " (53, 0.36346123),\n",
       " (54, -0.435208),\n",
       " (55, 0.263238),\n",
       " (56, 0.13936628),\n",
       " (57, 0.03167524),\n",
       " (58, 0.26592684),\n",
       " (59, 0.040613078),\n",
       " (60, 0.73988354),\n",
       " (61, 0.27524036),\n",
       " (62, 0.13918623),\n",
       " (63, -0.2993609),\n",
       " (64, -0.21361664),\n",
       " (65, -0.38178876),\n",
       " (66, -0.2718663),\n",
       " (67, -0.40892813),\n",
       " (68, 0.4294208),\n",
       " (69, 0.457688),\n",
       " (70, -1.1863483),\n",
       " (71, -0.36662838),\n",
       " (72, -0.10117119),\n",
       " (73, -0.16535144),\n",
       " (74, 0.7816772),\n",
       " (75, -0.52532154),\n",
       " (76, 0.69042194),\n",
       " (77, -0.18694827),\n",
       " (78, 0.6964611),\n",
       " (79, -0.17623089),\n",
       " (80, -0.28870517),\n",
       " (81, -0.5259336),\n",
       " (82, -0.7178462),\n",
       " (83, -0.24475595),\n",
       " (84, -0.85506344),\n",
       " (85, 0.66696954),\n",
       " (86, -0.4120906),\n",
       " (87, -0.45365632),\n",
       " (88, 0.8483536),\n",
       " (89, 0.36757162),\n",
       " (90, 0.21996503),\n",
       " (91, -0.41185287),\n",
       " (92, -0.11288429),\n",
       " (93, 0.10157079),\n",
       " (94, 0.026538972),\n",
       " (95, -0.34356466),\n",
       " (96, -0.16555248),\n",
       " (97, 0.31564575),\n",
       " (98, -0.0025829154),\n",
       " (99, -0.61224514)]"
      ]
     },
     "execution_count": 88,
     "metadata": {},
     "output_type": "execute_result"
    }
   ],
   "source": [
    "# TODO: Implement this! (10 points)\n",
    "class W2VRetrievalModel(VectorSpaceRetrievalModel):\n",
    "    def __init__(self, doc_repr):\n",
    "        super().__init__(doc_repr)\n",
    "        \n",
    "        # the dimensionality of the vectors\n",
    "        self.size = 100 \n",
    "        self.min_count = 1\n",
    "    \n",
    "    def train_model(self):\n",
    "        \"\"\"\n",
    "        Trains the W2V model\n",
    "        \"\"\"\n",
    "        # YOUR CODE HERE\n",
    "        self.model = Word2Vec(self.documents, size=self.size, min_count=self.min_count)\n",
    "        \n",
    "    def vectorize_documents(self):\n",
    "        \"\"\"\n",
    "            Returns a doc_id -> vector dictionary\n",
    "        \"\"\"\n",
    "        # YOUR CODE HERE\n",
    "        vectors = defaultdict(list)\n",
    "        for (doc_id, tokens) in self.doc_repr:\n",
    "            # Collect the vectors for the tokens that exist in the model's vocabulary\n",
    "            d = [self.model.wv[t] for t in tokens if t in self.model.wv]\n",
    "            \n",
    "            if len(d) == 0:\n",
    "                # Handle edge case where no tokens exist\n",
    "                d = np.zeros(self.size)\n",
    "            else:\n",
    "                # Average the token vectors to get doc representation\n",
    "                d = np.mean(d, axis=0)\n",
    "            \n",
    "            vectors[doc_id] = list(zip(range(len(d)), d))\n",
    "        return vectors\n",
    "\n",
    "    def vectorize_query(self, query):\n",
    "        \"\"\"\n",
    "        Vectorizes the query using the W2V model\n",
    "        \"\"\"\n",
    "        query = process_text(query, **config_2)\n",
    "        # YOUR CODE HERE\n",
    "        zero_vec = np.zeros(self.size)\n",
    "\n",
    "        vectors = []\n",
    "        for term in query:\n",
    "            if term not in self.model.wv:\n",
    "                vectors += [zero_vec]\n",
    "            else:\n",
    "                vectors += [self.model.wv[term]]\n",
    "\n",
    "        if len(vectors) == 0:\n",
    "            q = zero_vec\n",
    "        else:\n",
    "            q = np.mean(vectors, axis=0)\n",
    "        \n",
    "        return list(zip(range(len(q)), q))\n",
    "    \n",
    "    \n",
    "class W2VPretrainedRetrievalModel(W2VRetrievalModel):\n",
    "    def __init__(self, doc_repr):\n",
    "        super().__init__(doc_repr)\n",
    "        self.model_name = \"word2vec-google-news-300\"\n",
    "        self.size = 300\n",
    "    \n",
    "    def train_model(self):\n",
    "        \"\"\"\n",
    "        Loads the pretrained model\n",
    "        \"\"\"\n",
    "        self.model = g_downloader.load(self.model_name)\n",
    "\n",
    "w2v = W2VRetrievalModel(doc_repr_2)\n",
    "w2v.train_model()\n",
    "\n",
    "# you can now get a W2V vector for a given query in the following way:\n",
    "w2v.vectorize_query(\"report\")"
   ]
  },
  {
   "cell_type": "code",
   "execution_count": 89,
   "metadata": {
    "deletable": false,
    "editable": false,
    "nbgrader": {
     "cell_type": "code",
     "checksum": "f92b5c5a8c6c4b80652b94223209ab0b",
     "grade": true,
     "grade_id": "cell-b31c0f8d214b8bdf",
     "locked": true,
     "points": 0,
     "schema_version": 3,
     "solution": false,
     "task": false
    }
   },
   "outputs": [],
   "source": [
    "assert len(w2v.vectorize_query(\"report\")) == 100\n",
    "assert len(w2v.vectorize_query(\"this is a sentence that is not mellifluous\")) == 100\n"
   ]
  },
  {
   "cell_type": "markdown",
   "metadata": {
    "deletable": false,
    "editable": false,
    "nbgrader": {
     "cell_type": "markdown",
     "checksum": "8dfaabebcb06f308a7ca61fdc5d369e7",
     "grade": false,
     "grade_id": "cell-c2614fa067386384",
     "locked": true,
     "points": 8,
     "schema_version": 3,
     "solution": false,
     "task": true
    }
   },
   "source": [
    "\\#### Please do not change this. This cell is used for grading."
   ]
  },
  {
   "cell_type": "code",
   "execution_count": 90,
   "metadata": {},
   "outputs": [
    {
     "name": "stderr",
     "output_type": "stream",
     "text": [
      "2022-02-22 20:26:58,313 : INFO : adding document #0 to Dictionary(0 unique tokens: [])\n",
      "2022-02-22 20:26:58,402 : INFO : built Dictionary(5937 unique tokens: ['-', 'algebra', 'intern', 'languag', 'preliminari']...) from 3204 documents (total 115969 corpus positions)\n",
      "2022-02-22 20:26:58,409 : INFO : discarding 4740 tokens: [('repeat', 8), ('glossari', 7), ('inspect', 8), ('uncol', 2), ('rung', 9), ('secant', 2), ('.', 1603), ('acceler', 6), ('diverg', 3), ('induc', 9)]...\n",
      "2022-02-22 20:26:58,410 : INFO : keeping 1197 tokens which were in no less than 10 and no more than 1602 (=50.0%) documents\n",
      "2022-02-22 20:26:58,412 : INFO : resulting dictionary: Dictionary(1197 unique tokens: ['-', 'algebra', 'intern', 'languag', 'preliminari']...)\n",
      "2022-02-22 20:26:59,650 : INFO : loading projection weights from C:\\Users\\321lu/gensim-data\\word2vec-google-news-300\\word2vec-google-news-300.gz\n",
      "2022-02-22 20:27:29,258 : INFO : loaded (3000000, 300) matrix from C:\\Users\\321lu/gensim-data\\word2vec-google-news-300\\word2vec-google-news-300.gz\n",
      "C:\\Users\\321lu\\.conda\\envs\\ir1\\lib\\site-packages\\ipykernel_launcher.py:47: DeprecationWarning: Call to deprecated `wv` (Attribute will be removed in 4.0.0, use self instead).\n",
      "C:\\Users\\321lu\\.conda\\envs\\ir1\\lib\\site-packages\\ipykernel_launcher.py:50: DeprecationWarning: Call to deprecated `wv` (Attribute will be removed in 4.0.0, use self instead).\n"
     ]
    },
    {
     "data": {
      "text/plain": [
       "[(0, -0.14257812),\n",
       " (1, -0.1640625),\n",
       " (2, -0.09033203),\n",
       " (3, -0.11230469),\n",
       " (4, 0.100097656),\n",
       " (5, -0.041259766),\n",
       " (6, 0.048828125),\n",
       " (7, -0.13671875),\n",
       " (8, 0.19628906),\n",
       " (9, -0.13476562),\n",
       " (10, -0.017578125),\n",
       " (11, 0.032226562),\n",
       " (12, 0.095214844),\n",
       " (13, -0.10595703),\n",
       " (14, -0.16992188),\n",
       " (15, 0.041015625),\n",
       " (16, -0.26367188),\n",
       " (17, -0.0063171387),\n",
       " (18, -0.17773438),\n",
       " (19, -0.24023438),\n",
       " (20, 0.3515625),\n",
       " (21, -0.012207031),\n",
       " (22, -0.16210938),\n",
       " (23, -0.12060547),\n",
       " (24, 0.04321289),\n",
       " (25, 0.10986328),\n",
       " (26, 0.052490234),\n",
       " (27, 0.17871094),\n",
       " (28, -0.14550781),\n",
       " (29, 0.13769531),\n",
       " (30, -0.08203125),\n",
       " (31, -0.28320312),\n",
       " (32, -0.10888672),\n",
       " (33, -0.2890625),\n",
       " (34, 0.072265625),\n",
       " (35, -0.04736328),\n",
       " (36, 0.040283203),\n",
       " (37, 0.067871094),\n",
       " (38, 0.11669922),\n",
       " (39, 0.000831604),\n",
       " (40, 0.068359375),\n",
       " (41, 0.12011719),\n",
       " (42, -0.088378906),\n",
       " (43, 0.33789062),\n",
       " (44, -0.044677734),\n",
       " (45, -0.030151367),\n",
       " (46, 0.0076904297),\n",
       " (47, -0.021118164),\n",
       " (48, -0.25390625),\n",
       " (49, 0.14941406),\n",
       " (50, 0.3984375),\n",
       " (51, 0.021606445),\n",
       " (52, -0.02319336),\n",
       " (53, 0.0063476562),\n",
       " (54, 0.008239746),\n",
       " (55, -0.16894531),\n",
       " (56, 0.037353516),\n",
       " (57, -0.06347656),\n",
       " (58, 0.1171875),\n",
       " (59, -0.1484375),\n",
       " (60, -0.07861328),\n",
       " (61, 0.36914062),\n",
       " (62, -0.22460938),\n",
       " (63, 0.17382812),\n",
       " (64, 0.0138549805),\n",
       " (65, 0.1875),\n",
       " (66, -0.10107422),\n",
       " (67, 0.037841797),\n",
       " (68, 0.0021209717),\n",
       " (69, -0.05126953),\n",
       " (70, 0.096191406),\n",
       " (71, -0.057128906),\n",
       " (72, 0.10595703),\n",
       " (73, -0.020996094),\n",
       " (74, 0.16113281),\n",
       " (75, 0.09765625),\n",
       " (76, 0.038330078),\n",
       " (77, 0.21972656),\n",
       " (78, 0.10644531),\n",
       " (79, 0.0859375),\n",
       " (80, 0.1796875),\n",
       " (81, -0.08300781),\n",
       " (82, -0.033203125),\n",
       " (83, 0.041015625),\n",
       " (84, -0.064941406),\n",
       " (85, 0.019897461),\n",
       " (86, 0.13378906),\n",
       " (87, -0.09765625),\n",
       " (88, -0.19335938),\n",
       " (89, -0.23535156),\n",
       " (90, 0.19042969),\n",
       " (91, 0.0024871826),\n",
       " (92, -0.01574707),\n",
       " (93, 0.032226562),\n",
       " (94, -0.21972656),\n",
       " (95, -0.091308594),\n",
       " (96, 0.021240234),\n",
       " (97, 0.15820312),\n",
       " (98, 0.29882812),\n",
       " (99, -0.328125),\n",
       " (100, 0.057373047),\n",
       " (101, -0.04638672),\n",
       " (102, 0.11328125),\n",
       " (103, -0.1015625),\n",
       " (104, 0.18066406),\n",
       " (105, -0.025146484),\n",
       " (106, -0.16601562),\n",
       " (107, -0.096191406),\n",
       " (108, 0.018798828),\n",
       " (109, -0.19433594),\n",
       " (110, 0.14941406),\n",
       " (111, -0.056640625),\n",
       " (112, -0.106933594),\n",
       " (113, -0.15039062),\n",
       " (114, -0.17578125),\n",
       " (115, 0.11279297),\n",
       " (116, 0.049316406),\n",
       " (117, 0.21972656),\n",
       " (118, 0.31835938),\n",
       " (119, 0.15722656),\n",
       " (120, -0.29296875),\n",
       " (121, 0.10498047),\n",
       " (122, -0.296875),\n",
       " (123, -0.013427734),\n",
       " (124, 0.09082031),\n",
       " (125, 0.012573242),\n",
       " (126, -0.051513672),\n",
       " (127, -0.12890625),\n",
       " (128, 0.014465332),\n",
       " (129, 0.12060547),\n",
       " (130, -0.10107422),\n",
       " (131, -0.111328125),\n",
       " (132, 0.063964844),\n",
       " (133, -0.052978516),\n",
       " (134, -0.04321289),\n",
       " (135, -0.012939453),\n",
       " (136, -0.02758789),\n",
       " (137, -0.09716797),\n",
       " (138, -0.20214844),\n",
       " (139, 0.123046875),\n",
       " (140, -0.04248047),\n",
       " (141, 0.17382812),\n",
       " (142, -0.013671875),\n",
       " (143, 0.1015625),\n",
       " (144, -0.0009384155),\n",
       " (145, -0.03564453),\n",
       " (146, 0.30078125),\n",
       " (147, -0.068359375),\n",
       " (148, -0.056152344),\n",
       " (149, 0.037597656),\n",
       " (150, 0.06591797),\n",
       " (151, 0.040283203),\n",
       " (152, 0.0119018555),\n",
       " (153, 0.096191406),\n",
       " (154, 0.3671875),\n",
       " (155, -0.27929688),\n",
       " (156, -0.052001953),\n",
       " (157, -0.106933594),\n",
       " (158, -0.13476562),\n",
       " (159, -0.046142578),\n",
       " (160, 0.25),\n",
       " (161, 0.0056762695),\n",
       " (162, -0.014404297),\n",
       " (163, -0.03100586),\n",
       " (164, -0.060302734),\n",
       " (165, 0.10595703),\n",
       " (166, 0.37890625),\n",
       " (167, 0.05883789),\n",
       " (168, 0.123046875),\n",
       " (169, -0.115234375),\n",
       " (170, 0.14941406),\n",
       " (171, -0.1640625),\n",
       " (172, -0.23339844),\n",
       " (173, -0.07763672),\n",
       " (174, 0.026733398),\n",
       " (175, -0.021118164),\n",
       " (176, 0.19433594),\n",
       " (177, -0.056152344),\n",
       " (178, -0.006439209),\n",
       " (179, -0.16992188),\n",
       " (180, -0.118652344),\n",
       " (181, -0.06738281),\n",
       " (182, -0.068847656),\n",
       " (183, -0.08691406),\n",
       " (184, -0.1015625),\n",
       " (185, 0.014160156),\n",
       " (186, -0.20117188),\n",
       " (187, 0.09814453),\n",
       " (188, -0.010253906),\n",
       " (189, 0.1875),\n",
       " (190, 0.19628906),\n",
       " (191, -0.22070312),\n",
       " (192, -0.19628906),\n",
       " (193, -0.07373047),\n",
       " (194, 0.06640625),\n",
       " (195, -0.13378906),\n",
       " (196, 0.18359375),\n",
       " (197, -0.20019531),\n",
       " (198, 0.19824219),\n",
       " (199, 0.05029297),\n",
       " (200, 0.029907227),\n",
       " (201, 0.017700195),\n",
       " (202, -0.19335938),\n",
       " (203, -0.096191406),\n",
       " (204, -0.10253906),\n",
       " (205, 0.21289062),\n",
       " (206, -0.029907227),\n",
       " (207, 0.14355469),\n",
       " (208, 0.041015625),\n",
       " (209, -0.21191406),\n",
       " (210, 0.20800781),\n",
       " (211, 0.13769531),\n",
       " (212, -0.01965332),\n",
       " (213, 0.014953613),\n",
       " (214, -0.09765625),\n",
       " (215, 0.24316406),\n",
       " (216, 0.080078125),\n",
       " (217, 0.08251953),\n",
       " (218, 0.09863281),\n",
       " (219, 0.056884766),\n",
       " (220, 0.04248047),\n",
       " (221, 0.068847656),\n",
       " (222, -0.03540039),\n",
       " (223, -0.076171875),\n",
       " (224, -0.00016117096),\n",
       " (225, -0.07519531),\n",
       " (226, 0.22460938),\n",
       " (227, 0.15136719),\n",
       " (228, 0.10058594),\n",
       " (229, 0.10986328),\n",
       " (230, 0.023803711),\n",
       " (231, 0.088378906),\n",
       " (232, 0.061767578),\n",
       " (233, -0.107910156),\n",
       " (234, 0.06225586),\n",
       " (235, 0.0034332275),\n",
       " (236, 0.080566406),\n",
       " (237, 0.106933594),\n",
       " (238, 0.08886719),\n",
       " (239, -0.23730469),\n",
       " (240, 0.064941406),\n",
       " (241, 0.010192871),\n",
       " (242, -0.088378906),\n",
       " (243, -0.33203125),\n",
       " (244, 0.0046691895),\n",
       " (245, 0.21289062),\n",
       " (246, 0.0859375),\n",
       " (247, 0.020385742),\n",
       " (248, 0.045654297),\n",
       " (249, 0.1484375),\n",
       " (250, 0.11816406),\n",
       " (251, 0.055664062),\n",
       " (252, -0.17285156),\n",
       " (253, -0.125),\n",
       " (254, -0.025390625),\n",
       " (255, -0.31835938),\n",
       " (256, 0.03112793),\n",
       " (257, 0.0859375),\n",
       " (258, -0.041992188),\n",
       " (259, 0.15625),\n",
       " (260, 0.16113281),\n",
       " (261, 0.19824219),\n",
       " (262, -0.100097656),\n",
       " (263, 0.203125),\n",
       " (264, 0.12890625),\n",
       " (265, 0.23339844),\n",
       " (266, -0.26757812),\n",
       " (267, 0.05517578),\n",
       " (268, 0.048828125),\n",
       " (269, 0.072265625),\n",
       " (270, 0.24414062),\n",
       " (271, 0.24414062),\n",
       " (272, 0.056884766),\n",
       " (273, -0.0546875),\n",
       " (274, -0.033691406),\n",
       " (275, -0.12060547),\n",
       " (276, 0.03491211),\n",
       " (277, -0.14550781),\n",
       " (278, 0.087402344),\n",
       " (279, -0.08300781),\n",
       " (280, 0.017211914),\n",
       " (281, 0.14355469),\n",
       " (282, -0.122558594),\n",
       " (283, 0.1796875),\n",
       " (284, 0.13085938),\n",
       " (285, -0.16503906),\n",
       " (286, 0.012756348),\n",
       " (287, 0.16015625),\n",
       " (288, -0.03112793),\n",
       " (289, 0.08203125),\n",
       " (290, 0.17382812),\n",
       " (291, -0.16796875),\n",
       " (292, 0.13085938),\n",
       " (293, 0.08544922),\n",
       " (294, -0.2109375),\n",
       " (295, -0.13085938),\n",
       " (296, -0.028930664),\n",
       " (297, -0.10546875),\n",
       " (298, 0.084472656),\n",
       " (299, -0.14160156)]"
      ]
     },
     "execution_count": 90,
     "metadata": {},
     "output_type": "execute_result"
    }
   ],
   "source": [
    "w2v_pretrained = W2VPretrainedRetrievalModel(doc_repr_2)\n",
    "w2v_pretrained.train_model()\n",
    "\n",
    "# you can now get an W2V vector for a given query in the following way:\n",
    "w2v_pretrained.vectorize_query(\"report\")"
   ]
  },
  {
   "cell_type": "code",
   "execution_count": 91,
   "metadata": {
    "deletable": false,
    "editable": false,
    "nbgrader": {
     "cell_type": "code",
     "checksum": "0822845afb5eafe5ddb1ffeaa4f4942a",
     "grade": true,
     "grade_id": "cell-1b1466f8ce516f42",
     "locked": true,
     "points": 2,
     "schema_version": 3,
     "solution": false,
     "task": false
    }
   },
   "outputs": [
    {
     "name": "stdout",
     "output_type": "stream",
     "text": [
      "300\n"
     ]
    },
    {
     "name": "stderr",
     "output_type": "stream",
     "text": [
      "C:\\Users\\321lu\\.conda\\envs\\ir1\\lib\\site-packages\\ipykernel_launcher.py:47: DeprecationWarning: Call to deprecated `wv` (Attribute will be removed in 4.0.0, use self instead).\n",
      "C:\\Users\\321lu\\.conda\\envs\\ir1\\lib\\site-packages\\ipykernel_launcher.py:50: DeprecationWarning: Call to deprecated `wv` (Attribute will be removed in 4.0.0, use self instead).\n"
     ]
    }
   ],
   "source": [
    "##### Function check\n",
    "\n",
    "print(len(w2v_pretrained.vectorize_query(\"report\")))\n",
    "#####"
   ]
  },
  {
   "cell_type": "code",
   "execution_count": 92,
   "metadata": {},
   "outputs": [
    {
     "data": {
      "application/vnd.jupyter.widget-view+json": {
       "model_id": "5a8f4ace2efb4e8eb956c045a67ff335",
       "version_major": 2,
       "version_minor": 0
      },
      "text/plain": [
       "Text(value='', description='Search Bar')"
      ]
     },
     "metadata": {},
     "output_type": "display_data"
    }
   ],
   "source": [
    "drm_w2v = DenseRetrievalRanker(w2v, cosine_sim)\n",
    "\n",
    "# test your LDA model\n",
    "search_fn = drm_w2v.search\n",
    "\n",
    "text = widgets.Text(description=\"Search Bar\", width=200)\n",
    "display(text)\n",
    "\n",
    "\n",
    "text.on_submit(handle_submit_2)"
   ]
  },
  {
   "cell_type": "code",
   "execution_count": 93,
   "metadata": {},
   "outputs": [
    {
     "name": "stderr",
     "output_type": "stream",
     "text": [
      "C:\\Users\\321lu\\.conda\\envs\\ir1\\lib\\site-packages\\ipykernel_launcher.py:25: DeprecationWarning: Call to deprecated `wv` (Attribute will be removed in 4.0.0, use self instead).\n"
     ]
    },
    {
     "data": {
      "application/vnd.jupyter.widget-view+json": {
       "model_id": "a04ad0a4eedc4b058177563ba4130334",
       "version_major": 2,
       "version_minor": 0
      },
      "text/plain": [
       "Text(value='', description='Search Bar')"
      ]
     },
     "metadata": {},
     "output_type": "display_data"
    }
   ],
   "source": [
    "drm_w2v_pretrained = DenseRetrievalRanker(w2v_pretrained, cosine_sim)\n",
    "\n",
    "# test your LDA model\n",
    "search_fn = drm_w2v_pretrained.search\n",
    "\n",
    "text = widgets.Text(description=\"Search Bar\", width=200)\n",
    "display(text)\n",
    "\n",
    "\n",
    "text.on_submit(handle_submit_2)"
   ]
  },
  {
   "cell_type": "markdown",
   "metadata": {
    "deletable": false,
    "editable": false,
    "nbgrader": {
     "cell_type": "markdown",
     "checksum": "51b778984fd60757974f51047c61eb15",
     "grade": false,
     "grade_id": "cell-b92f701cbc706108",
     "locked": true,
     "schema_version": 3,
     "solution": false,
     "task": false
    }
   },
   "source": [
    "**Implementation (10 points):**\n",
    "For Doc2Vec, you will need to create a list of `TaggedDocument` instead of using the `self.corpus` or `self.documents` variable. Use the document id as the 'tag'.\n",
    "  "
   ]
  },
  {
   "cell_type": "code",
   "execution_count": 94,
   "metadata": {
    "deletable": false,
    "nbgrader": {
     "cell_type": "code",
     "checksum": "1f60fdeb97febb7f4a6fd5bf109aac20",
     "grade": false,
     "grade_id": "cell-680facdcc98a19ab",
     "locked": false,
     "schema_version": 3,
     "solution": true,
     "task": false
    }
   },
   "outputs": [
    {
     "name": "stderr",
     "output_type": "stream",
     "text": [
      "2022-02-22 20:27:30,177 : INFO : adding document #0 to Dictionary(0 unique tokens: [])\n",
      "2022-02-22 20:27:30,266 : INFO : built Dictionary(5937 unique tokens: ['-', 'algebra', 'intern', 'languag', 'preliminari']...) from 3204 documents (total 115969 corpus positions)\n",
      "2022-02-22 20:27:30,266 : INFO : discarding 4740 tokens: [('repeat', 8), ('glossari', 7), ('inspect', 8), ('uncol', 2), ('rung', 9), ('secant', 2), ('.', 1603), ('acceler', 6), ('diverg', 3), ('induc', 9)]...\n",
      "2022-02-22 20:27:30,266 : INFO : keeping 1197 tokens which were in no less than 10 and no more than 1602 (=50.0%) documents\n",
      "2022-02-22 20:27:30,266 : INFO : resulting dictionary: Dictionary(1197 unique tokens: ['-', 'algebra', 'intern', 'languag', 'preliminari']...)\n",
      "2022-02-22 20:27:30,325 : INFO : collecting all words and their counts\n",
      "2022-02-22 20:27:30,325 : INFO : PROGRESS: at example #0, processed 0 words (0/s), 0 word types, 0 tags\n",
      "2022-02-22 20:27:30,346 : INFO : collected 5937 word types and 3204 unique tags from a corpus of 3204 examples and 115969 words\n",
      "2022-02-22 20:27:30,347 : INFO : Loading a fresh vocabulary\n",
      "2022-02-22 20:27:30,353 : INFO : effective_min_count=1 retains 5937 unique words (100% of original 5937, drops 0)\n",
      "2022-02-22 20:27:30,354 : INFO : effective_min_count=1 leaves 115969 word corpus (100% of original 115969, drops 0)\n",
      "2022-02-22 20:27:30,367 : INFO : deleting the raw counts dictionary of 5937 items\n",
      "2022-02-22 20:27:30,367 : INFO : sample=0.001 downsamples 40 most-common words\n",
      "2022-02-22 20:27:30,367 : INFO : downsampling leaves estimated 92346 word corpus (79.6% of prior 115969)\n",
      "2022-02-22 20:27:30,377 : INFO : estimated required memory for 5937 words and 100 dimensions: 9640500 bytes\n",
      "2022-02-22 20:27:30,378 : INFO : resetting layer weights\n",
      "2022-02-22 20:27:31,560 : INFO : training model with 3 workers on 5937 vocabulary and 100 features, using sg=0 hs=0 sample=0.001 negative=5 window=5\n",
      "2022-02-22 20:27:31,735 : INFO : worker thread finished; awaiting finish of 2 more threads\n",
      "2022-02-22 20:27:31,735 : INFO : worker thread finished; awaiting finish of 1 more threads\n",
      "2022-02-22 20:27:31,756 : INFO : worker thread finished; awaiting finish of 0 more threads\n",
      "2022-02-22 20:27:31,757 : INFO : EPOCH - 1 : training on 115969 raw words (95526 effective words) took 0.2s, 512751 effective words/s\n",
      "2022-02-22 20:27:31,929 : INFO : worker thread finished; awaiting finish of 2 more threads\n",
      "2022-02-22 20:27:31,941 : INFO : worker thread finished; awaiting finish of 1 more threads\n",
      "2022-02-22 20:27:31,945 : INFO : worker thread finished; awaiting finish of 0 more threads\n",
      "2022-02-22 20:27:31,946 : INFO : EPOCH - 2 : training on 115969 raw words (95478 effective words) took 0.2s, 514366 effective words/s\n",
      "2022-02-22 20:27:32,131 : INFO : worker thread finished; awaiting finish of 2 more threads\n",
      "2022-02-22 20:27:32,131 : INFO : worker thread finished; awaiting finish of 1 more threads\n",
      "2022-02-22 20:27:32,138 : INFO : worker thread finished; awaiting finish of 0 more threads\n",
      "2022-02-22 20:27:32,138 : INFO : EPOCH - 3 : training on 115969 raw words (95687 effective words) took 0.2s, 508693 effective words/s\n",
      "2022-02-22 20:27:32,309 : INFO : worker thread finished; awaiting finish of 2 more threads\n",
      "2022-02-22 20:27:32,322 : INFO : worker thread finished; awaiting finish of 1 more threads\n",
      "2022-02-22 20:27:32,326 : INFO : worker thread finished; awaiting finish of 0 more threads\n",
      "2022-02-22 20:27:32,326 : INFO : EPOCH - 4 : training on 115969 raw words (95531 effective words) took 0.2s, 515871 effective words/s\n",
      "2022-02-22 20:27:32,501 : INFO : worker thread finished; awaiting finish of 2 more threads\n",
      "2022-02-22 20:27:32,513 : INFO : worker thread finished; awaiting finish of 1 more threads\n",
      "2022-02-22 20:27:32,514 : INFO : worker thread finished; awaiting finish of 0 more threads\n",
      "2022-02-22 20:27:32,515 : INFO : EPOCH - 5 : training on 115969 raw words (95480 effective words) took 0.2s, 517657 effective words/s\n",
      "2022-02-22 20:27:32,685 : INFO : worker thread finished; awaiting finish of 2 more threads\n",
      "2022-02-22 20:27:32,699 : INFO : worker thread finished; awaiting finish of 1 more threads\n",
      "2022-02-22 20:27:32,705 : INFO : worker thread finished; awaiting finish of 0 more threads\n",
      "2022-02-22 20:27:32,706 : INFO : EPOCH - 6 : training on 115969 raw words (95607 effective words) took 0.2s, 510184 effective words/s\n",
      "2022-02-22 20:27:32,872 : INFO : worker thread finished; awaiting finish of 2 more threads\n",
      "2022-02-22 20:27:32,892 : INFO : worker thread finished; awaiting finish of 1 more threads\n",
      "2022-02-22 20:27:32,896 : INFO : worker thread finished; awaiting finish of 0 more threads\n",
      "2022-02-22 20:27:32,896 : INFO : EPOCH - 7 : training on 115969 raw words (95597 effective words) took 0.2s, 509243 effective words/s\n",
      "2022-02-22 20:27:33,066 : INFO : worker thread finished; awaiting finish of 2 more threads\n",
      "2022-02-22 20:27:33,080 : INFO : worker thread finished; awaiting finish of 1 more threads\n",
      "2022-02-22 20:27:33,086 : INFO : worker thread finished; awaiting finish of 0 more threads\n",
      "2022-02-22 20:27:33,087 : INFO : EPOCH - 8 : training on 115969 raw words (95448 effective words) took 0.2s, 510893 effective words/s\n",
      "2022-02-22 20:27:33,261 : INFO : worker thread finished; awaiting finish of 2 more threads\n",
      "2022-02-22 20:27:33,273 : INFO : worker thread finished; awaiting finish of 1 more threads\n",
      "2022-02-22 20:27:33,280 : INFO : worker thread finished; awaiting finish of 0 more threads\n",
      "2022-02-22 20:27:33,280 : INFO : EPOCH - 9 : training on 115969 raw words (95535 effective words) took 0.2s, 504339 effective words/s\n",
      "2022-02-22 20:27:33,448 : INFO : worker thread finished; awaiting finish of 2 more threads\n",
      "2022-02-22 20:27:33,463 : INFO : worker thread finished; awaiting finish of 1 more threads\n",
      "2022-02-22 20:27:33,471 : INFO : worker thread finished; awaiting finish of 0 more threads\n",
      "2022-02-22 20:27:33,472 : INFO : EPOCH - 10 : training on 115969 raw words (95437 effective words) took 0.2s, 507499 effective words/s\n",
      "2022-02-22 20:27:33,651 : INFO : worker thread finished; awaiting finish of 2 more threads\n",
      "2022-02-22 20:27:33,657 : INFO : worker thread finished; awaiting finish of 1 more threads\n",
      "2022-02-22 20:27:33,658 : INFO : worker thread finished; awaiting finish of 0 more threads\n",
      "2022-02-22 20:27:33,658 : INFO : EPOCH - 11 : training on 115969 raw words (95548 effective words) took 0.2s, 505980 effective words/s\n",
      "2022-02-22 20:27:33,840 : INFO : worker thread finished; awaiting finish of 2 more threads\n",
      "2022-02-22 20:27:33,846 : INFO : worker thread finished; awaiting finish of 1 more threads\n",
      "2022-02-22 20:27:33,850 : INFO : worker thread finished; awaiting finish of 0 more threads\n",
      "2022-02-22 20:27:33,851 : INFO : EPOCH - 12 : training on 115969 raw words (95572 effective words) took 0.2s, 521251 effective words/s\n",
      "2022-02-22 20:27:34,011 : INFO : worker thread finished; awaiting finish of 2 more threads\n",
      "2022-02-22 20:27:34,031 : INFO : worker thread finished; awaiting finish of 1 more threads\n",
      "2022-02-22 20:27:34,039 : INFO : worker thread finished; awaiting finish of 0 more threads\n",
      "2022-02-22 20:27:34,040 : INFO : EPOCH - 13 : training on 115969 raw words (95614 effective words) took 0.2s, 515092 effective words/s\n",
      "2022-02-22 20:27:34,212 : INFO : worker thread finished; awaiting finish of 2 more threads\n",
      "2022-02-22 20:27:34,227 : INFO : worker thread finished; awaiting finish of 1 more threads\n",
      "2022-02-22 20:27:34,233 : INFO : worker thread finished; awaiting finish of 0 more threads\n",
      "2022-02-22 20:27:34,233 : INFO : EPOCH - 14 : training on 115969 raw words (95519 effective words) took 0.2s, 501971 effective words/s\n",
      "2022-02-22 20:27:34,414 : INFO : worker thread finished; awaiting finish of 2 more threads\n",
      "2022-02-22 20:27:34,419 : INFO : worker thread finished; awaiting finish of 1 more threads\n",
      "2022-02-22 20:27:34,424 : INFO : worker thread finished; awaiting finish of 0 more threads\n",
      "2022-02-22 20:27:34,424 : INFO : EPOCH - 15 : training on 115969 raw words (95471 effective words) took 0.2s, 510528 effective words/s\n",
      "2022-02-22 20:27:34,601 : INFO : worker thread finished; awaiting finish of 2 more threads\n",
      "2022-02-22 20:27:34,614 : INFO : worker thread finished; awaiting finish of 1 more threads\n"
     ]
    },
    {
     "name": "stderr",
     "output_type": "stream",
     "text": [
      "2022-02-22 20:27:34,616 : INFO : worker thread finished; awaiting finish of 0 more threads\n",
      "2022-02-22 20:27:34,616 : INFO : EPOCH - 16 : training on 115969 raw words (95509 effective words) took 0.2s, 508664 effective words/s\n",
      "2022-02-22 20:27:34,790 : INFO : worker thread finished; awaiting finish of 2 more threads\n",
      "2022-02-22 20:27:34,805 : INFO : worker thread finished; awaiting finish of 1 more threads\n",
      "2022-02-22 20:27:34,807 : INFO : worker thread finished; awaiting finish of 0 more threads\n",
      "2022-02-22 20:27:34,808 : INFO : EPOCH - 17 : training on 115969 raw words (95633 effective words) took 0.2s, 507859 effective words/s\n",
      "2022-02-22 20:27:34,970 : INFO : worker thread finished; awaiting finish of 2 more threads\n",
      "2022-02-22 20:27:34,992 : INFO : worker thread finished; awaiting finish of 1 more threads\n",
      "2022-02-22 20:27:34,994 : INFO : worker thread finished; awaiting finish of 0 more threads\n",
      "2022-02-22 20:27:34,995 : INFO : EPOCH - 18 : training on 115969 raw words (95578 effective words) took 0.2s, 520030 effective words/s\n",
      "2022-02-22 20:27:35,165 : INFO : worker thread finished; awaiting finish of 2 more threads\n",
      "2022-02-22 20:27:35,179 : INFO : worker thread finished; awaiting finish of 1 more threads\n",
      "2022-02-22 20:27:35,186 : INFO : worker thread finished; awaiting finish of 0 more threads\n",
      "2022-02-22 20:27:35,186 : INFO : EPOCH - 19 : training on 115969 raw words (95462 effective words) took 0.2s, 509166 effective words/s\n",
      "2022-02-22 20:27:35,353 : INFO : worker thread finished; awaiting finish of 2 more threads\n",
      "2022-02-22 20:27:35,367 : INFO : worker thread finished; awaiting finish of 1 more threads\n",
      "2022-02-22 20:27:35,376 : INFO : worker thread finished; awaiting finish of 0 more threads\n",
      "2022-02-22 20:27:35,376 : INFO : EPOCH - 20 : training on 115969 raw words (95609 effective words) took 0.2s, 512504 effective words/s\n",
      "2022-02-22 20:27:35,377 : INFO : training on a 2319380 raw words (1910841 effective words) took 3.8s, 501574 effective words/s\n"
     ]
    },
    {
     "data": {
      "text/plain": [
       "[(0, 0.055579722),\n",
       " (1, -0.0061747064),\n",
       " (2, 0.0044122213),\n",
       " (3, -0.03192653),\n",
       " (4, -0.020061217),\n",
       " (5, 0.0038046853),\n",
       " (6, 0.014699442),\n",
       " (7, 0.03510055),\n",
       " (8, -0.05730656),\n",
       " (9, -0.012073095),\n",
       " (10, 0.045085393),\n",
       " (11, 0.047505464),\n",
       " (12, -0.0012809901),\n",
       " (13, 0.03175865),\n",
       " (14, -0.041998215),\n",
       " (15, 0.013927834),\n",
       " (16, 0.027533436),\n",
       " (17, 0.017076928),\n",
       " (18, 0.029631902),\n",
       " (19, 0.05829116),\n",
       " (20, -0.033161547),\n",
       " (21, 0.05830567),\n",
       " (22, -0.08264214),\n",
       " (23, 0.004663563),\n",
       " (24, 0.06357848),\n",
       " (25, 0.024504788),\n",
       " (26, 0.049001448),\n",
       " (27, -0.062873445),\n",
       " (28, -0.110613465),\n",
       " (29, 0.002848708),\n",
       " (30, 0.03725276),\n",
       " (31, -0.0036267405),\n",
       " (32, -0.029411804),\n",
       " (33, 0.05852455),\n",
       " (34, 0.121315725),\n",
       " (35, 0.016151082),\n",
       " (36, -0.04548948),\n",
       " (37, -0.032124307),\n",
       " (38, -0.09387927),\n",
       " (39, -0.0547454),\n",
       " (40, -0.03852191),\n",
       " (41, 0.057706326),\n",
       " (42, 0.06424605),\n",
       " (43, -0.098970294),\n",
       " (44, -0.00068144617),\n",
       " (45, -0.006212352),\n",
       " (46, -0.04694123),\n",
       " (47, 0.071412735),\n",
       " (48, 0.06604198),\n",
       " (49, 0.06827626),\n",
       " (50, 0.014098449),\n",
       " (51, 0.07258013),\n",
       " (52, -0.041780196),\n",
       " (53, 0.034664772),\n",
       " (54, -0.051680814),\n",
       " (55, 0.096960284),\n",
       " (56, -0.022096714),\n",
       " (57, 0.05013054),\n",
       " (58, -0.040377807),\n",
       " (59, -0.059124645),\n",
       " (60, 0.07013591),\n",
       " (61, 0.05612664),\n",
       " (62, -0.029414324),\n",
       " (63, -0.021626653),\n",
       " (64, 0.009562104),\n",
       " (65, -0.06101939),\n",
       " (66, -0.06592751),\n",
       " (67, -0.059999887),\n",
       " (68, 0.046771646),\n",
       " (69, 0.04418974),\n",
       " (70, -0.14223775),\n",
       " (71, -0.019405223),\n",
       " (72, -0.0917866),\n",
       " (73, 0.017201297),\n",
       " (74, 0.073028184),\n",
       " (75, -0.031490512),\n",
       " (76, 0.068289064),\n",
       " (77, -0.065819554),\n",
       " (78, 0.053476017),\n",
       " (79, -0.015436329),\n",
       " (80, -0.08328053),\n",
       " (81, -0.069302805),\n",
       " (82, -0.09537909),\n",
       " (83, -0.04001084),\n",
       " (84, -0.11794673),\n",
       " (85, 0.03216606),\n",
       " (86, -0.015924346),\n",
       " (87, -0.031890783),\n",
       " (88, 0.118545525),\n",
       " (89, 0.02509568),\n",
       " (90, 0.0167106),\n",
       " (91, -0.054339066),\n",
       " (92, 0.012530481),\n",
       " (93, 0.026374923),\n",
       " (94, -0.010178756),\n",
       " (95, -0.035684466),\n",
       " (96, -0.07253894),\n",
       " (97, 0.12486539),\n",
       " (98, 0.006782278),\n",
       " (99, -0.007956879)]"
      ]
     },
     "execution_count": 94,
     "metadata": {},
     "output_type": "execute_result"
    }
   ],
   "source": [
    "# TODO: Implement this! (10 points)\n",
    "class D2VRetrievalModel(VectorSpaceRetrievalModel):\n",
    "    def __init__(self, doc_repr):\n",
    "        super().__init__(doc_repr)\n",
    "        \n",
    "        self.vector_size= 100\n",
    "        self.min_count = 1\n",
    "        self.epochs = 20\n",
    "        \n",
    "        # YOUR CODE HERE\n",
    "        self.tagged_docs = [TaggedDocument(doc, [doc_id]) for (doc_id, doc) in self.doc_repr]\n",
    "        \n",
    "    def train_model(self):\n",
    "        # YOUR CODE HERE\n",
    "        self.model = Doc2Vec(self.tagged_docs, vector_size=self.vector_size, min_count=self.min_count, epochs=self.epochs)\n",
    "    \n",
    "    def vectorize_documents(self):\n",
    "        \"\"\"\n",
    "            Returns a doc_id -> vector dictionary\n",
    "        \"\"\"\n",
    "        # YOUR CODE HERE\n",
    "        vectors = defaultdict(list)\n",
    "        for (doc_id, _) in self.doc_repr:\n",
    "            d = self.model.docvecs[doc_id]\n",
    "            vectors[doc_id] = list(zip(range(len(d)), d))\n",
    "        return vectors\n",
    "\n",
    "    def vectorize_query(self, query):\n",
    "        # YOUR CODE HERE\n",
    "        query = process_text(query, **config_2)\n",
    "        q = self.model.infer_vector(query)\n",
    "        return list(zip(range(len(q)), q))\n",
    "        \n",
    "d2v = D2VRetrievalModel(doc_repr_2)\n",
    "d2v.train_model()\n",
    "\n",
    "\n",
    "# # you can now get an LSI vector for a given query in the following way:\n",
    "d2v.vectorize_query(\"report\")"
   ]
  },
  {
   "cell_type": "code",
   "execution_count": 95,
   "metadata": {
    "deletable": false,
    "editable": false,
    "nbgrader": {
     "cell_type": "code",
     "checksum": "e83a363a9d4f136efbdde1426a83925e",
     "grade": true,
     "grade_id": "cell-5e2c5e0c9a2e8cb5",
     "locked": true,
     "points": 0,
     "schema_version": 3,
     "solution": false,
     "task": false
    }
   },
   "outputs": [],
   "source": [
    "#### Please do not change this. This cell is used for grading."
   ]
  },
  {
   "cell_type": "markdown",
   "metadata": {
    "deletable": false,
    "editable": false,
    "nbgrader": {
     "cell_type": "markdown",
     "checksum": "5bb46bf6b9be1e0ca66f0b0bc6260ecb",
     "grade": false,
     "grade_id": "cell-8a49d414f798a595",
     "locked": true,
     "points": 10,
     "schema_version": 3,
     "solution": false,
     "task": true
    }
   },
   "source": [
    "\\#### Please do not change this. This cell is used for grading."
   ]
  },
  {
   "cell_type": "code",
   "execution_count": 96,
   "metadata": {},
   "outputs": [
    {
     "data": {
      "application/vnd.jupyter.widget-view+json": {
       "model_id": "0ab7851c5de545fab30e526de982912e",
       "version_major": 2,
       "version_minor": 0
      },
      "text/plain": [
       "Text(value='', description='Search Bar')"
      ]
     },
     "metadata": {},
     "output_type": "display_data"
    }
   ],
   "source": [
    "drm_d2v = DenseRetrievalRanker(d2v, cosine_sim)\n",
    "\n",
    "# test your LDA model\n",
    "search_fn = drm_d2v.search\n",
    "\n",
    "text = widgets.Text(description=\"Search Bar\", width=200)\n",
    "display(text)\n",
    "\n",
    "\n",
    "text.on_submit(handle_submit_2)"
   ]
  },
  {
   "cell_type": "markdown",
   "metadata": {
    "deletable": false,
    "editable": false,
    "nbgrader": {
     "cell_type": "markdown",
     "checksum": "363ec36c1d03d9f9e1c2045a6e193c14",
     "grade": false,
     "grade_id": "cell-3529ae29eece7b97",
     "locked": true,
     "schema_version": 3,
     "solution": false,
     "task": false
    }
   },
   "source": [
    "---\n",
    "## Section 9: Re-ranking (10 points) <a class=\"anchor\" id=\"reranking\"></a>\n",
    "\n",
    "[Back to Part 2](#part2)\n",
    "\n",
    "To motivate the re-ranking perspective (i.e retrieve with lexical method + rerank with a semantic method), let's search using semantic methods and compare it to BM25's performance, along with their runtime:\n"
   ]
  },
  {
   "cell_type": "code",
   "execution_count": 97,
   "metadata": {
    "deletable": false,
    "editable": false,
    "nbgrader": {
     "cell_type": "code",
     "checksum": "5755f70e3eb28abc65d14d80125338af",
     "grade": false,
     "grade_id": "cell-f8f43bf5ae383128",
     "locked": true,
     "schema_version": 3,
     "solution": false,
     "task": false
    }
   },
   "outputs": [
    {
     "name": "stdout",
     "output_type": "stream",
     "text": [
      "BM25: \n",
      "1.16 ms ± 53.3 µs per loop (mean ± std. dev. of 7 runs, 1000 loops each)\n",
      "LSI: \n",
      "198 ms ± 6.94 ms per loop (mean ± std. dev. of 7 runs, 1 loop each)\n",
      "LDA: \n",
      "779 ms ± 13.2 ms per loop (mean ± std. dev. of 7 runs, 1 loop each)\n",
      "W2V: \n",
      "224 ms ± 4.38 ms per loop (mean ± std. dev. of 7 runs, 1 loop each)\n",
      "W2V(Pretrained): \n"
     ]
    },
    {
     "name": "stderr",
     "output_type": "stream",
     "text": [
      "C:\\Users\\321lu\\.conda\\envs\\ir1\\lib\\site-packages\\ipykernel_launcher.py:47: DeprecationWarning: Call to deprecated `wv` (Attribute will be removed in 4.0.0, use self instead).\n",
      "C:\\Users\\321lu\\.conda\\envs\\ir1\\lib\\site-packages\\ipykernel_launcher.py:50: DeprecationWarning: Call to deprecated `wv` (Attribute will be removed in 4.0.0, use self instead).\n",
      "C:\\Users\\321lu\\.conda\\envs\\ir1\\lib\\site-packages\\ipykernel_launcher.py:20: RuntimeWarning: invalid value encountered in double_scalars\n"
     ]
    },
    {
     "name": "stdout",
     "output_type": "stream",
     "text": [
      "634 ms ± 7.7 ms per loop (mean ± std. dev. of 7 runs, 1 loop each)\n",
      "D2V:\n",
      "227 ms ± 2.21 ms per loop (mean ± std. dev. of 7 runs, 1 loop each)\n"
     ]
    }
   ],
   "source": [
    "query = \"algebraic functions\"\n",
    "print(\"BM25: \")\n",
    "%timeit bm25_search(query, 2)\n",
    "print(\"LSI: \")\n",
    "%timeit drm_lsi.search(query)\n",
    "print(\"LDA: \")\n",
    "%timeit drm_lda.search(query)\n",
    "print(\"W2V: \")\n",
    "%timeit drm_w2v.search(query)\n",
    "print(\"W2V(Pretrained): \")\n",
    "%timeit drm_w2v_pretrained.search(query)\n",
    "print(\"D2V:\")\n",
    "%timeit drm_d2v.search(query)"
   ]
  },
  {
   "cell_type": "markdown",
   "metadata": {
    "deletable": false,
    "editable": false,
    "nbgrader": {
     "cell_type": "markdown",
     "checksum": "ae398da0a8c23c95bcbb0023b7ec6f34",
     "grade": false,
     "grade_id": "cell-db5ff09f97841af7",
     "locked": true,
     "schema_version": 3,
     "solution": false,
     "task": false
    }
   },
   "source": [
    "---\n",
    "\n",
    "**Implementation (10 points):**\n",
    "Re-ranking involves retrieving a small set of documents using simple but fast methods like BM25 and then re-ranking them with the aid of semantic methods such as LDA or LSI. Implement the following class, which takes in an `initial_retrieval_fn` - the initial retrieval function and `vsrm` - an instance of the `VectorSpaceRetrievalModel` class (i.e LSI/LDA) as input. The search function should first retrieve an initial list of K documents, and then these documents are re-ranked using a semantic method. This not only makes retrieval faster, but semantic methods perform poorly when used in isolation, as you will find out."
   ]
  },
  {
   "cell_type": "code",
   "execution_count": 98,
   "metadata": {
    "deletable": false,
    "nbgrader": {
     "cell_type": "code",
     "checksum": "63b6b05a676a2ae3f08d8bed1bc59428",
     "grade": false,
     "grade_id": "cell-5bf47600d1a0c507",
     "locked": false,
     "schema_version": 3,
     "solution": true,
     "task": false
    }
   },
   "outputs": [],
   "source": [
    "# TODO: Implement this! (10 points)\n",
    "class DenseRerankingModel:\n",
    "    def __init__(self, initial_retrieval_fn, vsrm, similarity_fn):\n",
    "        \"\"\"\n",
    "            initial_retrieval_fn: takes in a query and returns a list of [(doc_id, score)] (sorted)\n",
    "            vsrm: instance of `VectorSpaceRetrievalModel`\n",
    "            similarity_fn: function instance that takes in two vectors \n",
    "                            and returns a similarity score e.g cosine_sim defined earlier\n",
    "        \"\"\"\n",
    "        self.ret = initial_retrieval_fn\n",
    "        self.vsrm = vsrm\n",
    "        self.similarity_fn = similarity_fn\n",
    "        self.vectorized_documents = vsrm.vectorize_documents()\n",
    "        \n",
    "        assert len(self.vectorized_documents) == len(doc_repr_2)\n",
    "    \n",
    "    def search(self, query, K=50):\n",
    "        \"\"\"\n",
    "            First, retrieve the top K results using the retrieval function\n",
    "            Then, re-rank the results using the VSRM instance\n",
    "        \"\"\"\n",
    "        # YOUR CODE HERE\n",
    "        \n",
    "        # Retrieve documents' ids with ret\n",
    "        retrieved_docs_ids = [doc[0] for doc in self.ret(query)[:K]]\n",
    "        \n",
    "        # Create a dict with retrieved documents\n",
    "        retrieved_docs = {doc_id: self.vectorized_documents[doc_id] for doc_id in retrieved_docs_ids}\n",
    "        \n",
    "        # Vectorize query with vsrm\n",
    "        vectorized_query = self.vsrm.vectorize_query(query)\n",
    "        \n",
    "        # Get similarity of query-retrieved_documents \n",
    "        similarities = [(doc_id, self.similarity_fn(doc_vec, vectorized_query)) \n",
    "                        for  doc_id, doc_vec in retrieved_docs.items()]\n",
    "        \n",
    "        # Rerank retrieved documents based on similarities\n",
    "        reranked_retrieved_docs = sorted(similarities, key=lambda tup: tup[1], reverse=True)\n",
    "        \n",
    "        return reranked_retrieved_docs "
   ]
  },
  {
   "cell_type": "code",
   "execution_count": 99,
   "metadata": {
    "deletable": false,
    "editable": false,
    "nbgrader": {
     "cell_type": "code",
     "checksum": "334ab5af96976265cace682ab82a7387",
     "grade": true,
     "grade_id": "cell-52c6d18a4c0b4882",
     "locked": true,
     "points": 0,
     "schema_version": 3,
     "solution": false,
     "task": false
    }
   },
   "outputs": [
    {
     "name": "stderr",
     "output_type": "stream",
     "text": [
      "C:\\Users\\321lu\\.conda\\envs\\ir1\\lib\\site-packages\\ipykernel_launcher.py:25: DeprecationWarning: Call to deprecated `wv` (Attribute will be removed in 4.0.0, use self instead).\n"
     ]
    }
   ],
   "source": [
    "##### Function check\n",
    "bm25_search_2 = partial(bm25_search, index_set=2)\n",
    "lsi_rerank = DenseRerankingModel(bm25_search_2, lsi, cosine_sim)\n",
    "lda_rerank = DenseRerankingModel(bm25_search_2, lda, jenson_shannon_sim)\n",
    "w2v_rerank = DenseRerankingModel(bm25_search_2, w2v, cosine_sim)\n",
    "w2v_pretrained_rerank = DenseRerankingModel(bm25_search_2, w2v_pretrained, cosine_sim)\n",
    "d2v_rerank = DenseRerankingModel(bm25_search_2, d2v, cosine_sim)\n",
    "\n",
    "##### "
   ]
  },
  {
   "cell_type": "markdown",
   "metadata": {
    "deletable": false,
    "editable": false,
    "nbgrader": {
     "cell_type": "markdown",
     "checksum": "bd904253f45f84e63bab3a69729058fc",
     "grade": false,
     "grade_id": "cell-93215dfe6bcf7cff",
     "locked": true,
     "points": 10,
     "schema_version": 3,
     "solution": false,
     "task": true
    }
   },
   "source": [
    "\\#### Please do not change this. This cell is used for grading."
   ]
  },
  {
   "cell_type": "markdown",
   "metadata": {
    "deletable": false,
    "editable": false,
    "nbgrader": {
     "cell_type": "markdown",
     "checksum": "b592e60292bfe3d9ef2930a354c4077a",
     "grade": false,
     "grade_id": "cell-aa694ff55fa91e7d",
     "locked": true,
     "schema_version": 3,
     "solution": false,
     "task": false
    }
   },
   "source": [
    "---\n",
    "Now, let us time the new search functions:"
   ]
  },
  {
   "cell_type": "code",
   "execution_count": 100,
   "metadata": {
    "deletable": false,
    "editable": false,
    "nbgrader": {
     "cell_type": "code",
     "checksum": "338c7e3528cba266a865a061287c0e38",
     "grade": false,
     "grade_id": "cell-5edbd481562ad91f",
     "locked": true,
     "schema_version": 3,
     "solution": false,
     "task": false
    }
   },
   "outputs": [
    {
     "name": "stdout",
     "output_type": "stream",
     "text": [
      "BM25: \n",
      "1.07 ms ± 3.44 µs per loop (mean ± std. dev. of 7 runs, 1000 loops each)\n",
      "LSI: \n",
      "4.14 ms ± 96.5 µs per loop (mean ± std. dev. of 7 runs, 100 loops each)\n",
      "LDA: \n",
      "13.6 ms ± 280 µs per loop (mean ± std. dev. of 7 runs, 100 loops each)\n",
      "W2V: \n",
      "4.61 ms ± 59.3 µs per loop (mean ± std. dev. of 7 runs, 100 loops each)\n",
      "W2V(Pretrained): \n"
     ]
    },
    {
     "name": "stderr",
     "output_type": "stream",
     "text": [
      "C:\\Users\\321lu\\.conda\\envs\\ir1\\lib\\site-packages\\ipykernel_launcher.py:47: DeprecationWarning: Call to deprecated `wv` (Attribute will be removed in 4.0.0, use self instead).\n",
      "C:\\Users\\321lu\\.conda\\envs\\ir1\\lib\\site-packages\\ipykernel_launcher.py:50: DeprecationWarning: Call to deprecated `wv` (Attribute will be removed in 4.0.0, use self instead).\n"
     ]
    },
    {
     "name": "stdout",
     "output_type": "stream",
     "text": [
      "11.2 ms ± 723 µs per loop (mean ± std. dev. of 7 runs, 100 loops each)\n",
      "D2V:\n",
      "5.75 ms ± 408 µs per loop (mean ± std. dev. of 7 runs, 100 loops each)\n"
     ]
    }
   ],
   "source": [
    "query = \"algebraic functions\"\n",
    "print(\"BM25: \")\n",
    "%timeit bm25_search(query, 2)\n",
    "print(\"LSI: \")\n",
    "%timeit lsi_rerank.search(query)\n",
    "print(\"LDA: \")\n",
    "%timeit lda_rerank.search(query)\n",
    "print(\"W2V: \")\n",
    "%timeit w2v_rerank.search(query)\n",
    "print(\"W2V(Pretrained): \")\n",
    "%timeit w2v_pretrained_rerank.search(query)\n",
    "print(\"D2V:\")\n",
    "%timeit d2v_rerank.search(query)"
   ]
  },
  {
   "cell_type": "markdown",
   "metadata": {
    "deletable": false,
    "editable": false,
    "nbgrader": {
     "cell_type": "markdown",
     "checksum": "c45c5e3f015b2de89d9d39ae3766368b",
     "grade": false,
     "grade_id": "cell-85c50f2ab9eec301",
     "locked": true,
     "schema_version": 3,
     "solution": false,
     "task": false
    }
   },
   "source": [
    "---\n",
    "As you can see, it is much faster (but BM25 is still orders of magnitude faster)."
   ]
  },
  {
   "cell_type": "markdown",
   "metadata": {
    "deletable": false,
    "editable": false,
    "nbgrader": {
     "cell_type": "markdown",
     "checksum": "1e2f3388e3807659f303fe31a75a010e",
     "grade": false,
     "grade_id": "cell-5071bb99b2af61cb",
     "locked": true,
     "schema_version": 3,
     "solution": false,
     "task": false
    }
   },
   "source": [
    "---\n",
    "## Section 10: Evaluation & Analysis (30 points) <a class=\"anchor\" id=\"reranking_eval\"></a>\n",
    "\n",
    "[Back to Part 2](#part2)\n",
    "\n",
    "[Previously](#evaluation) we have implemented some evaluation metrics and used them for measuring the ranking performance of term-based IR algorithms. In this section, we will do the same for semantic methods, both with and without re-ranking.\n",
    "\n",
    "### Section 10.1: Plot (10 points)\n",
    "\n",
    "First, gather the results. The results should consider the index set, the different search functions and different metrics. Plot the results in bar charts, per metric, with clear labels.\n",
    "\n",
    "Then, gather only the re-ranking models, and plot and compare them with the results obtained in part 1 (only index set 2)."
   ]
  },
  {
   "cell_type": "code",
   "execution_count": 101,
   "metadata": {
    "deletable": false,
    "editable": false,
    "nbgrader": {
     "cell_type": "code",
     "checksum": "4fe81520ac6413a803838913fd64de03",
     "grade": false,
     "grade_id": "cell-b672fe6dfae0b1ce",
     "locked": true,
     "schema_version": 3,
     "solution": false,
     "task": false
    }
   },
   "outputs": [],
   "source": [
    "list_of_sem_search_fns = [\n",
    "    (\"lda\", drm_lda.search),\n",
    "    (\"lsi\", drm_lsi.search),\n",
    "    (\"w2v\", drm_w2v.search),\n",
    "    (\"w2v_pretrained\", drm_w2v_pretrained.search),\n",
    "    (\"d2v\", drm_d2v.search),\n",
    "    (\"lsi_rr\", lsi_rerank.search),\n",
    "    (\"lda_rr\", lda_rerank.search),\n",
    "    (\"w2v_rr\", w2v_rerank.search),\n",
    "    (\"w2v_pretrained_rr\", w2v_pretrained_rerank.search),\n",
    "    (\"d2v_rr\", d2v_rerank.search),\n",
    "    \n",
    "]"
   ]
  },
  {
   "cell_type": "code",
   "execution_count": 127,
   "metadata": {
    "deletable": false,
    "nbgrader": {
     "cell_type": "code",
     "checksum": "54707c4afac084299aeefa047259b4a9",
     "grade": true,
     "grade_id": "cell-7dd8273b0f5a3c22",
     "locked": false,
     "points": 10,
     "schema_version": 3,
     "solution": true,
     "task": false
    }
   },
   "outputs": [
    {
     "name": "stderr",
     "output_type": "stream",
     "text": [
      "C:\\Users\\321lu\\.conda\\envs\\ir1\\lib\\site-packages\\ipykernel_launcher.py:47: DeprecationWarning: Call to deprecated `wv` (Attribute will be removed in 4.0.0, use self instead).\n",
      "C:\\Users\\321lu\\.conda\\envs\\ir1\\lib\\site-packages\\ipykernel_launcher.py:50: DeprecationWarning: Call to deprecated `wv` (Attribute will be removed in 4.0.0, use self instead).\n",
      "C:\\Users\\321lu\\.conda\\envs\\ir1\\lib\\site-packages\\ipykernel_launcher.py:20: RuntimeWarning: invalid value encountered in double_scalars\n"
     ]
    },
    {
     "data": {
      "image/png": "[encoded data removed]",
      "text/plain": [
       "<Figure size 864x576 with 1 Axes>"
      ]
     },
     "metadata": {
      "needs_background": "light"
     },
     "output_type": "display_data"
    }
   ],
   "source": [
    "# YOUR CODE HERE\n",
    "import json\n",
    "\n",
    "# results = {}\n",
    "# for i, (fn_name, search_fn) in enumerate(list_of_sem_search_fns):\n",
    "#     results[fn_name] = evaluate_search_fn(search_fn, list_of_metrics)\n",
    "\n",
    "# with open(\"results_part2.json\", \"w\") as f:\n",
    "#     json.dump({k: {kk:float(vv) for kk,vv in v.items()} for k,v in results.items()}, f)\n",
    "\n",
    "with open(\"results_part2.json\", \"r\") as f:\n",
    "    saved_results = json.load(f)\n",
    "    \n",
    "results = {\n",
    "    \"base\": {k:v for k,v in saved_results.items() if \"_rr\" not in k},\n",
    "    \"rr\": {k:v for k,v in saved_results.items() if \"_rr\" in k},\n",
    "}\n",
    "\n",
    "fig, ax = plt.subplots(1, 1, figsize=(12,8))\n",
    "ax.set_title(\"Evaluation of Semantic-Based Matching Methods\", fontsize=20, fontdict=dict(weight='bold'))\n",
    "\n",
    "x_labels = [m[0] for m in list_of_metrics]\n",
    "x_axis = np.arange(len(x_labels))\n",
    "\n",
    "fn_names = [\"lsi\", \"lda\", \"w2v\", \"w2v_pretrained\", \"d2v\"]\n",
    "\n",
    "col_width = 0.8\n",
    "bar_count = len(fn_names)\n",
    "bar_width = col_width / bar_count\n",
    "\n",
    "for i, fn_name in enumerate(fn_names):\n",
    "    eval_dict = results[\"base\"][fn_name]\n",
    "    scores = list(eval_dict.values())\n",
    "\n",
    "    gap = (i - ((bar_count - 1) / 2)) * bar_width\n",
    "    bar = ax.bar(x_axis + gap, scores, bar_width, label=f\"{fn_name}\")\n",
    "    color = np.array(bar.patches[0].get_facecolor())\n",
    "    \n",
    "    eval_dict = results[\"rr\"][fn_name+\"_rr\"]\n",
    "    scores = list(eval_dict.values())   \n",
    "    color = [min(co*1.7, 1) for co in color[:3]] + [.5]\n",
    "    ax.bar(x_axis + gap, scores, bar_width, label=f\"{fn_name} reranked\", color=color)\n",
    "\n",
    "ax.set_xticks(x_axis)\n",
    "ax.set_xticklabels(x_labels)\n",
    "ax.set_xlabel(\"Metric\", fontsize=15, fontdict=dict(weight='bold'))\n",
    "ax.set_ylabel(\"Score\", fontsize=15, fontdict=dict(weight='bold'))\n",
    "ax.legend()\n",
    "ax.grid(markevery=1, axis='y')\n",
    "    \n",
    "plt.tight_layout()\n",
    "plt.show()"
   ]
  },
  {
   "cell_type": "markdown",
   "metadata": {
    "deletable": false,
    "editable": false,
    "nbgrader": {
     "cell_type": "markdown",
     "checksum": "a8a3b6189bdde66704c694d85e38d049",
     "grade": false,
     "grade_id": "cell-deb2ef3daa306e82",
     "locked": true,
     "schema_version": 3,
     "solution": false,
     "task": false
    }
   },
   "source": [
    "### Section 10.2: Summary (20 points)\n",
    "\n",
    "Your summary should compare methods from Part 1 and Part 2 (only for index set 2). State what you expected to see in the results, followed by either supporting evidence *or* justify why the results did not support your expectations. Consider the availability of data, scalability, domain/type of data, etc."
   ]
  },
  {
   "cell_type": "markdown",
   "metadata": {
    "deletable": false,
    "nbgrader": {
     "cell_type": "markdown",
     "checksum": "ff97c43837d10bff6aaffa75e1492887",
     "grade": true,
     "grade_id": "cell-ec5dd7d9cf59dd86",
     "locked": false,
     "points": 20,
     "schema_version": 3,
     "solution": true,
     "task": false
    }
   },
   "source": [
    "YOUR ANSWER HERE"
   ]
  }
 ],
 "metadata": {
  "kernelspec": {
   "display_name": "Python 3",
   "language": "python",
   "name": "python3"
  },
  "language_info": {
   "codemirror_mode": {
    "name": "ipython",
    "version": 3
   },
   "file_extension": ".py",
   "mimetype": "text/x-python",
   "name": "python",
   "nbconvert_exporter": "python",
   "pygments_lexer": "ipython3",
   "version": "3.6.5"
  },
  "toc": {
   "base_numbering": 1,
   "nav_menu": {},
   "number_sections": true,
   "sideBar": true,
   "skip_h1_title": false,
   "title_cell": "Table of Contents",
   "title_sidebar": "Contents",
   "toc_cell": false,
   "toc_position": {},
   "toc_section_display": true,
   "toc_window_display": false
  }
 },
 "nbformat": 4,
 "nbformat_minor": 4
}
